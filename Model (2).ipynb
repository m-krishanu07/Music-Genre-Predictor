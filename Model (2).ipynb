{
 "cells": [
  {
   "cell_type": "code",
   "execution_count": 2,
   "id": "94d6de41-3216-4e86-a505-e5b8c80dfd5b",
   "metadata": {},
   "outputs": [
    {
     "name": "stdout",
     "output_type": "stream",
     "text": [
      "Collecting librosa\n",
      "  Downloading librosa-0.11.0-py3-none-any.whl.metadata (8.7 kB)\n",
      "Collecting audioread>=2.1.9 (from librosa)\n",
      "  Downloading audioread-3.0.1-py3-none-any.whl.metadata (8.4 kB)\n",
      "Requirement already satisfied: numba>=0.51.0 in c:\\users\\krish\\onedrive\\desktop\\anaconda\\lib\\site-packages (from librosa) (0.59.0)\n",
      "Requirement already satisfied: numpy>=1.22.3 in c:\\users\\krish\\onedrive\\desktop\\anaconda\\lib\\site-packages (from librosa) (1.26.0)\n",
      "Requirement already satisfied: scipy>=1.6.0 in c:\\users\\krish\\onedrive\\desktop\\anaconda\\lib\\site-packages (from librosa) (1.10.1)\n",
      "Requirement already satisfied: scikit-learn>=1.1.0 in c:\\users\\krish\\onedrive\\desktop\\anaconda\\lib\\site-packages (from librosa) (1.3.2)\n",
      "Requirement already satisfied: joblib>=1.0 in c:\\users\\krish\\onedrive\\desktop\\anaconda\\lib\\site-packages (from librosa) (1.2.0)\n",
      "Requirement already satisfied: decorator>=4.3.0 in c:\\users\\krish\\onedrive\\desktop\\anaconda\\lib\\site-packages (from librosa) (5.1.1)\n",
      "Collecting soundfile>=0.12.1 (from librosa)\n",
      "  Downloading soundfile-0.13.1-py2.py3-none-win_amd64.whl.metadata (16 kB)\n",
      "Collecting pooch>=1.1 (from librosa)\n",
      "  Downloading pooch-1.8.2-py3-none-any.whl.metadata (10 kB)\n",
      "Collecting soxr>=0.3.2 (from librosa)\n",
      "  Downloading soxr-0.5.0.post1-cp311-cp311-win_amd64.whl.metadata (5.6 kB)\n",
      "Requirement already satisfied: typing_extensions>=4.1.1 in c:\\users\\krish\\onedrive\\desktop\\anaconda\\lib\\site-packages (from librosa) (4.12.0)\n",
      "Requirement already satisfied: lazy_loader>=0.1 in c:\\users\\krish\\onedrive\\desktop\\anaconda\\lib\\site-packages (from librosa) (0.3)\n",
      "Requirement already satisfied: msgpack>=1.0 in c:\\users\\krish\\onedrive\\desktop\\anaconda\\lib\\site-packages (from librosa) (1.0.3)\n",
      "Requirement already satisfied: llvmlite<0.43,>=0.42.0dev0 in c:\\users\\krish\\onedrive\\desktop\\anaconda\\lib\\site-packages (from numba>=0.51.0->librosa) (0.42.0)\n",
      "Requirement already satisfied: platformdirs>=2.5.0 in c:\\users\\krish\\onedrive\\desktop\\anaconda\\lib\\site-packages (from pooch>=1.1->librosa) (3.10.0)\n",
      "Requirement already satisfied: packaging>=20.0 in c:\\users\\krish\\onedrive\\desktop\\anaconda\\lib\\site-packages (from pooch>=1.1->librosa) (24.2)\n",
      "Requirement already satisfied: requests>=2.19.0 in c:\\users\\krish\\onedrive\\desktop\\anaconda\\lib\\site-packages (from pooch>=1.1->librosa) (2.31.0)\n",
      "Requirement already satisfied: threadpoolctl>=2.0.0 in c:\\users\\krish\\onedrive\\desktop\\anaconda\\lib\\site-packages (from scikit-learn>=1.1.0->librosa) (2.2.0)\n",
      "Requirement already satisfied: cffi>=1.0 in c:\\users\\krish\\onedrive\\desktop\\anaconda\\lib\\site-packages (from soundfile>=0.12.1->librosa) (1.16.0)\n",
      "Requirement already satisfied: pycparser in c:\\users\\krish\\onedrive\\desktop\\anaconda\\lib\\site-packages (from cffi>=1.0->soundfile>=0.12.1->librosa) (2.21)\n",
      "Requirement already satisfied: charset-normalizer<4,>=2 in c:\\users\\krish\\onedrive\\desktop\\anaconda\\lib\\site-packages (from requests>=2.19.0->pooch>=1.1->librosa) (2.0.4)\n",
      "Requirement already satisfied: idna<4,>=2.5 in c:\\users\\krish\\onedrive\\desktop\\anaconda\\lib\\site-packages (from requests>=2.19.0->pooch>=1.1->librosa) (3.4)\n",
      "Requirement already satisfied: urllib3<3,>=1.21.1 in c:\\users\\krish\\onedrive\\desktop\\anaconda\\lib\\site-packages (from requests>=2.19.0->pooch>=1.1->librosa) (2.0.7)\n",
      "Requirement already satisfied: certifi>=2017.4.17 in c:\\users\\krish\\onedrive\\desktop\\anaconda\\lib\\site-packages (from requests>=2.19.0->pooch>=1.1->librosa) (2024.8.30)\n",
      "Downloading librosa-0.11.0-py3-none-any.whl (260 kB)\n",
      "   ---------------------------------------- 0.0/260.7 kB ? eta -:--:--\n",
      "   ------ -------------------------------- 41.0/260.7 kB 991.0 kB/s eta 0:00:01\n",
      "   ----------------- ---------------------- 112.6/260.7 kB 1.3 MB/s eta 0:00:01\n",
      "   ----------------------------- ---------- 194.6/260.7 kB 1.5 MB/s eta 0:00:01\n",
      "   ---------------------------------------- 260.7/260.7 kB 1.6 MB/s eta 0:00:00\n",
      "Downloading audioread-3.0.1-py3-none-any.whl (23 kB)\n",
      "Downloading pooch-1.8.2-py3-none-any.whl (64 kB)\n",
      "   ---------------------------------------- 0.0/64.6 kB ? eta -:--:--\n",
      "   ---------------------------------------- 64.6/64.6 kB 3.6 MB/s eta 0:00:00\n",
      "Downloading soundfile-0.13.1-py2.py3-none-win_amd64.whl (1.0 MB)\n",
      "   ---------------------------------------- 0.0/1.0 MB ? eta -:--:--\n",
      "   ---- ----------------------------------- 0.1/1.0 MB 2.2 MB/s eta 0:00:01\n",
      "   --------- ------------------------------ 0.2/1.0 MB 2.5 MB/s eta 0:00:01\n",
      "   ------------- -------------------------- 0.3/1.0 MB 2.7 MB/s eta 0:00:01\n",
      "   ------------------- -------------------- 0.5/1.0 MB 2.6 MB/s eta 0:00:01\n",
      "   ------------------------ --------------- 0.6/1.0 MB 2.6 MB/s eta 0:00:01\n",
      "   ----------------------------- ---------- 0.8/1.0 MB 2.7 MB/s eta 0:00:01\n",
      "   ---------------------------------- ----- 0.9/1.0 MB 2.7 MB/s eta 0:00:01\n",
      "   ---------------------------------------  1.0/1.0 MB 2.8 MB/s eta 0:00:01\n",
      "   ---------------------------------------- 1.0/1.0 MB 2.7 MB/s eta 0:00:00\n",
      "Downloading soxr-0.5.0.post1-cp311-cp311-win_amd64.whl (166 kB)\n",
      "   ---------------------------------------- 0.0/166.7 kB ? eta -:--:--\n",
      "   ------------------------------- -------- 133.1/166.7 kB 2.6 MB/s eta 0:00:01\n",
      "   ---------------------------------------- 166.7/166.7 kB 2.5 MB/s eta 0:00:00\n",
      "Installing collected packages: soxr, audioread, soundfile, pooch, librosa\n",
      "Successfully installed audioread-3.0.1 librosa-0.11.0 pooch-1.8.2 soundfile-0.13.1 soxr-0.5.0.post1\n"
     ]
    }
   ],
   "source": [
    "!pip install librosa\n"
   ]
  },
  {
   "cell_type": "code",
   "execution_count": 3,
   "id": "64b3349d-9883-4f62-90c5-14bff47b34e8",
   "metadata": {},
   "outputs": [],
   "source": [
    "# 📦 Step 1: Imports & Setup\n",
    "import os\n",
    "import librosa\n",
    "import numpy as np\n",
    "import matplotlib.pyplot as plt\n",
    "from sklearn.model_selection import train_test_split\n",
    "from sklearn.preprocessing import LabelEncoder\n",
    "from tensorflow.keras.utils import to_categorical\n",
    "from tensorflow.keras.models import Sequential\n",
    "from tensorflow.keras.layers import Conv2D, MaxPooling2D, Flatten, Dense, Dropout\n",
    "from tqdm import tqdm\n",
    "import warnings\n",
    "warnings.filterwarnings('ignore')\n"
   ]
  },
  {
   "cell_type": "code",
   "execution_count": 5,
   "id": "946815cc-e029-4f2c-9d54-773715573461",
   "metadata": {},
   "outputs": [],
   "source": [
    "# 📂 Step 2: Load Data and Extract MFCCs\n",
    "\n",
    "# Set your dataset path (update as per your location)\n",
    "DATA_PATH = r\"C:\\Users\\krish\\OneDrive\\Desktop\\Music Genre Classifier\\Genre Classifier Dataset\\genres\"\n",
    "\n",
    "\n",
    "# Parameters\n",
    "SAMPLE_RATE = 22050  # Hz\n",
    "DURATION = 30        # seconds\n",
    "SAMPLES_PER_TRACK = SAMPLE_RATE * DURATION\n",
    "\n",
    "def extract_features(file_path, n_mfcc=13, max_len=130):\n",
    "    signal, sr = librosa.load(file_path, sr=SAMPLE_RATE)\n",
    "    mfccs = librosa.feature.mfcc(y=signal, sr=sr, n_mfcc=n_mfcc)\n",
    "    \n",
    "    # Padding/truncating for consistency\n",
    "    if mfccs.shape[1] < max_len:\n",
    "        pad_width = max_len - mfccs.shape[1]\n",
    "        mfccs = np.pad(mfccs, pad_width=((0, 0), (0, pad_width)), mode='constant')\n",
    "    else:\n",
    "        mfccs = mfccs[:, :max_len]\n",
    "    \n",
    "    return mfccs\n"
   ]
  },
  {
   "cell_type": "code",
   "execution_count": 6,
   "id": "768a772b-c47f-4b2f-8867-b580bf573e80",
   "metadata": {},
   "outputs": [
    {
     "name": "stderr",
     "output_type": "stream",
     "text": [
      "Processing blues: 100%|██████████████████████████████████████████████████████████████████████| 101/101 [00:00<?, ?it/s]\n",
      "Processing classical: 100%|██████████████████████████████████████████████████████████████████| 100/100 [00:00<?, ?it/s]\n",
      "Processing country: 100%|████████████████████████████████████████████████████████████████████| 100/100 [00:00<?, ?it/s]\n",
      "Processing disco: 100%|██████████████████████████████████████████████████████████████████████| 100/100 [00:00<?, ?it/s]\n",
      "Processing hiphop: 100%|█████████████████████████████████████████████████████████████████████| 100/100 [00:00<?, ?it/s]\n",
      "Processing jazz: 100%|███████████████████████████████████████████████████████████| 100/100 [00:00<00:00, 100078.84it/s]\n",
      "Processing metal: 100%|██████████████████████████████████████████████████████████████████████| 100/100 [00:00<?, ?it/s]\n",
      "Processing pop: 100%|████████████████████████████████████████████████████████████████████████| 100/100 [00:00<?, ?it/s]\n",
      "Processing reggae: 100%|██████████████████████████████████████████████████████████| 100/100 [00:00<00:00, 99935.76it/s]\n",
      "Processing rock: 100%|███████████████████████████████████████████████████████████████████████| 100/100 [00:00<?, ?it/s]"
     ]
    },
    {
     "name": "stdout",
     "output_type": "stream",
     "text": [
      "Features shape: (0,)\n",
      "Labels shape: (0,)\n"
     ]
    },
    {
     "name": "stderr",
     "output_type": "stream",
     "text": [
      "\n"
     ]
    }
   ],
   "source": [
    "# 📊 Step 3: Load all audio files and prepare dataset\n",
    "\n",
    "genres = os.listdir(DATA_PATH)\n",
    "features = []\n",
    "labels = []\n",
    "\n",
    "for genre in genres:\n",
    "    genre_path = os.path.join(DATA_PATH, genre)\n",
    "    if not os.path.isdir(genre_path): continue\n",
    "    \n",
    "    for file_name in tqdm(os.listdir(genre_path), desc=f\"Processing {genre}\"):\n",
    "        if file_name.endswith(\".wav\"):\n",
    "            file_path = os.path.join(genre_path, file_name)\n",
    "            mfcc = extract_features(file_path)\n",
    "            features.append(mfcc)\n",
    "            labels.append(genre)\n",
    "\n",
    "X = np.array(features)\n",
    "y = np.array(labels)\n",
    "\n",
    "print(f\"Features shape: {X.shape}\")\n",
    "print(f\"Labels shape: {y.shape}\")\n"
   ]
  },
  {
   "cell_type": "code",
   "execution_count": 8,
   "id": "a32ccefd-858c-401a-9726-c14b6c95b241",
   "metadata": {},
   "outputs": [
    {
     "name": "stderr",
     "output_type": "stream",
     "text": [
      "Processing blues: 100%|██████████████████████████████████████████████████████████| 101/101 [00:00<00:00, 101345.62it/s]\n",
      "Processing classical: 100%|██████████████████████████████████████████████████████████████████| 100/100 [00:00<?, ?it/s]\n",
      "Processing country: 100%|████████████████████████████████████████████████████████████████████| 100/100 [00:00<?, ?it/s]\n",
      "Processing disco: 100%|██████████████████████████████████████████████████████████████████████| 100/100 [00:00<?, ?it/s]\n",
      "Processing hiphop: 100%|█████████████████████████████████████████████████████████████████████| 100/100 [00:00<?, ?it/s]\n",
      "Processing jazz: 100%|███████████████████████████████████████████████████████████████████████| 100/100 [00:00<?, ?it/s]\n",
      "Processing metal: 100%|██████████████████████████████████████████████████████████████████████| 100/100 [00:00<?, ?it/s]\n",
      "Processing pop: 100%|████████████████████████████████████████████████████████████████████████| 100/100 [00:00<?, ?it/s]\n",
      "Processing reggae: 100%|█████████████████████████████████████████████████████████████████████| 100/100 [00:00<?, ?it/s]\n",
      "Processing rock: 100%|███████████████████████████████████████████████████████████████████████| 100/100 [00:00<?, ?it/s]\n"
     ]
    }
   ],
   "source": [
    "import os\n",
    "from tqdm import tqdm\n",
    "from sklearn.preprocessing import LabelEncoder\n",
    "from tensorflow.keras.utils import to_categorical\n",
    "from sklearn.model_selection import train_test_split\n",
    "\n",
    "X = []\n",
    "y = []\n",
    "\n",
    "genres = os.listdir(DATA_PATH)\n",
    "\n",
    "for genre in genres:\n",
    "    genre_path = os.path.join(DATA_PATH, genre)\n",
    "    if not os.path.isdir(genre_path):\n",
    "        continue\n",
    "    \n",
    "    for file in tqdm(os.listdir(genre_path), desc=f\"Processing {genre}\"):\n",
    "        if file.endswith(\".wav\"):\n",
    "            file_path = os.path.join(genre_path, file)\n",
    "            try:\n",
    "                mfcc = extract_features(file_path)\n",
    "                X.append(mfcc)\n",
    "                y.append(genre)\n",
    "            except Exception as e:\n",
    "                print(f\"❌ Error processing {file_path}: {e}\")\n"
   ]
  },
  {
   "cell_type": "code",
   "execution_count": 11,
   "id": "3370881e-2915-48ea-a7a3-0c4ab9416fa8",
   "metadata": {},
   "outputs": [],
   "source": [
    "X = np.array(X)\n",
    "y = np.array(y)\n"
   ]
  },
  {
   "cell_type": "code",
   "execution_count": 13,
   "id": "1f785a60-f75c-428e-bbd9-37ae6344240a",
   "metadata": {},
   "outputs": [
    {
     "name": "stdout",
     "output_type": "stream",
     "text": [
      "Number of samples: 0\n",
      "Number of labels: 0\n"
     ]
    }
   ],
   "source": [
    "print(f\"Number of samples: {len(X)}\")\n",
    "print(f\"Number of labels: {len(y)}\")\n"
   ]
  },
  {
   "cell_type": "code",
   "execution_count": 14,
   "id": "ab35f96e-c785-41bf-9a63-8c6a7460cccd",
   "metadata": {},
   "outputs": [
    {
     "name": "stdout",
     "output_type": "stream",
     "text": [
      "['.ipynb_checkpoints', 'blues.00000.au', 'blues.00001.au', 'blues.00002.au', 'blues.00003.au']\n"
     ]
    }
   ],
   "source": [
    "print(os.listdir(os.path.join(DATA_PATH, \"blues\"))[:5])\n"
   ]
  },
  {
   "cell_type": "code",
   "execution_count": 17,
   "id": "00e13531-ff30-44df-81d2-4716d51c8105",
   "metadata": {},
   "outputs": [
    {
     "name": "stderr",
     "output_type": "stream",
     "text": [
      "Processing blues: 100%|██████████████████████████████████████████████████████████| 101/101 [00:00<00:00, 101248.73it/s]\n",
      "Processing classical: 100%|███████████████████████████████████████████████████████| 100/100 [00:00<00:00, 99959.58it/s]\n",
      "Processing country: 100%|████████████████████████████████████████████████████████████████████| 100/100 [00:00<?, ?it/s]\n",
      "Processing disco: 100%|███████████████████████████████████████████████████████████| 100/100 [00:00<00:00, 69053.41it/s]\n",
      "Processing hiphop: 100%|██████████████████████████████████████████████████████████| 100/100 [00:00<00:00, 99840.61it/s]\n",
      "Processing jazz: 100%|███████████████████████████████████████████████████████████████████████| 100/100 [00:00<?, ?it/s]\n",
      "Processing metal: 100%|██████████████████████████████████████████████████████████████████████| 100/100 [00:00<?, ?it/s]\n",
      "Processing pop: 100%|████████████████████████████████████████████████████████████████████████| 100/100 [00:00<?, ?it/s]\n",
      "Processing reggae: 100%|█████████████████████████████████████████████████████████████████████| 100/100 [00:00<?, ?it/s]\n",
      "Processing rock: 100%|████████████████████████████████████████████████████████████| 100/100 [00:00<00:00, 99888.16it/s]\n"
     ]
    }
   ],
   "source": [
    "import os\n",
    "import numpy as np\n",
    "from tqdm import tqdm\n",
    "\n",
    "X = []\n",
    "y = []\n",
    "\n",
    "genres = os.listdir(DATA_PATH)\n",
    "\n",
    "for genre in genres:\n",
    "    genre_path = os.path.join(DATA_PATH, genre)\n",
    "    if not os.path.isdir(genre_path):\n",
    "        continue\n",
    "\n",
    "    for file in tqdm(os.listdir(genre_path), desc=f\"Processing {genre}\"):\n",
    "        if file.endswith(\".wav\"):\n",
    "            file_path = os.path.join(genre_path, file)\n",
    "            try:\n",
    "                mfcc = extract_features(file_path)\n",
    "                X.append(mfcc)\n",
    "                y.append(genre)\n",
    "                print(f\"✔️ Processed: {file_path}\")\n",
    "            except Exception as e:\n",
    "                print(f\"❌ Error processing {file_path}: {e}\")\n"
   ]
  },
  {
   "cell_type": "code",
   "execution_count": 18,
   "id": "1985c2c8-608a-4f96-8dd9-a72768211974",
   "metadata": {},
   "outputs": [
    {
     "name": "stdout",
     "output_type": "stream",
     "text": [
      "Total samples extracted: 0\n",
      "Total labels extracted: 0\n"
     ]
    }
   ],
   "source": [
    "print(f\"Total samples extracted: {len(X)}\")\n",
    "print(f\"Total labels extracted: {len(y)}\")\n"
   ]
  },
  {
   "cell_type": "code",
   "execution_count": 19,
   "id": "86698611-afdd-4357-a364-7ec0474b3b48",
   "metadata": {},
   "outputs": [
    {
     "name": "stdout",
     "output_type": "stream",
     "text": [
      "['blues', 'classical', 'country', 'disco', 'hiphop', 'jazz', 'metal', 'pop', 'reggae', 'rock']\n"
     ]
    }
   ],
   "source": [
    "print(os.listdir(DATA_PATH))\n"
   ]
  },
  {
   "cell_type": "code",
   "execution_count": 20,
   "id": "769b8cac-428b-4eee-9888-a5a15076b497",
   "metadata": {},
   "outputs": [
    {
     "name": "stdout",
     "output_type": "stream",
     "text": [
      "['.ipynb_checkpoints', 'blues.00000.au', 'blues.00001.au', 'blues.00002.au', 'blues.00003.au', 'blues.00004.au', 'blues.00005.au', 'blues.00006.au', 'blues.00007.au', 'blues.00008.au', 'blues.00009.au', 'blues.00010.au', 'blues.00011.au', 'blues.00012.au', 'blues.00013.au', 'blues.00014.au', 'blues.00015.au', 'blues.00016.au', 'blues.00017.au', 'blues.00018.au', 'blues.00019.au', 'blues.00020.au', 'blues.00021.au', 'blues.00022.au', 'blues.00023.au', 'blues.00024.au', 'blues.00025.au', 'blues.00026.au', 'blues.00027.au', 'blues.00028.au', 'blues.00029.au', 'blues.00030.au', 'blues.00031.au', 'blues.00032.au', 'blues.00033.au', 'blues.00034.au', 'blues.00035.au', 'blues.00036.au', 'blues.00037.au', 'blues.00038.au', 'blues.00039.au', 'blues.00040.au', 'blues.00041.au', 'blues.00042.au', 'blues.00043.au', 'blues.00044.au', 'blues.00045.au', 'blues.00046.au', 'blues.00047.au', 'blues.00048.au', 'blues.00049.au', 'blues.00050.au', 'blues.00051.au', 'blues.00052.au', 'blues.00053.au', 'blues.00054.au', 'blues.00055.au', 'blues.00056.au', 'blues.00057.au', 'blues.00058.au', 'blues.00059.au', 'blues.00060.au', 'blues.00061.au', 'blues.00062.au', 'blues.00063.au', 'blues.00064.au', 'blues.00065.au', 'blues.00066.au', 'blues.00067.au', 'blues.00068.au', 'blues.00069.au', 'blues.00070.au', 'blues.00071.au', 'blues.00072.au', 'blues.00073.au', 'blues.00074.au', 'blues.00075.au', 'blues.00076.au', 'blues.00077.au', 'blues.00078.au', 'blues.00079.au', 'blues.00080.au', 'blues.00081.au', 'blues.00082.au', 'blues.00083.au', 'blues.00084.au', 'blues.00085.au', 'blues.00086.au', 'blues.00087.au', 'blues.00088.au', 'blues.00089.au', 'blues.00090.au', 'blues.00091.au', 'blues.00092.au', 'blues.00093.au', 'blues.00094.au', 'blues.00095.au', 'blues.00096.au', 'blues.00097.au', 'blues.00098.au', 'blues.00099.au']\n"
     ]
    }
   ],
   "source": [
    "import os\n",
    "\n",
    "genre_test_path = os.path.join(DATA_PATH, \"blues\")  # Try \"blues\" or another known genre\n",
    "print(os.listdir(genre_test_path))\n"
   ]
  },
  {
   "cell_type": "code",
   "execution_count": 21,
   "id": "f329b093-aef7-455e-aff5-b9593b0ef3b8",
   "metadata": {},
   "outputs": [
    {
     "name": "stderr",
     "output_type": "stream",
     "text": [
      "Processing blues:   3%|█▉                                                              | 3/101 [00:30<14:46,  9.04s/it]"
     ]
    },
    {
     "name": "stdout",
     "output_type": "stream",
     "text": [
      "✔️ Processed: C:\\Users\\krish\\OneDrive\\Desktop\\Music Genre Classifier\\Genre Classifier Dataset\\genres\\blues\\blues.00000.au\n",
      "✔️ Processed: C:\\Users\\krish\\OneDrive\\Desktop\\Music Genre Classifier\\Genre Classifier Dataset\\genres\\blues\\blues.00001.au\n"
     ]
    },
    {
     "name": "stderr",
     "output_type": "stream",
     "text": [
      "Processing blues:   5%|███▏                                                            | 5/101 [00:31<06:00,  3.76s/it]"
     ]
    },
    {
     "name": "stdout",
     "output_type": "stream",
     "text": [
      "✔️ Processed: C:\\Users\\krish\\OneDrive\\Desktop\\Music Genre Classifier\\Genre Classifier Dataset\\genres\\blues\\blues.00002.au\n",
      "✔️ Processed: C:\\Users\\krish\\OneDrive\\Desktop\\Music Genre Classifier\\Genre Classifier Dataset\\genres\\blues\\blues.00003.au\n"
     ]
    },
    {
     "name": "stderr",
     "output_type": "stream",
     "text": [
      "Processing blues:   7%|████▍                                                           | 7/101 [00:31<02:46,  1.77s/it]"
     ]
    },
    {
     "name": "stdout",
     "output_type": "stream",
     "text": [
      "✔️ Processed: C:\\Users\\krish\\OneDrive\\Desktop\\Music Genre Classifier\\Genre Classifier Dataset\\genres\\blues\\blues.00004.au\n",
      "✔️ Processed: C:\\Users\\krish\\OneDrive\\Desktop\\Music Genre Classifier\\Genre Classifier Dataset\\genres\\blues\\blues.00005.au\n"
     ]
    },
    {
     "name": "stderr",
     "output_type": "stream",
     "text": [
      "Processing blues:   9%|█████▋                                                          | 9/101 [00:31<01:22,  1.12it/s]"
     ]
    },
    {
     "name": "stdout",
     "output_type": "stream",
     "text": [
      "✔️ Processed: C:\\Users\\krish\\OneDrive\\Desktop\\Music Genre Classifier\\Genre Classifier Dataset\\genres\\blues\\blues.00006.au\n",
      "✔️ Processed: C:\\Users\\krish\\OneDrive\\Desktop\\Music Genre Classifier\\Genre Classifier Dataset\\genres\\blues\\blues.00007.au\n"
     ]
    },
    {
     "name": "stderr",
     "output_type": "stream",
     "text": [
      "Processing blues:  11%|██████▊                                                        | 11/101 [00:31<00:43,  2.05it/s]"
     ]
    },
    {
     "name": "stdout",
     "output_type": "stream",
     "text": [
      "✔️ Processed: C:\\Users\\krish\\OneDrive\\Desktop\\Music Genre Classifier\\Genre Classifier Dataset\\genres\\blues\\blues.00008.au\n",
      "✔️ Processed: C:\\Users\\krish\\OneDrive\\Desktop\\Music Genre Classifier\\Genre Classifier Dataset\\genres\\blues\\blues.00009.au\n"
     ]
    },
    {
     "name": "stderr",
     "output_type": "stream",
     "text": [
      "Processing blues:  14%|████████▋                                                      | 14/101 [00:32<00:20,  4.21it/s]"
     ]
    },
    {
     "name": "stdout",
     "output_type": "stream",
     "text": [
      "✔️ Processed: C:\\Users\\krish\\OneDrive\\Desktop\\Music Genre Classifier\\Genre Classifier Dataset\\genres\\blues\\blues.00010.au\n",
      "✔️ Processed: C:\\Users\\krish\\OneDrive\\Desktop\\Music Genre Classifier\\Genre Classifier Dataset\\genres\\blues\\blues.00011.au\n",
      "✔️ Processed: C:\\Users\\krish\\OneDrive\\Desktop\\Music Genre Classifier\\Genre Classifier Dataset\\genres\\blues\\blues.00012.au\n"
     ]
    },
    {
     "name": "stderr",
     "output_type": "stream",
     "text": [
      "Processing blues:  16%|█████████▉                                                     | 16/101 [00:32<00:14,  5.76it/s]"
     ]
    },
    {
     "name": "stdout",
     "output_type": "stream",
     "text": [
      "✔️ Processed: C:\\Users\\krish\\OneDrive\\Desktop\\Music Genre Classifier\\Genre Classifier Dataset\\genres\\blues\\blues.00013.au\n",
      "✔️ Processed: C:\\Users\\krish\\OneDrive\\Desktop\\Music Genre Classifier\\Genre Classifier Dataset\\genres\\blues\\blues.00014.au\n"
     ]
    },
    {
     "name": "stderr",
     "output_type": "stream",
     "text": [
      "Processing blues:  18%|███████████▏                                                   | 18/101 [00:32<00:11,  6.97it/s]"
     ]
    },
    {
     "name": "stdout",
     "output_type": "stream",
     "text": [
      "✔️ Processed: C:\\Users\\krish\\OneDrive\\Desktop\\Music Genre Classifier\\Genre Classifier Dataset\\genres\\blues\\blues.00015.au\n",
      "✔️ Processed: C:\\Users\\krish\\OneDrive\\Desktop\\Music Genre Classifier\\Genre Classifier Dataset\\genres\\blues\\blues.00016.au\n"
     ]
    },
    {
     "name": "stderr",
     "output_type": "stream",
     "text": [
      "Processing blues:  20%|████████████▍                                                  | 20/101 [00:32<00:10,  8.08it/s]"
     ]
    },
    {
     "name": "stdout",
     "output_type": "stream",
     "text": [
      "✔️ Processed: C:\\Users\\krish\\OneDrive\\Desktop\\Music Genre Classifier\\Genre Classifier Dataset\\genres\\blues\\blues.00017.au\n",
      "✔️ Processed: C:\\Users\\krish\\OneDrive\\Desktop\\Music Genre Classifier\\Genre Classifier Dataset\\genres\\blues\\blues.00018.au\n"
     ]
    },
    {
     "name": "stderr",
     "output_type": "stream",
     "text": [
      "Processing blues:  22%|█████████████▋                                                 | 22/101 [00:33<00:09,  8.53it/s]"
     ]
    },
    {
     "name": "stdout",
     "output_type": "stream",
     "text": [
      "✔️ Processed: C:\\Users\\krish\\OneDrive\\Desktop\\Music Genre Classifier\\Genre Classifier Dataset\\genres\\blues\\blues.00019.au\n",
      "✔️ Processed: C:\\Users\\krish\\OneDrive\\Desktop\\Music Genre Classifier\\Genre Classifier Dataset\\genres\\blues\\blues.00020.au\n"
     ]
    },
    {
     "name": "stderr",
     "output_type": "stream",
     "text": [
      "Processing blues:  24%|██████████████▉                                                | 24/101 [00:33<00:08,  8.78it/s]"
     ]
    },
    {
     "name": "stdout",
     "output_type": "stream",
     "text": [
      "✔️ Processed: C:\\Users\\krish\\OneDrive\\Desktop\\Music Genre Classifier\\Genre Classifier Dataset\\genres\\blues\\blues.00021.au\n",
      "✔️ Processed: C:\\Users\\krish\\OneDrive\\Desktop\\Music Genre Classifier\\Genre Classifier Dataset\\genres\\blues\\blues.00022.au\n"
     ]
    },
    {
     "name": "stderr",
     "output_type": "stream",
     "text": [
      "Processing blues:  26%|████████████████▏                                              | 26/101 [00:33<00:08,  9.06it/s]"
     ]
    },
    {
     "name": "stdout",
     "output_type": "stream",
     "text": [
      "✔️ Processed: C:\\Users\\krish\\OneDrive\\Desktop\\Music Genre Classifier\\Genre Classifier Dataset\\genres\\blues\\blues.00023.au\n",
      "✔️ Processed: C:\\Users\\krish\\OneDrive\\Desktop\\Music Genre Classifier\\Genre Classifier Dataset\\genres\\blues\\blues.00024.au\n"
     ]
    },
    {
     "name": "stderr",
     "output_type": "stream",
     "text": [
      "Processing blues:  28%|█████████████████▍                                             | 28/101 [00:33<00:08,  9.06it/s]"
     ]
    },
    {
     "name": "stdout",
     "output_type": "stream",
     "text": [
      "✔️ Processed: C:\\Users\\krish\\OneDrive\\Desktop\\Music Genre Classifier\\Genre Classifier Dataset\\genres\\blues\\blues.00025.au\n",
      "✔️ Processed: C:\\Users\\krish\\OneDrive\\Desktop\\Music Genre Classifier\\Genre Classifier Dataset\\genres\\blues\\blues.00026.au\n"
     ]
    },
    {
     "name": "stderr",
     "output_type": "stream",
     "text": [
      "Processing blues:  30%|██████████████████▋                                            | 30/101 [00:33<00:07,  9.10it/s]"
     ]
    },
    {
     "name": "stdout",
     "output_type": "stream",
     "text": [
      "✔️ Processed: C:\\Users\\krish\\OneDrive\\Desktop\\Music Genre Classifier\\Genre Classifier Dataset\\genres\\blues\\blues.00027.au\n",
      "✔️ Processed: C:\\Users\\krish\\OneDrive\\Desktop\\Music Genre Classifier\\Genre Classifier Dataset\\genres\\blues\\blues.00028.au\n"
     ]
    },
    {
     "name": "stderr",
     "output_type": "stream",
     "text": [
      "Processing blues:  32%|███████████████████▉                                           | 32/101 [00:34<00:07,  9.16it/s]"
     ]
    },
    {
     "name": "stdout",
     "output_type": "stream",
     "text": [
      "✔️ Processed: C:\\Users\\krish\\OneDrive\\Desktop\\Music Genre Classifier\\Genre Classifier Dataset\\genres\\blues\\blues.00029.au\n",
      "✔️ Processed: C:\\Users\\krish\\OneDrive\\Desktop\\Music Genre Classifier\\Genre Classifier Dataset\\genres\\blues\\blues.00030.au\n"
     ]
    },
    {
     "name": "stderr",
     "output_type": "stream",
     "text": [
      "Processing blues:  34%|█████████████████████▏                                         | 34/101 [00:34<00:07,  9.09it/s]"
     ]
    },
    {
     "name": "stdout",
     "output_type": "stream",
     "text": [
      "✔️ Processed: C:\\Users\\krish\\OneDrive\\Desktop\\Music Genre Classifier\\Genre Classifier Dataset\\genres\\blues\\blues.00031.au\n",
      "✔️ Processed: C:\\Users\\krish\\OneDrive\\Desktop\\Music Genre Classifier\\Genre Classifier Dataset\\genres\\blues\\blues.00032.au\n"
     ]
    },
    {
     "name": "stderr",
     "output_type": "stream",
     "text": [
      "Processing blues:  37%|███████████████████████                                        | 37/101 [00:34<00:07,  9.12it/s]"
     ]
    },
    {
     "name": "stdout",
     "output_type": "stream",
     "text": [
      "✔️ Processed: C:\\Users\\krish\\OneDrive\\Desktop\\Music Genre Classifier\\Genre Classifier Dataset\\genres\\blues\\blues.00033.au\n",
      "✔️ Processed: C:\\Users\\krish\\OneDrive\\Desktop\\Music Genre Classifier\\Genre Classifier Dataset\\genres\\blues\\blues.00034.au\n",
      "✔️ Processed: C:\\Users\\krish\\OneDrive\\Desktop\\Music Genre Classifier\\Genre Classifier Dataset\\genres\\blues\\blues.00035.au\n"
     ]
    },
    {
     "name": "stderr",
     "output_type": "stream",
     "text": [
      "Processing blues:  39%|████████████████████████▎                                      | 39/101 [00:34<00:06,  9.17it/s]"
     ]
    },
    {
     "name": "stdout",
     "output_type": "stream",
     "text": [
      "✔️ Processed: C:\\Users\\krish\\OneDrive\\Desktop\\Music Genre Classifier\\Genre Classifier Dataset\\genres\\blues\\blues.00036.au\n",
      "✔️ Processed: C:\\Users\\krish\\OneDrive\\Desktop\\Music Genre Classifier\\Genre Classifier Dataset\\genres\\blues\\blues.00037.au\n"
     ]
    },
    {
     "name": "stderr",
     "output_type": "stream",
     "text": [
      "Processing blues:  41%|█████████████████████████▌                                     | 41/101 [00:35<00:06,  9.22it/s]"
     ]
    },
    {
     "name": "stdout",
     "output_type": "stream",
     "text": [
      "✔️ Processed: C:\\Users\\krish\\OneDrive\\Desktop\\Music Genre Classifier\\Genre Classifier Dataset\\genres\\blues\\blues.00038.au\n",
      "✔️ Processed: C:\\Users\\krish\\OneDrive\\Desktop\\Music Genre Classifier\\Genre Classifier Dataset\\genres\\blues\\blues.00039.au\n"
     ]
    },
    {
     "name": "stderr",
     "output_type": "stream",
     "text": [
      "Processing blues:  43%|██████████████████████████▊                                    | 43/101 [00:35<00:06,  9.12it/s]"
     ]
    },
    {
     "name": "stdout",
     "output_type": "stream",
     "text": [
      "✔️ Processed: C:\\Users\\krish\\OneDrive\\Desktop\\Music Genre Classifier\\Genre Classifier Dataset\\genres\\blues\\blues.00040.au\n",
      "✔️ Processed: C:\\Users\\krish\\OneDrive\\Desktop\\Music Genre Classifier\\Genre Classifier Dataset\\genres\\blues\\blues.00041.au\n",
      "✔️ Processed: C:\\Users\\krish\\OneDrive\\Desktop\\Music Genre Classifier\\Genre Classifier Dataset\\genres\\blues\\blues.00042.au\n"
     ]
    },
    {
     "name": "stderr",
     "output_type": "stream",
     "text": [
      "Processing blues:  46%|████████████████████████████▋                                  | 46/101 [00:35<00:06,  9.14it/s]"
     ]
    },
    {
     "name": "stdout",
     "output_type": "stream",
     "text": [
      "✔️ Processed: C:\\Users\\krish\\OneDrive\\Desktop\\Music Genre Classifier\\Genre Classifier Dataset\\genres\\blues\\blues.00043.au\n",
      "✔️ Processed: C:\\Users\\krish\\OneDrive\\Desktop\\Music Genre Classifier\\Genre Classifier Dataset\\genres\\blues\\blues.00044.au\n"
     ]
    },
    {
     "name": "stderr",
     "output_type": "stream",
     "text": [
      "Processing blues:  48%|█████████████████████████████▉                                 | 48/101 [00:35<00:05,  9.08it/s]"
     ]
    },
    {
     "name": "stdout",
     "output_type": "stream",
     "text": [
      "✔️ Processed: C:\\Users\\krish\\OneDrive\\Desktop\\Music Genre Classifier\\Genre Classifier Dataset\\genres\\blues\\blues.00045.au\n",
      "✔️ Processed: C:\\Users\\krish\\OneDrive\\Desktop\\Music Genre Classifier\\Genre Classifier Dataset\\genres\\blues\\blues.00046.au\n"
     ]
    },
    {
     "name": "stderr",
     "output_type": "stream",
     "text": [
      "Processing blues:  50%|███████████████████████████████▊                               | 51/101 [00:36<00:05,  9.11it/s]"
     ]
    },
    {
     "name": "stdout",
     "output_type": "stream",
     "text": [
      "✔️ Processed: C:\\Users\\krish\\OneDrive\\Desktop\\Music Genre Classifier\\Genre Classifier Dataset\\genres\\blues\\blues.00047.au\n",
      "✔️ Processed: C:\\Users\\krish\\OneDrive\\Desktop\\Music Genre Classifier\\Genre Classifier Dataset\\genres\\blues\\blues.00048.au\n",
      "✔️ Processed: C:\\Users\\krish\\OneDrive\\Desktop\\Music Genre Classifier\\Genre Classifier Dataset\\genres\\blues\\blues.00049.au\n"
     ]
    },
    {
     "name": "stderr",
     "output_type": "stream",
     "text": [
      "Processing blues:  52%|█████████████████████████████████                              | 53/101 [00:36<00:05,  9.29it/s]"
     ]
    },
    {
     "name": "stdout",
     "output_type": "stream",
     "text": [
      "✔️ Processed: C:\\Users\\krish\\OneDrive\\Desktop\\Music Genre Classifier\\Genre Classifier Dataset\\genres\\blues\\blues.00050.au\n",
      "✔️ Processed: C:\\Users\\krish\\OneDrive\\Desktop\\Music Genre Classifier\\Genre Classifier Dataset\\genres\\blues\\blues.00051.au\n"
     ]
    },
    {
     "name": "stderr",
     "output_type": "stream",
     "text": [
      "Processing blues:  54%|██████████████████████████████████▎                            | 55/101 [00:36<00:04,  9.31it/s]"
     ]
    },
    {
     "name": "stdout",
     "output_type": "stream",
     "text": [
      "✔️ Processed: C:\\Users\\krish\\OneDrive\\Desktop\\Music Genre Classifier\\Genre Classifier Dataset\\genres\\blues\\blues.00052.au\n",
      "✔️ Processed: C:\\Users\\krish\\OneDrive\\Desktop\\Music Genre Classifier\\Genre Classifier Dataset\\genres\\blues\\blues.00053.au\n"
     ]
    },
    {
     "name": "stderr",
     "output_type": "stream",
     "text": [
      "Processing blues:  57%|████████████████████████████████████▏                          | 58/101 [00:36<00:04,  9.42it/s]"
     ]
    },
    {
     "name": "stdout",
     "output_type": "stream",
     "text": [
      "✔️ Processed: C:\\Users\\krish\\OneDrive\\Desktop\\Music Genre Classifier\\Genre Classifier Dataset\\genres\\blues\\blues.00054.au\n",
      "✔️ Processed: C:\\Users\\krish\\OneDrive\\Desktop\\Music Genre Classifier\\Genre Classifier Dataset\\genres\\blues\\blues.00055.au\n",
      "✔️ Processed: C:\\Users\\krish\\OneDrive\\Desktop\\Music Genre Classifier\\Genre Classifier Dataset\\genres\\blues\\blues.00056.au\n"
     ]
    },
    {
     "name": "stderr",
     "output_type": "stream",
     "text": [
      "Processing blues:  60%|██████████████████████████████████████                         | 61/101 [00:37<00:04,  9.64it/s]"
     ]
    },
    {
     "name": "stdout",
     "output_type": "stream",
     "text": [
      "✔️ Processed: C:\\Users\\krish\\OneDrive\\Desktop\\Music Genre Classifier\\Genre Classifier Dataset\\genres\\blues\\blues.00057.au\n",
      "✔️ Processed: C:\\Users\\krish\\OneDrive\\Desktop\\Music Genre Classifier\\Genre Classifier Dataset\\genres\\blues\\blues.00058.au\n",
      "✔️ Processed: C:\\Users\\krish\\OneDrive\\Desktop\\Music Genre Classifier\\Genre Classifier Dataset\\genres\\blues\\blues.00059.au\n"
     ]
    },
    {
     "name": "stderr",
     "output_type": "stream",
     "text": [
      "Processing blues:  62%|███████████████████████████████████████▎                       | 63/101 [00:37<00:04,  9.40it/s]"
     ]
    },
    {
     "name": "stdout",
     "output_type": "stream",
     "text": [
      "✔️ Processed: C:\\Users\\krish\\OneDrive\\Desktop\\Music Genre Classifier\\Genre Classifier Dataset\\genres\\blues\\blues.00060.au\n",
      "✔️ Processed: C:\\Users\\krish\\OneDrive\\Desktop\\Music Genre Classifier\\Genre Classifier Dataset\\genres\\blues\\blues.00061.au\n",
      "✔️ Processed: C:\\Users\\krish\\OneDrive\\Desktop\\Music Genre Classifier\\Genre Classifier Dataset\\genres\\blues\\blues.00062.au\n"
     ]
    },
    {
     "name": "stderr",
     "output_type": "stream",
     "text": [
      "Processing blues:  65%|█████████████████████████████████████████▏                     | 66/101 [00:37<00:03,  9.47it/s]"
     ]
    },
    {
     "name": "stdout",
     "output_type": "stream",
     "text": [
      "✔️ Processed: C:\\Users\\krish\\OneDrive\\Desktop\\Music Genre Classifier\\Genre Classifier Dataset\\genres\\blues\\blues.00063.au\n",
      "✔️ Processed: C:\\Users\\krish\\OneDrive\\Desktop\\Music Genre Classifier\\Genre Classifier Dataset\\genres\\blues\\blues.00064.au\n"
     ]
    },
    {
     "name": "stderr",
     "output_type": "stream",
     "text": [
      "Processing blues:  67%|██████████████████████████████████████████▍                    | 68/101 [00:38<00:03,  9.44it/s]"
     ]
    },
    {
     "name": "stdout",
     "output_type": "stream",
     "text": [
      "✔️ Processed: C:\\Users\\krish\\OneDrive\\Desktop\\Music Genre Classifier\\Genre Classifier Dataset\\genres\\blues\\blues.00065.au\n",
      "✔️ Processed: C:\\Users\\krish\\OneDrive\\Desktop\\Music Genre Classifier\\Genre Classifier Dataset\\genres\\blues\\blues.00066.au\n"
     ]
    },
    {
     "name": "stderr",
     "output_type": "stream",
     "text": [
      "Processing blues:  70%|████████████████████████████████████████████▎                  | 71/101 [00:38<00:03,  9.21it/s]"
     ]
    },
    {
     "name": "stdout",
     "output_type": "stream",
     "text": [
      "✔️ Processed: C:\\Users\\krish\\OneDrive\\Desktop\\Music Genre Classifier\\Genre Classifier Dataset\\genres\\blues\\blues.00067.au\n",
      "✔️ Processed: C:\\Users\\krish\\OneDrive\\Desktop\\Music Genre Classifier\\Genre Classifier Dataset\\genres\\blues\\blues.00068.au\n",
      "✔️ Processed: C:\\Users\\krish\\OneDrive\\Desktop\\Music Genre Classifier\\Genre Classifier Dataset\\genres\\blues\\blues.00069.au\n"
     ]
    },
    {
     "name": "stderr",
     "output_type": "stream",
     "text": [
      "Processing blues:  72%|█████████████████████████████████████████████▌                 | 73/101 [00:38<00:03,  9.16it/s]"
     ]
    },
    {
     "name": "stdout",
     "output_type": "stream",
     "text": [
      "✔️ Processed: C:\\Users\\krish\\OneDrive\\Desktop\\Music Genre Classifier\\Genre Classifier Dataset\\genres\\blues\\blues.00070.au\n",
      "✔️ Processed: C:\\Users\\krish\\OneDrive\\Desktop\\Music Genre Classifier\\Genre Classifier Dataset\\genres\\blues\\blues.00071.au\n"
     ]
    },
    {
     "name": "stderr",
     "output_type": "stream",
     "text": [
      "Processing blues:  74%|██████████████████████████████████████████████▊                | 75/101 [00:38<00:02,  9.15it/s]"
     ]
    },
    {
     "name": "stdout",
     "output_type": "stream",
     "text": [
      "✔️ Processed: C:\\Users\\krish\\OneDrive\\Desktop\\Music Genre Classifier\\Genre Classifier Dataset\\genres\\blues\\blues.00072.au\n",
      "✔️ Processed: C:\\Users\\krish\\OneDrive\\Desktop\\Music Genre Classifier\\Genre Classifier Dataset\\genres\\blues\\blues.00073.au\n"
     ]
    },
    {
     "name": "stderr",
     "output_type": "stream",
     "text": [
      "Processing blues:  76%|████████████████████████████████████████████████               | 77/101 [00:39<00:02,  9.08it/s]"
     ]
    },
    {
     "name": "stdout",
     "output_type": "stream",
     "text": [
      "✔️ Processed: C:\\Users\\krish\\OneDrive\\Desktop\\Music Genre Classifier\\Genre Classifier Dataset\\genres\\blues\\blues.00074.au\n",
      "✔️ Processed: C:\\Users\\krish\\OneDrive\\Desktop\\Music Genre Classifier\\Genre Classifier Dataset\\genres\\blues\\blues.00075.au\n"
     ]
    },
    {
     "name": "stderr",
     "output_type": "stream",
     "text": [
      "Processing blues:  78%|█████████████████████████████████████████████████▎             | 79/101 [00:39<00:02,  9.24it/s]"
     ]
    },
    {
     "name": "stdout",
     "output_type": "stream",
     "text": [
      "✔️ Processed: C:\\Users\\krish\\OneDrive\\Desktop\\Music Genre Classifier\\Genre Classifier Dataset\\genres\\blues\\blues.00076.au\n",
      "✔️ Processed: C:\\Users\\krish\\OneDrive\\Desktop\\Music Genre Classifier\\Genre Classifier Dataset\\genres\\blues\\blues.00077.au\n"
     ]
    },
    {
     "name": "stderr",
     "output_type": "stream",
     "text": [
      "Processing blues:  80%|██████████████████████████████████████████████████▌            | 81/101 [00:39<00:02,  9.03it/s]"
     ]
    },
    {
     "name": "stdout",
     "output_type": "stream",
     "text": [
      "✔️ Processed: C:\\Users\\krish\\OneDrive\\Desktop\\Music Genre Classifier\\Genre Classifier Dataset\\genres\\blues\\blues.00078.au\n",
      "✔️ Processed: C:\\Users\\krish\\OneDrive\\Desktop\\Music Genre Classifier\\Genre Classifier Dataset\\genres\\blues\\blues.00079.au\n"
     ]
    },
    {
     "name": "stderr",
     "output_type": "stream",
     "text": [
      "Processing blues:  83%|████████████████████████████████████████████████████▍          | 84/101 [00:39<00:01,  9.25it/s]"
     ]
    },
    {
     "name": "stdout",
     "output_type": "stream",
     "text": [
      "✔️ Processed: C:\\Users\\krish\\OneDrive\\Desktop\\Music Genre Classifier\\Genre Classifier Dataset\\genres\\blues\\blues.00080.au\n",
      "✔️ Processed: C:\\Users\\krish\\OneDrive\\Desktop\\Music Genre Classifier\\Genre Classifier Dataset\\genres\\blues\\blues.00081.au\n",
      "✔️ Processed: C:\\Users\\krish\\OneDrive\\Desktop\\Music Genre Classifier\\Genre Classifier Dataset\\genres\\blues\\blues.00082.au\n"
     ]
    },
    {
     "name": "stderr",
     "output_type": "stream",
     "text": [
      "Processing blues:  85%|█████████████████████████████████████████████████████▋         | 86/101 [00:40<00:01,  9.32it/s]"
     ]
    },
    {
     "name": "stdout",
     "output_type": "stream",
     "text": [
      "✔️ Processed: C:\\Users\\krish\\OneDrive\\Desktop\\Music Genre Classifier\\Genre Classifier Dataset\\genres\\blues\\blues.00083.au\n",
      "✔️ Processed: C:\\Users\\krish\\OneDrive\\Desktop\\Music Genre Classifier\\Genre Classifier Dataset\\genres\\blues\\blues.00084.au\n",
      "✔️ Processed: C:\\Users\\krish\\OneDrive\\Desktop\\Music Genre Classifier\\Genre Classifier Dataset\\genres\\blues\\blues.00085.au\n"
     ]
    },
    {
     "name": "stderr",
     "output_type": "stream",
     "text": [
      "Processing blues:  88%|███████████████████████████████████████████████████████▌       | 89/101 [00:40<00:01,  9.37it/s]"
     ]
    },
    {
     "name": "stdout",
     "output_type": "stream",
     "text": [
      "✔️ Processed: C:\\Users\\krish\\OneDrive\\Desktop\\Music Genre Classifier\\Genre Classifier Dataset\\genres\\blues\\blues.00086.au\n",
      "✔️ Processed: C:\\Users\\krish\\OneDrive\\Desktop\\Music Genre Classifier\\Genre Classifier Dataset\\genres\\blues\\blues.00087.au\n"
     ]
    },
    {
     "name": "stderr",
     "output_type": "stream",
     "text": [
      "Processing blues:  90%|████████████████████████████████████████████████████████▊      | 91/101 [00:40<00:01,  9.36it/s]"
     ]
    },
    {
     "name": "stdout",
     "output_type": "stream",
     "text": [
      "✔️ Processed: C:\\Users\\krish\\OneDrive\\Desktop\\Music Genre Classifier\\Genre Classifier Dataset\\genres\\blues\\blues.00088.au\n",
      "✔️ Processed: C:\\Users\\krish\\OneDrive\\Desktop\\Music Genre Classifier\\Genre Classifier Dataset\\genres\\blues\\blues.00089.au\n"
     ]
    },
    {
     "name": "stderr",
     "output_type": "stream",
     "text": [
      "Processing blues:  92%|██████████████████████████████████████████████████████████     | 93/101 [00:40<00:00,  9.32it/s]"
     ]
    },
    {
     "name": "stdout",
     "output_type": "stream",
     "text": [
      "✔️ Processed: C:\\Users\\krish\\OneDrive\\Desktop\\Music Genre Classifier\\Genre Classifier Dataset\\genres\\blues\\blues.00090.au\n",
      "✔️ Processed: C:\\Users\\krish\\OneDrive\\Desktop\\Music Genre Classifier\\Genre Classifier Dataset\\genres\\blues\\blues.00091.au\n"
     ]
    },
    {
     "name": "stderr",
     "output_type": "stream",
     "text": [
      "Processing blues:  94%|███████████████████████████████████████████████████████████▎   | 95/101 [00:40<00:00,  9.16it/s]"
     ]
    },
    {
     "name": "stdout",
     "output_type": "stream",
     "text": [
      "✔️ Processed: C:\\Users\\krish\\OneDrive\\Desktop\\Music Genre Classifier\\Genre Classifier Dataset\\genres\\blues\\blues.00092.au\n",
      "✔️ Processed: C:\\Users\\krish\\OneDrive\\Desktop\\Music Genre Classifier\\Genre Classifier Dataset\\genres\\blues\\blues.00093.au\n"
     ]
    },
    {
     "name": "stderr",
     "output_type": "stream",
     "text": [
      "Processing blues:  97%|█████████████████████████████████████████████████████████████▏ | 98/101 [00:41<00:00,  9.42it/s]"
     ]
    },
    {
     "name": "stdout",
     "output_type": "stream",
     "text": [
      "✔️ Processed: C:\\Users\\krish\\OneDrive\\Desktop\\Music Genre Classifier\\Genre Classifier Dataset\\genres\\blues\\blues.00094.au\n",
      "✔️ Processed: C:\\Users\\krish\\OneDrive\\Desktop\\Music Genre Classifier\\Genre Classifier Dataset\\genres\\blues\\blues.00095.au\n",
      "✔️ Processed: C:\\Users\\krish\\OneDrive\\Desktop\\Music Genre Classifier\\Genre Classifier Dataset\\genres\\blues\\blues.00096.au\n"
     ]
    },
    {
     "name": "stderr",
     "output_type": "stream",
     "text": [
      "Processing blues:  99%|█████████████████████████████████████████████████████████████▍| 100/101 [00:41<00:00,  9.22it/s]"
     ]
    },
    {
     "name": "stdout",
     "output_type": "stream",
     "text": [
      "✔️ Processed: C:\\Users\\krish\\OneDrive\\Desktop\\Music Genre Classifier\\Genre Classifier Dataset\\genres\\blues\\blues.00097.au\n",
      "✔️ Processed: C:\\Users\\krish\\OneDrive\\Desktop\\Music Genre Classifier\\Genre Classifier Dataset\\genres\\blues\\blues.00098.au\n"
     ]
    },
    {
     "name": "stderr",
     "output_type": "stream",
     "text": [
      "Processing blues: 100%|██████████████████████████████████████████████████████████████| 101/101 [00:41<00:00,  2.43it/s]\n"
     ]
    },
    {
     "name": "stdout",
     "output_type": "stream",
     "text": [
      "✔️ Processed: C:\\Users\\krish\\OneDrive\\Desktop\\Music Genre Classifier\\Genre Classifier Dataset\\genres\\blues\\blues.00099.au\n"
     ]
    },
    {
     "name": "stderr",
     "output_type": "stream",
     "text": [
      "Processing classical:   1%|▌                                                           | 1/100 [00:00<00:10,  9.61it/s]"
     ]
    },
    {
     "name": "stdout",
     "output_type": "stream",
     "text": [
      "✔️ Processed: C:\\Users\\krish\\OneDrive\\Desktop\\Music Genre Classifier\\Genre Classifier Dataset\\genres\\classical\\classical.00000.au\n"
     ]
    },
    {
     "name": "stderr",
     "output_type": "stream",
     "text": [
      "Processing classical:   2%|█▏                                                          | 2/100 [00:00<00:10,  9.29it/s]"
     ]
    },
    {
     "name": "stdout",
     "output_type": "stream",
     "text": [
      "✔️ Processed: C:\\Users\\krish\\OneDrive\\Desktop\\Music Genre Classifier\\Genre Classifier Dataset\\genres\\classical\\classical.00001.au\n"
     ]
    },
    {
     "name": "stderr",
     "output_type": "stream",
     "text": [
      "Processing classical:   3%|█▊                                                          | 3/100 [00:00<00:10,  9.37it/s]"
     ]
    },
    {
     "name": "stdout",
     "output_type": "stream",
     "text": [
      "✔️ Processed: C:\\Users\\krish\\OneDrive\\Desktop\\Music Genre Classifier\\Genre Classifier Dataset\\genres\\classical\\classical.00002.au\n"
     ]
    },
    {
     "name": "stderr",
     "output_type": "stream",
     "text": [
      "Processing classical:   5%|███                                                         | 5/100 [00:00<00:10,  9.26it/s]"
     ]
    },
    {
     "name": "stdout",
     "output_type": "stream",
     "text": [
      "✔️ Processed: C:\\Users\\krish\\OneDrive\\Desktop\\Music Genre Classifier\\Genre Classifier Dataset\\genres\\classical\\classical.00003.au\n",
      "✔️ Processed: C:\\Users\\krish\\OneDrive\\Desktop\\Music Genre Classifier\\Genre Classifier Dataset\\genres\\classical\\classical.00004.au\n"
     ]
    },
    {
     "name": "stderr",
     "output_type": "stream",
     "text": [
      "Processing classical:   7%|████▏                                                       | 7/100 [00:00<00:10,  9.26it/s]"
     ]
    },
    {
     "name": "stdout",
     "output_type": "stream",
     "text": [
      "✔️ Processed: C:\\Users\\krish\\OneDrive\\Desktop\\Music Genre Classifier\\Genre Classifier Dataset\\genres\\classical\\classical.00005.au\n",
      "✔️ Processed: C:\\Users\\krish\\OneDrive\\Desktop\\Music Genre Classifier\\Genre Classifier Dataset\\genres\\classical\\classical.00006.au\n"
     ]
    },
    {
     "name": "stderr",
     "output_type": "stream",
     "text": [
      "Processing classical:   9%|█████▍                                                      | 9/100 [00:00<00:09,  9.32it/s]"
     ]
    },
    {
     "name": "stdout",
     "output_type": "stream",
     "text": [
      "✔️ Processed: C:\\Users\\krish\\OneDrive\\Desktop\\Music Genre Classifier\\Genre Classifier Dataset\\genres\\classical\\classical.00007.au\n",
      "✔️ Processed: C:\\Users\\krish\\OneDrive\\Desktop\\Music Genre Classifier\\Genre Classifier Dataset\\genres\\classical\\classical.00008.au\n"
     ]
    },
    {
     "name": "stderr",
     "output_type": "stream",
     "text": [
      "Processing classical:  11%|██████▍                                                    | 11/100 [00:01<00:09,  9.03it/s]"
     ]
    },
    {
     "name": "stdout",
     "output_type": "stream",
     "text": [
      "✔️ Processed: C:\\Users\\krish\\OneDrive\\Desktop\\Music Genre Classifier\\Genre Classifier Dataset\\genres\\classical\\classical.00009.au\n",
      "✔️ Processed: C:\\Users\\krish\\OneDrive\\Desktop\\Music Genre Classifier\\Genre Classifier Dataset\\genres\\classical\\classical.00010.au\n"
     ]
    },
    {
     "name": "stderr",
     "output_type": "stream",
     "text": [
      "Processing classical:  13%|███████▋                                                   | 13/100 [00:01<00:09,  8.98it/s]"
     ]
    },
    {
     "name": "stdout",
     "output_type": "stream",
     "text": [
      "✔️ Processed: C:\\Users\\krish\\OneDrive\\Desktop\\Music Genre Classifier\\Genre Classifier Dataset\\genres\\classical\\classical.00011.au\n",
      "✔️ Processed: C:\\Users\\krish\\OneDrive\\Desktop\\Music Genre Classifier\\Genre Classifier Dataset\\genres\\classical\\classical.00012.au\n"
     ]
    },
    {
     "name": "stderr",
     "output_type": "stream",
     "text": [
      "Processing classical:  15%|████████▊                                                  | 15/100 [00:01<00:09,  8.96it/s]"
     ]
    },
    {
     "name": "stdout",
     "output_type": "stream",
     "text": [
      "✔️ Processed: C:\\Users\\krish\\OneDrive\\Desktop\\Music Genre Classifier\\Genre Classifier Dataset\\genres\\classical\\classical.00013.au\n",
      "✔️ Processed: C:\\Users\\krish\\OneDrive\\Desktop\\Music Genre Classifier\\Genre Classifier Dataset\\genres\\classical\\classical.00014.au\n"
     ]
    },
    {
     "name": "stderr",
     "output_type": "stream",
     "text": [
      "Processing classical:  17%|██████████                                                 | 17/100 [00:01<00:09,  9.04it/s]"
     ]
    },
    {
     "name": "stdout",
     "output_type": "stream",
     "text": [
      "✔️ Processed: C:\\Users\\krish\\OneDrive\\Desktop\\Music Genre Classifier\\Genre Classifier Dataset\\genres\\classical\\classical.00015.au\n",
      "✔️ Processed: C:\\Users\\krish\\OneDrive\\Desktop\\Music Genre Classifier\\Genre Classifier Dataset\\genres\\classical\\classical.00016.au\n"
     ]
    },
    {
     "name": "stderr",
     "output_type": "stream",
     "text": [
      "Processing classical:  19%|███████████▏                                               | 19/100 [00:02<00:08,  9.16it/s]"
     ]
    },
    {
     "name": "stdout",
     "output_type": "stream",
     "text": [
      "✔️ Processed: C:\\Users\\krish\\OneDrive\\Desktop\\Music Genre Classifier\\Genre Classifier Dataset\\genres\\classical\\classical.00017.au\n",
      "✔️ Processed: C:\\Users\\krish\\OneDrive\\Desktop\\Music Genre Classifier\\Genre Classifier Dataset\\genres\\classical\\classical.00018.au\n"
     ]
    },
    {
     "name": "stderr",
     "output_type": "stream",
     "text": [
      "Processing classical:  21%|████████████▍                                              | 21/100 [00:02<00:08,  9.14it/s]"
     ]
    },
    {
     "name": "stdout",
     "output_type": "stream",
     "text": [
      "✔️ Processed: C:\\Users\\krish\\OneDrive\\Desktop\\Music Genre Classifier\\Genre Classifier Dataset\\genres\\classical\\classical.00019.au\n",
      "✔️ Processed: C:\\Users\\krish\\OneDrive\\Desktop\\Music Genre Classifier\\Genre Classifier Dataset\\genres\\classical\\classical.00020.au\n",
      "✔️ Processed: C:\\Users\\krish\\OneDrive\\Desktop\\Music Genre Classifier\\Genre Classifier Dataset\\genres\\classical\\classical.00021.au\n"
     ]
    },
    {
     "name": "stderr",
     "output_type": "stream",
     "text": [
      "Processing classical:  24%|██████████████▏                                            | 24/100 [00:02<00:08,  9.34it/s]"
     ]
    },
    {
     "name": "stdout",
     "output_type": "stream",
     "text": [
      "✔️ Processed: C:\\Users\\krish\\OneDrive\\Desktop\\Music Genre Classifier\\Genre Classifier Dataset\\genres\\classical\\classical.00022.au\n",
      "✔️ Processed: C:\\Users\\krish\\OneDrive\\Desktop\\Music Genre Classifier\\Genre Classifier Dataset\\genres\\classical\\classical.00023.au\n"
     ]
    },
    {
     "name": "stderr",
     "output_type": "stream",
     "text": [
      "Processing classical:  26%|███████████████▎                                           | 26/100 [00:02<00:08,  9.12it/s]"
     ]
    },
    {
     "name": "stdout",
     "output_type": "stream",
     "text": [
      "✔️ Processed: C:\\Users\\krish\\OneDrive\\Desktop\\Music Genre Classifier\\Genre Classifier Dataset\\genres\\classical\\classical.00024.au\n",
      "✔️ Processed: C:\\Users\\krish\\OneDrive\\Desktop\\Music Genre Classifier\\Genre Classifier Dataset\\genres\\classical\\classical.00025.au\n"
     ]
    },
    {
     "name": "stderr",
     "output_type": "stream",
     "text": [
      "Processing classical:  28%|████████████████▌                                          | 28/100 [00:03<00:07,  9.12it/s]"
     ]
    },
    {
     "name": "stdout",
     "output_type": "stream",
     "text": [
      "✔️ Processed: C:\\Users\\krish\\OneDrive\\Desktop\\Music Genre Classifier\\Genre Classifier Dataset\\genres\\classical\\classical.00026.au\n",
      "✔️ Processed: C:\\Users\\krish\\OneDrive\\Desktop\\Music Genre Classifier\\Genre Classifier Dataset\\genres\\classical\\classical.00027.au\n"
     ]
    },
    {
     "name": "stderr",
     "output_type": "stream",
     "text": [
      "Processing classical:  30%|█████████████████▋                                         | 30/100 [00:03<00:07,  8.87it/s]"
     ]
    },
    {
     "name": "stdout",
     "output_type": "stream",
     "text": [
      "✔️ Processed: C:\\Users\\krish\\OneDrive\\Desktop\\Music Genre Classifier\\Genre Classifier Dataset\\genres\\classical\\classical.00028.au\n",
      "✔️ Processed: C:\\Users\\krish\\OneDrive\\Desktop\\Music Genre Classifier\\Genre Classifier Dataset\\genres\\classical\\classical.00029.au\n"
     ]
    },
    {
     "name": "stderr",
     "output_type": "stream",
     "text": [
      "Processing classical:  32%|██████████████████▉                                        | 32/100 [00:03<00:07,  8.97it/s]"
     ]
    },
    {
     "name": "stdout",
     "output_type": "stream",
     "text": [
      "✔️ Processed: C:\\Users\\krish\\OneDrive\\Desktop\\Music Genre Classifier\\Genre Classifier Dataset\\genres\\classical\\classical.00030.au\n",
      "✔️ Processed: C:\\Users\\krish\\OneDrive\\Desktop\\Music Genre Classifier\\Genre Classifier Dataset\\genres\\classical\\classical.00031.au\n"
     ]
    },
    {
     "name": "stderr",
     "output_type": "stream",
     "text": [
      "Processing classical:  34%|████████████████████                                       | 34/100 [00:03<00:07,  9.04it/s]"
     ]
    },
    {
     "name": "stdout",
     "output_type": "stream",
     "text": [
      "✔️ Processed: C:\\Users\\krish\\OneDrive\\Desktop\\Music Genre Classifier\\Genre Classifier Dataset\\genres\\classical\\classical.00032.au\n",
      "✔️ Processed: C:\\Users\\krish\\OneDrive\\Desktop\\Music Genre Classifier\\Genre Classifier Dataset\\genres\\classical\\classical.00033.au\n"
     ]
    },
    {
     "name": "stderr",
     "output_type": "stream",
     "text": [
      "Processing classical:  36%|█████████████████████▏                                     | 36/100 [00:03<00:07,  8.93it/s]"
     ]
    },
    {
     "name": "stdout",
     "output_type": "stream",
     "text": [
      "✔️ Processed: C:\\Users\\krish\\OneDrive\\Desktop\\Music Genre Classifier\\Genre Classifier Dataset\\genres\\classical\\classical.00034.au\n",
      "✔️ Processed: C:\\Users\\krish\\OneDrive\\Desktop\\Music Genre Classifier\\Genre Classifier Dataset\\genres\\classical\\classical.00035.au\n"
     ]
    },
    {
     "name": "stderr",
     "output_type": "stream",
     "text": [
      "Processing classical:  38%|██████████████████████▍                                    | 38/100 [00:04<00:06,  8.92it/s]"
     ]
    },
    {
     "name": "stdout",
     "output_type": "stream",
     "text": [
      "✔️ Processed: C:\\Users\\krish\\OneDrive\\Desktop\\Music Genre Classifier\\Genre Classifier Dataset\\genres\\classical\\classical.00036.au\n",
      "✔️ Processed: C:\\Users\\krish\\OneDrive\\Desktop\\Music Genre Classifier\\Genre Classifier Dataset\\genres\\classical\\classical.00037.au\n"
     ]
    },
    {
     "name": "stderr",
     "output_type": "stream",
     "text": [
      "Processing classical:  40%|███████████████████████▌                                   | 40/100 [00:04<00:06,  8.90it/s]"
     ]
    },
    {
     "name": "stdout",
     "output_type": "stream",
     "text": [
      "✔️ Processed: C:\\Users\\krish\\OneDrive\\Desktop\\Music Genre Classifier\\Genre Classifier Dataset\\genres\\classical\\classical.00038.au\n",
      "✔️ Processed: C:\\Users\\krish\\OneDrive\\Desktop\\Music Genre Classifier\\Genre Classifier Dataset\\genres\\classical\\classical.00039.au\n"
     ]
    },
    {
     "name": "stderr",
     "output_type": "stream",
     "text": [
      "Processing classical:  42%|████████████████████████▊                                  | 42/100 [00:04<00:06,  9.05it/s]"
     ]
    },
    {
     "name": "stdout",
     "output_type": "stream",
     "text": [
      "✔️ Processed: C:\\Users\\krish\\OneDrive\\Desktop\\Music Genre Classifier\\Genre Classifier Dataset\\genres\\classical\\classical.00040.au\n",
      "✔️ Processed: C:\\Users\\krish\\OneDrive\\Desktop\\Music Genre Classifier\\Genre Classifier Dataset\\genres\\classical\\classical.00041.au\n"
     ]
    },
    {
     "name": "stderr",
     "output_type": "stream",
     "text": [
      "Processing classical:  44%|█████████████████████████▉                                 | 44/100 [00:04<00:06,  8.96it/s]"
     ]
    },
    {
     "name": "stdout",
     "output_type": "stream",
     "text": [
      "✔️ Processed: C:\\Users\\krish\\OneDrive\\Desktop\\Music Genre Classifier\\Genre Classifier Dataset\\genres\\classical\\classical.00042.au\n",
      "✔️ Processed: C:\\Users\\krish\\OneDrive\\Desktop\\Music Genre Classifier\\Genre Classifier Dataset\\genres\\classical\\classical.00043.au\n"
     ]
    },
    {
     "name": "stderr",
     "output_type": "stream",
     "text": [
      "Processing classical:  46%|███████████████████████████▏                               | 46/100 [00:05<00:05,  9.10it/s]"
     ]
    },
    {
     "name": "stdout",
     "output_type": "stream",
     "text": [
      "✔️ Processed: C:\\Users\\krish\\OneDrive\\Desktop\\Music Genre Classifier\\Genre Classifier Dataset\\genres\\classical\\classical.00044.au\n",
      "✔️ Processed: C:\\Users\\krish\\OneDrive\\Desktop\\Music Genre Classifier\\Genre Classifier Dataset\\genres\\classical\\classical.00045.au\n"
     ]
    },
    {
     "name": "stderr",
     "output_type": "stream",
     "text": [
      "Processing classical:  48%|████████████████████████████▎                              | 48/100 [00:05<00:05,  8.91it/s]"
     ]
    },
    {
     "name": "stdout",
     "output_type": "stream",
     "text": [
      "✔️ Processed: C:\\Users\\krish\\OneDrive\\Desktop\\Music Genre Classifier\\Genre Classifier Dataset\\genres\\classical\\classical.00046.au\n",
      "✔️ Processed: C:\\Users\\krish\\OneDrive\\Desktop\\Music Genre Classifier\\Genre Classifier Dataset\\genres\\classical\\classical.00047.au\n"
     ]
    },
    {
     "name": "stderr",
     "output_type": "stream",
     "text": [
      "Processing classical:  50%|█████████████████████████████▌                             | 50/100 [00:05<00:05,  9.11it/s]"
     ]
    },
    {
     "name": "stdout",
     "output_type": "stream",
     "text": [
      "✔️ Processed: C:\\Users\\krish\\OneDrive\\Desktop\\Music Genre Classifier\\Genre Classifier Dataset\\genres\\classical\\classical.00048.au\n",
      "✔️ Processed: C:\\Users\\krish\\OneDrive\\Desktop\\Music Genre Classifier\\Genre Classifier Dataset\\genres\\classical\\classical.00049.au\n"
     ]
    },
    {
     "name": "stderr",
     "output_type": "stream",
     "text": [
      "Processing classical:  52%|██████████████████████████████▋                            | 52/100 [00:05<00:05,  9.10it/s]"
     ]
    },
    {
     "name": "stdout",
     "output_type": "stream",
     "text": [
      "✔️ Processed: C:\\Users\\krish\\OneDrive\\Desktop\\Music Genre Classifier\\Genre Classifier Dataset\\genres\\classical\\classical.00050.au\n",
      "✔️ Processed: C:\\Users\\krish\\OneDrive\\Desktop\\Music Genre Classifier\\Genre Classifier Dataset\\genres\\classical\\classical.00051.au\n"
     ]
    },
    {
     "name": "stderr",
     "output_type": "stream",
     "text": [
      "Processing classical:  54%|███████████████████████████████▊                           | 54/100 [00:05<00:05,  8.90it/s]"
     ]
    },
    {
     "name": "stdout",
     "output_type": "stream",
     "text": [
      "✔️ Processed: C:\\Users\\krish\\OneDrive\\Desktop\\Music Genre Classifier\\Genre Classifier Dataset\\genres\\classical\\classical.00052.au\n",
      "✔️ Processed: C:\\Users\\krish\\OneDrive\\Desktop\\Music Genre Classifier\\Genre Classifier Dataset\\genres\\classical\\classical.00053.au\n"
     ]
    },
    {
     "name": "stderr",
     "output_type": "stream",
     "text": [
      "Processing classical:  56%|█████████████████████████████████                          | 56/100 [00:06<00:04,  9.01it/s]"
     ]
    },
    {
     "name": "stdout",
     "output_type": "stream",
     "text": [
      "✔️ Processed: C:\\Users\\krish\\OneDrive\\Desktop\\Music Genre Classifier\\Genre Classifier Dataset\\genres\\classical\\classical.00054.au\n",
      "✔️ Processed: C:\\Users\\krish\\OneDrive\\Desktop\\Music Genre Classifier\\Genre Classifier Dataset\\genres\\classical\\classical.00055.au\n"
     ]
    },
    {
     "name": "stderr",
     "output_type": "stream",
     "text": [
      "Processing classical:  58%|██████████████████████████████████▏                        | 58/100 [00:06<00:04,  8.95it/s]"
     ]
    },
    {
     "name": "stdout",
     "output_type": "stream",
     "text": [
      "✔️ Processed: C:\\Users\\krish\\OneDrive\\Desktop\\Music Genre Classifier\\Genre Classifier Dataset\\genres\\classical\\classical.00056.au\n",
      "✔️ Processed: C:\\Users\\krish\\OneDrive\\Desktop\\Music Genre Classifier\\Genre Classifier Dataset\\genres\\classical\\classical.00057.au\n",
      "✔️ Processed: C:\\Users\\krish\\OneDrive\\Desktop\\Music Genre Classifier\\Genre Classifier Dataset\\genres\\classical\\classical.00058.au\n"
     ]
    },
    {
     "name": "stderr",
     "output_type": "stream",
     "text": [
      "Processing classical:  62%|████████████████████████████████████▌                      | 62/100 [00:06<00:04,  9.21it/s]"
     ]
    },
    {
     "name": "stdout",
     "output_type": "stream",
     "text": [
      "✔️ Processed: C:\\Users\\krish\\OneDrive\\Desktop\\Music Genre Classifier\\Genre Classifier Dataset\\genres\\classical\\classical.00059.au\n",
      "✔️ Processed: C:\\Users\\krish\\OneDrive\\Desktop\\Music Genre Classifier\\Genre Classifier Dataset\\genres\\classical\\classical.00060.au\n",
      "✔️ Processed: C:\\Users\\krish\\OneDrive\\Desktop\\Music Genre Classifier\\Genre Classifier Dataset\\genres\\classical\\classical.00061.au\n"
     ]
    },
    {
     "name": "stderr",
     "output_type": "stream",
     "text": [
      "Processing classical:  64%|█████████████████████████████████████▊                     | 64/100 [00:07<00:03,  9.21it/s]"
     ]
    },
    {
     "name": "stdout",
     "output_type": "stream",
     "text": [
      "✔️ Processed: C:\\Users\\krish\\OneDrive\\Desktop\\Music Genre Classifier\\Genre Classifier Dataset\\genres\\classical\\classical.00062.au\n",
      "✔️ Processed: C:\\Users\\krish\\OneDrive\\Desktop\\Music Genre Classifier\\Genre Classifier Dataset\\genres\\classical\\classical.00063.au\n",
      "✔️ Processed: C:\\Users\\krish\\OneDrive\\Desktop\\Music Genre Classifier\\Genre Classifier Dataset\\genres\\classical\\classical.00064.au\n"
     ]
    },
    {
     "name": "stderr",
     "output_type": "stream",
     "text": [
      "Processing classical:  67%|███████████████████████████████████████▌                   | 67/100 [00:07<00:03,  9.15it/s]"
     ]
    },
    {
     "name": "stdout",
     "output_type": "stream",
     "text": [
      "✔️ Processed: C:\\Users\\krish\\OneDrive\\Desktop\\Music Genre Classifier\\Genre Classifier Dataset\\genres\\classical\\classical.00065.au\n",
      "✔️ Processed: C:\\Users\\krish\\OneDrive\\Desktop\\Music Genre Classifier\\Genre Classifier Dataset\\genres\\classical\\classical.00066.au\n"
     ]
    },
    {
     "name": "stderr",
     "output_type": "stream",
     "text": [
      "Processing classical:  69%|████████████████████████████████████████▋                  | 69/100 [00:07<00:03,  9.12it/s]"
     ]
    },
    {
     "name": "stdout",
     "output_type": "stream",
     "text": [
      "✔️ Processed: C:\\Users\\krish\\OneDrive\\Desktop\\Music Genre Classifier\\Genre Classifier Dataset\\genres\\classical\\classical.00067.au\n",
      "✔️ Processed: C:\\Users\\krish\\OneDrive\\Desktop\\Music Genre Classifier\\Genre Classifier Dataset\\genres\\classical\\classical.00068.au\n",
      "✔️ Processed: C:\\Users\\krish\\OneDrive\\Desktop\\Music Genre Classifier\\Genre Classifier Dataset\\genres\\classical\\classical.00069.au\n"
     ]
    },
    {
     "name": "stderr",
     "output_type": "stream",
     "text": [
      "Processing classical:  73%|███████████████████████████████████████████                | 73/100 [00:08<00:02,  9.50it/s]"
     ]
    },
    {
     "name": "stdout",
     "output_type": "stream",
     "text": [
      "✔️ Processed: C:\\Users\\krish\\OneDrive\\Desktop\\Music Genre Classifier\\Genre Classifier Dataset\\genres\\classical\\classical.00070.au\n",
      "✔️ Processed: C:\\Users\\krish\\OneDrive\\Desktop\\Music Genre Classifier\\Genre Classifier Dataset\\genres\\classical\\classical.00071.au\n",
      "✔️ Processed: C:\\Users\\krish\\OneDrive\\Desktop\\Music Genre Classifier\\Genre Classifier Dataset\\genres\\classical\\classical.00072.au\n"
     ]
    },
    {
     "name": "stderr",
     "output_type": "stream",
     "text": [
      "Processing classical:  76%|████████████████████████████████████████████▊              | 76/100 [00:08<00:02,  9.47it/s]"
     ]
    },
    {
     "name": "stdout",
     "output_type": "stream",
     "text": [
      "✔️ Processed: C:\\Users\\krish\\OneDrive\\Desktop\\Music Genre Classifier\\Genre Classifier Dataset\\genres\\classical\\classical.00073.au\n",
      "✔️ Processed: C:\\Users\\krish\\OneDrive\\Desktop\\Music Genre Classifier\\Genre Classifier Dataset\\genres\\classical\\classical.00074.au\n",
      "✔️ Processed: C:\\Users\\krish\\OneDrive\\Desktop\\Music Genre Classifier\\Genre Classifier Dataset\\genres\\classical\\classical.00075.au\n"
     ]
    },
    {
     "name": "stderr",
     "output_type": "stream",
     "text": [
      "Processing classical:  78%|██████████████████████████████████████████████             | 78/100 [00:08<00:02,  9.38it/s]"
     ]
    },
    {
     "name": "stdout",
     "output_type": "stream",
     "text": [
      "✔️ Processed: C:\\Users\\krish\\OneDrive\\Desktop\\Music Genre Classifier\\Genre Classifier Dataset\\genres\\classical\\classical.00076.au\n",
      "✔️ Processed: C:\\Users\\krish\\OneDrive\\Desktop\\Music Genre Classifier\\Genre Classifier Dataset\\genres\\classical\\classical.00077.au\n"
     ]
    },
    {
     "name": "stderr",
     "output_type": "stream",
     "text": [
      "Processing classical:  80%|███████████████████████████████████████████████▏           | 80/100 [00:08<00:02,  9.16it/s]"
     ]
    },
    {
     "name": "stdout",
     "output_type": "stream",
     "text": [
      "✔️ Processed: C:\\Users\\krish\\OneDrive\\Desktop\\Music Genre Classifier\\Genre Classifier Dataset\\genres\\classical\\classical.00078.au\n",
      "✔️ Processed: C:\\Users\\krish\\OneDrive\\Desktop\\Music Genre Classifier\\Genre Classifier Dataset\\genres\\classical\\classical.00079.au\n"
     ]
    },
    {
     "name": "stderr",
     "output_type": "stream",
     "text": [
      "Processing classical:  82%|████████████████████████████████████████████████▍          | 82/100 [00:09<00:02,  8.98it/s]"
     ]
    },
    {
     "name": "stdout",
     "output_type": "stream",
     "text": [
      "✔️ Processed: C:\\Users\\krish\\OneDrive\\Desktop\\Music Genre Classifier\\Genre Classifier Dataset\\genres\\classical\\classical.00080.au\n",
      "✔️ Processed: C:\\Users\\krish\\OneDrive\\Desktop\\Music Genre Classifier\\Genre Classifier Dataset\\genres\\classical\\classical.00081.au\n"
     ]
    },
    {
     "name": "stderr",
     "output_type": "stream",
     "text": [
      "Processing classical:  84%|█████████████████████████████████████████████████▌         | 84/100 [00:09<00:01,  8.71it/s]"
     ]
    },
    {
     "name": "stdout",
     "output_type": "stream",
     "text": [
      "✔️ Processed: C:\\Users\\krish\\OneDrive\\Desktop\\Music Genre Classifier\\Genre Classifier Dataset\\genres\\classical\\classical.00082.au\n",
      "✔️ Processed: C:\\Users\\krish\\OneDrive\\Desktop\\Music Genre Classifier\\Genre Classifier Dataset\\genres\\classical\\classical.00083.au\n"
     ]
    },
    {
     "name": "stderr",
     "output_type": "stream",
     "text": [
      "Processing classical:  85%|██████████████████████████████████████████████████▏        | 85/100 [00:09<00:01,  8.87it/s]"
     ]
    },
    {
     "name": "stdout",
     "output_type": "stream",
     "text": [
      "✔️ Processed: C:\\Users\\krish\\OneDrive\\Desktop\\Music Genre Classifier\\Genre Classifier Dataset\\genres\\classical\\classical.00084.au\n",
      "✔️ Processed: C:\\Users\\krish\\OneDrive\\Desktop\\Music Genre Classifier\\Genre Classifier Dataset\\genres\\classical\\classical.00085.au\n",
      "✔️ Processed: C:\\Users\\krish\\OneDrive\\Desktop\\Music Genre Classifier\\Genre Classifier Dataset\\genres\\classical\\classical.00086.au\n"
     ]
    },
    {
     "name": "stderr",
     "output_type": "stream",
     "text": [
      "Processing classical:  89%|████████████████████████████████████████████████████▌      | 89/100 [00:09<00:01,  9.16it/s]"
     ]
    },
    {
     "name": "stdout",
     "output_type": "stream",
     "text": [
      "✔️ Processed: C:\\Users\\krish\\OneDrive\\Desktop\\Music Genre Classifier\\Genre Classifier Dataset\\genres\\classical\\classical.00087.au\n",
      "✔️ Processed: C:\\Users\\krish\\OneDrive\\Desktop\\Music Genre Classifier\\Genre Classifier Dataset\\genres\\classical\\classical.00088.au\n"
     ]
    },
    {
     "name": "stderr",
     "output_type": "stream",
     "text": [
      "Processing classical:  91%|█████████████████████████████████████████████████████▋     | 91/100 [00:09<00:00,  9.15it/s]"
     ]
    },
    {
     "name": "stdout",
     "output_type": "stream",
     "text": [
      "✔️ Processed: C:\\Users\\krish\\OneDrive\\Desktop\\Music Genre Classifier\\Genre Classifier Dataset\\genres\\classical\\classical.00089.au\n",
      "✔️ Processed: C:\\Users\\krish\\OneDrive\\Desktop\\Music Genre Classifier\\Genre Classifier Dataset\\genres\\classical\\classical.00090.au\n"
     ]
    },
    {
     "name": "stderr",
     "output_type": "stream",
     "text": [
      "Processing classical:  94%|███████████████████████████████████████████████████████▍   | 94/100 [00:10<00:00,  9.27it/s]"
     ]
    },
    {
     "name": "stdout",
     "output_type": "stream",
     "text": [
      "✔️ Processed: C:\\Users\\krish\\OneDrive\\Desktop\\Music Genre Classifier\\Genre Classifier Dataset\\genres\\classical\\classical.00091.au\n",
      "✔️ Processed: C:\\Users\\krish\\OneDrive\\Desktop\\Music Genre Classifier\\Genre Classifier Dataset\\genres\\classical\\classical.00092.au\n",
      "✔️ Processed: C:\\Users\\krish\\OneDrive\\Desktop\\Music Genre Classifier\\Genre Classifier Dataset\\genres\\classical\\classical.00093.au\n"
     ]
    },
    {
     "name": "stderr",
     "output_type": "stream",
     "text": [
      "Processing classical:  96%|████████████████████████████████████████████████████████▋  | 96/100 [00:10<00:00,  9.04it/s]"
     ]
    },
    {
     "name": "stdout",
     "output_type": "stream",
     "text": [
      "✔️ Processed: C:\\Users\\krish\\OneDrive\\Desktop\\Music Genre Classifier\\Genre Classifier Dataset\\genres\\classical\\classical.00094.au\n",
      "✔️ Processed: C:\\Users\\krish\\OneDrive\\Desktop\\Music Genre Classifier\\Genre Classifier Dataset\\genres\\classical\\classical.00095.au\n"
     ]
    },
    {
     "name": "stderr",
     "output_type": "stream",
     "text": [
      "Processing classical:  98%|█████████████████████████████████████████████████████████▊ | 98/100 [00:10<00:00,  9.07it/s]"
     ]
    },
    {
     "name": "stdout",
     "output_type": "stream",
     "text": [
      "✔️ Processed: C:\\Users\\krish\\OneDrive\\Desktop\\Music Genre Classifier\\Genre Classifier Dataset\\genres\\classical\\classical.00096.au\n",
      "✔️ Processed: C:\\Users\\krish\\OneDrive\\Desktop\\Music Genre Classifier\\Genre Classifier Dataset\\genres\\classical\\classical.00097.au\n"
     ]
    },
    {
     "name": "stderr",
     "output_type": "stream",
     "text": [
      "Processing classical: 100%|██████████████████████████████████████████████████████████| 100/100 [00:10<00:00,  9.10it/s]\n"
     ]
    },
    {
     "name": "stdout",
     "output_type": "stream",
     "text": [
      "✔️ Processed: C:\\Users\\krish\\OneDrive\\Desktop\\Music Genre Classifier\\Genre Classifier Dataset\\genres\\classical\\classical.00098.au\n",
      "✔️ Processed: C:\\Users\\krish\\OneDrive\\Desktop\\Music Genre Classifier\\Genre Classifier Dataset\\genres\\classical\\classical.00099.au\n"
     ]
    },
    {
     "name": "stderr",
     "output_type": "stream",
     "text": [
      "Processing country:   2%|█▏                                                            | 2/100 [00:00<00:10,  9.14it/s]"
     ]
    },
    {
     "name": "stdout",
     "output_type": "stream",
     "text": [
      "✔️ Processed: C:\\Users\\krish\\OneDrive\\Desktop\\Music Genre Classifier\\Genre Classifier Dataset\\genres\\country\\country.00000.au\n",
      "✔️ Processed: C:\\Users\\krish\\OneDrive\\Desktop\\Music Genre Classifier\\Genre Classifier Dataset\\genres\\country\\country.00001.au\n"
     ]
    },
    {
     "name": "stderr",
     "output_type": "stream",
     "text": [
      "Processing country:   4%|██▍                                                           | 4/100 [00:00<00:10,  9.22it/s]"
     ]
    },
    {
     "name": "stdout",
     "output_type": "stream",
     "text": [
      "✔️ Processed: C:\\Users\\krish\\OneDrive\\Desktop\\Music Genre Classifier\\Genre Classifier Dataset\\genres\\country\\country.00002.au\n",
      "✔️ Processed: C:\\Users\\krish\\OneDrive\\Desktop\\Music Genre Classifier\\Genre Classifier Dataset\\genres\\country\\country.00003.au\n"
     ]
    },
    {
     "name": "stderr",
     "output_type": "stream",
     "text": [
      "Processing country:   6%|███▋                                                          | 6/100 [00:00<00:10,  9.22it/s]"
     ]
    },
    {
     "name": "stdout",
     "output_type": "stream",
     "text": [
      "✔️ Processed: C:\\Users\\krish\\OneDrive\\Desktop\\Music Genre Classifier\\Genre Classifier Dataset\\genres\\country\\country.00004.au\n",
      "✔️ Processed: C:\\Users\\krish\\OneDrive\\Desktop\\Music Genre Classifier\\Genre Classifier Dataset\\genres\\country\\country.00005.au\n"
     ]
    },
    {
     "name": "stderr",
     "output_type": "stream",
     "text": [
      "Processing country:   8%|████▉                                                         | 8/100 [00:00<00:10,  9.05it/s]"
     ]
    },
    {
     "name": "stdout",
     "output_type": "stream",
     "text": [
      "✔️ Processed: C:\\Users\\krish\\OneDrive\\Desktop\\Music Genre Classifier\\Genre Classifier Dataset\\genres\\country\\country.00006.au\n",
      "✔️ Processed: C:\\Users\\krish\\OneDrive\\Desktop\\Music Genre Classifier\\Genre Classifier Dataset\\genres\\country\\country.00007.au\n"
     ]
    },
    {
     "name": "stderr",
     "output_type": "stream",
     "text": [
      "Processing country:  10%|██████                                                       | 10/100 [00:01<00:09,  9.09it/s]"
     ]
    },
    {
     "name": "stdout",
     "output_type": "stream",
     "text": [
      "✔️ Processed: C:\\Users\\krish\\OneDrive\\Desktop\\Music Genre Classifier\\Genre Classifier Dataset\\genres\\country\\country.00008.au\n",
      "✔️ Processed: C:\\Users\\krish\\OneDrive\\Desktop\\Music Genre Classifier\\Genre Classifier Dataset\\genres\\country\\country.00009.au\n"
     ]
    },
    {
     "name": "stderr",
     "output_type": "stream",
     "text": [
      "Processing country:  12%|███████▎                                                     | 12/100 [00:01<00:09,  9.07it/s]"
     ]
    },
    {
     "name": "stdout",
     "output_type": "stream",
     "text": [
      "✔️ Processed: C:\\Users\\krish\\OneDrive\\Desktop\\Music Genre Classifier\\Genre Classifier Dataset\\genres\\country\\country.00010.au\n",
      "✔️ Processed: C:\\Users\\krish\\OneDrive\\Desktop\\Music Genre Classifier\\Genre Classifier Dataset\\genres\\country\\country.00011.au\n"
     ]
    },
    {
     "name": "stderr",
     "output_type": "stream",
     "text": [
      "Processing country:  14%|████████▌                                                    | 14/100 [00:01<00:09,  9.24it/s]"
     ]
    },
    {
     "name": "stdout",
     "output_type": "stream",
     "text": [
      "✔️ Processed: C:\\Users\\krish\\OneDrive\\Desktop\\Music Genre Classifier\\Genre Classifier Dataset\\genres\\country\\country.00012.au\n",
      "✔️ Processed: C:\\Users\\krish\\OneDrive\\Desktop\\Music Genre Classifier\\Genre Classifier Dataset\\genres\\country\\country.00013.au\n"
     ]
    },
    {
     "name": "stderr",
     "output_type": "stream",
     "text": [
      "Processing country:  16%|█████████▊                                                   | 16/100 [00:01<00:09,  9.21it/s]"
     ]
    },
    {
     "name": "stdout",
     "output_type": "stream",
     "text": [
      "✔️ Processed: C:\\Users\\krish\\OneDrive\\Desktop\\Music Genre Classifier\\Genre Classifier Dataset\\genres\\country\\country.00014.au\n",
      "✔️ Processed: C:\\Users\\krish\\OneDrive\\Desktop\\Music Genre Classifier\\Genre Classifier Dataset\\genres\\country\\country.00015.au\n"
     ]
    },
    {
     "name": "stderr",
     "output_type": "stream",
     "text": [
      "Processing country:  17%|██████████▎                                                  | 17/100 [00:01<00:09,  9.18it/s]"
     ]
    },
    {
     "name": "stdout",
     "output_type": "stream",
     "text": [
      "✔️ Processed: C:\\Users\\krish\\OneDrive\\Desktop\\Music Genre Classifier\\Genre Classifier Dataset\\genres\\country\\country.00016.au\n",
      "✔️ Processed: C:\\Users\\krish\\OneDrive\\Desktop\\Music Genre Classifier\\Genre Classifier Dataset\\genres\\country\\country.00017.au\n"
     ]
    },
    {
     "name": "stderr",
     "output_type": "stream",
     "text": [
      "Processing country:  20%|████████████▏                                                | 20/100 [00:02<00:08,  9.22it/s]"
     ]
    },
    {
     "name": "stdout",
     "output_type": "stream",
     "text": [
      "✔️ Processed: C:\\Users\\krish\\OneDrive\\Desktop\\Music Genre Classifier\\Genre Classifier Dataset\\genres\\country\\country.00018.au\n",
      "✔️ Processed: C:\\Users\\krish\\OneDrive\\Desktop\\Music Genre Classifier\\Genre Classifier Dataset\\genres\\country\\country.00019.au\n"
     ]
    },
    {
     "name": "stderr",
     "output_type": "stream",
     "text": [
      "Processing country:  22%|█████████████▍                                               | 22/100 [00:02<00:08,  9.09it/s]"
     ]
    },
    {
     "name": "stdout",
     "output_type": "stream",
     "text": [
      "✔️ Processed: C:\\Users\\krish\\OneDrive\\Desktop\\Music Genre Classifier\\Genre Classifier Dataset\\genres\\country\\country.00020.au\n",
      "✔️ Processed: C:\\Users\\krish\\OneDrive\\Desktop\\Music Genre Classifier\\Genre Classifier Dataset\\genres\\country\\country.00021.au\n"
     ]
    },
    {
     "name": "stderr",
     "output_type": "stream",
     "text": [
      "Processing country:  24%|██████████████▋                                              | 24/100 [00:02<00:08,  9.16it/s]"
     ]
    },
    {
     "name": "stdout",
     "output_type": "stream",
     "text": [
      "✔️ Processed: C:\\Users\\krish\\OneDrive\\Desktop\\Music Genre Classifier\\Genre Classifier Dataset\\genres\\country\\country.00022.au\n",
      "✔️ Processed: C:\\Users\\krish\\OneDrive\\Desktop\\Music Genre Classifier\\Genre Classifier Dataset\\genres\\country\\country.00023.au\n"
     ]
    },
    {
     "name": "stderr",
     "output_type": "stream",
     "text": [
      "Processing country:  26%|███████████████▊                                             | 26/100 [00:02<00:08,  9.13it/s]"
     ]
    },
    {
     "name": "stdout",
     "output_type": "stream",
     "text": [
      "✔️ Processed: C:\\Users\\krish\\OneDrive\\Desktop\\Music Genre Classifier\\Genre Classifier Dataset\\genres\\country\\country.00024.au\n",
      "✔️ Processed: C:\\Users\\krish\\OneDrive\\Desktop\\Music Genre Classifier\\Genre Classifier Dataset\\genres\\country\\country.00025.au\n"
     ]
    },
    {
     "name": "stderr",
     "output_type": "stream",
     "text": [
      "Processing country:  28%|█████████████████                                            | 28/100 [00:03<00:08,  8.98it/s]"
     ]
    },
    {
     "name": "stdout",
     "output_type": "stream",
     "text": [
      "✔️ Processed: C:\\Users\\krish\\OneDrive\\Desktop\\Music Genre Classifier\\Genre Classifier Dataset\\genres\\country\\country.00026.au\n",
      "✔️ Processed: C:\\Users\\krish\\OneDrive\\Desktop\\Music Genre Classifier\\Genre Classifier Dataset\\genres\\country\\country.00027.au\n"
     ]
    },
    {
     "name": "stderr",
     "output_type": "stream",
     "text": [
      "Processing country:  30%|██████████████████▎                                          | 30/100 [00:03<00:07,  8.95it/s]"
     ]
    },
    {
     "name": "stdout",
     "output_type": "stream",
     "text": [
      "✔️ Processed: C:\\Users\\krish\\OneDrive\\Desktop\\Music Genre Classifier\\Genre Classifier Dataset\\genres\\country\\country.00028.au\n",
      "✔️ Processed: C:\\Users\\krish\\OneDrive\\Desktop\\Music Genre Classifier\\Genre Classifier Dataset\\genres\\country\\country.00029.au\n"
     ]
    },
    {
     "name": "stderr",
     "output_type": "stream",
     "text": [
      "Processing country:  32%|███████████████████▌                                         | 32/100 [00:03<00:07,  8.89it/s]"
     ]
    },
    {
     "name": "stdout",
     "output_type": "stream",
     "text": [
      "✔️ Processed: C:\\Users\\krish\\OneDrive\\Desktop\\Music Genre Classifier\\Genre Classifier Dataset\\genres\\country\\country.00030.au\n",
      "✔️ Processed: C:\\Users\\krish\\OneDrive\\Desktop\\Music Genre Classifier\\Genre Classifier Dataset\\genres\\country\\country.00031.au\n"
     ]
    },
    {
     "name": "stderr",
     "output_type": "stream",
     "text": [
      "Processing country:  34%|████████████████████▋                                        | 34/100 [00:03<00:07,  9.08it/s]"
     ]
    },
    {
     "name": "stdout",
     "output_type": "stream",
     "text": [
      "✔️ Processed: C:\\Users\\krish\\OneDrive\\Desktop\\Music Genre Classifier\\Genre Classifier Dataset\\genres\\country\\country.00032.au\n",
      "✔️ Processed: C:\\Users\\krish\\OneDrive\\Desktop\\Music Genre Classifier\\Genre Classifier Dataset\\genres\\country\\country.00033.au\n"
     ]
    },
    {
     "name": "stderr",
     "output_type": "stream",
     "text": [
      "Processing country:  36%|█████████████████████▉                                       | 36/100 [00:03<00:07,  8.89it/s]"
     ]
    },
    {
     "name": "stdout",
     "output_type": "stream",
     "text": [
      "✔️ Processed: C:\\Users\\krish\\OneDrive\\Desktop\\Music Genre Classifier\\Genre Classifier Dataset\\genres\\country\\country.00034.au\n",
      "✔️ Processed: C:\\Users\\krish\\OneDrive\\Desktop\\Music Genre Classifier\\Genre Classifier Dataset\\genres\\country\\country.00035.au\n"
     ]
    },
    {
     "name": "stderr",
     "output_type": "stream",
     "text": [
      "Processing country:  39%|███████████████████████▊                                     | 39/100 [00:04<00:06,  9.16it/s]"
     ]
    },
    {
     "name": "stdout",
     "output_type": "stream",
     "text": [
      "✔️ Processed: C:\\Users\\krish\\OneDrive\\Desktop\\Music Genre Classifier\\Genre Classifier Dataset\\genres\\country\\country.00036.au\n",
      "✔️ Processed: C:\\Users\\krish\\OneDrive\\Desktop\\Music Genre Classifier\\Genre Classifier Dataset\\genres\\country\\country.00037.au\n",
      "✔️ Processed: C:\\Users\\krish\\OneDrive\\Desktop\\Music Genre Classifier\\Genre Classifier Dataset\\genres\\country\\country.00038.au\n"
     ]
    },
    {
     "name": "stderr",
     "output_type": "stream",
     "text": [
      "Processing country:  41%|█████████████████████████                                    | 41/100 [00:04<00:06,  9.13it/s]"
     ]
    },
    {
     "name": "stdout",
     "output_type": "stream",
     "text": [
      "✔️ Processed: C:\\Users\\krish\\OneDrive\\Desktop\\Music Genre Classifier\\Genre Classifier Dataset\\genres\\country\\country.00039.au\n",
      "✔️ Processed: C:\\Users\\krish\\OneDrive\\Desktop\\Music Genre Classifier\\Genre Classifier Dataset\\genres\\country\\country.00040.au\n"
     ]
    },
    {
     "name": "stderr",
     "output_type": "stream",
     "text": [
      "Processing country:  43%|██████████████████████████▏                                  | 43/100 [00:04<00:06,  9.20it/s]"
     ]
    },
    {
     "name": "stdout",
     "output_type": "stream",
     "text": [
      "✔️ Processed: C:\\Users\\krish\\OneDrive\\Desktop\\Music Genre Classifier\\Genre Classifier Dataset\\genres\\country\\country.00041.au\n",
      "✔️ Processed: C:\\Users\\krish\\OneDrive\\Desktop\\Music Genre Classifier\\Genre Classifier Dataset\\genres\\country\\country.00042.au\n"
     ]
    },
    {
     "name": "stderr",
     "output_type": "stream",
     "text": [
      "Processing country:  45%|███████████████████████████▍                                 | 45/100 [00:04<00:06,  9.14it/s]"
     ]
    },
    {
     "name": "stdout",
     "output_type": "stream",
     "text": [
      "✔️ Processed: C:\\Users\\krish\\OneDrive\\Desktop\\Music Genre Classifier\\Genre Classifier Dataset\\genres\\country\\country.00043.au\n",
      "✔️ Processed: C:\\Users\\krish\\OneDrive\\Desktop\\Music Genre Classifier\\Genre Classifier Dataset\\genres\\country\\country.00044.au\n"
     ]
    },
    {
     "name": "stderr",
     "output_type": "stream",
     "text": [
      "Processing country:  48%|█████████████████████████████▎                               | 48/100 [00:05<00:05,  9.32it/s]"
     ]
    },
    {
     "name": "stdout",
     "output_type": "stream",
     "text": [
      "✔️ Processed: C:\\Users\\krish\\OneDrive\\Desktop\\Music Genre Classifier\\Genre Classifier Dataset\\genres\\country\\country.00045.au\n",
      "✔️ Processed: C:\\Users\\krish\\OneDrive\\Desktop\\Music Genre Classifier\\Genre Classifier Dataset\\genres\\country\\country.00046.au\n",
      "✔️ Processed: C:\\Users\\krish\\OneDrive\\Desktop\\Music Genre Classifier\\Genre Classifier Dataset\\genres\\country\\country.00047.au\n"
     ]
    },
    {
     "name": "stderr",
     "output_type": "stream",
     "text": [
      "Processing country:  50%|██████████████████████████████▌                              | 50/100 [00:05<00:05,  9.17it/s]"
     ]
    },
    {
     "name": "stdout",
     "output_type": "stream",
     "text": [
      "✔️ Processed: C:\\Users\\krish\\OneDrive\\Desktop\\Music Genre Classifier\\Genre Classifier Dataset\\genres\\country\\country.00048.au\n",
      "✔️ Processed: C:\\Users\\krish\\OneDrive\\Desktop\\Music Genre Classifier\\Genre Classifier Dataset\\genres\\country\\country.00049.au\n"
     ]
    },
    {
     "name": "stderr",
     "output_type": "stream",
     "text": [
      "Processing country:  52%|███████████████████████████████▋                             | 52/100 [00:05<00:05,  9.10it/s]"
     ]
    },
    {
     "name": "stdout",
     "output_type": "stream",
     "text": [
      "✔️ Processed: C:\\Users\\krish\\OneDrive\\Desktop\\Music Genre Classifier\\Genre Classifier Dataset\\genres\\country\\country.00050.au\n",
      "✔️ Processed: C:\\Users\\krish\\OneDrive\\Desktop\\Music Genre Classifier\\Genre Classifier Dataset\\genres\\country\\country.00051.au\n"
     ]
    },
    {
     "name": "stderr",
     "output_type": "stream",
     "text": [
      "Processing country:  54%|████████████████████████████████▉                            | 54/100 [00:05<00:05,  8.96it/s]"
     ]
    },
    {
     "name": "stdout",
     "output_type": "stream",
     "text": [
      "✔️ Processed: C:\\Users\\krish\\OneDrive\\Desktop\\Music Genre Classifier\\Genre Classifier Dataset\\genres\\country\\country.00052.au\n",
      "✔️ Processed: C:\\Users\\krish\\OneDrive\\Desktop\\Music Genre Classifier\\Genre Classifier Dataset\\genres\\country\\country.00053.au\n"
     ]
    },
    {
     "name": "stderr",
     "output_type": "stream",
     "text": [
      "Processing country:  56%|██████████████████████████████████▏                          | 56/100 [00:06<00:04,  8.96it/s]"
     ]
    },
    {
     "name": "stdout",
     "output_type": "stream",
     "text": [
      "✔️ Processed: C:\\Users\\krish\\OneDrive\\Desktop\\Music Genre Classifier\\Genre Classifier Dataset\\genres\\country\\country.00054.au\n",
      "✔️ Processed: C:\\Users\\krish\\OneDrive\\Desktop\\Music Genre Classifier\\Genre Classifier Dataset\\genres\\country\\country.00055.au\n"
     ]
    },
    {
     "name": "stderr",
     "output_type": "stream",
     "text": [
      "Processing country:  58%|███████████████████████████████████▍                         | 58/100 [00:06<00:04,  9.07it/s]"
     ]
    },
    {
     "name": "stdout",
     "output_type": "stream",
     "text": [
      "✔️ Processed: C:\\Users\\krish\\OneDrive\\Desktop\\Music Genre Classifier\\Genre Classifier Dataset\\genres\\country\\country.00056.au\n",
      "✔️ Processed: C:\\Users\\krish\\OneDrive\\Desktop\\Music Genre Classifier\\Genre Classifier Dataset\\genres\\country\\country.00057.au\n"
     ]
    },
    {
     "name": "stderr",
     "output_type": "stream",
     "text": [
      "Processing country:  60%|████████████████████████████████████▌                        | 60/100 [00:06<00:04,  9.08it/s]"
     ]
    },
    {
     "name": "stdout",
     "output_type": "stream",
     "text": [
      "✔️ Processed: C:\\Users\\krish\\OneDrive\\Desktop\\Music Genre Classifier\\Genre Classifier Dataset\\genres\\country\\country.00058.au\n",
      "✔️ Processed: C:\\Users\\krish\\OneDrive\\Desktop\\Music Genre Classifier\\Genre Classifier Dataset\\genres\\country\\country.00059.au\n"
     ]
    },
    {
     "name": "stderr",
     "output_type": "stream",
     "text": [
      "Processing country:  63%|██████████████████████████████████████▍                      | 63/100 [00:06<00:03,  9.39it/s]"
     ]
    },
    {
     "name": "stdout",
     "output_type": "stream",
     "text": [
      "✔️ Processed: C:\\Users\\krish\\OneDrive\\Desktop\\Music Genre Classifier\\Genre Classifier Dataset\\genres\\country\\country.00060.au\n",
      "✔️ Processed: C:\\Users\\krish\\OneDrive\\Desktop\\Music Genre Classifier\\Genre Classifier Dataset\\genres\\country\\country.00061.au\n",
      "✔️ Processed: C:\\Users\\krish\\OneDrive\\Desktop\\Music Genre Classifier\\Genre Classifier Dataset\\genres\\country\\country.00062.au\n"
     ]
    },
    {
     "name": "stderr",
     "output_type": "stream",
     "text": [
      "Processing country:  65%|███████████████████████████████████████▋                     | 65/100 [00:07<00:03,  9.12it/s]"
     ]
    },
    {
     "name": "stdout",
     "output_type": "stream",
     "text": [
      "✔️ Processed: C:\\Users\\krish\\OneDrive\\Desktop\\Music Genre Classifier\\Genre Classifier Dataset\\genres\\country\\country.00063.au\n",
      "✔️ Processed: C:\\Users\\krish\\OneDrive\\Desktop\\Music Genre Classifier\\Genre Classifier Dataset\\genres\\country\\country.00064.au\n"
     ]
    },
    {
     "name": "stderr",
     "output_type": "stream",
     "text": [
      "Processing country:  67%|████████████████████████████████████████▊                    | 67/100 [00:07<00:03,  9.23it/s]"
     ]
    },
    {
     "name": "stdout",
     "output_type": "stream",
     "text": [
      "✔️ Processed: C:\\Users\\krish\\OneDrive\\Desktop\\Music Genre Classifier\\Genre Classifier Dataset\\genres\\country\\country.00065.au\n",
      "✔️ Processed: C:\\Users\\krish\\OneDrive\\Desktop\\Music Genre Classifier\\Genre Classifier Dataset\\genres\\country\\country.00066.au\n"
     ]
    },
    {
     "name": "stderr",
     "output_type": "stream",
     "text": [
      "Processing country:  69%|██████████████████████████████████████████                   | 69/100 [00:07<00:03,  9.07it/s]"
     ]
    },
    {
     "name": "stdout",
     "output_type": "stream",
     "text": [
      "✔️ Processed: C:\\Users\\krish\\OneDrive\\Desktop\\Music Genre Classifier\\Genre Classifier Dataset\\genres\\country\\country.00067.au\n",
      "✔️ Processed: C:\\Users\\krish\\OneDrive\\Desktop\\Music Genre Classifier\\Genre Classifier Dataset\\genres\\country\\country.00068.au\n"
     ]
    },
    {
     "name": "stderr",
     "output_type": "stream",
     "text": [
      "Processing country:  71%|███████████████████████████████████████████▎                 | 71/100 [00:07<00:03,  8.87it/s]"
     ]
    },
    {
     "name": "stdout",
     "output_type": "stream",
     "text": [
      "✔️ Processed: C:\\Users\\krish\\OneDrive\\Desktop\\Music Genre Classifier\\Genre Classifier Dataset\\genres\\country\\country.00069.au\n",
      "✔️ Processed: C:\\Users\\krish\\OneDrive\\Desktop\\Music Genre Classifier\\Genre Classifier Dataset\\genres\\country\\country.00070.au\n"
     ]
    },
    {
     "name": "stderr",
     "output_type": "stream",
     "text": [
      "Processing country:  73%|████████████████████████████████████████████▌                | 73/100 [00:08<00:03,  8.94it/s]"
     ]
    },
    {
     "name": "stdout",
     "output_type": "stream",
     "text": [
      "✔️ Processed: C:\\Users\\krish\\OneDrive\\Desktop\\Music Genre Classifier\\Genre Classifier Dataset\\genres\\country\\country.00071.au\n",
      "✔️ Processed: C:\\Users\\krish\\OneDrive\\Desktop\\Music Genre Classifier\\Genre Classifier Dataset\\genres\\country\\country.00072.au\n"
     ]
    },
    {
     "name": "stderr",
     "output_type": "stream",
     "text": [
      "Processing country:  75%|█████████████████████████████████████████████▊               | 75/100 [00:08<00:02,  8.85it/s]"
     ]
    },
    {
     "name": "stdout",
     "output_type": "stream",
     "text": [
      "✔️ Processed: C:\\Users\\krish\\OneDrive\\Desktop\\Music Genre Classifier\\Genre Classifier Dataset\\genres\\country\\country.00073.au\n",
      "✔️ Processed: C:\\Users\\krish\\OneDrive\\Desktop\\Music Genre Classifier\\Genre Classifier Dataset\\genres\\country\\country.00074.au\n"
     ]
    },
    {
     "name": "stderr",
     "output_type": "stream",
     "text": [
      "Processing country:  77%|██████████████████████████████████████████████▉              | 77/100 [00:08<00:02,  8.91it/s]"
     ]
    },
    {
     "name": "stdout",
     "output_type": "stream",
     "text": [
      "✔️ Processed: C:\\Users\\krish\\OneDrive\\Desktop\\Music Genre Classifier\\Genre Classifier Dataset\\genres\\country\\country.00075.au\n",
      "✔️ Processed: C:\\Users\\krish\\OneDrive\\Desktop\\Music Genre Classifier\\Genre Classifier Dataset\\genres\\country\\country.00076.au\n"
     ]
    },
    {
     "name": "stderr",
     "output_type": "stream",
     "text": [
      "Processing country:  79%|████████████████████████████████████████████████▏            | 79/100 [00:08<00:02,  8.97it/s]"
     ]
    },
    {
     "name": "stdout",
     "output_type": "stream",
     "text": [
      "✔️ Processed: C:\\Users\\krish\\OneDrive\\Desktop\\Music Genre Classifier\\Genre Classifier Dataset\\genres\\country\\country.00077.au\n",
      "✔️ Processed: C:\\Users\\krish\\OneDrive\\Desktop\\Music Genre Classifier\\Genre Classifier Dataset\\genres\\country\\country.00078.au\n"
     ]
    },
    {
     "name": "stderr",
     "output_type": "stream",
     "text": [
      "Processing country:  81%|█████████████████████████████████████████████████▍           | 81/100 [00:08<00:02,  9.20it/s]"
     ]
    },
    {
     "name": "stdout",
     "output_type": "stream",
     "text": [
      "✔️ Processed: C:\\Users\\krish\\OneDrive\\Desktop\\Music Genre Classifier\\Genre Classifier Dataset\\genres\\country\\country.00079.au\n",
      "✔️ Processed: C:\\Users\\krish\\OneDrive\\Desktop\\Music Genre Classifier\\Genre Classifier Dataset\\genres\\country\\country.00080.au\n"
     ]
    },
    {
     "name": "stderr",
     "output_type": "stream",
     "text": [
      "Processing country:  83%|██████████████████████████████████████████████████▋          | 83/100 [00:09<00:01,  9.20it/s]"
     ]
    },
    {
     "name": "stdout",
     "output_type": "stream",
     "text": [
      "✔️ Processed: C:\\Users\\krish\\OneDrive\\Desktop\\Music Genre Classifier\\Genre Classifier Dataset\\genres\\country\\country.00081.au\n",
      "✔️ Processed: C:\\Users\\krish\\OneDrive\\Desktop\\Music Genre Classifier\\Genre Classifier Dataset\\genres\\country\\country.00082.au\n"
     ]
    },
    {
     "name": "stderr",
     "output_type": "stream",
     "text": [
      "Processing country:  86%|████████████████████████████████████████████████████▍        | 86/100 [00:09<00:01,  9.46it/s]"
     ]
    },
    {
     "name": "stdout",
     "output_type": "stream",
     "text": [
      "✔️ Processed: C:\\Users\\krish\\OneDrive\\Desktop\\Music Genre Classifier\\Genre Classifier Dataset\\genres\\country\\country.00083.au\n",
      "✔️ Processed: C:\\Users\\krish\\OneDrive\\Desktop\\Music Genre Classifier\\Genre Classifier Dataset\\genres\\country\\country.00084.au\n",
      "✔️ Processed: C:\\Users\\krish\\OneDrive\\Desktop\\Music Genre Classifier\\Genre Classifier Dataset\\genres\\country\\country.00085.au\n"
     ]
    },
    {
     "name": "stderr",
     "output_type": "stream",
     "text": [
      "Processing country:  89%|██████████████████████████████████████████████████████▎      | 89/100 [00:09<00:01,  9.50it/s]"
     ]
    },
    {
     "name": "stdout",
     "output_type": "stream",
     "text": [
      "✔️ Processed: C:\\Users\\krish\\OneDrive\\Desktop\\Music Genre Classifier\\Genre Classifier Dataset\\genres\\country\\country.00086.au\n",
      "✔️ Processed: C:\\Users\\krish\\OneDrive\\Desktop\\Music Genre Classifier\\Genre Classifier Dataset\\genres\\country\\country.00087.au\n",
      "✔️ Processed: C:\\Users\\krish\\OneDrive\\Desktop\\Music Genre Classifier\\Genre Classifier Dataset\\genres\\country\\country.00088.au\n"
     ]
    },
    {
     "name": "stderr",
     "output_type": "stream",
     "text": [
      "Processing country:  91%|███████████████████████████████████████████████████████▌     | 91/100 [00:09<00:00,  9.40it/s]"
     ]
    },
    {
     "name": "stdout",
     "output_type": "stream",
     "text": [
      "✔️ Processed: C:\\Users\\krish\\OneDrive\\Desktop\\Music Genre Classifier\\Genre Classifier Dataset\\genres\\country\\country.00089.au\n",
      "✔️ Processed: C:\\Users\\krish\\OneDrive\\Desktop\\Music Genre Classifier\\Genre Classifier Dataset\\genres\\country\\country.00090.au\n"
     ]
    },
    {
     "name": "stderr",
     "output_type": "stream",
     "text": [
      "Processing country:  93%|████████████████████████████████████████████████████████▋    | 93/100 [00:10<00:00,  9.05it/s]"
     ]
    },
    {
     "name": "stdout",
     "output_type": "stream",
     "text": [
      "✔️ Processed: C:\\Users\\krish\\OneDrive\\Desktop\\Music Genre Classifier\\Genre Classifier Dataset\\genres\\country\\country.00091.au\n",
      "✔️ Processed: C:\\Users\\krish\\OneDrive\\Desktop\\Music Genre Classifier\\Genre Classifier Dataset\\genres\\country\\country.00092.au\n"
     ]
    },
    {
     "name": "stderr",
     "output_type": "stream",
     "text": [
      "Processing country:  95%|█████████████████████████████████████████████████████████▉   | 95/100 [00:10<00:00,  9.16it/s]"
     ]
    },
    {
     "name": "stdout",
     "output_type": "stream",
     "text": [
      "✔️ Processed: C:\\Users\\krish\\OneDrive\\Desktop\\Music Genre Classifier\\Genre Classifier Dataset\\genres\\country\\country.00093.au\n",
      "✔️ Processed: C:\\Users\\krish\\OneDrive\\Desktop\\Music Genre Classifier\\Genre Classifier Dataset\\genres\\country\\country.00094.au\n",
      "✔️ Processed: C:\\Users\\krish\\OneDrive\\Desktop\\Music Genre Classifier\\Genre Classifier Dataset\\genres\\country\\country.00095.au\n"
     ]
    },
    {
     "name": "stderr",
     "output_type": "stream",
     "text": [
      "Processing country:  98%|███████████████████████████████████████████████████████████▊ | 98/100 [00:10<00:00,  9.40it/s]"
     ]
    },
    {
     "name": "stdout",
     "output_type": "stream",
     "text": [
      "✔️ Processed: C:\\Users\\krish\\OneDrive\\Desktop\\Music Genre Classifier\\Genre Classifier Dataset\\genres\\country\\country.00096.au\n",
      "✔️ Processed: C:\\Users\\krish\\OneDrive\\Desktop\\Music Genre Classifier\\Genre Classifier Dataset\\genres\\country\\country.00097.au\n"
     ]
    },
    {
     "name": "stderr",
     "output_type": "stream",
     "text": [
      "Processing country: 100%|████████████████████████████████████████████████████████████| 100/100 [00:10<00:00,  9.13it/s]\n"
     ]
    },
    {
     "name": "stdout",
     "output_type": "stream",
     "text": [
      "✔️ Processed: C:\\Users\\krish\\OneDrive\\Desktop\\Music Genre Classifier\\Genre Classifier Dataset\\genres\\country\\country.00098.au\n",
      "✔️ Processed: C:\\Users\\krish\\OneDrive\\Desktop\\Music Genre Classifier\\Genre Classifier Dataset\\genres\\country\\country.00099.au\n"
     ]
    },
    {
     "name": "stderr",
     "output_type": "stream",
     "text": [
      "Processing disco:   2%|█▎                                                              | 2/100 [00:00<00:10,  9.49it/s]"
     ]
    },
    {
     "name": "stdout",
     "output_type": "stream",
     "text": [
      "✔️ Processed: C:\\Users\\krish\\OneDrive\\Desktop\\Music Genre Classifier\\Genre Classifier Dataset\\genres\\disco\\disco.00000.au\n",
      "✔️ Processed: C:\\Users\\krish\\OneDrive\\Desktop\\Music Genre Classifier\\Genre Classifier Dataset\\genres\\disco\\disco.00001.au\n"
     ]
    },
    {
     "name": "stderr",
     "output_type": "stream",
     "text": [
      "Processing disco:   4%|██▌                                                             | 4/100 [00:00<00:10,  9.45it/s]"
     ]
    },
    {
     "name": "stdout",
     "output_type": "stream",
     "text": [
      "✔️ Processed: C:\\Users\\krish\\OneDrive\\Desktop\\Music Genre Classifier\\Genre Classifier Dataset\\genres\\disco\\disco.00002.au\n",
      "✔️ Processed: C:\\Users\\krish\\OneDrive\\Desktop\\Music Genre Classifier\\Genre Classifier Dataset\\genres\\disco\\disco.00003.au\n"
     ]
    },
    {
     "name": "stderr",
     "output_type": "stream",
     "text": [
      "Processing disco:   7%|████▍                                                           | 7/100 [00:00<00:09,  9.50it/s]"
     ]
    },
    {
     "name": "stdout",
     "output_type": "stream",
     "text": [
      "✔️ Processed: C:\\Users\\krish\\OneDrive\\Desktop\\Music Genre Classifier\\Genre Classifier Dataset\\genres\\disco\\disco.00004.au\n",
      "✔️ Processed: C:\\Users\\krish\\OneDrive\\Desktop\\Music Genre Classifier\\Genre Classifier Dataset\\genres\\disco\\disco.00005.au\n",
      "✔️ Processed: C:\\Users\\krish\\OneDrive\\Desktop\\Music Genre Classifier\\Genre Classifier Dataset\\genres\\disco\\disco.00006.au\n"
     ]
    },
    {
     "name": "stderr",
     "output_type": "stream",
     "text": [
      "Processing disco:   9%|█████▊                                                          | 9/100 [00:00<00:09,  9.30it/s]"
     ]
    },
    {
     "name": "stdout",
     "output_type": "stream",
     "text": [
      "✔️ Processed: C:\\Users\\krish\\OneDrive\\Desktop\\Music Genre Classifier\\Genre Classifier Dataset\\genres\\disco\\disco.00007.au\n",
      "✔️ Processed: C:\\Users\\krish\\OneDrive\\Desktop\\Music Genre Classifier\\Genre Classifier Dataset\\genres\\disco\\disco.00008.au\n"
     ]
    },
    {
     "name": "stderr",
     "output_type": "stream",
     "text": [
      "Processing disco:  11%|██████▉                                                        | 11/100 [00:01<00:09,  9.15it/s]"
     ]
    },
    {
     "name": "stdout",
     "output_type": "stream",
     "text": [
      "✔️ Processed: C:\\Users\\krish\\OneDrive\\Desktop\\Music Genre Classifier\\Genre Classifier Dataset\\genres\\disco\\disco.00009.au\n",
      "✔️ Processed: C:\\Users\\krish\\OneDrive\\Desktop\\Music Genre Classifier\\Genre Classifier Dataset\\genres\\disco\\disco.00010.au\n"
     ]
    },
    {
     "name": "stderr",
     "output_type": "stream",
     "text": [
      "Processing disco:  13%|████████▏                                                      | 13/100 [00:01<00:09,  9.17it/s]"
     ]
    },
    {
     "name": "stdout",
     "output_type": "stream",
     "text": [
      "✔️ Processed: C:\\Users\\krish\\OneDrive\\Desktop\\Music Genre Classifier\\Genre Classifier Dataset\\genres\\disco\\disco.00011.au\n",
      "✔️ Processed: C:\\Users\\krish\\OneDrive\\Desktop\\Music Genre Classifier\\Genre Classifier Dataset\\genres\\disco\\disco.00012.au\n"
     ]
    },
    {
     "name": "stderr",
     "output_type": "stream",
     "text": [
      "Processing disco:  15%|█████████▍                                                     | 15/100 [00:01<00:09,  9.14it/s]"
     ]
    },
    {
     "name": "stdout",
     "output_type": "stream",
     "text": [
      "✔️ Processed: C:\\Users\\krish\\OneDrive\\Desktop\\Music Genre Classifier\\Genre Classifier Dataset\\genres\\disco\\disco.00013.au\n",
      "✔️ Processed: C:\\Users\\krish\\OneDrive\\Desktop\\Music Genre Classifier\\Genre Classifier Dataset\\genres\\disco\\disco.00014.au\n"
     ]
    },
    {
     "name": "stderr",
     "output_type": "stream",
     "text": [
      "Processing disco:  17%|██████████▋                                                    | 17/100 [00:01<00:09,  8.85it/s]"
     ]
    },
    {
     "name": "stdout",
     "output_type": "stream",
     "text": [
      "✔️ Processed: C:\\Users\\krish\\OneDrive\\Desktop\\Music Genre Classifier\\Genre Classifier Dataset\\genres\\disco\\disco.00015.au\n",
      "✔️ Processed: C:\\Users\\krish\\OneDrive\\Desktop\\Music Genre Classifier\\Genre Classifier Dataset\\genres\\disco\\disco.00016.au\n"
     ]
    },
    {
     "name": "stderr",
     "output_type": "stream",
     "text": [
      "Processing disco:  19%|███████████▉                                                   | 19/100 [00:02<00:09,  8.98it/s]"
     ]
    },
    {
     "name": "stdout",
     "output_type": "stream",
     "text": [
      "✔️ Processed: C:\\Users\\krish\\OneDrive\\Desktop\\Music Genre Classifier\\Genre Classifier Dataset\\genres\\disco\\disco.00017.au\n",
      "✔️ Processed: C:\\Users\\krish\\OneDrive\\Desktop\\Music Genre Classifier\\Genre Classifier Dataset\\genres\\disco\\disco.00018.au\n"
     ]
    },
    {
     "name": "stderr",
     "output_type": "stream",
     "text": [
      "Processing disco:  21%|█████████████▏                                                 | 21/100 [00:02<00:08,  8.98it/s]"
     ]
    },
    {
     "name": "stdout",
     "output_type": "stream",
     "text": [
      "✔️ Processed: C:\\Users\\krish\\OneDrive\\Desktop\\Music Genre Classifier\\Genre Classifier Dataset\\genres\\disco\\disco.00019.au\n",
      "✔️ Processed: C:\\Users\\krish\\OneDrive\\Desktop\\Music Genre Classifier\\Genre Classifier Dataset\\genres\\disco\\disco.00020.au\n"
     ]
    },
    {
     "name": "stderr",
     "output_type": "stream",
     "text": [
      "Processing disco:  23%|██████████████▍                                                | 23/100 [00:02<00:08,  9.24it/s]"
     ]
    },
    {
     "name": "stdout",
     "output_type": "stream",
     "text": [
      "✔️ Processed: C:\\Users\\krish\\OneDrive\\Desktop\\Music Genre Classifier\\Genre Classifier Dataset\\genres\\disco\\disco.00021.au\n",
      "✔️ Processed: C:\\Users\\krish\\OneDrive\\Desktop\\Music Genre Classifier\\Genre Classifier Dataset\\genres\\disco\\disco.00022.au\n"
     ]
    },
    {
     "name": "stderr",
     "output_type": "stream",
     "text": [
      "Processing disco:  25%|███████████████▊                                               | 25/100 [00:02<00:08,  9.26it/s]"
     ]
    },
    {
     "name": "stdout",
     "output_type": "stream",
     "text": [
      "✔️ Processed: C:\\Users\\krish\\OneDrive\\Desktop\\Music Genre Classifier\\Genre Classifier Dataset\\genres\\disco\\disco.00023.au\n",
      "✔️ Processed: C:\\Users\\krish\\OneDrive\\Desktop\\Music Genre Classifier\\Genre Classifier Dataset\\genres\\disco\\disco.00024.au\n"
     ]
    },
    {
     "name": "stderr",
     "output_type": "stream",
     "text": [
      "Processing disco:  27%|█████████████████                                              | 27/100 [00:02<00:07,  9.28it/s]"
     ]
    },
    {
     "name": "stdout",
     "output_type": "stream",
     "text": [
      "✔️ Processed: C:\\Users\\krish\\OneDrive\\Desktop\\Music Genre Classifier\\Genre Classifier Dataset\\genres\\disco\\disco.00025.au\n",
      "✔️ Processed: C:\\Users\\krish\\OneDrive\\Desktop\\Music Genre Classifier\\Genre Classifier Dataset\\genres\\disco\\disco.00026.au\n"
     ]
    },
    {
     "name": "stderr",
     "output_type": "stream",
     "text": [
      "Processing disco:  29%|██████████████████▎                                            | 29/100 [00:03<00:07,  9.18it/s]"
     ]
    },
    {
     "name": "stdout",
     "output_type": "stream",
     "text": [
      "✔️ Processed: C:\\Users\\krish\\OneDrive\\Desktop\\Music Genre Classifier\\Genre Classifier Dataset\\genres\\disco\\disco.00027.au\n",
      "✔️ Processed: C:\\Users\\krish\\OneDrive\\Desktop\\Music Genre Classifier\\Genre Classifier Dataset\\genres\\disco\\disco.00028.au\n"
     ]
    },
    {
     "name": "stderr",
     "output_type": "stream",
     "text": [
      "Processing disco:  31%|███████████████████▌                                           | 31/100 [00:03<00:07,  9.00it/s]"
     ]
    },
    {
     "name": "stdout",
     "output_type": "stream",
     "text": [
      "✔️ Processed: C:\\Users\\krish\\OneDrive\\Desktop\\Music Genre Classifier\\Genre Classifier Dataset\\genres\\disco\\disco.00029.au\n",
      "✔️ Processed: C:\\Users\\krish\\OneDrive\\Desktop\\Music Genre Classifier\\Genre Classifier Dataset\\genres\\disco\\disco.00030.au\n"
     ]
    },
    {
     "name": "stderr",
     "output_type": "stream",
     "text": [
      "Processing disco:  33%|████████████████████▊                                          | 33/100 [00:03<00:07,  9.25it/s]"
     ]
    },
    {
     "name": "stdout",
     "output_type": "stream",
     "text": [
      "✔️ Processed: C:\\Users\\krish\\OneDrive\\Desktop\\Music Genre Classifier\\Genre Classifier Dataset\\genres\\disco\\disco.00031.au\n",
      "✔️ Processed: C:\\Users\\krish\\OneDrive\\Desktop\\Music Genre Classifier\\Genre Classifier Dataset\\genres\\disco\\disco.00032.au\n",
      "✔️ Processed: C:\\Users\\krish\\OneDrive\\Desktop\\Music Genre Classifier\\Genre Classifier Dataset\\genres\\disco\\disco.00033.au\n"
     ]
    },
    {
     "name": "stderr",
     "output_type": "stream",
     "text": [
      "Processing disco:  36%|██████████████████████▋                                        | 36/100 [00:03<00:06,  9.30it/s]"
     ]
    },
    {
     "name": "stdout",
     "output_type": "stream",
     "text": [
      "✔️ Processed: C:\\Users\\krish\\OneDrive\\Desktop\\Music Genre Classifier\\Genre Classifier Dataset\\genres\\disco\\disco.00034.au\n",
      "✔️ Processed: C:\\Users\\krish\\OneDrive\\Desktop\\Music Genre Classifier\\Genre Classifier Dataset\\genres\\disco\\disco.00035.au\n"
     ]
    },
    {
     "name": "stderr",
     "output_type": "stream",
     "text": [
      "Processing disco:  38%|███████████████████████▉                                       | 38/100 [00:04<00:06,  9.18it/s]"
     ]
    },
    {
     "name": "stdout",
     "output_type": "stream",
     "text": [
      "✔️ Processed: C:\\Users\\krish\\OneDrive\\Desktop\\Music Genre Classifier\\Genre Classifier Dataset\\genres\\disco\\disco.00036.au\n",
      "✔️ Processed: C:\\Users\\krish\\OneDrive\\Desktop\\Music Genre Classifier\\Genre Classifier Dataset\\genres\\disco\\disco.00037.au\n"
     ]
    },
    {
     "name": "stderr",
     "output_type": "stream",
     "text": [
      "Processing disco:  40%|█████████████████████████▏                                     | 40/100 [00:04<00:06,  9.18it/s]"
     ]
    },
    {
     "name": "stdout",
     "output_type": "stream",
     "text": [
      "✔️ Processed: C:\\Users\\krish\\OneDrive\\Desktop\\Music Genre Classifier\\Genre Classifier Dataset\\genres\\disco\\disco.00038.au\n",
      "✔️ Processed: C:\\Users\\krish\\OneDrive\\Desktop\\Music Genre Classifier\\Genre Classifier Dataset\\genres\\disco\\disco.00039.au\n"
     ]
    },
    {
     "name": "stderr",
     "output_type": "stream",
     "text": [
      "Processing disco:  43%|███████████████████████████                                    | 43/100 [00:04<00:05,  9.51it/s]"
     ]
    },
    {
     "name": "stdout",
     "output_type": "stream",
     "text": [
      "✔️ Processed: C:\\Users\\krish\\OneDrive\\Desktop\\Music Genre Classifier\\Genre Classifier Dataset\\genres\\disco\\disco.00040.au\n",
      "✔️ Processed: C:\\Users\\krish\\OneDrive\\Desktop\\Music Genre Classifier\\Genre Classifier Dataset\\genres\\disco\\disco.00041.au\n",
      "✔️ Processed: C:\\Users\\krish\\OneDrive\\Desktop\\Music Genre Classifier\\Genre Classifier Dataset\\genres\\disco\\disco.00042.au\n"
     ]
    },
    {
     "name": "stderr",
     "output_type": "stream",
     "text": [
      "Processing disco:  45%|████████████████████████████▎                                  | 45/100 [00:04<00:06,  9.07it/s]"
     ]
    },
    {
     "name": "stdout",
     "output_type": "stream",
     "text": [
      "✔️ Processed: C:\\Users\\krish\\OneDrive\\Desktop\\Music Genre Classifier\\Genre Classifier Dataset\\genres\\disco\\disco.00043.au\n",
      "✔️ Processed: C:\\Users\\krish\\OneDrive\\Desktop\\Music Genre Classifier\\Genre Classifier Dataset\\genres\\disco\\disco.00044.au\n"
     ]
    },
    {
     "name": "stderr",
     "output_type": "stream",
     "text": [
      "Processing disco:  47%|█████████████████████████████▌                                 | 47/100 [00:05<00:05,  9.22it/s]"
     ]
    },
    {
     "name": "stdout",
     "output_type": "stream",
     "text": [
      "✔️ Processed: C:\\Users\\krish\\OneDrive\\Desktop\\Music Genre Classifier\\Genre Classifier Dataset\\genres\\disco\\disco.00045.au\n",
      "✔️ Processed: C:\\Users\\krish\\OneDrive\\Desktop\\Music Genre Classifier\\Genre Classifier Dataset\\genres\\disco\\disco.00046.au\n"
     ]
    },
    {
     "name": "stderr",
     "output_type": "stream",
     "text": [
      "Processing disco:  49%|██████████████████████████████▊                                | 49/100 [00:05<00:05,  8.94it/s]"
     ]
    },
    {
     "name": "stdout",
     "output_type": "stream",
     "text": [
      "✔️ Processed: C:\\Users\\krish\\OneDrive\\Desktop\\Music Genre Classifier\\Genre Classifier Dataset\\genres\\disco\\disco.00047.au\n",
      "✔️ Processed: C:\\Users\\krish\\OneDrive\\Desktop\\Music Genre Classifier\\Genre Classifier Dataset\\genres\\disco\\disco.00048.au\n"
     ]
    },
    {
     "name": "stderr",
     "output_type": "stream",
     "text": [
      "Processing disco:  51%|████████████████████████████████▏                              | 51/100 [00:05<00:05,  9.00it/s]"
     ]
    },
    {
     "name": "stdout",
     "output_type": "stream",
     "text": [
      "✔️ Processed: C:\\Users\\krish\\OneDrive\\Desktop\\Music Genre Classifier\\Genre Classifier Dataset\\genres\\disco\\disco.00049.au\n",
      "✔️ Processed: C:\\Users\\krish\\OneDrive\\Desktop\\Music Genre Classifier\\Genre Classifier Dataset\\genres\\disco\\disco.00050.au\n"
     ]
    },
    {
     "name": "stderr",
     "output_type": "stream",
     "text": [
      "Processing disco:  53%|█████████████████████████████████▍                             | 53/100 [00:05<00:05,  9.15it/s]"
     ]
    },
    {
     "name": "stdout",
     "output_type": "stream",
     "text": [
      "✔️ Processed: C:\\Users\\krish\\OneDrive\\Desktop\\Music Genre Classifier\\Genre Classifier Dataset\\genres\\disco\\disco.00051.au\n",
      "✔️ Processed: C:\\Users\\krish\\OneDrive\\Desktop\\Music Genre Classifier\\Genre Classifier Dataset\\genres\\disco\\disco.00052.au\n"
     ]
    },
    {
     "name": "stderr",
     "output_type": "stream",
     "text": [
      "Processing disco:  55%|██████████████████████████████████▋                            | 55/100 [00:05<00:04,  9.13it/s]"
     ]
    },
    {
     "name": "stdout",
     "output_type": "stream",
     "text": [
      "✔️ Processed: C:\\Users\\krish\\OneDrive\\Desktop\\Music Genre Classifier\\Genre Classifier Dataset\\genres\\disco\\disco.00053.au\n",
      "✔️ Processed: C:\\Users\\krish\\OneDrive\\Desktop\\Music Genre Classifier\\Genre Classifier Dataset\\genres\\disco\\disco.00054.au\n"
     ]
    },
    {
     "name": "stderr",
     "output_type": "stream",
     "text": [
      "Processing disco:  58%|████████████████████████████████████▌                          | 58/100 [00:06<00:03, 11.00it/s]"
     ]
    },
    {
     "name": "stdout",
     "output_type": "stream",
     "text": [
      "✔️ Processed: C:\\Users\\krish\\OneDrive\\Desktop\\Music Genre Classifier\\Genre Classifier Dataset\\genres\\disco\\disco.00055.au\n",
      "✔️ Processed: C:\\Users\\krish\\OneDrive\\Desktop\\Music Genre Classifier\\Genre Classifier Dataset\\genres\\disco\\disco.00056.au\n",
      "✔️ Processed: C:\\Users\\krish\\OneDrive\\Desktop\\Music Genre Classifier\\Genre Classifier Dataset\\genres\\disco\\disco.00057.au\n"
     ]
    },
    {
     "name": "stderr",
     "output_type": "stream",
     "text": [
      "Processing disco:  60%|█████████████████████████████████████▊                         | 60/100 [00:06<00:03, 10.76it/s]"
     ]
    },
    {
     "name": "stdout",
     "output_type": "stream",
     "text": [
      "✔️ Processed: C:\\Users\\krish\\OneDrive\\Desktop\\Music Genre Classifier\\Genre Classifier Dataset\\genres\\disco\\disco.00058.au\n",
      "✔️ Processed: C:\\Users\\krish\\OneDrive\\Desktop\\Music Genre Classifier\\Genre Classifier Dataset\\genres\\disco\\disco.00059.au\n"
     ]
    },
    {
     "name": "stderr",
     "output_type": "stream",
     "text": [
      "Processing disco:  62%|███████████████████████████████████████                        | 62/100 [00:06<00:03, 10.18it/s]"
     ]
    },
    {
     "name": "stdout",
     "output_type": "stream",
     "text": [
      "✔️ Processed: C:\\Users\\krish\\OneDrive\\Desktop\\Music Genre Classifier\\Genre Classifier Dataset\\genres\\disco\\disco.00060.au\n",
      "✔️ Processed: C:\\Users\\krish\\OneDrive\\Desktop\\Music Genre Classifier\\Genre Classifier Dataset\\genres\\disco\\disco.00061.au\n",
      "✔️ Processed: C:\\Users\\krish\\OneDrive\\Desktop\\Music Genre Classifier\\Genre Classifier Dataset\\genres\\disco\\disco.00062.au\n"
     ]
    },
    {
     "name": "stderr",
     "output_type": "stream",
     "text": [
      "Processing disco:  66%|█████████████████████████████████████████▌                     | 66/100 [00:07<00:03,  9.80it/s]"
     ]
    },
    {
     "name": "stdout",
     "output_type": "stream",
     "text": [
      "✔️ Processed: C:\\Users\\krish\\OneDrive\\Desktop\\Music Genre Classifier\\Genre Classifier Dataset\\genres\\disco\\disco.00063.au\n",
      "✔️ Processed: C:\\Users\\krish\\OneDrive\\Desktop\\Music Genre Classifier\\Genre Classifier Dataset\\genres\\disco\\disco.00064.au\n",
      "✔️ Processed: C:\\Users\\krish\\OneDrive\\Desktop\\Music Genre Classifier\\Genre Classifier Dataset\\genres\\disco\\disco.00065.au\n"
     ]
    },
    {
     "name": "stderr",
     "output_type": "stream",
     "text": [
      "Processing disco:  68%|██████████████████████████████████████████▊                    | 68/100 [00:07<00:03,  9.63it/s]"
     ]
    },
    {
     "name": "stdout",
     "output_type": "stream",
     "text": [
      "✔️ Processed: C:\\Users\\krish\\OneDrive\\Desktop\\Music Genre Classifier\\Genre Classifier Dataset\\genres\\disco\\disco.00066.au\n",
      "✔️ Processed: C:\\Users\\krish\\OneDrive\\Desktop\\Music Genre Classifier\\Genre Classifier Dataset\\genres\\disco\\disco.00067.au\n"
     ]
    },
    {
     "name": "stderr",
     "output_type": "stream",
     "text": [
      "Processing disco:  70%|████████████████████████████████████████████                   | 70/100 [00:07<00:03,  9.42it/s]"
     ]
    },
    {
     "name": "stdout",
     "output_type": "stream",
     "text": [
      "✔️ Processed: C:\\Users\\krish\\OneDrive\\Desktop\\Music Genre Classifier\\Genre Classifier Dataset\\genres\\disco\\disco.00068.au\n",
      "✔️ Processed: C:\\Users\\krish\\OneDrive\\Desktop\\Music Genre Classifier\\Genre Classifier Dataset\\genres\\disco\\disco.00069.au\n",
      "✔️ Processed: C:\\Users\\krish\\OneDrive\\Desktop\\Music Genre Classifier\\Genre Classifier Dataset\\genres\\disco\\disco.00070.au\n"
     ]
    },
    {
     "name": "stderr",
     "output_type": "stream",
     "text": [
      "Processing disco:  73%|█████████████████████████████████████████████▉                 | 73/100 [00:07<00:02,  9.55it/s]"
     ]
    },
    {
     "name": "stdout",
     "output_type": "stream",
     "text": [
      "✔️ Processed: C:\\Users\\krish\\OneDrive\\Desktop\\Music Genre Classifier\\Genre Classifier Dataset\\genres\\disco\\disco.00071.au\n",
      "✔️ Processed: C:\\Users\\krish\\OneDrive\\Desktop\\Music Genre Classifier\\Genre Classifier Dataset\\genres\\disco\\disco.00072.au\n"
     ]
    },
    {
     "name": "stderr",
     "output_type": "stream",
     "text": [
      "Processing disco:  76%|███████████████████████████████████████████████▉               | 76/100 [00:08<00:02,  9.43it/s]"
     ]
    },
    {
     "name": "stdout",
     "output_type": "stream",
     "text": [
      "✔️ Processed: C:\\Users\\krish\\OneDrive\\Desktop\\Music Genre Classifier\\Genre Classifier Dataset\\genres\\disco\\disco.00073.au\n",
      "✔️ Processed: C:\\Users\\krish\\OneDrive\\Desktop\\Music Genre Classifier\\Genre Classifier Dataset\\genres\\disco\\disco.00074.au\n",
      "✔️ Processed: C:\\Users\\krish\\OneDrive\\Desktop\\Music Genre Classifier\\Genre Classifier Dataset\\genres\\disco\\disco.00075.au\n"
     ]
    },
    {
     "name": "stderr",
     "output_type": "stream",
     "text": [
      "Processing disco:  78%|█████████████████████████████████████████████████▏             | 78/100 [00:08<00:02,  9.33it/s]"
     ]
    },
    {
     "name": "stdout",
     "output_type": "stream",
     "text": [
      "✔️ Processed: C:\\Users\\krish\\OneDrive\\Desktop\\Music Genre Classifier\\Genre Classifier Dataset\\genres\\disco\\disco.00076.au\n",
      "✔️ Processed: C:\\Users\\krish\\OneDrive\\Desktop\\Music Genre Classifier\\Genre Classifier Dataset\\genres\\disco\\disco.00077.au\n"
     ]
    },
    {
     "name": "stderr",
     "output_type": "stream",
     "text": [
      "Processing disco:  81%|███████████████████████████████████████████████████            | 81/100 [00:08<00:02,  9.26it/s]"
     ]
    },
    {
     "name": "stdout",
     "output_type": "stream",
     "text": [
      "✔️ Processed: C:\\Users\\krish\\OneDrive\\Desktop\\Music Genre Classifier\\Genre Classifier Dataset\\genres\\disco\\disco.00078.au\n",
      "✔️ Processed: C:\\Users\\krish\\OneDrive\\Desktop\\Music Genre Classifier\\Genre Classifier Dataset\\genres\\disco\\disco.00079.au\n",
      "✔️ Processed: C:\\Users\\krish\\OneDrive\\Desktop\\Music Genre Classifier\\Genre Classifier Dataset\\genres\\disco\\disco.00080.au\n"
     ]
    },
    {
     "name": "stderr",
     "output_type": "stream",
     "text": [
      "Processing disco:  84%|████████████████████████████████████████████████████▉          | 84/100 [00:08<00:01,  9.22it/s]"
     ]
    },
    {
     "name": "stdout",
     "output_type": "stream",
     "text": [
      "✔️ Processed: C:\\Users\\krish\\OneDrive\\Desktop\\Music Genre Classifier\\Genre Classifier Dataset\\genres\\disco\\disco.00081.au\n",
      "✔️ Processed: C:\\Users\\krish\\OneDrive\\Desktop\\Music Genre Classifier\\Genre Classifier Dataset\\genres\\disco\\disco.00082.au\n",
      "✔️ Processed: C:\\Users\\krish\\OneDrive\\Desktop\\Music Genre Classifier\\Genre Classifier Dataset\\genres\\disco\\disco.00083.au\n"
     ]
    },
    {
     "name": "stderr",
     "output_type": "stream",
     "text": [
      "Processing disco:  86%|██████████████████████████████████████████████████████▏        | 86/100 [00:09<00:01,  9.22it/s]"
     ]
    },
    {
     "name": "stdout",
     "output_type": "stream",
     "text": [
      "✔️ Processed: C:\\Users\\krish\\OneDrive\\Desktop\\Music Genre Classifier\\Genre Classifier Dataset\\genres\\disco\\disco.00084.au\n",
      "✔️ Processed: C:\\Users\\krish\\OneDrive\\Desktop\\Music Genre Classifier\\Genre Classifier Dataset\\genres\\disco\\disco.00085.au\n"
     ]
    },
    {
     "name": "stderr",
     "output_type": "stream",
     "text": [
      "Processing disco:  88%|███████████████████████████████████████████████████████▍       | 88/100 [00:09<00:01,  8.99it/s]"
     ]
    },
    {
     "name": "stdout",
     "output_type": "stream",
     "text": [
      "✔️ Processed: C:\\Users\\krish\\OneDrive\\Desktop\\Music Genre Classifier\\Genre Classifier Dataset\\genres\\disco\\disco.00086.au\n",
      "✔️ Processed: C:\\Users\\krish\\OneDrive\\Desktop\\Music Genre Classifier\\Genre Classifier Dataset\\genres\\disco\\disco.00087.au\n"
     ]
    },
    {
     "name": "stderr",
     "output_type": "stream",
     "text": [
      "Processing disco:  90%|████████████████████████████████████████████████████████▋      | 90/100 [00:09<00:01,  8.61it/s]"
     ]
    },
    {
     "name": "stdout",
     "output_type": "stream",
     "text": [
      "✔️ Processed: C:\\Users\\krish\\OneDrive\\Desktop\\Music Genre Classifier\\Genre Classifier Dataset\\genres\\disco\\disco.00088.au\n",
      "✔️ Processed: C:\\Users\\krish\\OneDrive\\Desktop\\Music Genre Classifier\\Genre Classifier Dataset\\genres\\disco\\disco.00089.au\n"
     ]
    },
    {
     "name": "stderr",
     "output_type": "stream",
     "text": [
      "Processing disco:  92%|█████████████████████████████████████████████████████████▉     | 92/100 [00:09<00:00,  8.85it/s]"
     ]
    },
    {
     "name": "stdout",
     "output_type": "stream",
     "text": [
      "✔️ Processed: C:\\Users\\krish\\OneDrive\\Desktop\\Music Genre Classifier\\Genre Classifier Dataset\\genres\\disco\\disco.00090.au\n",
      "✔️ Processed: C:\\Users\\krish\\OneDrive\\Desktop\\Music Genre Classifier\\Genre Classifier Dataset\\genres\\disco\\disco.00091.au\n"
     ]
    },
    {
     "name": "stderr",
     "output_type": "stream",
     "text": [
      "Processing disco:  94%|███████████████████████████████████████████████████████████▏   | 94/100 [00:10<00:00,  8.81it/s]"
     ]
    },
    {
     "name": "stdout",
     "output_type": "stream",
     "text": [
      "✔️ Processed: C:\\Users\\krish\\OneDrive\\Desktop\\Music Genre Classifier\\Genre Classifier Dataset\\genres\\disco\\disco.00092.au\n",
      "✔️ Processed: C:\\Users\\krish\\OneDrive\\Desktop\\Music Genre Classifier\\Genre Classifier Dataset\\genres\\disco\\disco.00093.au\n"
     ]
    },
    {
     "name": "stderr",
     "output_type": "stream",
     "text": [
      "Processing disco:  96%|████████████████████████████████████████████████████████████▍  | 96/100 [00:10<00:00,  9.09it/s]"
     ]
    },
    {
     "name": "stdout",
     "output_type": "stream",
     "text": [
      "✔️ Processed: C:\\Users\\krish\\OneDrive\\Desktop\\Music Genre Classifier\\Genre Classifier Dataset\\genres\\disco\\disco.00094.au\n",
      "✔️ Processed: C:\\Users\\krish\\OneDrive\\Desktop\\Music Genre Classifier\\Genre Classifier Dataset\\genres\\disco\\disco.00095.au\n"
     ]
    },
    {
     "name": "stderr",
     "output_type": "stream",
     "text": [
      "Processing disco:  98%|█████████████████████████████████████████████████████████████▋ | 98/100 [00:10<00:00,  9.27it/s]"
     ]
    },
    {
     "name": "stdout",
     "output_type": "stream",
     "text": [
      "✔️ Processed: C:\\Users\\krish\\OneDrive\\Desktop\\Music Genre Classifier\\Genre Classifier Dataset\\genres\\disco\\disco.00096.au\n",
      "✔️ Processed: C:\\Users\\krish\\OneDrive\\Desktop\\Music Genre Classifier\\Genre Classifier Dataset\\genres\\disco\\disco.00097.au\n"
     ]
    },
    {
     "name": "stderr",
     "output_type": "stream",
     "text": [
      "Processing disco: 100%|██████████████████████████████████████████████████████████████| 100/100 [00:10<00:00,  9.28it/s]\n"
     ]
    },
    {
     "name": "stdout",
     "output_type": "stream",
     "text": [
      "✔️ Processed: C:\\Users\\krish\\OneDrive\\Desktop\\Music Genre Classifier\\Genre Classifier Dataset\\genres\\disco\\disco.00098.au\n",
      "✔️ Processed: C:\\Users\\krish\\OneDrive\\Desktop\\Music Genre Classifier\\Genre Classifier Dataset\\genres\\disco\\disco.00099.au\n"
     ]
    },
    {
     "name": "stderr",
     "output_type": "stream",
     "text": [
      "Processing hiphop:   3%|█▉                                                             | 3/100 [00:00<00:10,  9.40it/s]"
     ]
    },
    {
     "name": "stdout",
     "output_type": "stream",
     "text": [
      "✔️ Processed: C:\\Users\\krish\\OneDrive\\Desktop\\Music Genre Classifier\\Genre Classifier Dataset\\genres\\hiphop\\hiphop.00000.au\n",
      "✔️ Processed: C:\\Users\\krish\\OneDrive\\Desktop\\Music Genre Classifier\\Genre Classifier Dataset\\genres\\hiphop\\hiphop.00001.au\n",
      "✔️ Processed: C:\\Users\\krish\\OneDrive\\Desktop\\Music Genre Classifier\\Genre Classifier Dataset\\genres\\hiphop\\hiphop.00002.au\n"
     ]
    },
    {
     "name": "stderr",
     "output_type": "stream",
     "text": [
      "Processing hiphop:   6%|███▊                                                           | 6/100 [00:00<00:10,  9.34it/s]"
     ]
    },
    {
     "name": "stdout",
     "output_type": "stream",
     "text": [
      "✔️ Processed: C:\\Users\\krish\\OneDrive\\Desktop\\Music Genre Classifier\\Genre Classifier Dataset\\genres\\hiphop\\hiphop.00003.au\n",
      "✔️ Processed: C:\\Users\\krish\\OneDrive\\Desktop\\Music Genre Classifier\\Genre Classifier Dataset\\genres\\hiphop\\hiphop.00004.au\n",
      "✔️ Processed: C:\\Users\\krish\\OneDrive\\Desktop\\Music Genre Classifier\\Genre Classifier Dataset\\genres\\hiphop\\hiphop.00005.au\n"
     ]
    },
    {
     "name": "stderr",
     "output_type": "stream",
     "text": [
      "Processing hiphop:   8%|█████                                                          | 8/100 [00:00<00:09,  9.32it/s]"
     ]
    },
    {
     "name": "stdout",
     "output_type": "stream",
     "text": [
      "✔️ Processed: C:\\Users\\krish\\OneDrive\\Desktop\\Music Genre Classifier\\Genre Classifier Dataset\\genres\\hiphop\\hiphop.00006.au\n",
      "✔️ Processed: C:\\Users\\krish\\OneDrive\\Desktop\\Music Genre Classifier\\Genre Classifier Dataset\\genres\\hiphop\\hiphop.00007.au\n"
     ]
    },
    {
     "name": "stderr",
     "output_type": "stream",
     "text": [
      "Processing hiphop:  10%|██████▏                                                       | 10/100 [00:01<00:09,  9.37it/s]"
     ]
    },
    {
     "name": "stdout",
     "output_type": "stream",
     "text": [
      "✔️ Processed: C:\\Users\\krish\\OneDrive\\Desktop\\Music Genre Classifier\\Genre Classifier Dataset\\genres\\hiphop\\hiphop.00008.au\n",
      "✔️ Processed: C:\\Users\\krish\\OneDrive\\Desktop\\Music Genre Classifier\\Genre Classifier Dataset\\genres\\hiphop\\hiphop.00009.au\n"
     ]
    },
    {
     "name": "stderr",
     "output_type": "stream",
     "text": [
      "Processing hiphop:  12%|███████▍                                                      | 12/100 [00:01<00:09,  9.33it/s]"
     ]
    },
    {
     "name": "stdout",
     "output_type": "stream",
     "text": [
      "✔️ Processed: C:\\Users\\krish\\OneDrive\\Desktop\\Music Genre Classifier\\Genre Classifier Dataset\\genres\\hiphop\\hiphop.00010.au\n",
      "✔️ Processed: C:\\Users\\krish\\OneDrive\\Desktop\\Music Genre Classifier\\Genre Classifier Dataset\\genres\\hiphop\\hiphop.00011.au\n"
     ]
    },
    {
     "name": "stderr",
     "output_type": "stream",
     "text": [
      "Processing hiphop:  14%|████████▋                                                     | 14/100 [00:01<00:09,  9.34it/s]"
     ]
    },
    {
     "name": "stdout",
     "output_type": "stream",
     "text": [
      "✔️ Processed: C:\\Users\\krish\\OneDrive\\Desktop\\Music Genre Classifier\\Genre Classifier Dataset\\genres\\hiphop\\hiphop.00012.au\n",
      "✔️ Processed: C:\\Users\\krish\\OneDrive\\Desktop\\Music Genre Classifier\\Genre Classifier Dataset\\genres\\hiphop\\hiphop.00013.au\n"
     ]
    },
    {
     "name": "stderr",
     "output_type": "stream",
     "text": [
      "Processing hiphop:  17%|██████████▌                                                   | 17/100 [00:01<00:09,  9.19it/s]"
     ]
    },
    {
     "name": "stdout",
     "output_type": "stream",
     "text": [
      "✔️ Processed: C:\\Users\\krish\\OneDrive\\Desktop\\Music Genre Classifier\\Genre Classifier Dataset\\genres\\hiphop\\hiphop.00014.au\n",
      "✔️ Processed: C:\\Users\\krish\\OneDrive\\Desktop\\Music Genre Classifier\\Genre Classifier Dataset\\genres\\hiphop\\hiphop.00015.au\n",
      "✔️ Processed: C:\\Users\\krish\\OneDrive\\Desktop\\Music Genre Classifier\\Genre Classifier Dataset\\genres\\hiphop\\hiphop.00016.au\n"
     ]
    },
    {
     "name": "stderr",
     "output_type": "stream",
     "text": [
      "Processing hiphop:  20%|████████████▍                                                 | 20/100 [00:02<00:08,  9.67it/s]"
     ]
    },
    {
     "name": "stdout",
     "output_type": "stream",
     "text": [
      "✔️ Processed: C:\\Users\\krish\\OneDrive\\Desktop\\Music Genre Classifier\\Genre Classifier Dataset\\genres\\hiphop\\hiphop.00017.au\n",
      "✔️ Processed: C:\\Users\\krish\\OneDrive\\Desktop\\Music Genre Classifier\\Genre Classifier Dataset\\genres\\hiphop\\hiphop.00018.au\n",
      "✔️ Processed: C:\\Users\\krish\\OneDrive\\Desktop\\Music Genre Classifier\\Genre Classifier Dataset\\genres\\hiphop\\hiphop.00019.au\n"
     ]
    },
    {
     "name": "stderr",
     "output_type": "stream",
     "text": [
      "Processing hiphop:  22%|█████████████▋                                                | 22/100 [00:02<00:07,  9.80it/s]"
     ]
    },
    {
     "name": "stdout",
     "output_type": "stream",
     "text": [
      "✔️ Processed: C:\\Users\\krish\\OneDrive\\Desktop\\Music Genre Classifier\\Genre Classifier Dataset\\genres\\hiphop\\hiphop.00020.au\n",
      "✔️ Processed: C:\\Users\\krish\\OneDrive\\Desktop\\Music Genre Classifier\\Genre Classifier Dataset\\genres\\hiphop\\hiphop.00021.au\n",
      "✔️ Processed: C:\\Users\\krish\\OneDrive\\Desktop\\Music Genre Classifier\\Genre Classifier Dataset\\genres\\hiphop\\hiphop.00022.au\n"
     ]
    },
    {
     "name": "stderr",
     "output_type": "stream",
     "text": [
      "Processing hiphop:  25%|███████████████▌                                              | 25/100 [00:02<00:07,  9.69it/s]"
     ]
    },
    {
     "name": "stdout",
     "output_type": "stream",
     "text": [
      "✔️ Processed: C:\\Users\\krish\\OneDrive\\Desktop\\Music Genre Classifier\\Genre Classifier Dataset\\genres\\hiphop\\hiphop.00023.au\n",
      "✔️ Processed: C:\\Users\\krish\\OneDrive\\Desktop\\Music Genre Classifier\\Genre Classifier Dataset\\genres\\hiphop\\hiphop.00024.au\n"
     ]
    },
    {
     "name": "stderr",
     "output_type": "stream",
     "text": [
      "Processing hiphop:  27%|████████████████▋                                             | 27/100 [00:02<00:07,  9.39it/s]"
     ]
    },
    {
     "name": "stdout",
     "output_type": "stream",
     "text": [
      "✔️ Processed: C:\\Users\\krish\\OneDrive\\Desktop\\Music Genre Classifier\\Genre Classifier Dataset\\genres\\hiphop\\hiphop.00025.au\n",
      "✔️ Processed: C:\\Users\\krish\\OneDrive\\Desktop\\Music Genre Classifier\\Genre Classifier Dataset\\genres\\hiphop\\hiphop.00026.au\n"
     ]
    },
    {
     "name": "stderr",
     "output_type": "stream",
     "text": [
      "Processing hiphop:  29%|█████████████████▉                                            | 29/100 [00:03<00:07,  9.37it/s]"
     ]
    },
    {
     "name": "stdout",
     "output_type": "stream",
     "text": [
      "✔️ Processed: C:\\Users\\krish\\OneDrive\\Desktop\\Music Genre Classifier\\Genre Classifier Dataset\\genres\\hiphop\\hiphop.00027.au\n",
      "✔️ Processed: C:\\Users\\krish\\OneDrive\\Desktop\\Music Genre Classifier\\Genre Classifier Dataset\\genres\\hiphop\\hiphop.00028.au\n"
     ]
    },
    {
     "name": "stderr",
     "output_type": "stream",
     "text": [
      "Processing hiphop:  31%|███████████████████▏                                          | 31/100 [00:03<00:07,  9.17it/s]"
     ]
    },
    {
     "name": "stdout",
     "output_type": "stream",
     "text": [
      "✔️ Processed: C:\\Users\\krish\\OneDrive\\Desktop\\Music Genre Classifier\\Genre Classifier Dataset\\genres\\hiphop\\hiphop.00029.au\n",
      "✔️ Processed: C:\\Users\\krish\\OneDrive\\Desktop\\Music Genre Classifier\\Genre Classifier Dataset\\genres\\hiphop\\hiphop.00030.au\n"
     ]
    },
    {
     "name": "stderr",
     "output_type": "stream",
     "text": [
      "Processing hiphop:  33%|████████████████████▍                                         | 33/100 [00:03<00:07,  9.19it/s]"
     ]
    },
    {
     "name": "stdout",
     "output_type": "stream",
     "text": [
      "✔️ Processed: C:\\Users\\krish\\OneDrive\\Desktop\\Music Genre Classifier\\Genre Classifier Dataset\\genres\\hiphop\\hiphop.00031.au\n",
      "✔️ Processed: C:\\Users\\krish\\OneDrive\\Desktop\\Music Genre Classifier\\Genre Classifier Dataset\\genres\\hiphop\\hiphop.00032.au\n",
      "✔️ Processed: C:\\Users\\krish\\OneDrive\\Desktop\\Music Genre Classifier\\Genre Classifier Dataset\\genres\\hiphop\\hiphop.00033.au\n"
     ]
    },
    {
     "name": "stderr",
     "output_type": "stream",
     "text": [
      "Processing hiphop:  36%|██████████████████████▎                                       | 36/100 [00:03<00:06,  9.55it/s]"
     ]
    },
    {
     "name": "stdout",
     "output_type": "stream",
     "text": [
      "✔️ Processed: C:\\Users\\krish\\OneDrive\\Desktop\\Music Genre Classifier\\Genre Classifier Dataset\\genres\\hiphop\\hiphop.00034.au\n",
      "✔️ Processed: C:\\Users\\krish\\OneDrive\\Desktop\\Music Genre Classifier\\Genre Classifier Dataset\\genres\\hiphop\\hiphop.00035.au\n"
     ]
    },
    {
     "name": "stderr",
     "output_type": "stream",
     "text": [
      "Processing hiphop:  38%|███████████████████████▌                                      | 38/100 [00:04<00:06,  9.46it/s]"
     ]
    },
    {
     "name": "stdout",
     "output_type": "stream",
     "text": [
      "✔️ Processed: C:\\Users\\krish\\OneDrive\\Desktop\\Music Genre Classifier\\Genre Classifier Dataset\\genres\\hiphop\\hiphop.00036.au\n",
      "✔️ Processed: C:\\Users\\krish\\OneDrive\\Desktop\\Music Genre Classifier\\Genre Classifier Dataset\\genres\\hiphop\\hiphop.00037.au\n"
     ]
    },
    {
     "name": "stderr",
     "output_type": "stream",
     "text": [
      "Processing hiphop:  41%|█████████████████████████▍                                    | 41/100 [00:04<00:06,  9.29it/s]"
     ]
    },
    {
     "name": "stdout",
     "output_type": "stream",
     "text": [
      "✔️ Processed: C:\\Users\\krish\\OneDrive\\Desktop\\Music Genre Classifier\\Genre Classifier Dataset\\genres\\hiphop\\hiphop.00038.au\n",
      "✔️ Processed: C:\\Users\\krish\\OneDrive\\Desktop\\Music Genre Classifier\\Genre Classifier Dataset\\genres\\hiphop\\hiphop.00039.au\n",
      "✔️ Processed: C:\\Users\\krish\\OneDrive\\Desktop\\Music Genre Classifier\\Genre Classifier Dataset\\genres\\hiphop\\hiphop.00040.au\n"
     ]
    },
    {
     "name": "stderr",
     "output_type": "stream",
     "text": [
      "Processing hiphop:  43%|██████████████████████████▋                                   | 43/100 [00:04<00:06,  9.32it/s]"
     ]
    },
    {
     "name": "stdout",
     "output_type": "stream",
     "text": [
      "✔️ Processed: C:\\Users\\krish\\OneDrive\\Desktop\\Music Genre Classifier\\Genre Classifier Dataset\\genres\\hiphop\\hiphop.00041.au\n",
      "✔️ Processed: C:\\Users\\krish\\OneDrive\\Desktop\\Music Genre Classifier\\Genre Classifier Dataset\\genres\\hiphop\\hiphop.00042.au\n"
     ]
    },
    {
     "name": "stderr",
     "output_type": "stream",
     "text": [
      "Processing hiphop:  45%|███████████████████████████▉                                  | 45/100 [00:04<00:05,  9.40it/s]"
     ]
    },
    {
     "name": "stdout",
     "output_type": "stream",
     "text": [
      "✔️ Processed: C:\\Users\\krish\\OneDrive\\Desktop\\Music Genre Classifier\\Genre Classifier Dataset\\genres\\hiphop\\hiphop.00043.au\n",
      "✔️ Processed: C:\\Users\\krish\\OneDrive\\Desktop\\Music Genre Classifier\\Genre Classifier Dataset\\genres\\hiphop\\hiphop.00044.au\n"
     ]
    },
    {
     "name": "stderr",
     "output_type": "stream",
     "text": [
      "Processing hiphop:  48%|█████████████████████████████▊                                | 48/100 [00:05<00:05,  9.59it/s]"
     ]
    },
    {
     "name": "stdout",
     "output_type": "stream",
     "text": [
      "✔️ Processed: C:\\Users\\krish\\OneDrive\\Desktop\\Music Genre Classifier\\Genre Classifier Dataset\\genres\\hiphop\\hiphop.00045.au\n",
      "✔️ Processed: C:\\Users\\krish\\OneDrive\\Desktop\\Music Genre Classifier\\Genre Classifier Dataset\\genres\\hiphop\\hiphop.00046.au\n",
      "✔️ Processed: C:\\Users\\krish\\OneDrive\\Desktop\\Music Genre Classifier\\Genre Classifier Dataset\\genres\\hiphop\\hiphop.00047.au\n"
     ]
    },
    {
     "name": "stderr",
     "output_type": "stream",
     "text": [
      "Processing hiphop:  50%|███████████████████████████████                               | 50/100 [00:05<00:05,  9.56it/s]"
     ]
    },
    {
     "name": "stdout",
     "output_type": "stream",
     "text": [
      "✔️ Processed: C:\\Users\\krish\\OneDrive\\Desktop\\Music Genre Classifier\\Genre Classifier Dataset\\genres\\hiphop\\hiphop.00048.au\n",
      "✔️ Processed: C:\\Users\\krish\\OneDrive\\Desktop\\Music Genre Classifier\\Genre Classifier Dataset\\genres\\hiphop\\hiphop.00049.au\n"
     ]
    },
    {
     "name": "stderr",
     "output_type": "stream",
     "text": [
      "Processing hiphop:  53%|████████████████████████████████▊                             | 53/100 [00:05<00:04,  9.50it/s]"
     ]
    },
    {
     "name": "stdout",
     "output_type": "stream",
     "text": [
      "✔️ Processed: C:\\Users\\krish\\OneDrive\\Desktop\\Music Genre Classifier\\Genre Classifier Dataset\\genres\\hiphop\\hiphop.00050.au\n",
      "✔️ Processed: C:\\Users\\krish\\OneDrive\\Desktop\\Music Genre Classifier\\Genre Classifier Dataset\\genres\\hiphop\\hiphop.00051.au\n",
      "✔️ Processed: C:\\Users\\krish\\OneDrive\\Desktop\\Music Genre Classifier\\Genre Classifier Dataset\\genres\\hiphop\\hiphop.00052.au\n"
     ]
    },
    {
     "name": "stderr",
     "output_type": "stream",
     "text": [
      "Processing hiphop:  55%|██████████████████████████████████                            | 55/100 [00:05<00:04,  9.37it/s]"
     ]
    },
    {
     "name": "stdout",
     "output_type": "stream",
     "text": [
      "✔️ Processed: C:\\Users\\krish\\OneDrive\\Desktop\\Music Genre Classifier\\Genre Classifier Dataset\\genres\\hiphop\\hiphop.00053.au\n",
      "✔️ Processed: C:\\Users\\krish\\OneDrive\\Desktop\\Music Genre Classifier\\Genre Classifier Dataset\\genres\\hiphop\\hiphop.00054.au\n"
     ]
    },
    {
     "name": "stderr",
     "output_type": "stream",
     "text": [
      "Processing hiphop:  57%|███████████████████████████████████▎                          | 57/100 [00:06<00:04,  9.19it/s]"
     ]
    },
    {
     "name": "stdout",
     "output_type": "stream",
     "text": [
      "✔️ Processed: C:\\Users\\krish\\OneDrive\\Desktop\\Music Genre Classifier\\Genre Classifier Dataset\\genres\\hiphop\\hiphop.00055.au\n",
      "✔️ Processed: C:\\Users\\krish\\OneDrive\\Desktop\\Music Genre Classifier\\Genre Classifier Dataset\\genres\\hiphop\\hiphop.00056.au\n"
     ]
    },
    {
     "name": "stderr",
     "output_type": "stream",
     "text": [
      "Processing hiphop:  59%|████████████████████████████████████▌                         | 59/100 [00:06<00:04,  9.07it/s]"
     ]
    },
    {
     "name": "stdout",
     "output_type": "stream",
     "text": [
      "✔️ Processed: C:\\Users\\krish\\OneDrive\\Desktop\\Music Genre Classifier\\Genre Classifier Dataset\\genres\\hiphop\\hiphop.00057.au\n",
      "✔️ Processed: C:\\Users\\krish\\OneDrive\\Desktop\\Music Genre Classifier\\Genre Classifier Dataset\\genres\\hiphop\\hiphop.00058.au\n"
     ]
    },
    {
     "name": "stderr",
     "output_type": "stream",
     "text": [
      "Processing hiphop:  61%|█████████████████████████████████████▊                        | 61/100 [00:06<00:04,  8.92it/s]"
     ]
    },
    {
     "name": "stdout",
     "output_type": "stream",
     "text": [
      "✔️ Processed: C:\\Users\\krish\\OneDrive\\Desktop\\Music Genre Classifier\\Genre Classifier Dataset\\genres\\hiphop\\hiphop.00059.au\n",
      "✔️ Processed: C:\\Users\\krish\\OneDrive\\Desktop\\Music Genre Classifier\\Genre Classifier Dataset\\genres\\hiphop\\hiphop.00060.au\n"
     ]
    },
    {
     "name": "stderr",
     "output_type": "stream",
     "text": [
      "Processing hiphop:  63%|███████████████████████████████████████                       | 63/100 [00:06<00:04,  9.10it/s]"
     ]
    },
    {
     "name": "stdout",
     "output_type": "stream",
     "text": [
      "✔️ Processed: C:\\Users\\krish\\OneDrive\\Desktop\\Music Genre Classifier\\Genre Classifier Dataset\\genres\\hiphop\\hiphop.00061.au\n",
      "✔️ Processed: C:\\Users\\krish\\OneDrive\\Desktop\\Music Genre Classifier\\Genre Classifier Dataset\\genres\\hiphop\\hiphop.00062.au\n"
     ]
    },
    {
     "name": "stderr",
     "output_type": "stream",
     "text": [
      "Processing hiphop:  65%|████████████████████████████████████████▎                     | 65/100 [00:06<00:03,  8.98it/s]"
     ]
    },
    {
     "name": "stdout",
     "output_type": "stream",
     "text": [
      "✔️ Processed: C:\\Users\\krish\\OneDrive\\Desktop\\Music Genre Classifier\\Genre Classifier Dataset\\genres\\hiphop\\hiphop.00063.au\n",
      "✔️ Processed: C:\\Users\\krish\\OneDrive\\Desktop\\Music Genre Classifier\\Genre Classifier Dataset\\genres\\hiphop\\hiphop.00064.au\n"
     ]
    },
    {
     "name": "stderr",
     "output_type": "stream",
     "text": [
      "Processing hiphop:  67%|█████████████████████████████████████████▌                    | 67/100 [00:07<00:03,  9.08it/s]"
     ]
    },
    {
     "name": "stdout",
     "output_type": "stream",
     "text": [
      "✔️ Processed: C:\\Users\\krish\\OneDrive\\Desktop\\Music Genre Classifier\\Genre Classifier Dataset\\genres\\hiphop\\hiphop.00065.au\n",
      "✔️ Processed: C:\\Users\\krish\\OneDrive\\Desktop\\Music Genre Classifier\\Genre Classifier Dataset\\genres\\hiphop\\hiphop.00066.au\n"
     ]
    },
    {
     "name": "stderr",
     "output_type": "stream",
     "text": [
      "Processing hiphop:  69%|██████████████████████████████████████████▊                   | 69/100 [00:07<00:03,  9.17it/s]"
     ]
    },
    {
     "name": "stdout",
     "output_type": "stream",
     "text": [
      "✔️ Processed: C:\\Users\\krish\\OneDrive\\Desktop\\Music Genre Classifier\\Genre Classifier Dataset\\genres\\hiphop\\hiphop.00067.au\n",
      "✔️ Processed: C:\\Users\\krish\\OneDrive\\Desktop\\Music Genre Classifier\\Genre Classifier Dataset\\genres\\hiphop\\hiphop.00068.au\n"
     ]
    },
    {
     "name": "stderr",
     "output_type": "stream",
     "text": [
      "Processing hiphop:  71%|████████████████████████████████████████████                  | 71/100 [00:07<00:03,  9.21it/s]"
     ]
    },
    {
     "name": "stdout",
     "output_type": "stream",
     "text": [
      "✔️ Processed: C:\\Users\\krish\\OneDrive\\Desktop\\Music Genre Classifier\\Genre Classifier Dataset\\genres\\hiphop\\hiphop.00069.au\n",
      "✔️ Processed: C:\\Users\\krish\\OneDrive\\Desktop\\Music Genre Classifier\\Genre Classifier Dataset\\genres\\hiphop\\hiphop.00070.au\n"
     ]
    },
    {
     "name": "stderr",
     "output_type": "stream",
     "text": [
      "Processing hiphop:  73%|█████████████████████████████████████████████▎                | 73/100 [00:07<00:02,  9.15it/s]"
     ]
    },
    {
     "name": "stdout",
     "output_type": "stream",
     "text": [
      "✔️ Processed: C:\\Users\\krish\\OneDrive\\Desktop\\Music Genre Classifier\\Genre Classifier Dataset\\genres\\hiphop\\hiphop.00071.au\n",
      "✔️ Processed: C:\\Users\\krish\\OneDrive\\Desktop\\Music Genre Classifier\\Genre Classifier Dataset\\genres\\hiphop\\hiphop.00072.au\n"
     ]
    },
    {
     "name": "stderr",
     "output_type": "stream",
     "text": [
      "Processing hiphop:  75%|██████████████████████████████████████████████▌               | 75/100 [00:08<00:02,  9.12it/s]"
     ]
    },
    {
     "name": "stdout",
     "output_type": "stream",
     "text": [
      "✔️ Processed: C:\\Users\\krish\\OneDrive\\Desktop\\Music Genre Classifier\\Genre Classifier Dataset\\genres\\hiphop\\hiphop.00073.au\n",
      "✔️ Processed: C:\\Users\\krish\\OneDrive\\Desktop\\Music Genre Classifier\\Genre Classifier Dataset\\genres\\hiphop\\hiphop.00074.au\n"
     ]
    },
    {
     "name": "stderr",
     "output_type": "stream",
     "text": [
      "Processing hiphop:  77%|███████████████████████████████████████████████▋              | 77/100 [00:08<00:02,  9.05it/s]"
     ]
    },
    {
     "name": "stdout",
     "output_type": "stream",
     "text": [
      "✔️ Processed: C:\\Users\\krish\\OneDrive\\Desktop\\Music Genre Classifier\\Genre Classifier Dataset\\genres\\hiphop\\hiphop.00075.au\n",
      "✔️ Processed: C:\\Users\\krish\\OneDrive\\Desktop\\Music Genre Classifier\\Genre Classifier Dataset\\genres\\hiphop\\hiphop.00076.au\n"
     ]
    },
    {
     "name": "stderr",
     "output_type": "stream",
     "text": [
      "Processing hiphop:  79%|████████████████████████████████████████████████▉             | 79/100 [00:08<00:02,  8.88it/s]"
     ]
    },
    {
     "name": "stdout",
     "output_type": "stream",
     "text": [
      "✔️ Processed: C:\\Users\\krish\\OneDrive\\Desktop\\Music Genre Classifier\\Genre Classifier Dataset\\genres\\hiphop\\hiphop.00077.au\n",
      "✔️ Processed: C:\\Users\\krish\\OneDrive\\Desktop\\Music Genre Classifier\\Genre Classifier Dataset\\genres\\hiphop\\hiphop.00078.au\n"
     ]
    },
    {
     "name": "stderr",
     "output_type": "stream",
     "text": [
      "Processing hiphop:  82%|██████████████████████████████████████████████████▊           | 82/100 [00:08<00:02,  8.91it/s]"
     ]
    },
    {
     "name": "stdout",
     "output_type": "stream",
     "text": [
      "✔️ Processed: C:\\Users\\krish\\OneDrive\\Desktop\\Music Genre Classifier\\Genre Classifier Dataset\\genres\\hiphop\\hiphop.00079.au\n",
      "✔️ Processed: C:\\Users\\krish\\OneDrive\\Desktop\\Music Genre Classifier\\Genre Classifier Dataset\\genres\\hiphop\\hiphop.00080.au\n",
      "✔️ Processed: C:\\Users\\krish\\OneDrive\\Desktop\\Music Genre Classifier\\Genre Classifier Dataset\\genres\\hiphop\\hiphop.00081.au\n"
     ]
    },
    {
     "name": "stderr",
     "output_type": "stream",
     "text": [
      "Processing hiphop:  84%|████████████████████████████████████████████████████          | 84/100 [00:09<00:01,  9.16it/s]"
     ]
    },
    {
     "name": "stdout",
     "output_type": "stream",
     "text": [
      "✔️ Processed: C:\\Users\\krish\\OneDrive\\Desktop\\Music Genre Classifier\\Genre Classifier Dataset\\genres\\hiphop\\hiphop.00082.au\n",
      "✔️ Processed: C:\\Users\\krish\\OneDrive\\Desktop\\Music Genre Classifier\\Genre Classifier Dataset\\genres\\hiphop\\hiphop.00083.au\n"
     ]
    },
    {
     "name": "stderr",
     "output_type": "stream",
     "text": [
      "Processing hiphop:  86%|█████████████████████████████████████████████████████▎        | 86/100 [00:09<00:01,  9.03it/s]"
     ]
    },
    {
     "name": "stdout",
     "output_type": "stream",
     "text": [
      "✔️ Processed: C:\\Users\\krish\\OneDrive\\Desktop\\Music Genre Classifier\\Genre Classifier Dataset\\genres\\hiphop\\hiphop.00084.au\n",
      "✔️ Processed: C:\\Users\\krish\\OneDrive\\Desktop\\Music Genre Classifier\\Genre Classifier Dataset\\genres\\hiphop\\hiphop.00085.au\n"
     ]
    },
    {
     "name": "stderr",
     "output_type": "stream",
     "text": [
      "Processing hiphop:  88%|██████████████████████████████████████████████████████▌       | 88/100 [00:09<00:01,  8.99it/s]"
     ]
    },
    {
     "name": "stdout",
     "output_type": "stream",
     "text": [
      "✔️ Processed: C:\\Users\\krish\\OneDrive\\Desktop\\Music Genre Classifier\\Genre Classifier Dataset\\genres\\hiphop\\hiphop.00086.au\n",
      "✔️ Processed: C:\\Users\\krish\\OneDrive\\Desktop\\Music Genre Classifier\\Genre Classifier Dataset\\genres\\hiphop\\hiphop.00087.au\n"
     ]
    },
    {
     "name": "stderr",
     "output_type": "stream",
     "text": [
      "Processing hiphop:  90%|███████████████████████████████████████████████████████▊      | 90/100 [00:09<00:01,  9.20it/s]"
     ]
    },
    {
     "name": "stdout",
     "output_type": "stream",
     "text": [
      "✔️ Processed: C:\\Users\\krish\\OneDrive\\Desktop\\Music Genre Classifier\\Genre Classifier Dataset\\genres\\hiphop\\hiphop.00088.au\n",
      "✔️ Processed: C:\\Users\\krish\\OneDrive\\Desktop\\Music Genre Classifier\\Genre Classifier Dataset\\genres\\hiphop\\hiphop.00089.au\n"
     ]
    },
    {
     "name": "stderr",
     "output_type": "stream",
     "text": [
      "Processing hiphop:  92%|█████████████████████████████████████████████████████████     | 92/100 [00:09<00:00,  9.08it/s]"
     ]
    },
    {
     "name": "stdout",
     "output_type": "stream",
     "text": [
      "✔️ Processed: C:\\Users\\krish\\OneDrive\\Desktop\\Music Genre Classifier\\Genre Classifier Dataset\\genres\\hiphop\\hiphop.00090.au\n",
      "✔️ Processed: C:\\Users\\krish\\OneDrive\\Desktop\\Music Genre Classifier\\Genre Classifier Dataset\\genres\\hiphop\\hiphop.00091.au\n"
     ]
    },
    {
     "name": "stderr",
     "output_type": "stream",
     "text": [
      "Processing hiphop:  94%|██████████████████████████████████████████████████████████▎   | 94/100 [00:10<00:00,  9.09it/s]"
     ]
    },
    {
     "name": "stdout",
     "output_type": "stream",
     "text": [
      "✔️ Processed: C:\\Users\\krish\\OneDrive\\Desktop\\Music Genre Classifier\\Genre Classifier Dataset\\genres\\hiphop\\hiphop.00092.au\n",
      "✔️ Processed: C:\\Users\\krish\\OneDrive\\Desktop\\Music Genre Classifier\\Genre Classifier Dataset\\genres\\hiphop\\hiphop.00093.au\n"
     ]
    },
    {
     "name": "stderr",
     "output_type": "stream",
     "text": [
      "Processing hiphop:  96%|███████████████████████████████████████████████████████████▌  | 96/100 [00:10<00:00,  9.21it/s]"
     ]
    },
    {
     "name": "stdout",
     "output_type": "stream",
     "text": [
      "✔️ Processed: C:\\Users\\krish\\OneDrive\\Desktop\\Music Genre Classifier\\Genre Classifier Dataset\\genres\\hiphop\\hiphop.00094.au\n",
      "✔️ Processed: C:\\Users\\krish\\OneDrive\\Desktop\\Music Genre Classifier\\Genre Classifier Dataset\\genres\\hiphop\\hiphop.00095.au\n"
     ]
    },
    {
     "name": "stderr",
     "output_type": "stream",
     "text": [
      "Processing hiphop:  98%|████████████████████████████████████████████████████████████▊ | 98/100 [00:10<00:00,  9.15it/s]"
     ]
    },
    {
     "name": "stdout",
     "output_type": "stream",
     "text": [
      "✔️ Processed: C:\\Users\\krish\\OneDrive\\Desktop\\Music Genre Classifier\\Genre Classifier Dataset\\genres\\hiphop\\hiphop.00096.au\n",
      "✔️ Processed: C:\\Users\\krish\\OneDrive\\Desktop\\Music Genre Classifier\\Genre Classifier Dataset\\genres\\hiphop\\hiphop.00097.au\n"
     ]
    },
    {
     "name": "stderr",
     "output_type": "stream",
     "text": [
      "Processing hiphop: 100%|█████████████████████████████████████████████████████████████| 100/100 [00:10<00:00,  9.24it/s]\n"
     ]
    },
    {
     "name": "stdout",
     "output_type": "stream",
     "text": [
      "✔️ Processed: C:\\Users\\krish\\OneDrive\\Desktop\\Music Genre Classifier\\Genre Classifier Dataset\\genres\\hiphop\\hiphop.00098.au\n",
      "✔️ Processed: C:\\Users\\krish\\OneDrive\\Desktop\\Music Genre Classifier\\Genre Classifier Dataset\\genres\\hiphop\\hiphop.00099.au\n"
     ]
    },
    {
     "name": "stderr",
     "output_type": "stream",
     "text": [
      "Processing jazz:   2%|█▎                                                               | 2/100 [00:00<00:10,  8.94it/s]"
     ]
    },
    {
     "name": "stdout",
     "output_type": "stream",
     "text": [
      "✔️ Processed: C:\\Users\\krish\\OneDrive\\Desktop\\Music Genre Classifier\\Genre Classifier Dataset\\genres\\jazz\\jazz.00000.au\n",
      "✔️ Processed: C:\\Users\\krish\\OneDrive\\Desktop\\Music Genre Classifier\\Genre Classifier Dataset\\genres\\jazz\\jazz.00001.au\n"
     ]
    },
    {
     "name": "stderr",
     "output_type": "stream",
     "text": [
      "Processing jazz:   4%|██▌                                                              | 4/100 [00:00<00:10,  8.95it/s]"
     ]
    },
    {
     "name": "stdout",
     "output_type": "stream",
     "text": [
      "✔️ Processed: C:\\Users\\krish\\OneDrive\\Desktop\\Music Genre Classifier\\Genre Classifier Dataset\\genres\\jazz\\jazz.00002.au\n",
      "✔️ Processed: C:\\Users\\krish\\OneDrive\\Desktop\\Music Genre Classifier\\Genre Classifier Dataset\\genres\\jazz\\jazz.00003.au\n"
     ]
    },
    {
     "name": "stderr",
     "output_type": "stream",
     "text": [
      "Processing jazz:   6%|███▉                                                             | 6/100 [00:00<00:10,  8.92it/s]"
     ]
    },
    {
     "name": "stdout",
     "output_type": "stream",
     "text": [
      "✔️ Processed: C:\\Users\\krish\\OneDrive\\Desktop\\Music Genre Classifier\\Genre Classifier Dataset\\genres\\jazz\\jazz.00004.au\n",
      "✔️ Processed: C:\\Users\\krish\\OneDrive\\Desktop\\Music Genre Classifier\\Genre Classifier Dataset\\genres\\jazz\\jazz.00005.au\n"
     ]
    },
    {
     "name": "stderr",
     "output_type": "stream",
     "text": [
      "Processing jazz:   8%|█████▏                                                           | 8/100 [00:00<00:10,  9.09it/s]"
     ]
    },
    {
     "name": "stdout",
     "output_type": "stream",
     "text": [
      "✔️ Processed: C:\\Users\\krish\\OneDrive\\Desktop\\Music Genre Classifier\\Genre Classifier Dataset\\genres\\jazz\\jazz.00006.au\n",
      "✔️ Processed: C:\\Users\\krish\\OneDrive\\Desktop\\Music Genre Classifier\\Genre Classifier Dataset\\genres\\jazz\\jazz.00007.au\n"
     ]
    },
    {
     "name": "stderr",
     "output_type": "stream",
     "text": [
      "Processing jazz:  10%|██████▍                                                         | 10/100 [00:01<00:09,  9.29it/s]"
     ]
    },
    {
     "name": "stdout",
     "output_type": "stream",
     "text": [
      "✔️ Processed: C:\\Users\\krish\\OneDrive\\Desktop\\Music Genre Classifier\\Genre Classifier Dataset\\genres\\jazz\\jazz.00008.au\n",
      "✔️ Processed: C:\\Users\\krish\\OneDrive\\Desktop\\Music Genre Classifier\\Genre Classifier Dataset\\genres\\jazz\\jazz.00009.au\n"
     ]
    },
    {
     "name": "stderr",
     "output_type": "stream",
     "text": [
      "Processing jazz:  12%|███████▋                                                        | 12/100 [00:01<00:09,  9.23it/s]"
     ]
    },
    {
     "name": "stdout",
     "output_type": "stream",
     "text": [
      "✔️ Processed: C:\\Users\\krish\\OneDrive\\Desktop\\Music Genre Classifier\\Genre Classifier Dataset\\genres\\jazz\\jazz.00010.au\n",
      "✔️ Processed: C:\\Users\\krish\\OneDrive\\Desktop\\Music Genre Classifier\\Genre Classifier Dataset\\genres\\jazz\\jazz.00011.au\n"
     ]
    },
    {
     "name": "stderr",
     "output_type": "stream",
     "text": [
      "Processing jazz:  14%|████████▉                                                       | 14/100 [00:01<00:09,  8.93it/s]"
     ]
    },
    {
     "name": "stdout",
     "output_type": "stream",
     "text": [
      "✔️ Processed: C:\\Users\\krish\\OneDrive\\Desktop\\Music Genre Classifier\\Genre Classifier Dataset\\genres\\jazz\\jazz.00012.au\n",
      "✔️ Processed: C:\\Users\\krish\\OneDrive\\Desktop\\Music Genre Classifier\\Genre Classifier Dataset\\genres\\jazz\\jazz.00013.au\n"
     ]
    },
    {
     "name": "stderr",
     "output_type": "stream",
     "text": [
      "Processing jazz:  17%|██████████▉                                                     | 17/100 [00:01<00:09,  9.02it/s]"
     ]
    },
    {
     "name": "stdout",
     "output_type": "stream",
     "text": [
      "✔️ Processed: C:\\Users\\krish\\OneDrive\\Desktop\\Music Genre Classifier\\Genre Classifier Dataset\\genres\\jazz\\jazz.00014.au\n",
      "✔️ Processed: C:\\Users\\krish\\OneDrive\\Desktop\\Music Genre Classifier\\Genre Classifier Dataset\\genres\\jazz\\jazz.00015.au\n",
      "✔️ Processed: C:\\Users\\krish\\OneDrive\\Desktop\\Music Genre Classifier\\Genre Classifier Dataset\\genres\\jazz\\jazz.00016.au\n"
     ]
    },
    {
     "name": "stderr",
     "output_type": "stream",
     "text": [
      "Processing jazz:  19%|████████████▏                                                   | 19/100 [00:02<00:09,  8.98it/s]"
     ]
    },
    {
     "name": "stdout",
     "output_type": "stream",
     "text": [
      "✔️ Processed: C:\\Users\\krish\\OneDrive\\Desktop\\Music Genre Classifier\\Genre Classifier Dataset\\genres\\jazz\\jazz.00017.au\n",
      "✔️ Processed: C:\\Users\\krish\\OneDrive\\Desktop\\Music Genre Classifier\\Genre Classifier Dataset\\genres\\jazz\\jazz.00018.au\n"
     ]
    },
    {
     "name": "stderr",
     "output_type": "stream",
     "text": [
      "Processing jazz:  21%|█████████████▍                                                  | 21/100 [00:02<00:08,  9.06it/s]"
     ]
    },
    {
     "name": "stdout",
     "output_type": "stream",
     "text": [
      "✔️ Processed: C:\\Users\\krish\\OneDrive\\Desktop\\Music Genre Classifier\\Genre Classifier Dataset\\genres\\jazz\\jazz.00019.au\n",
      "✔️ Processed: C:\\Users\\krish\\OneDrive\\Desktop\\Music Genre Classifier\\Genre Classifier Dataset\\genres\\jazz\\jazz.00020.au\n"
     ]
    },
    {
     "name": "stderr",
     "output_type": "stream",
     "text": [
      "Processing jazz:  23%|██████████████▋                                                 | 23/100 [00:02<00:08,  9.15it/s]"
     ]
    },
    {
     "name": "stdout",
     "output_type": "stream",
     "text": [
      "✔️ Processed: C:\\Users\\krish\\OneDrive\\Desktop\\Music Genre Classifier\\Genre Classifier Dataset\\genres\\jazz\\jazz.00021.au\n",
      "✔️ Processed: C:\\Users\\krish\\OneDrive\\Desktop\\Music Genre Classifier\\Genre Classifier Dataset\\genres\\jazz\\jazz.00022.au\n"
     ]
    },
    {
     "name": "stderr",
     "output_type": "stream",
     "text": [
      "Processing jazz:  25%|████████████████                                                | 25/100 [00:02<00:08,  9.12it/s]"
     ]
    },
    {
     "name": "stdout",
     "output_type": "stream",
     "text": [
      "✔️ Processed: C:\\Users\\krish\\OneDrive\\Desktop\\Music Genre Classifier\\Genre Classifier Dataset\\genres\\jazz\\jazz.00023.au\n",
      "✔️ Processed: C:\\Users\\krish\\OneDrive\\Desktop\\Music Genre Classifier\\Genre Classifier Dataset\\genres\\jazz\\jazz.00024.au\n"
     ]
    },
    {
     "name": "stderr",
     "output_type": "stream",
     "text": [
      "Processing jazz:  27%|█████████████████▎                                              | 27/100 [00:02<00:08,  8.96it/s]"
     ]
    },
    {
     "name": "stdout",
     "output_type": "stream",
     "text": [
      "✔️ Processed: C:\\Users\\krish\\OneDrive\\Desktop\\Music Genre Classifier\\Genre Classifier Dataset\\genres\\jazz\\jazz.00025.au\n",
      "✔️ Processed: C:\\Users\\krish\\OneDrive\\Desktop\\Music Genre Classifier\\Genre Classifier Dataset\\genres\\jazz\\jazz.00026.au\n"
     ]
    },
    {
     "name": "stderr",
     "output_type": "stream",
     "text": [
      "Processing jazz:  29%|██████████████████▌                                             | 29/100 [00:03<00:07,  8.97it/s]"
     ]
    },
    {
     "name": "stdout",
     "output_type": "stream",
     "text": [
      "✔️ Processed: C:\\Users\\krish\\OneDrive\\Desktop\\Music Genre Classifier\\Genre Classifier Dataset\\genres\\jazz\\jazz.00027.au\n",
      "✔️ Processed: C:\\Users\\krish\\OneDrive\\Desktop\\Music Genre Classifier\\Genre Classifier Dataset\\genres\\jazz\\jazz.00028.au\n"
     ]
    },
    {
     "name": "stderr",
     "output_type": "stream",
     "text": [
      "Processing jazz:  31%|███████████████████▊                                            | 31/100 [00:03<00:07,  8.98it/s]"
     ]
    },
    {
     "name": "stdout",
     "output_type": "stream",
     "text": [
      "✔️ Processed: C:\\Users\\krish\\OneDrive\\Desktop\\Music Genre Classifier\\Genre Classifier Dataset\\genres\\jazz\\jazz.00029.au\n",
      "✔️ Processed: C:\\Users\\krish\\OneDrive\\Desktop\\Music Genre Classifier\\Genre Classifier Dataset\\genres\\jazz\\jazz.00030.au\n"
     ]
    },
    {
     "name": "stderr",
     "output_type": "stream",
     "text": [
      "Processing jazz:  34%|█████████████████████▊                                          | 34/100 [00:03<00:07,  9.24it/s]"
     ]
    },
    {
     "name": "stdout",
     "output_type": "stream",
     "text": [
      "✔️ Processed: C:\\Users\\krish\\OneDrive\\Desktop\\Music Genre Classifier\\Genre Classifier Dataset\\genres\\jazz\\jazz.00031.au\n",
      "✔️ Processed: C:\\Users\\krish\\OneDrive\\Desktop\\Music Genre Classifier\\Genre Classifier Dataset\\genres\\jazz\\jazz.00032.au\n",
      "✔️ Processed: C:\\Users\\krish\\OneDrive\\Desktop\\Music Genre Classifier\\Genre Classifier Dataset\\genres\\jazz\\jazz.00033.au\n"
     ]
    },
    {
     "name": "stderr",
     "output_type": "stream",
     "text": [
      "Processing jazz:  37%|███████████████████████▋                                        | 37/100 [00:04<00:06,  9.41it/s]"
     ]
    },
    {
     "name": "stdout",
     "output_type": "stream",
     "text": [
      "✔️ Processed: C:\\Users\\krish\\OneDrive\\Desktop\\Music Genre Classifier\\Genre Classifier Dataset\\genres\\jazz\\jazz.00034.au\n",
      "✔️ Processed: C:\\Users\\krish\\OneDrive\\Desktop\\Music Genre Classifier\\Genre Classifier Dataset\\genres\\jazz\\jazz.00035.au\n",
      "✔️ Processed: C:\\Users\\krish\\OneDrive\\Desktop\\Music Genre Classifier\\Genre Classifier Dataset\\genres\\jazz\\jazz.00036.au\n"
     ]
    },
    {
     "name": "stderr",
     "output_type": "stream",
     "text": [
      "Processing jazz:  39%|████████████████████████▉                                       | 39/100 [00:04<00:06,  9.35it/s]"
     ]
    },
    {
     "name": "stdout",
     "output_type": "stream",
     "text": [
      "✔️ Processed: C:\\Users\\krish\\OneDrive\\Desktop\\Music Genre Classifier\\Genre Classifier Dataset\\genres\\jazz\\jazz.00037.au\n",
      "✔️ Processed: C:\\Users\\krish\\OneDrive\\Desktop\\Music Genre Classifier\\Genre Classifier Dataset\\genres\\jazz\\jazz.00038.au\n"
     ]
    },
    {
     "name": "stderr",
     "output_type": "stream",
     "text": [
      "Processing jazz:  41%|██████████████████████████▏                                     | 41/100 [00:04<00:06,  9.17it/s]"
     ]
    },
    {
     "name": "stdout",
     "output_type": "stream",
     "text": [
      "✔️ Processed: C:\\Users\\krish\\OneDrive\\Desktop\\Music Genre Classifier\\Genre Classifier Dataset\\genres\\jazz\\jazz.00039.au\n",
      "✔️ Processed: C:\\Users\\krish\\OneDrive\\Desktop\\Music Genre Classifier\\Genre Classifier Dataset\\genres\\jazz\\jazz.00040.au\n"
     ]
    },
    {
     "name": "stderr",
     "output_type": "stream",
     "text": [
      "Processing jazz:  43%|███████████████████████████▌                                    | 43/100 [00:04<00:06,  8.90it/s]"
     ]
    },
    {
     "name": "stdout",
     "output_type": "stream",
     "text": [
      "✔️ Processed: C:\\Users\\krish\\OneDrive\\Desktop\\Music Genre Classifier\\Genre Classifier Dataset\\genres\\jazz\\jazz.00041.au\n",
      "✔️ Processed: C:\\Users\\krish\\OneDrive\\Desktop\\Music Genre Classifier\\Genre Classifier Dataset\\genres\\jazz\\jazz.00042.au\n"
     ]
    },
    {
     "name": "stderr",
     "output_type": "stream",
     "text": [
      "Processing jazz:  45%|████████████████████████████▊                                   | 45/100 [00:04<00:06,  8.95it/s]"
     ]
    },
    {
     "name": "stdout",
     "output_type": "stream",
     "text": [
      "✔️ Processed: C:\\Users\\krish\\OneDrive\\Desktop\\Music Genre Classifier\\Genre Classifier Dataset\\genres\\jazz\\jazz.00043.au\n",
      "✔️ Processed: C:\\Users\\krish\\OneDrive\\Desktop\\Music Genre Classifier\\Genre Classifier Dataset\\genres\\jazz\\jazz.00044.au\n"
     ]
    },
    {
     "name": "stderr",
     "output_type": "stream",
     "text": [
      "Processing jazz:  47%|██████████████████████████████                                  | 47/100 [00:05<00:05,  9.08it/s]"
     ]
    },
    {
     "name": "stdout",
     "output_type": "stream",
     "text": [
      "✔️ Processed: C:\\Users\\krish\\OneDrive\\Desktop\\Music Genre Classifier\\Genre Classifier Dataset\\genres\\jazz\\jazz.00045.au\n",
      "✔️ Processed: C:\\Users\\krish\\OneDrive\\Desktop\\Music Genre Classifier\\Genre Classifier Dataset\\genres\\jazz\\jazz.00046.au\n"
     ]
    },
    {
     "name": "stderr",
     "output_type": "stream",
     "text": [
      "Processing jazz:  49%|███████████████████████████████▎                                | 49/100 [00:05<00:05,  9.11it/s]"
     ]
    },
    {
     "name": "stdout",
     "output_type": "stream",
     "text": [
      "✔️ Processed: C:\\Users\\krish\\OneDrive\\Desktop\\Music Genre Classifier\\Genre Classifier Dataset\\genres\\jazz\\jazz.00047.au\n",
      "✔️ Processed: C:\\Users\\krish\\OneDrive\\Desktop\\Music Genre Classifier\\Genre Classifier Dataset\\genres\\jazz\\jazz.00048.au\n"
     ]
    },
    {
     "name": "stderr",
     "output_type": "stream",
     "text": [
      "Processing jazz:  51%|████████████████████████████████▋                               | 51/100 [00:05<00:05,  8.94it/s]"
     ]
    },
    {
     "name": "stdout",
     "output_type": "stream",
     "text": [
      "✔️ Processed: C:\\Users\\krish\\OneDrive\\Desktop\\Music Genre Classifier\\Genre Classifier Dataset\\genres\\jazz\\jazz.00049.au\n",
      "✔️ Processed: C:\\Users\\krish\\OneDrive\\Desktop\\Music Genre Classifier\\Genre Classifier Dataset\\genres\\jazz\\jazz.00050.au\n"
     ]
    },
    {
     "name": "stderr",
     "output_type": "stream",
     "text": [
      "Processing jazz:  53%|█████████████████████████████████▉                              | 53/100 [00:05<00:05,  8.96it/s]"
     ]
    },
    {
     "name": "stdout",
     "output_type": "stream",
     "text": [
      "✔️ Processed: C:\\Users\\krish\\OneDrive\\Desktop\\Music Genre Classifier\\Genre Classifier Dataset\\genres\\jazz\\jazz.00051.au\n",
      "✔️ Processed: C:\\Users\\krish\\OneDrive\\Desktop\\Music Genre Classifier\\Genre Classifier Dataset\\genres\\jazz\\jazz.00052.au\n"
     ]
    },
    {
     "name": "stderr",
     "output_type": "stream",
     "text": [
      "Processing jazz:  55%|███████████████████████████████████▏                            | 55/100 [00:06<00:05,  8.88it/s]"
     ]
    },
    {
     "name": "stdout",
     "output_type": "stream",
     "text": [
      "✔️ Processed: C:\\Users\\krish\\OneDrive\\Desktop\\Music Genre Classifier\\Genre Classifier Dataset\\genres\\jazz\\jazz.00053.au\n",
      "✔️ Processed: C:\\Users\\krish\\OneDrive\\Desktop\\Music Genre Classifier\\Genre Classifier Dataset\\genres\\jazz\\jazz.00054.au\n"
     ]
    },
    {
     "name": "stderr",
     "output_type": "stream",
     "text": [
      "Processing jazz:  57%|████████████████████████████████████▍                           | 57/100 [00:06<00:04,  9.02it/s]"
     ]
    },
    {
     "name": "stdout",
     "output_type": "stream",
     "text": [
      "✔️ Processed: C:\\Users\\krish\\OneDrive\\Desktop\\Music Genre Classifier\\Genre Classifier Dataset\\genres\\jazz\\jazz.00055.au\n",
      "✔️ Processed: C:\\Users\\krish\\OneDrive\\Desktop\\Music Genre Classifier\\Genre Classifier Dataset\\genres\\jazz\\jazz.00056.au\n"
     ]
    },
    {
     "name": "stderr",
     "output_type": "stream",
     "text": [
      "Processing jazz:  59%|█████████████████████████████████████▊                          | 59/100 [00:06<00:04,  8.99it/s]"
     ]
    },
    {
     "name": "stdout",
     "output_type": "stream",
     "text": [
      "✔️ Processed: C:\\Users\\krish\\OneDrive\\Desktop\\Music Genre Classifier\\Genre Classifier Dataset\\genres\\jazz\\jazz.00057.au\n",
      "✔️ Processed: C:\\Users\\krish\\OneDrive\\Desktop\\Music Genre Classifier\\Genre Classifier Dataset\\genres\\jazz\\jazz.00058.au\n"
     ]
    },
    {
     "name": "stderr",
     "output_type": "stream",
     "text": [
      "Processing jazz:  61%|███████████████████████████████████████                         | 61/100 [00:06<00:04,  8.90it/s]"
     ]
    },
    {
     "name": "stdout",
     "output_type": "stream",
     "text": [
      "✔️ Processed: C:\\Users\\krish\\OneDrive\\Desktop\\Music Genre Classifier\\Genre Classifier Dataset\\genres\\jazz\\jazz.00059.au\n",
      "✔️ Processed: C:\\Users\\krish\\OneDrive\\Desktop\\Music Genre Classifier\\Genre Classifier Dataset\\genres\\jazz\\jazz.00060.au\n"
     ]
    },
    {
     "name": "stderr",
     "output_type": "stream",
     "text": [
      "Processing jazz:  63%|████████████████████████████████████████▎                       | 63/100 [00:06<00:04,  9.09it/s]"
     ]
    },
    {
     "name": "stdout",
     "output_type": "stream",
     "text": [
      "✔️ Processed: C:\\Users\\krish\\OneDrive\\Desktop\\Music Genre Classifier\\Genre Classifier Dataset\\genres\\jazz\\jazz.00061.au\n",
      "✔️ Processed: C:\\Users\\krish\\OneDrive\\Desktop\\Music Genre Classifier\\Genre Classifier Dataset\\genres\\jazz\\jazz.00062.au\n"
     ]
    },
    {
     "name": "stderr",
     "output_type": "stream",
     "text": [
      "Processing jazz:  65%|█████████████████████████████████████████▌                      | 65/100 [00:07<00:03,  8.96it/s]"
     ]
    },
    {
     "name": "stdout",
     "output_type": "stream",
     "text": [
      "✔️ Processed: C:\\Users\\krish\\OneDrive\\Desktop\\Music Genre Classifier\\Genre Classifier Dataset\\genres\\jazz\\jazz.00063.au\n",
      "✔️ Processed: C:\\Users\\krish\\OneDrive\\Desktop\\Music Genre Classifier\\Genre Classifier Dataset\\genres\\jazz\\jazz.00064.au\n"
     ]
    },
    {
     "name": "stderr",
     "output_type": "stream",
     "text": [
      "Processing jazz:  67%|██████████████████████████████████████████▉                     | 67/100 [00:07<00:03,  9.02it/s]"
     ]
    },
    {
     "name": "stdout",
     "output_type": "stream",
     "text": [
      "✔️ Processed: C:\\Users\\krish\\OneDrive\\Desktop\\Music Genre Classifier\\Genre Classifier Dataset\\genres\\jazz\\jazz.00065.au\n",
      "✔️ Processed: C:\\Users\\krish\\OneDrive\\Desktop\\Music Genre Classifier\\Genre Classifier Dataset\\genres\\jazz\\jazz.00066.au\n"
     ]
    },
    {
     "name": "stderr",
     "output_type": "stream",
     "text": [
      "Processing jazz:  69%|████████████████████████████████████████████▏                   | 69/100 [00:07<00:03,  8.99it/s]"
     ]
    },
    {
     "name": "stdout",
     "output_type": "stream",
     "text": [
      "✔️ Processed: C:\\Users\\krish\\OneDrive\\Desktop\\Music Genre Classifier\\Genre Classifier Dataset\\genres\\jazz\\jazz.00067.au\n",
      "✔️ Processed: C:\\Users\\krish\\OneDrive\\Desktop\\Music Genre Classifier\\Genre Classifier Dataset\\genres\\jazz\\jazz.00068.au\n"
     ]
    },
    {
     "name": "stderr",
     "output_type": "stream",
     "text": [
      "Processing jazz:  71%|█████████████████████████████████████████████▍                  | 71/100 [00:07<00:03,  9.12it/s]"
     ]
    },
    {
     "name": "stdout",
     "output_type": "stream",
     "text": [
      "✔️ Processed: C:\\Users\\krish\\OneDrive\\Desktop\\Music Genre Classifier\\Genre Classifier Dataset\\genres\\jazz\\jazz.00069.au\n",
      "✔️ Processed: C:\\Users\\krish\\OneDrive\\Desktop\\Music Genre Classifier\\Genre Classifier Dataset\\genres\\jazz\\jazz.00070.au\n"
     ]
    },
    {
     "name": "stderr",
     "output_type": "stream",
     "text": [
      "Processing jazz:  73%|██████████████████████████████████████████████▋                 | 73/100 [00:08<00:02,  9.04it/s]"
     ]
    },
    {
     "name": "stdout",
     "output_type": "stream",
     "text": [
      "✔️ Processed: C:\\Users\\krish\\OneDrive\\Desktop\\Music Genre Classifier\\Genre Classifier Dataset\\genres\\jazz\\jazz.00071.au\n",
      "✔️ Processed: C:\\Users\\krish\\OneDrive\\Desktop\\Music Genre Classifier\\Genre Classifier Dataset\\genres\\jazz\\jazz.00072.au\n"
     ]
    },
    {
     "name": "stderr",
     "output_type": "stream",
     "text": [
      "Processing jazz:  75%|████████████████████████████████████████████████                | 75/100 [00:08<00:02,  8.98it/s]"
     ]
    },
    {
     "name": "stdout",
     "output_type": "stream",
     "text": [
      "✔️ Processed: C:\\Users\\krish\\OneDrive\\Desktop\\Music Genre Classifier\\Genre Classifier Dataset\\genres\\jazz\\jazz.00073.au\n",
      "✔️ Processed: C:\\Users\\krish\\OneDrive\\Desktop\\Music Genre Classifier\\Genre Classifier Dataset\\genres\\jazz\\jazz.00074.au\n"
     ]
    },
    {
     "name": "stderr",
     "output_type": "stream",
     "text": [
      "Processing jazz:  77%|█████████████████████████████████████████████████▎              | 77/100 [00:08<00:02,  8.90it/s]"
     ]
    },
    {
     "name": "stdout",
     "output_type": "stream",
     "text": [
      "✔️ Processed: C:\\Users\\krish\\OneDrive\\Desktop\\Music Genre Classifier\\Genre Classifier Dataset\\genres\\jazz\\jazz.00075.au\n",
      "✔️ Processed: C:\\Users\\krish\\OneDrive\\Desktop\\Music Genre Classifier\\Genre Classifier Dataset\\genres\\jazz\\jazz.00076.au\n"
     ]
    },
    {
     "name": "stderr",
     "output_type": "stream",
     "text": [
      "Processing jazz:  79%|██████████████████████████████████████████████████▌             | 79/100 [00:08<00:02,  9.20it/s]"
     ]
    },
    {
     "name": "stdout",
     "output_type": "stream",
     "text": [
      "✔️ Processed: C:\\Users\\krish\\OneDrive\\Desktop\\Music Genre Classifier\\Genre Classifier Dataset\\genres\\jazz\\jazz.00077.au\n",
      "✔️ Processed: C:\\Users\\krish\\OneDrive\\Desktop\\Music Genre Classifier\\Genre Classifier Dataset\\genres\\jazz\\jazz.00078.au\n",
      "✔️ Processed: C:\\Users\\krish\\OneDrive\\Desktop\\Music Genre Classifier\\Genre Classifier Dataset\\genres\\jazz\\jazz.00079.au\n"
     ]
    },
    {
     "name": "stderr",
     "output_type": "stream",
     "text": [
      "Processing jazz:  82%|████████████████████████████████████████████████████▍           | 82/100 [00:09<00:01,  9.23it/s]"
     ]
    },
    {
     "name": "stdout",
     "output_type": "stream",
     "text": [
      "✔️ Processed: C:\\Users\\krish\\OneDrive\\Desktop\\Music Genre Classifier\\Genre Classifier Dataset\\genres\\jazz\\jazz.00080.au\n",
      "✔️ Processed: C:\\Users\\krish\\OneDrive\\Desktop\\Music Genre Classifier\\Genre Classifier Dataset\\genres\\jazz\\jazz.00081.au\n"
     ]
    },
    {
     "name": "stderr",
     "output_type": "stream",
     "text": [
      "Processing jazz:  84%|█████████████████████████████████████████████████████▊          | 84/100 [00:09<00:01,  9.04it/s]"
     ]
    },
    {
     "name": "stdout",
     "output_type": "stream",
     "text": [
      "✔️ Processed: C:\\Users\\krish\\OneDrive\\Desktop\\Music Genre Classifier\\Genre Classifier Dataset\\genres\\jazz\\jazz.00082.au\n",
      "✔️ Processed: C:\\Users\\krish\\OneDrive\\Desktop\\Music Genre Classifier\\Genre Classifier Dataset\\genres\\jazz\\jazz.00083.au\n"
     ]
    },
    {
     "name": "stderr",
     "output_type": "stream",
     "text": [
      "Processing jazz:  86%|███████████████████████████████████████████████████████         | 86/100 [00:09<00:01,  9.23it/s]"
     ]
    },
    {
     "name": "stdout",
     "output_type": "stream",
     "text": [
      "✔️ Processed: C:\\Users\\krish\\OneDrive\\Desktop\\Music Genre Classifier\\Genre Classifier Dataset\\genres\\jazz\\jazz.00084.au\n",
      "✔️ Processed: C:\\Users\\krish\\OneDrive\\Desktop\\Music Genre Classifier\\Genre Classifier Dataset\\genres\\jazz\\jazz.00085.au\n"
     ]
    },
    {
     "name": "stderr",
     "output_type": "stream",
     "text": [
      "Processing jazz:  88%|████████████████████████████████████████████████████████▎       | 88/100 [00:09<00:01,  9.27it/s]"
     ]
    },
    {
     "name": "stdout",
     "output_type": "stream",
     "text": [
      "✔️ Processed: C:\\Users\\krish\\OneDrive\\Desktop\\Music Genre Classifier\\Genre Classifier Dataset\\genres\\jazz\\jazz.00086.au\n",
      "✔️ Processed: C:\\Users\\krish\\OneDrive\\Desktop\\Music Genre Classifier\\Genre Classifier Dataset\\genres\\jazz\\jazz.00087.au\n"
     ]
    },
    {
     "name": "stderr",
     "output_type": "stream",
     "text": [
      "Processing jazz:  91%|██████████████████████████████████████████████████████████▏     | 91/100 [00:10<00:00,  9.51it/s]"
     ]
    },
    {
     "name": "stdout",
     "output_type": "stream",
     "text": [
      "✔️ Processed: C:\\Users\\krish\\OneDrive\\Desktop\\Music Genre Classifier\\Genre Classifier Dataset\\genres\\jazz\\jazz.00088.au\n",
      "✔️ Processed: C:\\Users\\krish\\OneDrive\\Desktop\\Music Genre Classifier\\Genre Classifier Dataset\\genres\\jazz\\jazz.00089.au\n",
      "✔️ Processed: C:\\Users\\krish\\OneDrive\\Desktop\\Music Genre Classifier\\Genre Classifier Dataset\\genres\\jazz\\jazz.00090.au\n"
     ]
    },
    {
     "name": "stderr",
     "output_type": "stream",
     "text": [
      "Processing jazz:  93%|███████████████████████████████████████████████████████████▌    | 93/100 [00:10<00:00,  9.60it/s]"
     ]
    },
    {
     "name": "stdout",
     "output_type": "stream",
     "text": [
      "✔️ Processed: C:\\Users\\krish\\OneDrive\\Desktop\\Music Genre Classifier\\Genre Classifier Dataset\\genres\\jazz\\jazz.00091.au\n",
      "✔️ Processed: C:\\Users\\krish\\OneDrive\\Desktop\\Music Genre Classifier\\Genre Classifier Dataset\\genres\\jazz\\jazz.00092.au\n"
     ]
    },
    {
     "name": "stderr",
     "output_type": "stream",
     "text": [
      "Processing jazz:  95%|████████████████████████████████████████████████████████████▊   | 95/100 [00:10<00:00,  9.45it/s]"
     ]
    },
    {
     "name": "stdout",
     "output_type": "stream",
     "text": [
      "✔️ Processed: C:\\Users\\krish\\OneDrive\\Desktop\\Music Genre Classifier\\Genre Classifier Dataset\\genres\\jazz\\jazz.00093.au\n",
      "✔️ Processed: C:\\Users\\krish\\OneDrive\\Desktop\\Music Genre Classifier\\Genre Classifier Dataset\\genres\\jazz\\jazz.00094.au\n"
     ]
    },
    {
     "name": "stderr",
     "output_type": "stream",
     "text": [
      "Processing jazz:  97%|██████████████████████████████████████████████████████████████  | 97/100 [00:10<00:00,  9.30it/s]"
     ]
    },
    {
     "name": "stdout",
     "output_type": "stream",
     "text": [
      "✔️ Processed: C:\\Users\\krish\\OneDrive\\Desktop\\Music Genre Classifier\\Genre Classifier Dataset\\genres\\jazz\\jazz.00095.au\n",
      "✔️ Processed: C:\\Users\\krish\\OneDrive\\Desktop\\Music Genre Classifier\\Genre Classifier Dataset\\genres\\jazz\\jazz.00096.au\n"
     ]
    },
    {
     "name": "stderr",
     "output_type": "stream",
     "text": [
      "Processing jazz:  99%|███████████████████████████████████████████████████████████████▎| 99/100 [00:10<00:00,  9.27it/s]"
     ]
    },
    {
     "name": "stdout",
     "output_type": "stream",
     "text": [
      "✔️ Processed: C:\\Users\\krish\\OneDrive\\Desktop\\Music Genre Classifier\\Genre Classifier Dataset\\genres\\jazz\\jazz.00097.au\n",
      "✔️ Processed: C:\\Users\\krish\\OneDrive\\Desktop\\Music Genre Classifier\\Genre Classifier Dataset\\genres\\jazz\\jazz.00098.au\n"
     ]
    },
    {
     "name": "stderr",
     "output_type": "stream",
     "text": [
      "Processing jazz: 100%|███████████████████████████████████████████████████████████████| 100/100 [00:10<00:00,  9.10it/s]\n"
     ]
    },
    {
     "name": "stdout",
     "output_type": "stream",
     "text": [
      "✔️ Processed: C:\\Users\\krish\\OneDrive\\Desktop\\Music Genre Classifier\\Genre Classifier Dataset\\genres\\jazz\\jazz.00099.au\n"
     ]
    },
    {
     "name": "stderr",
     "output_type": "stream",
     "text": [
      "Processing metal:   0%|                                                                        | 0/100 [00:00<?, ?it/s]"
     ]
    },
    {
     "name": "stdout",
     "output_type": "stream",
     "text": [
      "✔️ Processed: C:\\Users\\krish\\OneDrive\\Desktop\\Music Genre Classifier\\Genre Classifier Dataset\\genres\\metal\\metal.00000.au\n"
     ]
    },
    {
     "name": "stderr",
     "output_type": "stream",
     "text": [
      "Processing metal:   2%|█▎                                                              | 2/100 [00:00<00:10,  9.49it/s]"
     ]
    },
    {
     "name": "stdout",
     "output_type": "stream",
     "text": [
      "✔️ Processed: C:\\Users\\krish\\OneDrive\\Desktop\\Music Genre Classifier\\Genre Classifier Dataset\\genres\\metal\\metal.00001.au\n"
     ]
    },
    {
     "name": "stderr",
     "output_type": "stream",
     "text": [
      "Processing metal:   3%|█▉                                                              | 3/100 [00:00<00:10,  9.29it/s]"
     ]
    },
    {
     "name": "stdout",
     "output_type": "stream",
     "text": [
      "✔️ Processed: C:\\Users\\krish\\OneDrive\\Desktop\\Music Genre Classifier\\Genre Classifier Dataset\\genres\\metal\\metal.00002.au\n"
     ]
    },
    {
     "name": "stderr",
     "output_type": "stream",
     "text": [
      "Processing metal:   4%|██▌                                                             | 4/100 [00:00<00:10,  9.02it/s]"
     ]
    },
    {
     "name": "stdout",
     "output_type": "stream",
     "text": [
      "✔️ Processed: C:\\Users\\krish\\OneDrive\\Desktop\\Music Genre Classifier\\Genre Classifier Dataset\\genres\\metal\\metal.00003.au\n"
     ]
    },
    {
     "name": "stderr",
     "output_type": "stream",
     "text": [
      "Processing metal:   5%|███▏                                                            | 5/100 [00:00<00:10,  8.84it/s]"
     ]
    },
    {
     "name": "stdout",
     "output_type": "stream",
     "text": [
      "✔️ Processed: C:\\Users\\krish\\OneDrive\\Desktop\\Music Genre Classifier\\Genre Classifier Dataset\\genres\\metal\\metal.00004.au\n"
     ]
    },
    {
     "name": "stderr",
     "output_type": "stream",
     "text": [
      "Processing metal:   6%|███▊                                                            | 6/100 [00:00<00:10,  8.97it/s]"
     ]
    },
    {
     "name": "stdout",
     "output_type": "stream",
     "text": [
      "✔️ Processed: C:\\Users\\krish\\OneDrive\\Desktop\\Music Genre Classifier\\Genre Classifier Dataset\\genres\\metal\\metal.00005.au\n"
     ]
    },
    {
     "name": "stderr",
     "output_type": "stream",
     "text": [
      "Processing metal:   8%|█████                                                           | 8/100 [00:00<00:10,  9.12it/s]"
     ]
    },
    {
     "name": "stdout",
     "output_type": "stream",
     "text": [
      "✔️ Processed: C:\\Users\\krish\\OneDrive\\Desktop\\Music Genre Classifier\\Genre Classifier Dataset\\genres\\metal\\metal.00006.au\n",
      "✔️ Processed: C:\\Users\\krish\\OneDrive\\Desktop\\Music Genre Classifier\\Genre Classifier Dataset\\genres\\metal\\metal.00007.au\n"
     ]
    },
    {
     "name": "stderr",
     "output_type": "stream",
     "text": [
      "Processing metal:  10%|██████▎                                                        | 10/100 [00:01<00:09,  9.15it/s]"
     ]
    },
    {
     "name": "stdout",
     "output_type": "stream",
     "text": [
      "✔️ Processed: C:\\Users\\krish\\OneDrive\\Desktop\\Music Genre Classifier\\Genre Classifier Dataset\\genres\\metal\\metal.00008.au\n",
      "✔️ Processed: C:\\Users\\krish\\OneDrive\\Desktop\\Music Genre Classifier\\Genre Classifier Dataset\\genres\\metal\\metal.00009.au\n"
     ]
    },
    {
     "name": "stderr",
     "output_type": "stream",
     "text": [
      "Processing metal:  12%|███████▌                                                       | 12/100 [00:01<00:09,  9.13it/s]"
     ]
    },
    {
     "name": "stdout",
     "output_type": "stream",
     "text": [
      "✔️ Processed: C:\\Users\\krish\\OneDrive\\Desktop\\Music Genre Classifier\\Genre Classifier Dataset\\genres\\metal\\metal.00010.au\n",
      "✔️ Processed: C:\\Users\\krish\\OneDrive\\Desktop\\Music Genre Classifier\\Genre Classifier Dataset\\genres\\metal\\metal.00011.au\n"
     ]
    },
    {
     "name": "stderr",
     "output_type": "stream",
     "text": [
      "Processing metal:  14%|████████▊                                                      | 14/100 [00:01<00:09,  9.13it/s]"
     ]
    },
    {
     "name": "stdout",
     "output_type": "stream",
     "text": [
      "✔️ Processed: C:\\Users\\krish\\OneDrive\\Desktop\\Music Genre Classifier\\Genre Classifier Dataset\\genres\\metal\\metal.00012.au\n",
      "✔️ Processed: C:\\Users\\krish\\OneDrive\\Desktop\\Music Genre Classifier\\Genre Classifier Dataset\\genres\\metal\\metal.00013.au\n"
     ]
    },
    {
     "name": "stderr",
     "output_type": "stream",
     "text": [
      "Processing metal:  17%|██████████▋                                                    | 17/100 [00:01<00:08,  9.32it/s]"
     ]
    },
    {
     "name": "stdout",
     "output_type": "stream",
     "text": [
      "✔️ Processed: C:\\Users\\krish\\OneDrive\\Desktop\\Music Genre Classifier\\Genre Classifier Dataset\\genres\\metal\\metal.00014.au\n",
      "✔️ Processed: C:\\Users\\krish\\OneDrive\\Desktop\\Music Genre Classifier\\Genre Classifier Dataset\\genres\\metal\\metal.00015.au\n",
      "✔️ Processed: C:\\Users\\krish\\OneDrive\\Desktop\\Music Genre Classifier\\Genre Classifier Dataset\\genres\\metal\\metal.00016.au\n"
     ]
    },
    {
     "name": "stderr",
     "output_type": "stream",
     "text": [
      "Processing metal:  20%|████████████▌                                                  | 20/100 [00:02<00:08,  9.20it/s]"
     ]
    },
    {
     "name": "stdout",
     "output_type": "stream",
     "text": [
      "✔️ Processed: C:\\Users\\krish\\OneDrive\\Desktop\\Music Genre Classifier\\Genre Classifier Dataset\\genres\\metal\\metal.00017.au\n",
      "✔️ Processed: C:\\Users\\krish\\OneDrive\\Desktop\\Music Genre Classifier\\Genre Classifier Dataset\\genres\\metal\\metal.00018.au\n",
      "✔️ Processed: C:\\Users\\krish\\OneDrive\\Desktop\\Music Genre Classifier\\Genre Classifier Dataset\\genres\\metal\\metal.00019.au\n"
     ]
    },
    {
     "name": "stderr",
     "output_type": "stream",
     "text": [
      "Processing metal:  23%|██████████████▍                                                | 23/100 [00:02<00:08,  9.11it/s]"
     ]
    },
    {
     "name": "stdout",
     "output_type": "stream",
     "text": [
      "✔️ Processed: C:\\Users\\krish\\OneDrive\\Desktop\\Music Genre Classifier\\Genre Classifier Dataset\\genres\\metal\\metal.00020.au\n",
      "✔️ Processed: C:\\Users\\krish\\OneDrive\\Desktop\\Music Genre Classifier\\Genre Classifier Dataset\\genres\\metal\\metal.00021.au\n",
      "✔️ Processed: C:\\Users\\krish\\OneDrive\\Desktop\\Music Genre Classifier\\Genre Classifier Dataset\\genres\\metal\\metal.00022.au\n"
     ]
    },
    {
     "name": "stderr",
     "output_type": "stream",
     "text": [
      "Processing metal:  25%|███████████████▊                                               | 25/100 [00:02<00:08,  9.09it/s]"
     ]
    },
    {
     "name": "stdout",
     "output_type": "stream",
     "text": [
      "✔️ Processed: C:\\Users\\krish\\OneDrive\\Desktop\\Music Genre Classifier\\Genre Classifier Dataset\\genres\\metal\\metal.00023.au\n",
      "✔️ Processed: C:\\Users\\krish\\OneDrive\\Desktop\\Music Genre Classifier\\Genre Classifier Dataset\\genres\\metal\\metal.00024.au\n"
     ]
    },
    {
     "name": "stderr",
     "output_type": "stream",
     "text": [
      "Processing metal:  27%|█████████████████                                              | 27/100 [00:02<00:07,  9.21it/s]"
     ]
    },
    {
     "name": "stdout",
     "output_type": "stream",
     "text": [
      "✔️ Processed: C:\\Users\\krish\\OneDrive\\Desktop\\Music Genre Classifier\\Genre Classifier Dataset\\genres\\metal\\metal.00025.au\n",
      "✔️ Processed: C:\\Users\\krish\\OneDrive\\Desktop\\Music Genre Classifier\\Genre Classifier Dataset\\genres\\metal\\metal.00026.au\n"
     ]
    },
    {
     "name": "stderr",
     "output_type": "stream",
     "text": [
      "Processing metal:  29%|██████████████████▎                                            | 29/100 [00:03<00:07,  9.17it/s]"
     ]
    },
    {
     "name": "stdout",
     "output_type": "stream",
     "text": [
      "✔️ Processed: C:\\Users\\krish\\OneDrive\\Desktop\\Music Genre Classifier\\Genre Classifier Dataset\\genres\\metal\\metal.00027.au\n",
      "✔️ Processed: C:\\Users\\krish\\OneDrive\\Desktop\\Music Genre Classifier\\Genre Classifier Dataset\\genres\\metal\\metal.00028.au\n"
     ]
    },
    {
     "name": "stderr",
     "output_type": "stream",
     "text": [
      "Processing metal:  31%|███████████████████▌                                           | 31/100 [00:03<00:07,  9.15it/s]"
     ]
    },
    {
     "name": "stdout",
     "output_type": "stream",
     "text": [
      "✔️ Processed: C:\\Users\\krish\\OneDrive\\Desktop\\Music Genre Classifier\\Genre Classifier Dataset\\genres\\metal\\metal.00029.au\n",
      "✔️ Processed: C:\\Users\\krish\\OneDrive\\Desktop\\Music Genre Classifier\\Genre Classifier Dataset\\genres\\metal\\metal.00030.au\n"
     ]
    },
    {
     "name": "stderr",
     "output_type": "stream",
     "text": [
      "Processing metal:  33%|████████████████████▊                                          | 33/100 [00:03<00:07,  9.17it/s]"
     ]
    },
    {
     "name": "stdout",
     "output_type": "stream",
     "text": [
      "✔️ Processed: C:\\Users\\krish\\OneDrive\\Desktop\\Music Genre Classifier\\Genre Classifier Dataset\\genres\\metal\\metal.00031.au\n",
      "✔️ Processed: C:\\Users\\krish\\OneDrive\\Desktop\\Music Genre Classifier\\Genre Classifier Dataset\\genres\\metal\\metal.00032.au\n"
     ]
    },
    {
     "name": "stderr",
     "output_type": "stream",
     "text": [
      "Processing metal:  35%|██████████████████████                                         | 35/100 [00:03<00:07,  9.04it/s]"
     ]
    },
    {
     "name": "stdout",
     "output_type": "stream",
     "text": [
      "✔️ Processed: C:\\Users\\krish\\OneDrive\\Desktop\\Music Genre Classifier\\Genre Classifier Dataset\\genres\\metal\\metal.00033.au\n",
      "✔️ Processed: C:\\Users\\krish\\OneDrive\\Desktop\\Music Genre Classifier\\Genre Classifier Dataset\\genres\\metal\\metal.00034.au\n"
     ]
    },
    {
     "name": "stderr",
     "output_type": "stream",
     "text": [
      "Processing metal:  38%|███████████████████████▉                                       | 38/100 [00:04<00:06,  9.48it/s]"
     ]
    },
    {
     "name": "stdout",
     "output_type": "stream",
     "text": [
      "✔️ Processed: C:\\Users\\krish\\OneDrive\\Desktop\\Music Genre Classifier\\Genre Classifier Dataset\\genres\\metal\\metal.00035.au\n",
      "✔️ Processed: C:\\Users\\krish\\OneDrive\\Desktop\\Music Genre Classifier\\Genre Classifier Dataset\\genres\\metal\\metal.00036.au\n",
      "✔️ Processed: C:\\Users\\krish\\OneDrive\\Desktop\\Music Genre Classifier\\Genre Classifier Dataset\\genres\\metal\\metal.00037.au\n"
     ]
    },
    {
     "name": "stderr",
     "output_type": "stream",
     "text": [
      "Processing metal:  40%|█████████████████████████▏                                     | 40/100 [00:04<00:06,  9.69it/s]"
     ]
    },
    {
     "name": "stdout",
     "output_type": "stream",
     "text": [
      "✔️ Processed: C:\\Users\\krish\\OneDrive\\Desktop\\Music Genre Classifier\\Genre Classifier Dataset\\genres\\metal\\metal.00038.au\n",
      "✔️ Processed: C:\\Users\\krish\\OneDrive\\Desktop\\Music Genre Classifier\\Genre Classifier Dataset\\genres\\metal\\metal.00039.au\n"
     ]
    },
    {
     "name": "stderr",
     "output_type": "stream",
     "text": [
      "Processing metal:  42%|██████████████████████████▍                                    | 42/100 [00:04<00:06,  9.23it/s]"
     ]
    },
    {
     "name": "stdout",
     "output_type": "stream",
     "text": [
      "✔️ Processed: C:\\Users\\krish\\OneDrive\\Desktop\\Music Genre Classifier\\Genre Classifier Dataset\\genres\\metal\\metal.00040.au\n",
      "✔️ Processed: C:\\Users\\krish\\OneDrive\\Desktop\\Music Genre Classifier\\Genre Classifier Dataset\\genres\\metal\\metal.00041.au\n"
     ]
    },
    {
     "name": "stderr",
     "output_type": "stream",
     "text": [
      "Processing metal:  44%|███████████████████████████▋                                   | 44/100 [00:04<00:05,  9.37it/s]"
     ]
    },
    {
     "name": "stdout",
     "output_type": "stream",
     "text": [
      "✔️ Processed: C:\\Users\\krish\\OneDrive\\Desktop\\Music Genre Classifier\\Genre Classifier Dataset\\genres\\metal\\metal.00042.au\n",
      "✔️ Processed: C:\\Users\\krish\\OneDrive\\Desktop\\Music Genre Classifier\\Genre Classifier Dataset\\genres\\metal\\metal.00043.au\n"
     ]
    },
    {
     "name": "stderr",
     "output_type": "stream",
     "text": [
      "Processing metal:  46%|████████████████████████████▉                                  | 46/100 [00:05<00:05,  9.31it/s]"
     ]
    },
    {
     "name": "stdout",
     "output_type": "stream",
     "text": [
      "✔️ Processed: C:\\Users\\krish\\OneDrive\\Desktop\\Music Genre Classifier\\Genre Classifier Dataset\\genres\\metal\\metal.00044.au\n",
      "✔️ Processed: C:\\Users\\krish\\OneDrive\\Desktop\\Music Genre Classifier\\Genre Classifier Dataset\\genres\\metal\\metal.00045.au\n"
     ]
    },
    {
     "name": "stderr",
     "output_type": "stream",
     "text": [
      "Processing metal:  48%|██████████████████████████████▏                                | 48/100 [00:05<00:05,  9.31it/s]"
     ]
    },
    {
     "name": "stdout",
     "output_type": "stream",
     "text": [
      "✔️ Processed: C:\\Users\\krish\\OneDrive\\Desktop\\Music Genre Classifier\\Genre Classifier Dataset\\genres\\metal\\metal.00046.au\n",
      "✔️ Processed: C:\\Users\\krish\\OneDrive\\Desktop\\Music Genre Classifier\\Genre Classifier Dataset\\genres\\metal\\metal.00047.au\n"
     ]
    },
    {
     "name": "stderr",
     "output_type": "stream",
     "text": [
      "Processing metal:  51%|████████████████████████████████▏                              | 51/100 [00:05<00:05,  9.15it/s]"
     ]
    },
    {
     "name": "stdout",
     "output_type": "stream",
     "text": [
      "✔️ Processed: C:\\Users\\krish\\OneDrive\\Desktop\\Music Genre Classifier\\Genre Classifier Dataset\\genres\\metal\\metal.00048.au\n",
      "✔️ Processed: C:\\Users\\krish\\OneDrive\\Desktop\\Music Genre Classifier\\Genre Classifier Dataset\\genres\\metal\\metal.00049.au\n",
      "✔️ Processed: C:\\Users\\krish\\OneDrive\\Desktop\\Music Genre Classifier\\Genre Classifier Dataset\\genres\\metal\\metal.00050.au\n"
     ]
    },
    {
     "name": "stderr",
     "output_type": "stream",
     "text": [
      "Processing metal:  53%|█████████████████████████████████▍                             | 53/100 [00:05<00:05,  9.18it/s]"
     ]
    },
    {
     "name": "stdout",
     "output_type": "stream",
     "text": [
      "✔️ Processed: C:\\Users\\krish\\OneDrive\\Desktop\\Music Genre Classifier\\Genre Classifier Dataset\\genres\\metal\\metal.00051.au\n",
      "✔️ Processed: C:\\Users\\krish\\OneDrive\\Desktop\\Music Genre Classifier\\Genre Classifier Dataset\\genres\\metal\\metal.00052.au\n"
     ]
    },
    {
     "name": "stderr",
     "output_type": "stream",
     "text": [
      "Processing metal:  56%|███████████████████████████████████▎                           | 56/100 [00:06<00:04,  9.36it/s]"
     ]
    },
    {
     "name": "stdout",
     "output_type": "stream",
     "text": [
      "✔️ Processed: C:\\Users\\krish\\OneDrive\\Desktop\\Music Genre Classifier\\Genre Classifier Dataset\\genres\\metal\\metal.00053.au\n",
      "✔️ Processed: C:\\Users\\krish\\OneDrive\\Desktop\\Music Genre Classifier\\Genre Classifier Dataset\\genres\\metal\\metal.00054.au\n",
      "✔️ Processed: C:\\Users\\krish\\OneDrive\\Desktop\\Music Genre Classifier\\Genre Classifier Dataset\\genres\\metal\\metal.00055.au\n"
     ]
    },
    {
     "name": "stderr",
     "output_type": "stream",
     "text": [
      "Processing metal:  59%|█████████████████████████████████████▏                         | 59/100 [00:06<00:04,  9.26it/s]"
     ]
    },
    {
     "name": "stdout",
     "output_type": "stream",
     "text": [
      "✔️ Processed: C:\\Users\\krish\\OneDrive\\Desktop\\Music Genre Classifier\\Genre Classifier Dataset\\genres\\metal\\metal.00056.au\n",
      "✔️ Processed: C:\\Users\\krish\\OneDrive\\Desktop\\Music Genre Classifier\\Genre Classifier Dataset\\genres\\metal\\metal.00057.au\n",
      "✔️ Processed: C:\\Users\\krish\\OneDrive\\Desktop\\Music Genre Classifier\\Genre Classifier Dataset\\genres\\metal\\metal.00058.au\n"
     ]
    },
    {
     "name": "stderr",
     "output_type": "stream",
     "text": [
      "Processing metal:  61%|██████████████████████████████████████▍                        | 61/100 [00:06<00:04,  9.15it/s]"
     ]
    },
    {
     "name": "stdout",
     "output_type": "stream",
     "text": [
      "✔️ Processed: C:\\Users\\krish\\OneDrive\\Desktop\\Music Genre Classifier\\Genre Classifier Dataset\\genres\\metal\\metal.00059.au\n",
      "✔️ Processed: C:\\Users\\krish\\OneDrive\\Desktop\\Music Genre Classifier\\Genre Classifier Dataset\\genres\\metal\\metal.00060.au\n"
     ]
    },
    {
     "name": "stderr",
     "output_type": "stream",
     "text": [
      "Processing metal:  63%|███████████████████████████████████████▋                       | 63/100 [00:06<00:04,  9.16it/s]"
     ]
    },
    {
     "name": "stdout",
     "output_type": "stream",
     "text": [
      "✔️ Processed: C:\\Users\\krish\\OneDrive\\Desktop\\Music Genre Classifier\\Genre Classifier Dataset\\genres\\metal\\metal.00061.au\n",
      "✔️ Processed: C:\\Users\\krish\\OneDrive\\Desktop\\Music Genre Classifier\\Genre Classifier Dataset\\genres\\metal\\metal.00062.au\n"
     ]
    },
    {
     "name": "stderr",
     "output_type": "stream",
     "text": [
      "Processing metal:  65%|████████████████████████████████████████▉                      | 65/100 [00:07<00:03,  9.15it/s]"
     ]
    },
    {
     "name": "stdout",
     "output_type": "stream",
     "text": [
      "✔️ Processed: C:\\Users\\krish\\OneDrive\\Desktop\\Music Genre Classifier\\Genre Classifier Dataset\\genres\\metal\\metal.00063.au\n",
      "✔️ Processed: C:\\Users\\krish\\OneDrive\\Desktop\\Music Genre Classifier\\Genre Classifier Dataset\\genres\\metal\\metal.00064.au\n"
     ]
    },
    {
     "name": "stderr",
     "output_type": "stream",
     "text": [
      "Processing metal:  67%|██████████████████████████████████████████▏                    | 67/100 [00:07<00:03,  8.96it/s]"
     ]
    },
    {
     "name": "stdout",
     "output_type": "stream",
     "text": [
      "✔️ Processed: C:\\Users\\krish\\OneDrive\\Desktop\\Music Genre Classifier\\Genre Classifier Dataset\\genres\\metal\\metal.00065.au\n",
      "✔️ Processed: C:\\Users\\krish\\OneDrive\\Desktop\\Music Genre Classifier\\Genre Classifier Dataset\\genres\\metal\\metal.00066.au\n"
     ]
    },
    {
     "name": "stderr",
     "output_type": "stream",
     "text": [
      "Processing metal:  69%|███████████████████████████████████████████▍                   | 69/100 [00:07<00:03,  9.02it/s]"
     ]
    },
    {
     "name": "stdout",
     "output_type": "stream",
     "text": [
      "✔️ Processed: C:\\Users\\krish\\OneDrive\\Desktop\\Music Genre Classifier\\Genre Classifier Dataset\\genres\\metal\\metal.00067.au\n",
      "✔️ Processed: C:\\Users\\krish\\OneDrive\\Desktop\\Music Genre Classifier\\Genre Classifier Dataset\\genres\\metal\\metal.00068.au\n"
     ]
    },
    {
     "name": "stderr",
     "output_type": "stream",
     "text": [
      "Processing metal:  72%|█████████████████████████████████████████████▎                 | 72/100 [00:07<00:03,  9.05it/s]"
     ]
    },
    {
     "name": "stdout",
     "output_type": "stream",
     "text": [
      "✔️ Processed: C:\\Users\\krish\\OneDrive\\Desktop\\Music Genre Classifier\\Genre Classifier Dataset\\genres\\metal\\metal.00069.au\n",
      "✔️ Processed: C:\\Users\\krish\\OneDrive\\Desktop\\Music Genre Classifier\\Genre Classifier Dataset\\genres\\metal\\metal.00070.au\n",
      "✔️ Processed: C:\\Users\\krish\\OneDrive\\Desktop\\Music Genre Classifier\\Genre Classifier Dataset\\genres\\metal\\metal.00071.au\n"
     ]
    },
    {
     "name": "stderr",
     "output_type": "stream",
     "text": [
      "Processing metal:  74%|██████████████████████████████████████████████▌                | 74/100 [00:08<00:02,  8.87it/s]"
     ]
    },
    {
     "name": "stdout",
     "output_type": "stream",
     "text": [
      "✔️ Processed: C:\\Users\\krish\\OneDrive\\Desktop\\Music Genre Classifier\\Genre Classifier Dataset\\genres\\metal\\metal.00072.au\n",
      "✔️ Processed: C:\\Users\\krish\\OneDrive\\Desktop\\Music Genre Classifier\\Genre Classifier Dataset\\genres\\metal\\metal.00073.au\n"
     ]
    },
    {
     "name": "stderr",
     "output_type": "stream",
     "text": [
      "Processing metal:  76%|███████████████████████████████████████████████▉               | 76/100 [00:08<00:02,  8.87it/s]"
     ]
    },
    {
     "name": "stdout",
     "output_type": "stream",
     "text": [
      "✔️ Processed: C:\\Users\\krish\\OneDrive\\Desktop\\Music Genre Classifier\\Genre Classifier Dataset\\genres\\metal\\metal.00074.au\n",
      "✔️ Processed: C:\\Users\\krish\\OneDrive\\Desktop\\Music Genre Classifier\\Genre Classifier Dataset\\genres\\metal\\metal.00075.au\n"
     ]
    },
    {
     "name": "stderr",
     "output_type": "stream",
     "text": [
      "Processing metal:  78%|█████████████████████████████████████████████████▏             | 78/100 [00:08<00:02,  8.76it/s]"
     ]
    },
    {
     "name": "stdout",
     "output_type": "stream",
     "text": [
      "✔️ Processed: C:\\Users\\krish\\OneDrive\\Desktop\\Music Genre Classifier\\Genre Classifier Dataset\\genres\\metal\\metal.00076.au\n",
      "✔️ Processed: C:\\Users\\krish\\OneDrive\\Desktop\\Music Genre Classifier\\Genre Classifier Dataset\\genres\\metal\\metal.00077.au\n"
     ]
    },
    {
     "name": "stderr",
     "output_type": "stream",
     "text": [
      "Processing metal:  81%|███████████████████████████████████████████████████            | 81/100 [00:08<00:02,  9.09it/s]"
     ]
    },
    {
     "name": "stdout",
     "output_type": "stream",
     "text": [
      "✔️ Processed: C:\\Users\\krish\\OneDrive\\Desktop\\Music Genre Classifier\\Genre Classifier Dataset\\genres\\metal\\metal.00078.au\n",
      "✔️ Processed: C:\\Users\\krish\\OneDrive\\Desktop\\Music Genre Classifier\\Genre Classifier Dataset\\genres\\metal\\metal.00079.au\n",
      "✔️ Processed: C:\\Users\\krish\\OneDrive\\Desktop\\Music Genre Classifier\\Genre Classifier Dataset\\genres\\metal\\metal.00080.au\n"
     ]
    },
    {
     "name": "stderr",
     "output_type": "stream",
     "text": [
      "Processing metal:  83%|████████████████████████████████████████████████████▎          | 83/100 [00:09<00:01,  9.11it/s]"
     ]
    },
    {
     "name": "stdout",
     "output_type": "stream",
     "text": [
      "✔️ Processed: C:\\Users\\krish\\OneDrive\\Desktop\\Music Genre Classifier\\Genre Classifier Dataset\\genres\\metal\\metal.00081.au\n",
      "✔️ Processed: C:\\Users\\krish\\OneDrive\\Desktop\\Music Genre Classifier\\Genre Classifier Dataset\\genres\\metal\\metal.00082.au\n"
     ]
    },
    {
     "name": "stderr",
     "output_type": "stream",
     "text": [
      "Processing metal:  85%|█████████████████████████████████████████████████████▌         | 85/100 [00:09<00:01,  8.94it/s]"
     ]
    },
    {
     "name": "stdout",
     "output_type": "stream",
     "text": [
      "✔️ Processed: C:\\Users\\krish\\OneDrive\\Desktop\\Music Genre Classifier\\Genre Classifier Dataset\\genres\\metal\\metal.00083.au\n",
      "✔️ Processed: C:\\Users\\krish\\OneDrive\\Desktop\\Music Genre Classifier\\Genre Classifier Dataset\\genres\\metal\\metal.00084.au\n"
     ]
    },
    {
     "name": "stderr",
     "output_type": "stream",
     "text": [
      "Processing metal:  87%|██████████████████████████████████████████████████████▊        | 87/100 [00:09<00:01,  8.85it/s]"
     ]
    },
    {
     "name": "stdout",
     "output_type": "stream",
     "text": [
      "✔️ Processed: C:\\Users\\krish\\OneDrive\\Desktop\\Music Genre Classifier\\Genre Classifier Dataset\\genres\\metal\\metal.00085.au\n",
      "✔️ Processed: C:\\Users\\krish\\OneDrive\\Desktop\\Music Genre Classifier\\Genre Classifier Dataset\\genres\\metal\\metal.00086.au\n"
     ]
    },
    {
     "name": "stderr",
     "output_type": "stream",
     "text": [
      "Processing metal:  89%|████████████████████████████████████████████████████████       | 89/100 [00:09<00:01,  8.94it/s]"
     ]
    },
    {
     "name": "stdout",
     "output_type": "stream",
     "text": [
      "✔️ Processed: C:\\Users\\krish\\OneDrive\\Desktop\\Music Genre Classifier\\Genre Classifier Dataset\\genres\\metal\\metal.00087.au\n",
      "✔️ Processed: C:\\Users\\krish\\OneDrive\\Desktop\\Music Genre Classifier\\Genre Classifier Dataset\\genres\\metal\\metal.00088.au\n"
     ]
    },
    {
     "name": "stderr",
     "output_type": "stream",
     "text": [
      "Processing metal:  91%|█████████████████████████████████████████████████████████▎     | 91/100 [00:09<00:00,  9.06it/s]"
     ]
    },
    {
     "name": "stdout",
     "output_type": "stream",
     "text": [
      "✔️ Processed: C:\\Users\\krish\\OneDrive\\Desktop\\Music Genre Classifier\\Genre Classifier Dataset\\genres\\metal\\metal.00089.au\n",
      "✔️ Processed: C:\\Users\\krish\\OneDrive\\Desktop\\Music Genre Classifier\\Genre Classifier Dataset\\genres\\metal\\metal.00090.au\n"
     ]
    },
    {
     "name": "stderr",
     "output_type": "stream",
     "text": [
      "Processing metal:  93%|██████████████████████████████████████████████████████████▌    | 93/100 [00:10<00:00,  9.10it/s]"
     ]
    },
    {
     "name": "stdout",
     "output_type": "stream",
     "text": [
      "✔️ Processed: C:\\Users\\krish\\OneDrive\\Desktop\\Music Genre Classifier\\Genre Classifier Dataset\\genres\\metal\\metal.00091.au\n",
      "✔️ Processed: C:\\Users\\krish\\OneDrive\\Desktop\\Music Genre Classifier\\Genre Classifier Dataset\\genres\\metal\\metal.00092.au\n"
     ]
    },
    {
     "name": "stderr",
     "output_type": "stream",
     "text": [
      "Processing metal:  95%|███████████████████████████████████████████████████████████▊   | 95/100 [00:10<00:00,  8.96it/s]"
     ]
    },
    {
     "name": "stdout",
     "output_type": "stream",
     "text": [
      "✔️ Processed: C:\\Users\\krish\\OneDrive\\Desktop\\Music Genre Classifier\\Genre Classifier Dataset\\genres\\metal\\metal.00093.au\n",
      "✔️ Processed: C:\\Users\\krish\\OneDrive\\Desktop\\Music Genre Classifier\\Genre Classifier Dataset\\genres\\metal\\metal.00094.au\n"
     ]
    },
    {
     "name": "stderr",
     "output_type": "stream",
     "text": [
      "Processing metal:  97%|█████████████████████████████████████████████████████████████  | 97/100 [00:10<00:00,  9.07it/s]"
     ]
    },
    {
     "name": "stdout",
     "output_type": "stream",
     "text": [
      "✔️ Processed: C:\\Users\\krish\\OneDrive\\Desktop\\Music Genre Classifier\\Genre Classifier Dataset\\genres\\metal\\metal.00095.au\n",
      "✔️ Processed: C:\\Users\\krish\\OneDrive\\Desktop\\Music Genre Classifier\\Genre Classifier Dataset\\genres\\metal\\metal.00096.au\n"
     ]
    },
    {
     "name": "stderr",
     "output_type": "stream",
     "text": [
      "Processing metal: 100%|██████████████████████████████████████████████████████████████| 100/100 [00:10<00:00,  9.15it/s]"
     ]
    },
    {
     "name": "stdout",
     "output_type": "stream",
     "text": [
      "✔️ Processed: C:\\Users\\krish\\OneDrive\\Desktop\\Music Genre Classifier\\Genre Classifier Dataset\\genres\\metal\\metal.00097.au\n",
      "✔️ Processed: C:\\Users\\krish\\OneDrive\\Desktop\\Music Genre Classifier\\Genre Classifier Dataset\\genres\\metal\\metal.00098.au\n",
      "✔️ Processed: C:\\Users\\krish\\OneDrive\\Desktop\\Music Genre Classifier\\Genre Classifier Dataset\\genres\\metal\\metal.00099.au\n"
     ]
    },
    {
     "name": "stderr",
     "output_type": "stream",
     "text": [
      "Processing metal: 100%|██████████████████████████████████████████████████████████████| 100/100 [00:10<00:00,  9.11it/s]\n",
      "Processing pop:   2%|█▎                                                                | 2/100 [00:00<00:10,  9.47it/s]"
     ]
    },
    {
     "name": "stdout",
     "output_type": "stream",
     "text": [
      "✔️ Processed: C:\\Users\\krish\\OneDrive\\Desktop\\Music Genre Classifier\\Genre Classifier Dataset\\genres\\pop\\pop.00000.au\n",
      "✔️ Processed: C:\\Users\\krish\\OneDrive\\Desktop\\Music Genre Classifier\\Genre Classifier Dataset\\genres\\pop\\pop.00001.au\n"
     ]
    },
    {
     "name": "stderr",
     "output_type": "stream",
     "text": [
      "Processing pop:   4%|██▋                                                               | 4/100 [00:00<00:10,  8.92it/s]"
     ]
    },
    {
     "name": "stdout",
     "output_type": "stream",
     "text": [
      "✔️ Processed: C:\\Users\\krish\\OneDrive\\Desktop\\Music Genre Classifier\\Genre Classifier Dataset\\genres\\pop\\pop.00002.au\n",
      "✔️ Processed: C:\\Users\\krish\\OneDrive\\Desktop\\Music Genre Classifier\\Genre Classifier Dataset\\genres\\pop\\pop.00003.au\n"
     ]
    },
    {
     "name": "stderr",
     "output_type": "stream",
     "text": [
      "Processing pop:   6%|███▉                                                              | 6/100 [00:00<00:11,  8.46it/s]"
     ]
    },
    {
     "name": "stdout",
     "output_type": "stream",
     "text": [
      "✔️ Processed: C:\\Users\\krish\\OneDrive\\Desktop\\Music Genre Classifier\\Genre Classifier Dataset\\genres\\pop\\pop.00004.au\n",
      "✔️ Processed: C:\\Users\\krish\\OneDrive\\Desktop\\Music Genre Classifier\\Genre Classifier Dataset\\genres\\pop\\pop.00005.au\n"
     ]
    },
    {
     "name": "stderr",
     "output_type": "stream",
     "text": [
      "Processing pop:   8%|█████▎                                                            | 8/100 [00:00<00:10,  8.98it/s]"
     ]
    },
    {
     "name": "stdout",
     "output_type": "stream",
     "text": [
      "✔️ Processed: C:\\Users\\krish\\OneDrive\\Desktop\\Music Genre Classifier\\Genre Classifier Dataset\\genres\\pop\\pop.00006.au\n",
      "✔️ Processed: C:\\Users\\krish\\OneDrive\\Desktop\\Music Genre Classifier\\Genre Classifier Dataset\\genres\\pop\\pop.00007.au\n"
     ]
    },
    {
     "name": "stderr",
     "output_type": "stream",
     "text": [
      "Processing pop:  10%|██████▌                                                          | 10/100 [00:01<00:09,  9.17it/s]"
     ]
    },
    {
     "name": "stdout",
     "output_type": "stream",
     "text": [
      "✔️ Processed: C:\\Users\\krish\\OneDrive\\Desktop\\Music Genre Classifier\\Genre Classifier Dataset\\genres\\pop\\pop.00008.au\n",
      "✔️ Processed: C:\\Users\\krish\\OneDrive\\Desktop\\Music Genre Classifier\\Genre Classifier Dataset\\genres\\pop\\pop.00009.au\n"
     ]
    },
    {
     "name": "stderr",
     "output_type": "stream",
     "text": [
      "Processing pop:  12%|███████▊                                                         | 12/100 [00:01<00:09,  9.06it/s]"
     ]
    },
    {
     "name": "stdout",
     "output_type": "stream",
     "text": [
      "✔️ Processed: C:\\Users\\krish\\OneDrive\\Desktop\\Music Genre Classifier\\Genre Classifier Dataset\\genres\\pop\\pop.00010.au\n",
      "✔️ Processed: C:\\Users\\krish\\OneDrive\\Desktop\\Music Genre Classifier\\Genre Classifier Dataset\\genres\\pop\\pop.00011.au\n"
     ]
    },
    {
     "name": "stderr",
     "output_type": "stream",
     "text": [
      "Processing pop:  14%|█████████                                                        | 14/100 [00:01<00:09,  9.03it/s]"
     ]
    },
    {
     "name": "stdout",
     "output_type": "stream",
     "text": [
      "✔️ Processed: C:\\Users\\krish\\OneDrive\\Desktop\\Music Genre Classifier\\Genre Classifier Dataset\\genres\\pop\\pop.00012.au\n",
      "✔️ Processed: C:\\Users\\krish\\OneDrive\\Desktop\\Music Genre Classifier\\Genre Classifier Dataset\\genres\\pop\\pop.00013.au\n"
     ]
    },
    {
     "name": "stderr",
     "output_type": "stream",
     "text": [
      "Processing pop:  16%|██████████▍                                                      | 16/100 [00:01<00:09,  8.86it/s]"
     ]
    },
    {
     "name": "stdout",
     "output_type": "stream",
     "text": [
      "✔️ Processed: C:\\Users\\krish\\OneDrive\\Desktop\\Music Genre Classifier\\Genre Classifier Dataset\\genres\\pop\\pop.00014.au\n",
      "✔️ Processed: C:\\Users\\krish\\OneDrive\\Desktop\\Music Genre Classifier\\Genre Classifier Dataset\\genres\\pop\\pop.00015.au\n"
     ]
    },
    {
     "name": "stderr",
     "output_type": "stream",
     "text": [
      "Processing pop:  18%|███████████▋                                                     | 18/100 [00:02<00:09,  9.02it/s]"
     ]
    },
    {
     "name": "stdout",
     "output_type": "stream",
     "text": [
      "✔️ Processed: C:\\Users\\krish\\OneDrive\\Desktop\\Music Genre Classifier\\Genre Classifier Dataset\\genres\\pop\\pop.00016.au\n",
      "✔️ Processed: C:\\Users\\krish\\OneDrive\\Desktop\\Music Genre Classifier\\Genre Classifier Dataset\\genres\\pop\\pop.00017.au\n"
     ]
    },
    {
     "name": "stderr",
     "output_type": "stream",
     "text": [
      "Processing pop:  20%|█████████████                                                    | 20/100 [00:02<00:08,  9.18it/s]"
     ]
    },
    {
     "name": "stdout",
     "output_type": "stream",
     "text": [
      "✔️ Processed: C:\\Users\\krish\\OneDrive\\Desktop\\Music Genre Classifier\\Genre Classifier Dataset\\genres\\pop\\pop.00018.au\n",
      "✔️ Processed: C:\\Users\\krish\\OneDrive\\Desktop\\Music Genre Classifier\\Genre Classifier Dataset\\genres\\pop\\pop.00019.au\n"
     ]
    },
    {
     "name": "stderr",
     "output_type": "stream",
     "text": [
      "Processing pop:  22%|██████████████▎                                                  | 22/100 [00:02<00:08,  9.34it/s]"
     ]
    },
    {
     "name": "stdout",
     "output_type": "stream",
     "text": [
      "✔️ Processed: C:\\Users\\krish\\OneDrive\\Desktop\\Music Genre Classifier\\Genre Classifier Dataset\\genres\\pop\\pop.00020.au\n",
      "✔️ Processed: C:\\Users\\krish\\OneDrive\\Desktop\\Music Genre Classifier\\Genre Classifier Dataset\\genres\\pop\\pop.00021.au\n"
     ]
    },
    {
     "name": "stderr",
     "output_type": "stream",
     "text": [
      "Processing pop:  24%|███████████████▌                                                 | 24/100 [00:02<00:08,  9.04it/s]"
     ]
    },
    {
     "name": "stdout",
     "output_type": "stream",
     "text": [
      "✔️ Processed: C:\\Users\\krish\\OneDrive\\Desktop\\Music Genre Classifier\\Genre Classifier Dataset\\genres\\pop\\pop.00022.au\n",
      "✔️ Processed: C:\\Users\\krish\\OneDrive\\Desktop\\Music Genre Classifier\\Genre Classifier Dataset\\genres\\pop\\pop.00023.au\n"
     ]
    },
    {
     "name": "stderr",
     "output_type": "stream",
     "text": [
      "Processing pop:  27%|█████████████████▌                                               | 27/100 [00:02<00:07,  9.23it/s]"
     ]
    },
    {
     "name": "stdout",
     "output_type": "stream",
     "text": [
      "✔️ Processed: C:\\Users\\krish\\OneDrive\\Desktop\\Music Genre Classifier\\Genre Classifier Dataset\\genres\\pop\\pop.00024.au\n",
      "✔️ Processed: C:\\Users\\krish\\OneDrive\\Desktop\\Music Genre Classifier\\Genre Classifier Dataset\\genres\\pop\\pop.00025.au\n",
      "✔️ Processed: C:\\Users\\krish\\OneDrive\\Desktop\\Music Genre Classifier\\Genre Classifier Dataset\\genres\\pop\\pop.00026.au\n"
     ]
    },
    {
     "name": "stderr",
     "output_type": "stream",
     "text": [
      "Processing pop:  29%|██████████████████▊                                              | 29/100 [00:03<00:07,  9.16it/s]"
     ]
    },
    {
     "name": "stdout",
     "output_type": "stream",
     "text": [
      "✔️ Processed: C:\\Users\\krish\\OneDrive\\Desktop\\Music Genre Classifier\\Genre Classifier Dataset\\genres\\pop\\pop.00027.au\n",
      "✔️ Processed: C:\\Users\\krish\\OneDrive\\Desktop\\Music Genre Classifier\\Genre Classifier Dataset\\genres\\pop\\pop.00028.au\n"
     ]
    },
    {
     "name": "stderr",
     "output_type": "stream",
     "text": [
      "Processing pop:  31%|████████████████████▏                                            | 31/100 [00:03<00:07,  9.14it/s]"
     ]
    },
    {
     "name": "stdout",
     "output_type": "stream",
     "text": [
      "✔️ Processed: C:\\Users\\krish\\OneDrive\\Desktop\\Music Genre Classifier\\Genre Classifier Dataset\\genres\\pop\\pop.00029.au\n",
      "✔️ Processed: C:\\Users\\krish\\OneDrive\\Desktop\\Music Genre Classifier\\Genre Classifier Dataset\\genres\\pop\\pop.00030.au\n"
     ]
    },
    {
     "name": "stderr",
     "output_type": "stream",
     "text": [
      "Processing pop:  33%|█████████████████████▍                                           | 33/100 [00:03<00:07,  9.15it/s]"
     ]
    },
    {
     "name": "stdout",
     "output_type": "stream",
     "text": [
      "✔️ Processed: C:\\Users\\krish\\OneDrive\\Desktop\\Music Genre Classifier\\Genre Classifier Dataset\\genres\\pop\\pop.00031.au\n",
      "✔️ Processed: C:\\Users\\krish\\OneDrive\\Desktop\\Music Genre Classifier\\Genre Classifier Dataset\\genres\\pop\\pop.00032.au\n"
     ]
    },
    {
     "name": "stderr",
     "output_type": "stream",
     "text": [
      "Processing pop:  35%|██████████████████████▊                                          | 35/100 [00:03<00:07,  9.07it/s]"
     ]
    },
    {
     "name": "stdout",
     "output_type": "stream",
     "text": [
      "✔️ Processed: C:\\Users\\krish\\OneDrive\\Desktop\\Music Genre Classifier\\Genre Classifier Dataset\\genres\\pop\\pop.00033.au\n",
      "✔️ Processed: C:\\Users\\krish\\OneDrive\\Desktop\\Music Genre Classifier\\Genre Classifier Dataset\\genres\\pop\\pop.00034.au\n"
     ]
    },
    {
     "name": "stderr",
     "output_type": "stream",
     "text": [
      "Processing pop:  37%|████████████████████████                                         | 37/100 [00:04<00:06,  9.15it/s]"
     ]
    },
    {
     "name": "stdout",
     "output_type": "stream",
     "text": [
      "✔️ Processed: C:\\Users\\krish\\OneDrive\\Desktop\\Music Genre Classifier\\Genre Classifier Dataset\\genres\\pop\\pop.00035.au\n",
      "✔️ Processed: C:\\Users\\krish\\OneDrive\\Desktop\\Music Genre Classifier\\Genre Classifier Dataset\\genres\\pop\\pop.00036.au\n"
     ]
    },
    {
     "name": "stderr",
     "output_type": "stream",
     "text": [
      "Processing pop:  39%|█████████████████████████▎                                       | 39/100 [00:04<00:06,  9.04it/s]"
     ]
    },
    {
     "name": "stdout",
     "output_type": "stream",
     "text": [
      "✔️ Processed: C:\\Users\\krish\\OneDrive\\Desktop\\Music Genre Classifier\\Genre Classifier Dataset\\genres\\pop\\pop.00037.au\n",
      "✔️ Processed: C:\\Users\\krish\\OneDrive\\Desktop\\Music Genre Classifier\\Genre Classifier Dataset\\genres\\pop\\pop.00038.au\n"
     ]
    },
    {
     "name": "stderr",
     "output_type": "stream",
     "text": [
      "Processing pop:  41%|██████████████████████████▋                                      | 41/100 [00:04<00:06,  9.09it/s]"
     ]
    },
    {
     "name": "stdout",
     "output_type": "stream",
     "text": [
      "✔️ Processed: C:\\Users\\krish\\OneDrive\\Desktop\\Music Genre Classifier\\Genre Classifier Dataset\\genres\\pop\\pop.00039.au\n",
      "✔️ Processed: C:\\Users\\krish\\OneDrive\\Desktop\\Music Genre Classifier\\Genre Classifier Dataset\\genres\\pop\\pop.00040.au\n"
     ]
    },
    {
     "name": "stderr",
     "output_type": "stream",
     "text": [
      "Processing pop:  43%|███████████████████████████▉                                     | 43/100 [00:04<00:06,  9.02it/s]"
     ]
    },
    {
     "name": "stdout",
     "output_type": "stream",
     "text": [
      "✔️ Processed: C:\\Users\\krish\\OneDrive\\Desktop\\Music Genre Classifier\\Genre Classifier Dataset\\genres\\pop\\pop.00041.au\n",
      "✔️ Processed: C:\\Users\\krish\\OneDrive\\Desktop\\Music Genre Classifier\\Genre Classifier Dataset\\genres\\pop\\pop.00042.au\n"
     ]
    },
    {
     "name": "stderr",
     "output_type": "stream",
     "text": [
      "Processing pop:  45%|█████████████████████████████▎                                   | 45/100 [00:04<00:06,  8.87it/s]"
     ]
    },
    {
     "name": "stdout",
     "output_type": "stream",
     "text": [
      "✔️ Processed: C:\\Users\\krish\\OneDrive\\Desktop\\Music Genre Classifier\\Genre Classifier Dataset\\genres\\pop\\pop.00043.au\n",
      "✔️ Processed: C:\\Users\\krish\\OneDrive\\Desktop\\Music Genre Classifier\\Genre Classifier Dataset\\genres\\pop\\pop.00044.au\n"
     ]
    },
    {
     "name": "stderr",
     "output_type": "stream",
     "text": [
      "Processing pop:  47%|██████████████████████████████▌                                  | 47/100 [00:05<00:05,  9.00it/s]"
     ]
    },
    {
     "name": "stdout",
     "output_type": "stream",
     "text": [
      "✔️ Processed: C:\\Users\\krish\\OneDrive\\Desktop\\Music Genre Classifier\\Genre Classifier Dataset\\genres\\pop\\pop.00045.au\n",
      "✔️ Processed: C:\\Users\\krish\\OneDrive\\Desktop\\Music Genre Classifier\\Genre Classifier Dataset\\genres\\pop\\pop.00046.au\n"
     ]
    },
    {
     "name": "stderr",
     "output_type": "stream",
     "text": [
      "Processing pop:  49%|███████████████████████████████▊                                 | 49/100 [00:05<00:05,  8.97it/s]"
     ]
    },
    {
     "name": "stdout",
     "output_type": "stream",
     "text": [
      "✔️ Processed: C:\\Users\\krish\\OneDrive\\Desktop\\Music Genre Classifier\\Genre Classifier Dataset\\genres\\pop\\pop.00047.au\n",
      "✔️ Processed: C:\\Users\\krish\\OneDrive\\Desktop\\Music Genre Classifier\\Genre Classifier Dataset\\genres\\pop\\pop.00048.au\n"
     ]
    },
    {
     "name": "stderr",
     "output_type": "stream",
     "text": [
      "Processing pop:  51%|█████████████████████████████████▏                               | 51/100 [00:05<00:05,  9.15it/s]"
     ]
    },
    {
     "name": "stdout",
     "output_type": "stream",
     "text": [
      "✔️ Processed: C:\\Users\\krish\\OneDrive\\Desktop\\Music Genre Classifier\\Genre Classifier Dataset\\genres\\pop\\pop.00049.au\n",
      "✔️ Processed: C:\\Users\\krish\\OneDrive\\Desktop\\Music Genre Classifier\\Genre Classifier Dataset\\genres\\pop\\pop.00050.au\n"
     ]
    },
    {
     "name": "stderr",
     "output_type": "stream",
     "text": [
      "Processing pop:  53%|██████████████████████████████████▍                              | 53/100 [00:05<00:05,  9.03it/s]"
     ]
    },
    {
     "name": "stdout",
     "output_type": "stream",
     "text": [
      "✔️ Processed: C:\\Users\\krish\\OneDrive\\Desktop\\Music Genre Classifier\\Genre Classifier Dataset\\genres\\pop\\pop.00051.au\n",
      "✔️ Processed: C:\\Users\\krish\\OneDrive\\Desktop\\Music Genre Classifier\\Genre Classifier Dataset\\genres\\pop\\pop.00052.au\n",
      "✔️ Processed: C:\\Users\\krish\\OneDrive\\Desktop\\Music Genre Classifier\\Genre Classifier Dataset\\genres\\pop\\pop.00053.au\n"
     ]
    },
    {
     "name": "stderr",
     "output_type": "stream",
     "text": [
      "Processing pop:  56%|████████████████████████████████████▍                            | 56/100 [00:06<00:04,  9.35it/s]"
     ]
    },
    {
     "name": "stdout",
     "output_type": "stream",
     "text": [
      "✔️ Processed: C:\\Users\\krish\\OneDrive\\Desktop\\Music Genre Classifier\\Genre Classifier Dataset\\genres\\pop\\pop.00054.au\n",
      "✔️ Processed: C:\\Users\\krish\\OneDrive\\Desktop\\Music Genre Classifier\\Genre Classifier Dataset\\genres\\pop\\pop.00055.au\n"
     ]
    },
    {
     "name": "stderr",
     "output_type": "stream",
     "text": [
      "Processing pop:  58%|█████████████████████████████████████▋                           | 58/100 [00:06<00:04,  9.20it/s]"
     ]
    },
    {
     "name": "stdout",
     "output_type": "stream",
     "text": [
      "✔️ Processed: C:\\Users\\krish\\OneDrive\\Desktop\\Music Genre Classifier\\Genre Classifier Dataset\\genres\\pop\\pop.00056.au\n",
      "✔️ Processed: C:\\Users\\krish\\OneDrive\\Desktop\\Music Genre Classifier\\Genre Classifier Dataset\\genres\\pop\\pop.00057.au\n"
     ]
    },
    {
     "name": "stderr",
     "output_type": "stream",
     "text": [
      "Processing pop:  60%|███████████████████████████████████████                          | 60/100 [00:06<00:04,  9.04it/s]"
     ]
    },
    {
     "name": "stdout",
     "output_type": "stream",
     "text": [
      "✔️ Processed: C:\\Users\\krish\\OneDrive\\Desktop\\Music Genre Classifier\\Genre Classifier Dataset\\genres\\pop\\pop.00058.au\n",
      "✔️ Processed: C:\\Users\\krish\\OneDrive\\Desktop\\Music Genre Classifier\\Genre Classifier Dataset\\genres\\pop\\pop.00059.au\n"
     ]
    },
    {
     "name": "stderr",
     "output_type": "stream",
     "text": [
      "Processing pop:  62%|████████████████████████████████████████▎                        | 62/100 [00:06<00:04,  9.06it/s]"
     ]
    },
    {
     "name": "stdout",
     "output_type": "stream",
     "text": [
      "✔️ Processed: C:\\Users\\krish\\OneDrive\\Desktop\\Music Genre Classifier\\Genre Classifier Dataset\\genres\\pop\\pop.00060.au\n",
      "✔️ Processed: C:\\Users\\krish\\OneDrive\\Desktop\\Music Genre Classifier\\Genre Classifier Dataset\\genres\\pop\\pop.00061.au\n"
     ]
    },
    {
     "name": "stderr",
     "output_type": "stream",
     "text": [
      "Processing pop:  64%|█████████████████████████████████████████▌                       | 64/100 [00:07<00:03,  9.05it/s]"
     ]
    },
    {
     "name": "stdout",
     "output_type": "stream",
     "text": [
      "✔️ Processed: C:\\Users\\krish\\OneDrive\\Desktop\\Music Genre Classifier\\Genre Classifier Dataset\\genres\\pop\\pop.00062.au\n",
      "✔️ Processed: C:\\Users\\krish\\OneDrive\\Desktop\\Music Genre Classifier\\Genre Classifier Dataset\\genres\\pop\\pop.00063.au\n"
     ]
    },
    {
     "name": "stderr",
     "output_type": "stream",
     "text": [
      "Processing pop:  66%|██████████████████████████████████████████▉                      | 66/100 [00:07<00:03,  8.85it/s]"
     ]
    },
    {
     "name": "stdout",
     "output_type": "stream",
     "text": [
      "✔️ Processed: C:\\Users\\krish\\OneDrive\\Desktop\\Music Genre Classifier\\Genre Classifier Dataset\\genres\\pop\\pop.00064.au\n",
      "✔️ Processed: C:\\Users\\krish\\OneDrive\\Desktop\\Music Genre Classifier\\Genre Classifier Dataset\\genres\\pop\\pop.00065.au\n"
     ]
    },
    {
     "name": "stderr",
     "output_type": "stream",
     "text": [
      "Processing pop:  68%|████████████████████████████████████████████▏                    | 68/100 [00:07<00:03,  8.91it/s]"
     ]
    },
    {
     "name": "stdout",
     "output_type": "stream",
     "text": [
      "✔️ Processed: C:\\Users\\krish\\OneDrive\\Desktop\\Music Genre Classifier\\Genre Classifier Dataset\\genres\\pop\\pop.00066.au\n",
      "✔️ Processed: C:\\Users\\krish\\OneDrive\\Desktop\\Music Genre Classifier\\Genre Classifier Dataset\\genres\\pop\\pop.00067.au\n"
     ]
    },
    {
     "name": "stderr",
     "output_type": "stream",
     "text": [
      "Processing pop:  70%|█████████████████████████████████████████████▌                   | 70/100 [00:07<00:03,  9.00it/s]"
     ]
    },
    {
     "name": "stdout",
     "output_type": "stream",
     "text": [
      "✔️ Processed: C:\\Users\\krish\\OneDrive\\Desktop\\Music Genre Classifier\\Genre Classifier Dataset\\genres\\pop\\pop.00068.au\n",
      "✔️ Processed: C:\\Users\\krish\\OneDrive\\Desktop\\Music Genre Classifier\\Genre Classifier Dataset\\genres\\pop\\pop.00069.au\n"
     ]
    },
    {
     "name": "stderr",
     "output_type": "stream",
     "text": [
      "Processing pop:  72%|██████████████████████████████████████████████▊                  | 72/100 [00:07<00:03,  8.90it/s]"
     ]
    },
    {
     "name": "stdout",
     "output_type": "stream",
     "text": [
      "✔️ Processed: C:\\Users\\krish\\OneDrive\\Desktop\\Music Genre Classifier\\Genre Classifier Dataset\\genres\\pop\\pop.00070.au\n",
      "✔️ Processed: C:\\Users\\krish\\OneDrive\\Desktop\\Music Genre Classifier\\Genre Classifier Dataset\\genres\\pop\\pop.00071.au\n"
     ]
    },
    {
     "name": "stderr",
     "output_type": "stream",
     "text": [
      "Processing pop:  74%|████████████████████████████████████████████████                 | 74/100 [00:08<00:02,  8.87it/s]"
     ]
    },
    {
     "name": "stdout",
     "output_type": "stream",
     "text": [
      "✔️ Processed: C:\\Users\\krish\\OneDrive\\Desktop\\Music Genre Classifier\\Genre Classifier Dataset\\genres\\pop\\pop.00072.au\n",
      "✔️ Processed: C:\\Users\\krish\\OneDrive\\Desktop\\Music Genre Classifier\\Genre Classifier Dataset\\genres\\pop\\pop.00073.au\n"
     ]
    },
    {
     "name": "stderr",
     "output_type": "stream",
     "text": [
      "Processing pop:  76%|█████████████████████████████████████████████████▍               | 76/100 [00:08<00:02,  8.93it/s]"
     ]
    },
    {
     "name": "stdout",
     "output_type": "stream",
     "text": [
      "✔️ Processed: C:\\Users\\krish\\OneDrive\\Desktop\\Music Genre Classifier\\Genre Classifier Dataset\\genres\\pop\\pop.00074.au\n",
      "✔️ Processed: C:\\Users\\krish\\OneDrive\\Desktop\\Music Genre Classifier\\Genre Classifier Dataset\\genres\\pop\\pop.00075.au\n"
     ]
    },
    {
     "name": "stderr",
     "output_type": "stream",
     "text": [
      "Processing pop:  78%|██████████████████████████████████████████████████▋              | 78/100 [00:08<00:02,  9.01it/s]"
     ]
    },
    {
     "name": "stdout",
     "output_type": "stream",
     "text": [
      "✔️ Processed: C:\\Users\\krish\\OneDrive\\Desktop\\Music Genre Classifier\\Genre Classifier Dataset\\genres\\pop\\pop.00076.au\n",
      "✔️ Processed: C:\\Users\\krish\\OneDrive\\Desktop\\Music Genre Classifier\\Genre Classifier Dataset\\genres\\pop\\pop.00077.au\n"
     ]
    },
    {
     "name": "stderr",
     "output_type": "stream",
     "text": [
      "Processing pop:  80%|████████████████████████████████████████████████████             | 80/100 [00:08<00:02,  8.91it/s]"
     ]
    },
    {
     "name": "stdout",
     "output_type": "stream",
     "text": [
      "✔️ Processed: C:\\Users\\krish\\OneDrive\\Desktop\\Music Genre Classifier\\Genre Classifier Dataset\\genres\\pop\\pop.00078.au\n",
      "✔️ Processed: C:\\Users\\krish\\OneDrive\\Desktop\\Music Genre Classifier\\Genre Classifier Dataset\\genres\\pop\\pop.00079.au\n",
      "✔️ Processed: C:\\Users\\krish\\OneDrive\\Desktop\\Music Genre Classifier\\Genre Classifier Dataset\\genres\\pop\\pop.00080.au\n"
     ]
    },
    {
     "name": "stderr",
     "output_type": "stream",
     "text": [
      "Processing pop:  83%|█████████████████████████████████████████████████████▉           | 83/100 [00:09<00:01,  9.26it/s]"
     ]
    },
    {
     "name": "stdout",
     "output_type": "stream",
     "text": [
      "✔️ Processed: C:\\Users\\krish\\OneDrive\\Desktop\\Music Genre Classifier\\Genre Classifier Dataset\\genres\\pop\\pop.00081.au\n",
      "✔️ Processed: C:\\Users\\krish\\OneDrive\\Desktop\\Music Genre Classifier\\Genre Classifier Dataset\\genres\\pop\\pop.00082.au\n"
     ]
    },
    {
     "name": "stderr",
     "output_type": "stream",
     "text": [
      "Processing pop:  85%|███████████████████████████████████████████████████████▎         | 85/100 [00:09<00:01,  9.24it/s]"
     ]
    },
    {
     "name": "stdout",
     "output_type": "stream",
     "text": [
      "✔️ Processed: C:\\Users\\krish\\OneDrive\\Desktop\\Music Genre Classifier\\Genre Classifier Dataset\\genres\\pop\\pop.00083.au\n",
      "✔️ Processed: C:\\Users\\krish\\OneDrive\\Desktop\\Music Genre Classifier\\Genre Classifier Dataset\\genres\\pop\\pop.00084.au\n"
     ]
    },
    {
     "name": "stderr",
     "output_type": "stream",
     "text": [
      "Processing pop:  87%|████████████████████████████████████████████████████████▌        | 87/100 [00:09<00:01,  9.07it/s]"
     ]
    },
    {
     "name": "stdout",
     "output_type": "stream",
     "text": [
      "✔️ Processed: C:\\Users\\krish\\OneDrive\\Desktop\\Music Genre Classifier\\Genre Classifier Dataset\\genres\\pop\\pop.00085.au\n",
      "✔️ Processed: C:\\Users\\krish\\OneDrive\\Desktop\\Music Genre Classifier\\Genre Classifier Dataset\\genres\\pop\\pop.00086.au\n"
     ]
    },
    {
     "name": "stderr",
     "output_type": "stream",
     "text": [
      "Processing pop:  89%|█████████████████████████████████████████████████████████▊       | 89/100 [00:09<00:01,  9.11it/s]"
     ]
    },
    {
     "name": "stdout",
     "output_type": "stream",
     "text": [
      "✔️ Processed: C:\\Users\\krish\\OneDrive\\Desktop\\Music Genre Classifier\\Genre Classifier Dataset\\genres\\pop\\pop.00087.au\n",
      "✔️ Processed: C:\\Users\\krish\\OneDrive\\Desktop\\Music Genre Classifier\\Genre Classifier Dataset\\genres\\pop\\pop.00088.au\n"
     ]
    },
    {
     "name": "stderr",
     "output_type": "stream",
     "text": [
      "Processing pop:  91%|███████████████████████████████████████████████████████████▏     | 91/100 [00:10<00:00,  9.07it/s]"
     ]
    },
    {
     "name": "stdout",
     "output_type": "stream",
     "text": [
      "✔️ Processed: C:\\Users\\krish\\OneDrive\\Desktop\\Music Genre Classifier\\Genre Classifier Dataset\\genres\\pop\\pop.00089.au\n",
      "✔️ Processed: C:\\Users\\krish\\OneDrive\\Desktop\\Music Genre Classifier\\Genre Classifier Dataset\\genres\\pop\\pop.00090.au\n"
     ]
    },
    {
     "name": "stderr",
     "output_type": "stream",
     "text": [
      "Processing pop:  93%|████████████████████████████████████████████████████████████▍    | 93/100 [00:10<00:00,  8.97it/s]"
     ]
    },
    {
     "name": "stdout",
     "output_type": "stream",
     "text": [
      "✔️ Processed: C:\\Users\\krish\\OneDrive\\Desktop\\Music Genre Classifier\\Genre Classifier Dataset\\genres\\pop\\pop.00091.au\n",
      "✔️ Processed: C:\\Users\\krish\\OneDrive\\Desktop\\Music Genre Classifier\\Genre Classifier Dataset\\genres\\pop\\pop.00092.au\n"
     ]
    },
    {
     "name": "stderr",
     "output_type": "stream",
     "text": [
      "Processing pop:  95%|█████████████████████████████████████████████████████████████▊   | 95/100 [00:10<00:00,  9.07it/s]"
     ]
    },
    {
     "name": "stdout",
     "output_type": "stream",
     "text": [
      "✔️ Processed: C:\\Users\\krish\\OneDrive\\Desktop\\Music Genre Classifier\\Genre Classifier Dataset\\genres\\pop\\pop.00093.au\n",
      "✔️ Processed: C:\\Users\\krish\\OneDrive\\Desktop\\Music Genre Classifier\\Genre Classifier Dataset\\genres\\pop\\pop.00094.au\n"
     ]
    },
    {
     "name": "stderr",
     "output_type": "stream",
     "text": [
      "Processing pop:  97%|███████████████████████████████████████████████████████████████  | 97/100 [00:10<00:00,  9.04it/s]"
     ]
    },
    {
     "name": "stdout",
     "output_type": "stream",
     "text": [
      "✔️ Processed: C:\\Users\\krish\\OneDrive\\Desktop\\Music Genre Classifier\\Genre Classifier Dataset\\genres\\pop\\pop.00095.au\n",
      "✔️ Processed: C:\\Users\\krish\\OneDrive\\Desktop\\Music Genre Classifier\\Genre Classifier Dataset\\genres\\pop\\pop.00096.au\n"
     ]
    },
    {
     "name": "stderr",
     "output_type": "stream",
     "text": [
      "Processing pop: 100%|████████████████████████████████████████████████████████████████| 100/100 [00:11<00:00,  9.16it/s]"
     ]
    },
    {
     "name": "stdout",
     "output_type": "stream",
     "text": [
      "✔️ Processed: C:\\Users\\krish\\OneDrive\\Desktop\\Music Genre Classifier\\Genre Classifier Dataset\\genres\\pop\\pop.00097.au\n",
      "✔️ Processed: C:\\Users\\krish\\OneDrive\\Desktop\\Music Genre Classifier\\Genre Classifier Dataset\\genres\\pop\\pop.00098.au\n",
      "✔️ Processed: C:\\Users\\krish\\OneDrive\\Desktop\\Music Genre Classifier\\Genre Classifier Dataset\\genres\\pop\\pop.00099.au\n"
     ]
    },
    {
     "name": "stderr",
     "output_type": "stream",
     "text": [
      "Processing pop: 100%|████████████████████████████████████████████████████████████████| 100/100 [00:11<00:00,  9.05it/s]\n",
      "Processing reggae:   2%|█▎                                                             | 2/100 [00:00<00:11,  8.57it/s]"
     ]
    },
    {
     "name": "stdout",
     "output_type": "stream",
     "text": [
      "✔️ Processed: C:\\Users\\krish\\OneDrive\\Desktop\\Music Genre Classifier\\Genre Classifier Dataset\\genres\\reggae\\reggae.00000.au\n",
      "✔️ Processed: C:\\Users\\krish\\OneDrive\\Desktop\\Music Genre Classifier\\Genre Classifier Dataset\\genres\\reggae\\reggae.00001.au\n"
     ]
    },
    {
     "name": "stderr",
     "output_type": "stream",
     "text": [
      "Processing reggae:   4%|██▌                                                            | 4/100 [00:00<00:10,  8.85it/s]"
     ]
    },
    {
     "name": "stdout",
     "output_type": "stream",
     "text": [
      "✔️ Processed: C:\\Users\\krish\\OneDrive\\Desktop\\Music Genre Classifier\\Genre Classifier Dataset\\genres\\reggae\\reggae.00002.au\n",
      "✔️ Processed: C:\\Users\\krish\\OneDrive\\Desktop\\Music Genre Classifier\\Genre Classifier Dataset\\genres\\reggae\\reggae.00003.au\n"
     ]
    },
    {
     "name": "stderr",
     "output_type": "stream",
     "text": [
      "Processing reggae:   6%|███▊                                                           | 6/100 [00:00<00:10,  8.90it/s]"
     ]
    },
    {
     "name": "stdout",
     "output_type": "stream",
     "text": [
      "✔️ Processed: C:\\Users\\krish\\OneDrive\\Desktop\\Music Genre Classifier\\Genre Classifier Dataset\\genres\\reggae\\reggae.00004.au\n",
      "✔️ Processed: C:\\Users\\krish\\OneDrive\\Desktop\\Music Genre Classifier\\Genre Classifier Dataset\\genres\\reggae\\reggae.00005.au\n"
     ]
    },
    {
     "name": "stderr",
     "output_type": "stream",
     "text": [
      "Processing reggae:   8%|█████                                                          | 8/100 [00:00<00:10,  8.90it/s]"
     ]
    },
    {
     "name": "stdout",
     "output_type": "stream",
     "text": [
      "✔️ Processed: C:\\Users\\krish\\OneDrive\\Desktop\\Music Genre Classifier\\Genre Classifier Dataset\\genres\\reggae\\reggae.00006.au\n",
      "✔️ Processed: C:\\Users\\krish\\OneDrive\\Desktop\\Music Genre Classifier\\Genre Classifier Dataset\\genres\\reggae\\reggae.00007.au\n"
     ]
    },
    {
     "name": "stderr",
     "output_type": "stream",
     "text": [
      "Processing reggae:  10%|██████▏                                                       | 10/100 [00:01<00:09,  9.03it/s]"
     ]
    },
    {
     "name": "stdout",
     "output_type": "stream",
     "text": [
      "✔️ Processed: C:\\Users\\krish\\OneDrive\\Desktop\\Music Genre Classifier\\Genre Classifier Dataset\\genres\\reggae\\reggae.00008.au\n",
      "✔️ Processed: C:\\Users\\krish\\OneDrive\\Desktop\\Music Genre Classifier\\Genre Classifier Dataset\\genres\\reggae\\reggae.00009.au\n"
     ]
    },
    {
     "name": "stderr",
     "output_type": "stream",
     "text": [
      "Processing reggae:  12%|███████▍                                                      | 12/100 [00:01<00:09,  9.06it/s]"
     ]
    },
    {
     "name": "stdout",
     "output_type": "stream",
     "text": [
      "✔️ Processed: C:\\Users\\krish\\OneDrive\\Desktop\\Music Genre Classifier\\Genre Classifier Dataset\\genres\\reggae\\reggae.00010.au\n",
      "✔️ Processed: C:\\Users\\krish\\OneDrive\\Desktop\\Music Genre Classifier\\Genre Classifier Dataset\\genres\\reggae\\reggae.00011.au\n"
     ]
    },
    {
     "name": "stderr",
     "output_type": "stream",
     "text": [
      "Processing reggae:  15%|█████████▎                                                    | 15/100 [00:01<00:09,  9.18it/s]"
     ]
    },
    {
     "name": "stdout",
     "output_type": "stream",
     "text": [
      "✔️ Processed: C:\\Users\\krish\\OneDrive\\Desktop\\Music Genre Classifier\\Genre Classifier Dataset\\genres\\reggae\\reggae.00012.au\n",
      "✔️ Processed: C:\\Users\\krish\\OneDrive\\Desktop\\Music Genre Classifier\\Genre Classifier Dataset\\genres\\reggae\\reggae.00013.au\n",
      "✔️ Processed: C:\\Users\\krish\\OneDrive\\Desktop\\Music Genre Classifier\\Genre Classifier Dataset\\genres\\reggae\\reggae.00014.au\n"
     ]
    },
    {
     "name": "stderr",
     "output_type": "stream",
     "text": [
      "Processing reggae:  17%|██████████▌                                                   | 17/100 [00:01<00:09,  9.15it/s]"
     ]
    },
    {
     "name": "stdout",
     "output_type": "stream",
     "text": [
      "✔️ Processed: C:\\Users\\krish\\OneDrive\\Desktop\\Music Genre Classifier\\Genre Classifier Dataset\\genres\\reggae\\reggae.00015.au\n",
      "✔️ Processed: C:\\Users\\krish\\OneDrive\\Desktop\\Music Genre Classifier\\Genre Classifier Dataset\\genres\\reggae\\reggae.00016.au\n"
     ]
    },
    {
     "name": "stderr",
     "output_type": "stream",
     "text": [
      "Processing reggae:  19%|███████████▊                                                  | 19/100 [00:02<00:09,  8.91it/s]"
     ]
    },
    {
     "name": "stdout",
     "output_type": "stream",
     "text": [
      "✔️ Processed: C:\\Users\\krish\\OneDrive\\Desktop\\Music Genre Classifier\\Genre Classifier Dataset\\genres\\reggae\\reggae.00017.au\n",
      "✔️ Processed: C:\\Users\\krish\\OneDrive\\Desktop\\Music Genre Classifier\\Genre Classifier Dataset\\genres\\reggae\\reggae.00018.au\n"
     ]
    },
    {
     "name": "stderr",
     "output_type": "stream",
     "text": [
      "Processing reggae:  22%|█████████████▋                                                | 22/100 [00:02<00:08,  9.22it/s]"
     ]
    },
    {
     "name": "stdout",
     "output_type": "stream",
     "text": [
      "✔️ Processed: C:\\Users\\krish\\OneDrive\\Desktop\\Music Genre Classifier\\Genre Classifier Dataset\\genres\\reggae\\reggae.00019.au\n",
      "✔️ Processed: C:\\Users\\krish\\OneDrive\\Desktop\\Music Genre Classifier\\Genre Classifier Dataset\\genres\\reggae\\reggae.00020.au\n",
      "✔️ Processed: C:\\Users\\krish\\OneDrive\\Desktop\\Music Genre Classifier\\Genre Classifier Dataset\\genres\\reggae\\reggae.00021.au\n"
     ]
    },
    {
     "name": "stderr",
     "output_type": "stream",
     "text": [
      "Processing reggae:  24%|██████████████▉                                               | 24/100 [00:02<00:08,  9.12it/s]"
     ]
    },
    {
     "name": "stdout",
     "output_type": "stream",
     "text": [
      "✔️ Processed: C:\\Users\\krish\\OneDrive\\Desktop\\Music Genre Classifier\\Genre Classifier Dataset\\genres\\reggae\\reggae.00022.au\n",
      "✔️ Processed: C:\\Users\\krish\\OneDrive\\Desktop\\Music Genre Classifier\\Genre Classifier Dataset\\genres\\reggae\\reggae.00023.au\n"
     ]
    },
    {
     "name": "stderr",
     "output_type": "stream",
     "text": [
      "Processing reggae:  26%|████████████████                                              | 26/100 [00:02<00:08,  9.20it/s]"
     ]
    },
    {
     "name": "stdout",
     "output_type": "stream",
     "text": [
      "✔️ Processed: C:\\Users\\krish\\OneDrive\\Desktop\\Music Genre Classifier\\Genre Classifier Dataset\\genres\\reggae\\reggae.00024.au\n",
      "✔️ Processed: C:\\Users\\krish\\OneDrive\\Desktop\\Music Genre Classifier\\Genre Classifier Dataset\\genres\\reggae\\reggae.00025.au\n"
     ]
    },
    {
     "name": "stderr",
     "output_type": "stream",
     "text": [
      "Processing reggae:  28%|█████████████████▎                                            | 28/100 [00:03<00:07,  9.17it/s]"
     ]
    },
    {
     "name": "stdout",
     "output_type": "stream",
     "text": [
      "✔️ Processed: C:\\Users\\krish\\OneDrive\\Desktop\\Music Genre Classifier\\Genre Classifier Dataset\\genres\\reggae\\reggae.00026.au\n",
      "✔️ Processed: C:\\Users\\krish\\OneDrive\\Desktop\\Music Genre Classifier\\Genre Classifier Dataset\\genres\\reggae\\reggae.00027.au\n"
     ]
    },
    {
     "name": "stderr",
     "output_type": "stream",
     "text": [
      "Processing reggae:  30%|██████████████████▌                                           | 30/100 [00:03<00:07,  9.25it/s]"
     ]
    },
    {
     "name": "stdout",
     "output_type": "stream",
     "text": [
      "✔️ Processed: C:\\Users\\krish\\OneDrive\\Desktop\\Music Genre Classifier\\Genre Classifier Dataset\\genres\\reggae\\reggae.00028.au\n",
      "✔️ Processed: C:\\Users\\krish\\OneDrive\\Desktop\\Music Genre Classifier\\Genre Classifier Dataset\\genres\\reggae\\reggae.00029.au\n"
     ]
    },
    {
     "name": "stderr",
     "output_type": "stream",
     "text": [
      "Processing reggae:  32%|███████████████████▊                                          | 32/100 [00:03<00:07,  9.09it/s]"
     ]
    },
    {
     "name": "stdout",
     "output_type": "stream",
     "text": [
      "✔️ Processed: C:\\Users\\krish\\OneDrive\\Desktop\\Music Genre Classifier\\Genre Classifier Dataset\\genres\\reggae\\reggae.00030.au\n",
      "✔️ Processed: C:\\Users\\krish\\OneDrive\\Desktop\\Music Genre Classifier\\Genre Classifier Dataset\\genres\\reggae\\reggae.00031.au\n"
     ]
    },
    {
     "name": "stderr",
     "output_type": "stream",
     "text": [
      "Processing reggae:  34%|█████████████████████                                         | 34/100 [00:03<00:07,  9.18it/s]"
     ]
    },
    {
     "name": "stdout",
     "output_type": "stream",
     "text": [
      "✔️ Processed: C:\\Users\\krish\\OneDrive\\Desktop\\Music Genre Classifier\\Genre Classifier Dataset\\genres\\reggae\\reggae.00032.au\n",
      "✔️ Processed: C:\\Users\\krish\\OneDrive\\Desktop\\Music Genre Classifier\\Genre Classifier Dataset\\genres\\reggae\\reggae.00033.au\n"
     ]
    },
    {
     "name": "stderr",
     "output_type": "stream",
     "text": [
      "Processing reggae:  36%|██████████████████████▎                                       | 36/100 [00:03<00:06,  9.29it/s]"
     ]
    },
    {
     "name": "stdout",
     "output_type": "stream",
     "text": [
      "✔️ Processed: C:\\Users\\krish\\OneDrive\\Desktop\\Music Genre Classifier\\Genre Classifier Dataset\\genres\\reggae\\reggae.00034.au\n",
      "✔️ Processed: C:\\Users\\krish\\OneDrive\\Desktop\\Music Genre Classifier\\Genre Classifier Dataset\\genres\\reggae\\reggae.00035.au\n"
     ]
    },
    {
     "name": "stderr",
     "output_type": "stream",
     "text": [
      "Processing reggae:  38%|███████████████████████▌                                      | 38/100 [00:04<00:06,  9.36it/s]"
     ]
    },
    {
     "name": "stdout",
     "output_type": "stream",
     "text": [
      "✔️ Processed: C:\\Users\\krish\\OneDrive\\Desktop\\Music Genre Classifier\\Genre Classifier Dataset\\genres\\reggae\\reggae.00036.au\n",
      "✔️ Processed: C:\\Users\\krish\\OneDrive\\Desktop\\Music Genre Classifier\\Genre Classifier Dataset\\genres\\reggae\\reggae.00037.au\n"
     ]
    },
    {
     "name": "stderr",
     "output_type": "stream",
     "text": [
      "Processing reggae:  40%|████████████████████████▊                                     | 40/100 [00:04<00:06,  9.26it/s]"
     ]
    },
    {
     "name": "stdout",
     "output_type": "stream",
     "text": [
      "✔️ Processed: C:\\Users\\krish\\OneDrive\\Desktop\\Music Genre Classifier\\Genre Classifier Dataset\\genres\\reggae\\reggae.00038.au\n",
      "✔️ Processed: C:\\Users\\krish\\OneDrive\\Desktop\\Music Genre Classifier\\Genre Classifier Dataset\\genres\\reggae\\reggae.00039.au\n"
     ]
    },
    {
     "name": "stderr",
     "output_type": "stream",
     "text": [
      "Processing reggae:  42%|██████████████████████████                                    | 42/100 [00:04<00:06,  9.06it/s]"
     ]
    },
    {
     "name": "stdout",
     "output_type": "stream",
     "text": [
      "✔️ Processed: C:\\Users\\krish\\OneDrive\\Desktop\\Music Genre Classifier\\Genre Classifier Dataset\\genres\\reggae\\reggae.00040.au\n",
      "✔️ Processed: C:\\Users\\krish\\OneDrive\\Desktop\\Music Genre Classifier\\Genre Classifier Dataset\\genres\\reggae\\reggae.00041.au\n"
     ]
    },
    {
     "name": "stderr",
     "output_type": "stream",
     "text": [
      "Processing reggae:  44%|███████████████████████████▎                                  | 44/100 [00:04<00:06,  9.11it/s]"
     ]
    },
    {
     "name": "stdout",
     "output_type": "stream",
     "text": [
      "✔️ Processed: C:\\Users\\krish\\OneDrive\\Desktop\\Music Genre Classifier\\Genre Classifier Dataset\\genres\\reggae\\reggae.00042.au\n",
      "✔️ Processed: C:\\Users\\krish\\OneDrive\\Desktop\\Music Genre Classifier\\Genre Classifier Dataset\\genres\\reggae\\reggae.00043.au\n"
     ]
    },
    {
     "name": "stderr",
     "output_type": "stream",
     "text": [
      "Processing reggae:  46%|████████████████████████████▌                                 | 46/100 [00:05<00:05,  9.24it/s]"
     ]
    },
    {
     "name": "stdout",
     "output_type": "stream",
     "text": [
      "✔️ Processed: C:\\Users\\krish\\OneDrive\\Desktop\\Music Genre Classifier\\Genre Classifier Dataset\\genres\\reggae\\reggae.00044.au\n",
      "✔️ Processed: C:\\Users\\krish\\OneDrive\\Desktop\\Music Genre Classifier\\Genre Classifier Dataset\\genres\\reggae\\reggae.00045.au\n"
     ]
    },
    {
     "name": "stderr",
     "output_type": "stream",
     "text": [
      "Processing reggae:  48%|█████████████████████████████▊                                | 48/100 [00:05<00:05,  9.04it/s]"
     ]
    },
    {
     "name": "stdout",
     "output_type": "stream",
     "text": [
      "✔️ Processed: C:\\Users\\krish\\OneDrive\\Desktop\\Music Genre Classifier\\Genre Classifier Dataset\\genres\\reggae\\reggae.00046.au\n",
      "✔️ Processed: C:\\Users\\krish\\OneDrive\\Desktop\\Music Genre Classifier\\Genre Classifier Dataset\\genres\\reggae\\reggae.00047.au\n"
     ]
    },
    {
     "name": "stderr",
     "output_type": "stream",
     "text": [
      "Processing reggae:  51%|███████████████████████████████▌                              | 51/100 [00:05<00:05,  9.12it/s]"
     ]
    },
    {
     "name": "stdout",
     "output_type": "stream",
     "text": [
      "✔️ Processed: C:\\Users\\krish\\OneDrive\\Desktop\\Music Genre Classifier\\Genre Classifier Dataset\\genres\\reggae\\reggae.00048.au\n",
      "✔️ Processed: C:\\Users\\krish\\OneDrive\\Desktop\\Music Genre Classifier\\Genre Classifier Dataset\\genres\\reggae\\reggae.00049.au\n",
      "✔️ Processed: C:\\Users\\krish\\OneDrive\\Desktop\\Music Genre Classifier\\Genre Classifier Dataset\\genres\\reggae\\reggae.00050.au\n"
     ]
    },
    {
     "name": "stderr",
     "output_type": "stream",
     "text": [
      "Processing reggae:  53%|████████████████████████████████▊                             | 53/100 [00:05<00:05,  9.23it/s]"
     ]
    },
    {
     "name": "stdout",
     "output_type": "stream",
     "text": [
      "✔️ Processed: C:\\Users\\krish\\OneDrive\\Desktop\\Music Genre Classifier\\Genre Classifier Dataset\\genres\\reggae\\reggae.00051.au\n",
      "✔️ Processed: C:\\Users\\krish\\OneDrive\\Desktop\\Music Genre Classifier\\Genre Classifier Dataset\\genres\\reggae\\reggae.00052.au\n"
     ]
    },
    {
     "name": "stderr",
     "output_type": "stream",
     "text": [
      "Processing reggae:  55%|██████████████████████████████████                            | 55/100 [00:06<00:04,  9.11it/s]"
     ]
    },
    {
     "name": "stdout",
     "output_type": "stream",
     "text": [
      "✔️ Processed: C:\\Users\\krish\\OneDrive\\Desktop\\Music Genre Classifier\\Genre Classifier Dataset\\genres\\reggae\\reggae.00053.au\n",
      "✔️ Processed: C:\\Users\\krish\\OneDrive\\Desktop\\Music Genre Classifier\\Genre Classifier Dataset\\genres\\reggae\\reggae.00054.au\n",
      "✔️ Processed: C:\\Users\\krish\\OneDrive\\Desktop\\Music Genre Classifier\\Genre Classifier Dataset\\genres\\reggae\\reggae.00055.au\n"
     ]
    },
    {
     "name": "stderr",
     "output_type": "stream",
     "text": [
      "Processing reggae:  58%|███████████████████████████████████▉                          | 58/100 [00:06<00:04,  9.13it/s]"
     ]
    },
    {
     "name": "stdout",
     "output_type": "stream",
     "text": [
      "✔️ Processed: C:\\Users\\krish\\OneDrive\\Desktop\\Music Genre Classifier\\Genre Classifier Dataset\\genres\\reggae\\reggae.00056.au\n",
      "✔️ Processed: C:\\Users\\krish\\OneDrive\\Desktop\\Music Genre Classifier\\Genre Classifier Dataset\\genres\\reggae\\reggae.00057.au\n"
     ]
    },
    {
     "name": "stderr",
     "output_type": "stream",
     "text": [
      "Processing reggae:  60%|█████████████████████████████████████▏                        | 60/100 [00:06<00:04,  8.98it/s]"
     ]
    },
    {
     "name": "stdout",
     "output_type": "stream",
     "text": [
      "✔️ Processed: C:\\Users\\krish\\OneDrive\\Desktop\\Music Genre Classifier\\Genre Classifier Dataset\\genres\\reggae\\reggae.00058.au\n",
      "✔️ Processed: C:\\Users\\krish\\OneDrive\\Desktop\\Music Genre Classifier\\Genre Classifier Dataset\\genres\\reggae\\reggae.00059.au\n"
     ]
    },
    {
     "name": "stderr",
     "output_type": "stream",
     "text": [
      "Processing reggae:  62%|██████████████████████████████████████▍                       | 62/100 [00:06<00:04,  9.19it/s]"
     ]
    },
    {
     "name": "stdout",
     "output_type": "stream",
     "text": [
      "✔️ Processed: C:\\Users\\krish\\OneDrive\\Desktop\\Music Genre Classifier\\Genre Classifier Dataset\\genres\\reggae\\reggae.00060.au\n",
      "✔️ Processed: C:\\Users\\krish\\OneDrive\\Desktop\\Music Genre Classifier\\Genre Classifier Dataset\\genres\\reggae\\reggae.00061.au\n"
     ]
    },
    {
     "name": "stderr",
     "output_type": "stream",
     "text": [
      "Processing reggae:  64%|███████████████████████████████████████▋                      | 64/100 [00:07<00:03,  9.17it/s]"
     ]
    },
    {
     "name": "stdout",
     "output_type": "stream",
     "text": [
      "✔️ Processed: C:\\Users\\krish\\OneDrive\\Desktop\\Music Genre Classifier\\Genre Classifier Dataset\\genres\\reggae\\reggae.00062.au\n",
      "✔️ Processed: C:\\Users\\krish\\OneDrive\\Desktop\\Music Genre Classifier\\Genre Classifier Dataset\\genres\\reggae\\reggae.00063.au\n"
     ]
    },
    {
     "name": "stderr",
     "output_type": "stream",
     "text": [
      "Processing reggae:  67%|█████████████████████████████████████████▌                    | 67/100 [00:07<00:03,  9.28it/s]"
     ]
    },
    {
     "name": "stdout",
     "output_type": "stream",
     "text": [
      "✔️ Processed: C:\\Users\\krish\\OneDrive\\Desktop\\Music Genre Classifier\\Genre Classifier Dataset\\genres\\reggae\\reggae.00064.au\n",
      "✔️ Processed: C:\\Users\\krish\\OneDrive\\Desktop\\Music Genre Classifier\\Genre Classifier Dataset\\genres\\reggae\\reggae.00065.au\n",
      "✔️ Processed: C:\\Users\\krish\\OneDrive\\Desktop\\Music Genre Classifier\\Genre Classifier Dataset\\genres\\reggae\\reggae.00066.au\n"
     ]
    },
    {
     "name": "stderr",
     "output_type": "stream",
     "text": [
      "Processing reggae:  69%|██████████████████████████████████████████▊                   | 69/100 [00:07<00:03,  9.25it/s]"
     ]
    },
    {
     "name": "stdout",
     "output_type": "stream",
     "text": [
      "✔️ Processed: C:\\Users\\krish\\OneDrive\\Desktop\\Music Genre Classifier\\Genre Classifier Dataset\\genres\\reggae\\reggae.00067.au\n",
      "✔️ Processed: C:\\Users\\krish\\OneDrive\\Desktop\\Music Genre Classifier\\Genre Classifier Dataset\\genres\\reggae\\reggae.00068.au\n"
     ]
    },
    {
     "name": "stderr",
     "output_type": "stream",
     "text": [
      "Processing reggae:  71%|████████████████████████████████████████████                  | 71/100 [00:07<00:03,  8.88it/s]"
     ]
    },
    {
     "name": "stdout",
     "output_type": "stream",
     "text": [
      "✔️ Processed: C:\\Users\\krish\\OneDrive\\Desktop\\Music Genre Classifier\\Genre Classifier Dataset\\genres\\reggae\\reggae.00069.au\n",
      "✔️ Processed: C:\\Users\\krish\\OneDrive\\Desktop\\Music Genre Classifier\\Genre Classifier Dataset\\genres\\reggae\\reggae.00070.au\n"
     ]
    },
    {
     "name": "stderr",
     "output_type": "stream",
     "text": [
      "Processing reggae:  73%|█████████████████████████████████████████████▎                | 73/100 [00:08<00:03,  8.87it/s]"
     ]
    },
    {
     "name": "stdout",
     "output_type": "stream",
     "text": [
      "✔️ Processed: C:\\Users\\krish\\OneDrive\\Desktop\\Music Genre Classifier\\Genre Classifier Dataset\\genres\\reggae\\reggae.00071.au\n",
      "✔️ Processed: C:\\Users\\krish\\OneDrive\\Desktop\\Music Genre Classifier\\Genre Classifier Dataset\\genres\\reggae\\reggae.00072.au\n"
     ]
    },
    {
     "name": "stderr",
     "output_type": "stream",
     "text": [
      "Processing reggae:  75%|██████████████████████████████████████████████▌               | 75/100 [00:08<00:02,  9.12it/s]"
     ]
    },
    {
     "name": "stdout",
     "output_type": "stream",
     "text": [
      "✔️ Processed: C:\\Users\\krish\\OneDrive\\Desktop\\Music Genre Classifier\\Genre Classifier Dataset\\genres\\reggae\\reggae.00073.au\n",
      "✔️ Processed: C:\\Users\\krish\\OneDrive\\Desktop\\Music Genre Classifier\\Genre Classifier Dataset\\genres\\reggae\\reggae.00074.au\n"
     ]
    },
    {
     "name": "stderr",
     "output_type": "stream",
     "text": [
      "Processing reggae:  77%|███████████████████████████████████████████████▋              | 77/100 [00:08<00:02,  9.16it/s]"
     ]
    },
    {
     "name": "stdout",
     "output_type": "stream",
     "text": [
      "✔️ Processed: C:\\Users\\krish\\OneDrive\\Desktop\\Music Genre Classifier\\Genre Classifier Dataset\\genres\\reggae\\reggae.00075.au\n",
      "✔️ Processed: C:\\Users\\krish\\OneDrive\\Desktop\\Music Genre Classifier\\Genre Classifier Dataset\\genres\\reggae\\reggae.00076.au\n"
     ]
    },
    {
     "name": "stderr",
     "output_type": "stream",
     "text": [
      "Processing reggae:  79%|████████████████████████████████████████████████▉             | 79/100 [00:08<00:02,  9.04it/s]"
     ]
    },
    {
     "name": "stdout",
     "output_type": "stream",
     "text": [
      "✔️ Processed: C:\\Users\\krish\\OneDrive\\Desktop\\Music Genre Classifier\\Genre Classifier Dataset\\genres\\reggae\\reggae.00077.au\n",
      "✔️ Processed: C:\\Users\\krish\\OneDrive\\Desktop\\Music Genre Classifier\\Genre Classifier Dataset\\genres\\reggae\\reggae.00078.au\n"
     ]
    },
    {
     "name": "stderr",
     "output_type": "stream",
     "text": [
      "Processing reggae:  81%|██████████████████████████████████████████████████▏           | 81/100 [00:08<00:02,  8.80it/s]"
     ]
    },
    {
     "name": "stdout",
     "output_type": "stream",
     "text": [
      "✔️ Processed: C:\\Users\\krish\\OneDrive\\Desktop\\Music Genre Classifier\\Genre Classifier Dataset\\genres\\reggae\\reggae.00079.au\n",
      "✔️ Processed: C:\\Users\\krish\\OneDrive\\Desktop\\Music Genre Classifier\\Genre Classifier Dataset\\genres\\reggae\\reggae.00080.au\n"
     ]
    },
    {
     "name": "stderr",
     "output_type": "stream",
     "text": [
      "Processing reggae:  83%|███████████████████████████████████████████████████▍          | 83/100 [00:09<00:01,  8.83it/s]"
     ]
    },
    {
     "name": "stdout",
     "output_type": "stream",
     "text": [
      "✔️ Processed: C:\\Users\\krish\\OneDrive\\Desktop\\Music Genre Classifier\\Genre Classifier Dataset\\genres\\reggae\\reggae.00081.au\n",
      "✔️ Processed: C:\\Users\\krish\\OneDrive\\Desktop\\Music Genre Classifier\\Genre Classifier Dataset\\genres\\reggae\\reggae.00082.au\n"
     ]
    },
    {
     "name": "stderr",
     "output_type": "stream",
     "text": [
      "Processing reggae:  85%|████████████████████████████████████████████████████▋         | 85/100 [00:09<00:01,  8.88it/s]"
     ]
    },
    {
     "name": "stdout",
     "output_type": "stream",
     "text": [
      "✔️ Processed: C:\\Users\\krish\\OneDrive\\Desktop\\Music Genre Classifier\\Genre Classifier Dataset\\genres\\reggae\\reggae.00083.au\n",
      "✔️ Processed: C:\\Users\\krish\\OneDrive\\Desktop\\Music Genre Classifier\\Genre Classifier Dataset\\genres\\reggae\\reggae.00084.au\n"
     ]
    },
    {
     "name": "stderr",
     "output_type": "stream",
     "text": [
      "Processing reggae:  87%|█████████████████████████████████████████████████████▉        | 87/100 [00:09<00:01,  9.08it/s]"
     ]
    },
    {
     "name": "stdout",
     "output_type": "stream",
     "text": [
      "✔️ Processed: C:\\Users\\krish\\OneDrive\\Desktop\\Music Genre Classifier\\Genre Classifier Dataset\\genres\\reggae\\reggae.00085.au\n",
      "✔️ Processed: C:\\Users\\krish\\OneDrive\\Desktop\\Music Genre Classifier\\Genre Classifier Dataset\\genres\\reggae\\reggae.00086.au\n"
     ]
    },
    {
     "name": "stderr",
     "output_type": "stream",
     "text": [
      "Processing reggae:  89%|███████████████████████████████████████████████████████▏      | 89/100 [00:09<00:01,  9.19it/s]"
     ]
    },
    {
     "name": "stdout",
     "output_type": "stream",
     "text": [
      "✔️ Processed: C:\\Users\\krish\\OneDrive\\Desktop\\Music Genre Classifier\\Genre Classifier Dataset\\genres\\reggae\\reggae.00087.au\n",
      "✔️ Processed: C:\\Users\\krish\\OneDrive\\Desktop\\Music Genre Classifier\\Genre Classifier Dataset\\genres\\reggae\\reggae.00088.au\n"
     ]
    },
    {
     "name": "stderr",
     "output_type": "stream",
     "text": [
      "Processing reggae:  91%|████████████████████████████████████████████████████████▍     | 91/100 [00:10<00:00,  9.14it/s]"
     ]
    },
    {
     "name": "stdout",
     "output_type": "stream",
     "text": [
      "✔️ Processed: C:\\Users\\krish\\OneDrive\\Desktop\\Music Genre Classifier\\Genre Classifier Dataset\\genres\\reggae\\reggae.00089.au\n",
      "✔️ Processed: C:\\Users\\krish\\OneDrive\\Desktop\\Music Genre Classifier\\Genre Classifier Dataset\\genres\\reggae\\reggae.00090.au\n"
     ]
    },
    {
     "name": "stderr",
     "output_type": "stream",
     "text": [
      "Processing reggae:  93%|█████████████████████████████████████████████████████████▋    | 93/100 [00:10<00:00,  9.15it/s]"
     ]
    },
    {
     "name": "stdout",
     "output_type": "stream",
     "text": [
      "✔️ Processed: C:\\Users\\krish\\OneDrive\\Desktop\\Music Genre Classifier\\Genre Classifier Dataset\\genres\\reggae\\reggae.00091.au\n",
      "✔️ Processed: C:\\Users\\krish\\OneDrive\\Desktop\\Music Genre Classifier\\Genre Classifier Dataset\\genres\\reggae\\reggae.00092.au\n"
     ]
    },
    {
     "name": "stderr",
     "output_type": "stream",
     "text": [
      "Processing reggae:  95%|██████████████████████████████████████████████████████████▉   | 95/100 [00:10<00:00,  9.20it/s]"
     ]
    },
    {
     "name": "stdout",
     "output_type": "stream",
     "text": [
      "✔️ Processed: C:\\Users\\krish\\OneDrive\\Desktop\\Music Genre Classifier\\Genre Classifier Dataset\\genres\\reggae\\reggae.00093.au\n",
      "✔️ Processed: C:\\Users\\krish\\OneDrive\\Desktop\\Music Genre Classifier\\Genre Classifier Dataset\\genres\\reggae\\reggae.00094.au\n"
     ]
    },
    {
     "name": "stderr",
     "output_type": "stream",
     "text": [
      "Processing reggae:  97%|████████████████████████████████████████████████████████████▏ | 97/100 [00:10<00:00,  8.96it/s]"
     ]
    },
    {
     "name": "stdout",
     "output_type": "stream",
     "text": [
      "✔️ Processed: C:\\Users\\krish\\OneDrive\\Desktop\\Music Genre Classifier\\Genre Classifier Dataset\\genres\\reggae\\reggae.00095.au\n",
      "✔️ Processed: C:\\Users\\krish\\OneDrive\\Desktop\\Music Genre Classifier\\Genre Classifier Dataset\\genres\\reggae\\reggae.00096.au\n"
     ]
    },
    {
     "name": "stderr",
     "output_type": "stream",
     "text": [
      "Processing reggae:  99%|█████████████████████████████████████████████████████████████▍| 99/100 [00:10<00:00,  8.99it/s]"
     ]
    },
    {
     "name": "stdout",
     "output_type": "stream",
     "text": [
      "✔️ Processed: C:\\Users\\krish\\OneDrive\\Desktop\\Music Genre Classifier\\Genre Classifier Dataset\\genres\\reggae\\reggae.00097.au\n",
      "✔️ Processed: C:\\Users\\krish\\OneDrive\\Desktop\\Music Genre Classifier\\Genre Classifier Dataset\\genres\\reggae\\reggae.00098.au\n"
     ]
    },
    {
     "name": "stderr",
     "output_type": "stream",
     "text": [
      "Processing reggae: 100%|█████████████████████████████████████████████████████████████| 100/100 [00:11<00:00,  9.08it/s]\n"
     ]
    },
    {
     "name": "stdout",
     "output_type": "stream",
     "text": [
      "✔️ Processed: C:\\Users\\krish\\OneDrive\\Desktop\\Music Genre Classifier\\Genre Classifier Dataset\\genres\\reggae\\reggae.00099.au\n"
     ]
    },
    {
     "name": "stderr",
     "output_type": "stream",
     "text": [
      "Processing rock:   1%|▋                                                                | 1/100 [00:00<00:10,  9.23it/s]"
     ]
    },
    {
     "name": "stdout",
     "output_type": "stream",
     "text": [
      "✔️ Processed: C:\\Users\\krish\\OneDrive\\Desktop\\Music Genre Classifier\\Genre Classifier Dataset\\genres\\rock\\rock.00000.au\n"
     ]
    },
    {
     "name": "stderr",
     "output_type": "stream",
     "text": [
      "Processing rock:   2%|█▎                                                               | 2/100 [00:00<00:10,  9.16it/s]"
     ]
    },
    {
     "name": "stdout",
     "output_type": "stream",
     "text": [
      "✔️ Processed: C:\\Users\\krish\\OneDrive\\Desktop\\Music Genre Classifier\\Genre Classifier Dataset\\genres\\rock\\rock.00001.au\n"
     ]
    },
    {
     "name": "stderr",
     "output_type": "stream",
     "text": [
      "Processing rock:   3%|█▉                                                               | 3/100 [00:00<00:10,  9.15it/s]"
     ]
    },
    {
     "name": "stdout",
     "output_type": "stream",
     "text": [
      "✔️ Processed: C:\\Users\\krish\\OneDrive\\Desktop\\Music Genre Classifier\\Genre Classifier Dataset\\genres\\rock\\rock.00002.au\n"
     ]
    },
    {
     "name": "stderr",
     "output_type": "stream",
     "text": [
      "Processing rock:   4%|██▌                                                              | 4/100 [00:00<00:10,  9.02it/s]"
     ]
    },
    {
     "name": "stdout",
     "output_type": "stream",
     "text": [
      "✔️ Processed: C:\\Users\\krish\\OneDrive\\Desktop\\Music Genre Classifier\\Genre Classifier Dataset\\genres\\rock\\rock.00003.au\n"
     ]
    },
    {
     "name": "stderr",
     "output_type": "stream",
     "text": [
      "Processing rock:   5%|███▎                                                             | 5/100 [00:00<00:10,  8.93it/s]"
     ]
    },
    {
     "name": "stdout",
     "output_type": "stream",
     "text": [
      "✔️ Processed: C:\\Users\\krish\\OneDrive\\Desktop\\Music Genre Classifier\\Genre Classifier Dataset\\genres\\rock\\rock.00004.au\n"
     ]
    },
    {
     "name": "stderr",
     "output_type": "stream",
     "text": [
      "Processing rock:   6%|███▉                                                             | 6/100 [00:00<00:10,  8.93it/s]"
     ]
    },
    {
     "name": "stdout",
     "output_type": "stream",
     "text": [
      "✔️ Processed: C:\\Users\\krish\\OneDrive\\Desktop\\Music Genre Classifier\\Genre Classifier Dataset\\genres\\rock\\rock.00005.au\n"
     ]
    },
    {
     "name": "stderr",
     "output_type": "stream",
     "text": [
      "Processing rock:   7%|████▌                                                            | 7/100 [00:00<00:10,  8.97it/s]"
     ]
    },
    {
     "name": "stdout",
     "output_type": "stream",
     "text": [
      "✔️ Processed: C:\\Users\\krish\\OneDrive\\Desktop\\Music Genre Classifier\\Genre Classifier Dataset\\genres\\rock\\rock.00006.au\n"
     ]
    },
    {
     "name": "stderr",
     "output_type": "stream",
     "text": [
      "Processing rock:   8%|█████▏                                                           | 8/100 [00:00<00:10,  9.06it/s]"
     ]
    },
    {
     "name": "stdout",
     "output_type": "stream",
     "text": [
      "✔️ Processed: C:\\Users\\krish\\OneDrive\\Desktop\\Music Genre Classifier\\Genre Classifier Dataset\\genres\\rock\\rock.00007.au\n"
     ]
    },
    {
     "name": "stderr",
     "output_type": "stream",
     "text": [
      "Processing rock:   9%|█████▊                                                           | 9/100 [00:00<00:09,  9.15it/s]"
     ]
    },
    {
     "name": "stdout",
     "output_type": "stream",
     "text": [
      "✔️ Processed: C:\\Users\\krish\\OneDrive\\Desktop\\Music Genre Classifier\\Genre Classifier Dataset\\genres\\rock\\rock.00008.au\n",
      "✔️ Processed: C:\\Users\\krish\\OneDrive\\Desktop\\Music Genre Classifier\\Genre Classifier Dataset\\genres\\rock\\rock.00009.au\n"
     ]
    },
    {
     "name": "stderr",
     "output_type": "stream",
     "text": [
      "Processing rock:  12%|███████▋                                                        | 12/100 [00:01<00:09,  9.44it/s]"
     ]
    },
    {
     "name": "stdout",
     "output_type": "stream",
     "text": [
      "✔️ Processed: C:\\Users\\krish\\OneDrive\\Desktop\\Music Genre Classifier\\Genre Classifier Dataset\\genres\\rock\\rock.00010.au\n",
      "✔️ Processed: C:\\Users\\krish\\OneDrive\\Desktop\\Music Genre Classifier\\Genre Classifier Dataset\\genres\\rock\\rock.00011.au\n"
     ]
    },
    {
     "name": "stderr",
     "output_type": "stream",
     "text": [
      "Processing rock:  14%|████████▉                                                       | 14/100 [00:01<00:09,  9.37it/s]"
     ]
    },
    {
     "name": "stdout",
     "output_type": "stream",
     "text": [
      "✔️ Processed: C:\\Users\\krish\\OneDrive\\Desktop\\Music Genre Classifier\\Genre Classifier Dataset\\genres\\rock\\rock.00012.au\n",
      "✔️ Processed: C:\\Users\\krish\\OneDrive\\Desktop\\Music Genre Classifier\\Genre Classifier Dataset\\genres\\rock\\rock.00013.au\n"
     ]
    },
    {
     "name": "stderr",
     "output_type": "stream",
     "text": [
      "Processing rock:  16%|██████████▏                                                     | 16/100 [00:01<00:09,  9.25it/s]"
     ]
    },
    {
     "name": "stdout",
     "output_type": "stream",
     "text": [
      "✔️ Processed: C:\\Users\\krish\\OneDrive\\Desktop\\Music Genre Classifier\\Genre Classifier Dataset\\genres\\rock\\rock.00014.au\n",
      "✔️ Processed: C:\\Users\\krish\\OneDrive\\Desktop\\Music Genre Classifier\\Genre Classifier Dataset\\genres\\rock\\rock.00015.au\n",
      "✔️ Processed: C:\\Users\\krish\\OneDrive\\Desktop\\Music Genre Classifier\\Genre Classifier Dataset\\genres\\rock\\rock.00016.au\n"
     ]
    },
    {
     "name": "stderr",
     "output_type": "stream",
     "text": [
      "Processing rock:  19%|████████████▏                                                   | 19/100 [00:02<00:08,  9.31it/s]"
     ]
    },
    {
     "name": "stdout",
     "output_type": "stream",
     "text": [
      "✔️ Processed: C:\\Users\\krish\\OneDrive\\Desktop\\Music Genre Classifier\\Genre Classifier Dataset\\genres\\rock\\rock.00017.au\n",
      "✔️ Processed: C:\\Users\\krish\\OneDrive\\Desktop\\Music Genre Classifier\\Genre Classifier Dataset\\genres\\rock\\rock.00018.au\n"
     ]
    },
    {
     "name": "stderr",
     "output_type": "stream",
     "text": [
      "Processing rock:  20%|████████████▊                                                   | 20/100 [00:02<00:08,  9.30it/s]"
     ]
    },
    {
     "name": "stdout",
     "output_type": "stream",
     "text": [
      "✔️ Processed: C:\\Users\\krish\\OneDrive\\Desktop\\Music Genre Classifier\\Genre Classifier Dataset\\genres\\rock\\rock.00019.au\n",
      "✔️ Processed: C:\\Users\\krish\\OneDrive\\Desktop\\Music Genre Classifier\\Genre Classifier Dataset\\genres\\rock\\rock.00020.au\n"
     ]
    },
    {
     "name": "stderr",
     "output_type": "stream",
     "text": [
      "Processing rock:  24%|███████████████▎                                                | 24/100 [00:02<00:08,  9.35it/s]"
     ]
    },
    {
     "name": "stdout",
     "output_type": "stream",
     "text": [
      "✔️ Processed: C:\\Users\\krish\\OneDrive\\Desktop\\Music Genre Classifier\\Genre Classifier Dataset\\genres\\rock\\rock.00021.au\n",
      "✔️ Processed: C:\\Users\\krish\\OneDrive\\Desktop\\Music Genre Classifier\\Genre Classifier Dataset\\genres\\rock\\rock.00022.au\n",
      "✔️ Processed: C:\\Users\\krish\\OneDrive\\Desktop\\Music Genre Classifier\\Genre Classifier Dataset\\genres\\rock\\rock.00023.au\n"
     ]
    },
    {
     "name": "stderr",
     "output_type": "stream",
     "text": [
      "Processing rock:  26%|████████████████▋                                               | 26/100 [00:02<00:07,  9.34it/s]"
     ]
    },
    {
     "name": "stdout",
     "output_type": "stream",
     "text": [
      "✔️ Processed: C:\\Users\\krish\\OneDrive\\Desktop\\Music Genre Classifier\\Genre Classifier Dataset\\genres\\rock\\rock.00024.au\n",
      "✔️ Processed: C:\\Users\\krish\\OneDrive\\Desktop\\Music Genre Classifier\\Genre Classifier Dataset\\genres\\rock\\rock.00025.au\n"
     ]
    },
    {
     "name": "stderr",
     "output_type": "stream",
     "text": [
      "Processing rock:  29%|██████████████████▌                                             | 29/100 [00:03<00:07,  9.41it/s]"
     ]
    },
    {
     "name": "stdout",
     "output_type": "stream",
     "text": [
      "✔️ Processed: C:\\Users\\krish\\OneDrive\\Desktop\\Music Genre Classifier\\Genre Classifier Dataset\\genres\\rock\\rock.00026.au\n",
      "✔️ Processed: C:\\Users\\krish\\OneDrive\\Desktop\\Music Genre Classifier\\Genre Classifier Dataset\\genres\\rock\\rock.00027.au\n",
      "✔️ Processed: C:\\Users\\krish\\OneDrive\\Desktop\\Music Genre Classifier\\Genre Classifier Dataset\\genres\\rock\\rock.00028.au\n"
     ]
    },
    {
     "name": "stderr",
     "output_type": "stream",
     "text": [
      "Processing rock:  31%|███████████████████▊                                            | 31/100 [00:03<00:07,  9.28it/s]"
     ]
    },
    {
     "name": "stdout",
     "output_type": "stream",
     "text": [
      "✔️ Processed: C:\\Users\\krish\\OneDrive\\Desktop\\Music Genre Classifier\\Genre Classifier Dataset\\genres\\rock\\rock.00029.au\n",
      "✔️ Processed: C:\\Users\\krish\\OneDrive\\Desktop\\Music Genre Classifier\\Genre Classifier Dataset\\genres\\rock\\rock.00030.au\n"
     ]
    },
    {
     "name": "stderr",
     "output_type": "stream",
     "text": [
      "Processing rock:  33%|█████████████████████                                           | 33/100 [00:03<00:07,  9.03it/s]"
     ]
    },
    {
     "name": "stdout",
     "output_type": "stream",
     "text": [
      "✔️ Processed: C:\\Users\\krish\\OneDrive\\Desktop\\Music Genre Classifier\\Genre Classifier Dataset\\genres\\rock\\rock.00031.au\n",
      "✔️ Processed: C:\\Users\\krish\\OneDrive\\Desktop\\Music Genre Classifier\\Genre Classifier Dataset\\genres\\rock\\rock.00032.au\n"
     ]
    },
    {
     "name": "stderr",
     "output_type": "stream",
     "text": [
      "Processing rock:  35%|██████████████████████▍                                         | 35/100 [00:03<00:07,  9.11it/s]"
     ]
    },
    {
     "name": "stdout",
     "output_type": "stream",
     "text": [
      "✔️ Processed: C:\\Users\\krish\\OneDrive\\Desktop\\Music Genre Classifier\\Genre Classifier Dataset\\genres\\rock\\rock.00033.au\n",
      "✔️ Processed: C:\\Users\\krish\\OneDrive\\Desktop\\Music Genre Classifier\\Genre Classifier Dataset\\genres\\rock\\rock.00034.au\n"
     ]
    },
    {
     "name": "stderr",
     "output_type": "stream",
     "text": [
      "Processing rock:  37%|███████████████████████▋                                        | 37/100 [00:04<00:06,  9.19it/s]"
     ]
    },
    {
     "name": "stdout",
     "output_type": "stream",
     "text": [
      "✔️ Processed: C:\\Users\\krish\\OneDrive\\Desktop\\Music Genre Classifier\\Genre Classifier Dataset\\genres\\rock\\rock.00035.au\n",
      "✔️ Processed: C:\\Users\\krish\\OneDrive\\Desktop\\Music Genre Classifier\\Genre Classifier Dataset\\genres\\rock\\rock.00036.au\n"
     ]
    },
    {
     "name": "stderr",
     "output_type": "stream",
     "text": [
      "Processing rock:  40%|█████████████████████████▌                                      | 40/100 [00:04<00:06,  8.90it/s]"
     ]
    },
    {
     "name": "stdout",
     "output_type": "stream",
     "text": [
      "✔️ Processed: C:\\Users\\krish\\OneDrive\\Desktop\\Music Genre Classifier\\Genre Classifier Dataset\\genres\\rock\\rock.00037.au\n",
      "✔️ Processed: C:\\Users\\krish\\OneDrive\\Desktop\\Music Genre Classifier\\Genre Classifier Dataset\\genres\\rock\\rock.00038.au\n",
      "✔️ Processed: C:\\Users\\krish\\OneDrive\\Desktop\\Music Genre Classifier\\Genre Classifier Dataset\\genres\\rock\\rock.00039.au\n"
     ]
    },
    {
     "name": "stderr",
     "output_type": "stream",
     "text": [
      "Processing rock:  42%|██████████████████████████▉                                     | 42/100 [00:04<00:06,  8.97it/s]"
     ]
    },
    {
     "name": "stdout",
     "output_type": "stream",
     "text": [
      "✔️ Processed: C:\\Users\\krish\\OneDrive\\Desktop\\Music Genre Classifier\\Genre Classifier Dataset\\genres\\rock\\rock.00040.au\n",
      "✔️ Processed: C:\\Users\\krish\\OneDrive\\Desktop\\Music Genre Classifier\\Genre Classifier Dataset\\genres\\rock\\rock.00041.au\n"
     ]
    },
    {
     "name": "stderr",
     "output_type": "stream",
     "text": [
      "Processing rock:  45%|████████████████████████████▊                                   | 45/100 [00:04<00:05,  9.32it/s]"
     ]
    },
    {
     "name": "stdout",
     "output_type": "stream",
     "text": [
      "✔️ Processed: C:\\Users\\krish\\OneDrive\\Desktop\\Music Genre Classifier\\Genre Classifier Dataset\\genres\\rock\\rock.00042.au\n",
      "✔️ Processed: C:\\Users\\krish\\OneDrive\\Desktop\\Music Genre Classifier\\Genre Classifier Dataset\\genres\\rock\\rock.00043.au\n",
      "✔️ Processed: C:\\Users\\krish\\OneDrive\\Desktop\\Music Genre Classifier\\Genre Classifier Dataset\\genres\\rock\\rock.00044.au\n"
     ]
    },
    {
     "name": "stderr",
     "output_type": "stream",
     "text": [
      "Processing rock:  47%|██████████████████████████████                                  | 47/100 [00:05<00:05,  9.12it/s]"
     ]
    },
    {
     "name": "stdout",
     "output_type": "stream",
     "text": [
      "✔️ Processed: C:\\Users\\krish\\OneDrive\\Desktop\\Music Genre Classifier\\Genre Classifier Dataset\\genres\\rock\\rock.00045.au\n",
      "✔️ Processed: C:\\Users\\krish\\OneDrive\\Desktop\\Music Genre Classifier\\Genre Classifier Dataset\\genres\\rock\\rock.00046.au\n",
      "✔️ Processed: C:\\Users\\krish\\OneDrive\\Desktop\\Music Genre Classifier\\Genre Classifier Dataset\\genres\\rock\\rock.00047.au\n"
     ]
    },
    {
     "name": "stderr",
     "output_type": "stream",
     "text": [
      "Processing rock:  50%|████████████████████████████████                                | 50/100 [00:05<00:05,  9.33it/s]"
     ]
    },
    {
     "name": "stdout",
     "output_type": "stream",
     "text": [
      "✔️ Processed: C:\\Users\\krish\\OneDrive\\Desktop\\Music Genre Classifier\\Genre Classifier Dataset\\genres\\rock\\rock.00048.au\n",
      "✔️ Processed: C:\\Users\\krish\\OneDrive\\Desktop\\Music Genre Classifier\\Genre Classifier Dataset\\genres\\rock\\rock.00049.au\n"
     ]
    },
    {
     "name": "stderr",
     "output_type": "stream",
     "text": [
      "Processing rock:  52%|█████████████████████████████████▎                              | 52/100 [00:05<00:05,  9.16it/s]"
     ]
    },
    {
     "name": "stdout",
     "output_type": "stream",
     "text": [
      "✔️ Processed: C:\\Users\\krish\\OneDrive\\Desktop\\Music Genre Classifier\\Genre Classifier Dataset\\genres\\rock\\rock.00050.au\n",
      "✔️ Processed: C:\\Users\\krish\\OneDrive\\Desktop\\Music Genre Classifier\\Genre Classifier Dataset\\genres\\rock\\rock.00051.au\n"
     ]
    },
    {
     "name": "stderr",
     "output_type": "stream",
     "text": [
      "Processing rock:  54%|██████████████████████████████████▌                             | 54/100 [00:05<00:04,  9.23it/s]"
     ]
    },
    {
     "name": "stdout",
     "output_type": "stream",
     "text": [
      "✔️ Processed: C:\\Users\\krish\\OneDrive\\Desktop\\Music Genre Classifier\\Genre Classifier Dataset\\genres\\rock\\rock.00052.au\n",
      "✔️ Processed: C:\\Users\\krish\\OneDrive\\Desktop\\Music Genre Classifier\\Genre Classifier Dataset\\genres\\rock\\rock.00053.au\n",
      "✔️ Processed: C:\\Users\\krish\\OneDrive\\Desktop\\Music Genre Classifier\\Genre Classifier Dataset\\genres\\rock\\rock.00054.au\n"
     ]
    },
    {
     "name": "stderr",
     "output_type": "stream",
     "text": [
      "Processing rock:  57%|████████████████████████████████████▍                           | 57/100 [00:06<00:04,  9.41it/s]"
     ]
    },
    {
     "name": "stdout",
     "output_type": "stream",
     "text": [
      "✔️ Processed: C:\\Users\\krish\\OneDrive\\Desktop\\Music Genre Classifier\\Genre Classifier Dataset\\genres\\rock\\rock.00055.au\n",
      "✔️ Processed: C:\\Users\\krish\\OneDrive\\Desktop\\Music Genre Classifier\\Genre Classifier Dataset\\genres\\rock\\rock.00056.au\n"
     ]
    },
    {
     "name": "stderr",
     "output_type": "stream",
     "text": [
      "Processing rock:  59%|█████████████████████████████████████▊                          | 59/100 [00:06<00:04,  9.24it/s]"
     ]
    },
    {
     "name": "stdout",
     "output_type": "stream",
     "text": [
      "✔️ Processed: C:\\Users\\krish\\OneDrive\\Desktop\\Music Genre Classifier\\Genre Classifier Dataset\\genres\\rock\\rock.00057.au\n",
      "✔️ Processed: C:\\Users\\krish\\OneDrive\\Desktop\\Music Genre Classifier\\Genre Classifier Dataset\\genres\\rock\\rock.00058.au\n"
     ]
    },
    {
     "name": "stderr",
     "output_type": "stream",
     "text": [
      "Processing rock:  61%|███████████████████████████████████████                         | 61/100 [00:06<00:04,  9.28it/s]"
     ]
    },
    {
     "name": "stdout",
     "output_type": "stream",
     "text": [
      "✔️ Processed: C:\\Users\\krish\\OneDrive\\Desktop\\Music Genre Classifier\\Genre Classifier Dataset\\genres\\rock\\rock.00059.au\n",
      "✔️ Processed: C:\\Users\\krish\\OneDrive\\Desktop\\Music Genre Classifier\\Genre Classifier Dataset\\genres\\rock\\rock.00060.au\n"
     ]
    },
    {
     "name": "stderr",
     "output_type": "stream",
     "text": [
      "Processing rock:  63%|████████████████████████████████████████▎                       | 63/100 [00:06<00:04,  9.21it/s]"
     ]
    },
    {
     "name": "stdout",
     "output_type": "stream",
     "text": [
      "✔️ Processed: C:\\Users\\krish\\OneDrive\\Desktop\\Music Genre Classifier\\Genre Classifier Dataset\\genres\\rock\\rock.00061.au\n",
      "✔️ Processed: C:\\Users\\krish\\OneDrive\\Desktop\\Music Genre Classifier\\Genre Classifier Dataset\\genres\\rock\\rock.00062.au\n"
     ]
    },
    {
     "name": "stderr",
     "output_type": "stream",
     "text": [
      "Processing rock:  65%|█████████████████████████████████████████▌                      | 65/100 [00:07<00:03,  9.18it/s]"
     ]
    },
    {
     "name": "stdout",
     "output_type": "stream",
     "text": [
      "✔️ Processed: C:\\Users\\krish\\OneDrive\\Desktop\\Music Genre Classifier\\Genre Classifier Dataset\\genres\\rock\\rock.00063.au\n",
      "✔️ Processed: C:\\Users\\krish\\OneDrive\\Desktop\\Music Genre Classifier\\Genre Classifier Dataset\\genres\\rock\\rock.00064.au\n"
     ]
    },
    {
     "name": "stderr",
     "output_type": "stream",
     "text": [
      "Processing rock:  67%|██████████████████████████████████████████▉                     | 67/100 [00:07<00:03,  9.18it/s]"
     ]
    },
    {
     "name": "stdout",
     "output_type": "stream",
     "text": [
      "✔️ Processed: C:\\Users\\krish\\OneDrive\\Desktop\\Music Genre Classifier\\Genre Classifier Dataset\\genres\\rock\\rock.00065.au\n",
      "✔️ Processed: C:\\Users\\krish\\OneDrive\\Desktop\\Music Genre Classifier\\Genre Classifier Dataset\\genres\\rock\\rock.00066.au\n"
     ]
    },
    {
     "name": "stderr",
     "output_type": "stream",
     "text": [
      "Processing rock:  69%|████████████████████████████████████████████▏                   | 69/100 [00:07<00:03,  9.03it/s]"
     ]
    },
    {
     "name": "stdout",
     "output_type": "stream",
     "text": [
      "✔️ Processed: C:\\Users\\krish\\OneDrive\\Desktop\\Music Genre Classifier\\Genre Classifier Dataset\\genres\\rock\\rock.00067.au\n",
      "✔️ Processed: C:\\Users\\krish\\OneDrive\\Desktop\\Music Genre Classifier\\Genre Classifier Dataset\\genres\\rock\\rock.00068.au\n"
     ]
    },
    {
     "name": "stderr",
     "output_type": "stream",
     "text": [
      "Processing rock:  71%|█████████████████████████████████████████████▍                  | 71/100 [00:07<00:03,  8.89it/s]"
     ]
    },
    {
     "name": "stdout",
     "output_type": "stream",
     "text": [
      "✔️ Processed: C:\\Users\\krish\\OneDrive\\Desktop\\Music Genre Classifier\\Genre Classifier Dataset\\genres\\rock\\rock.00069.au\n",
      "✔️ Processed: C:\\Users\\krish\\OneDrive\\Desktop\\Music Genre Classifier\\Genre Classifier Dataset\\genres\\rock\\rock.00070.au\n"
     ]
    },
    {
     "name": "stderr",
     "output_type": "stream",
     "text": [
      "Processing rock:  73%|██████████████████████████████████████████████▋                 | 73/100 [00:07<00:03,  8.98it/s]"
     ]
    },
    {
     "name": "stdout",
     "output_type": "stream",
     "text": [
      "✔️ Processed: C:\\Users\\krish\\OneDrive\\Desktop\\Music Genre Classifier\\Genre Classifier Dataset\\genres\\rock\\rock.00071.au\n",
      "✔️ Processed: C:\\Users\\krish\\OneDrive\\Desktop\\Music Genre Classifier\\Genre Classifier Dataset\\genres\\rock\\rock.00072.au\n"
     ]
    },
    {
     "name": "stderr",
     "output_type": "stream",
     "text": [
      "Processing rock:  75%|████████████████████████████████████████████████                | 75/100 [00:08<00:02,  9.11it/s]"
     ]
    },
    {
     "name": "stdout",
     "output_type": "stream",
     "text": [
      "✔️ Processed: C:\\Users\\krish\\OneDrive\\Desktop\\Music Genre Classifier\\Genre Classifier Dataset\\genres\\rock\\rock.00073.au\n",
      "✔️ Processed: C:\\Users\\krish\\OneDrive\\Desktop\\Music Genre Classifier\\Genre Classifier Dataset\\genres\\rock\\rock.00074.au\n"
     ]
    },
    {
     "name": "stderr",
     "output_type": "stream",
     "text": [
      "Processing rock:  78%|█████████████████████████████████████████████████▉              | 78/100 [00:08<00:02,  9.10it/s]"
     ]
    },
    {
     "name": "stdout",
     "output_type": "stream",
     "text": [
      "✔️ Processed: C:\\Users\\krish\\OneDrive\\Desktop\\Music Genre Classifier\\Genre Classifier Dataset\\genres\\rock\\rock.00075.au\n",
      "✔️ Processed: C:\\Users\\krish\\OneDrive\\Desktop\\Music Genre Classifier\\Genre Classifier Dataset\\genres\\rock\\rock.00076.au\n",
      "✔️ Processed: C:\\Users\\krish\\OneDrive\\Desktop\\Music Genre Classifier\\Genre Classifier Dataset\\genres\\rock\\rock.00077.au\n"
     ]
    },
    {
     "name": "stderr",
     "output_type": "stream",
     "text": [
      "Processing rock:  80%|███████████████████████████████████████████████████▏            | 80/100 [00:08<00:02,  9.07it/s]"
     ]
    },
    {
     "name": "stdout",
     "output_type": "stream",
     "text": [
      "✔️ Processed: C:\\Users\\krish\\OneDrive\\Desktop\\Music Genre Classifier\\Genre Classifier Dataset\\genres\\rock\\rock.00078.au\n",
      "✔️ Processed: C:\\Users\\krish\\OneDrive\\Desktop\\Music Genre Classifier\\Genre Classifier Dataset\\genres\\rock\\rock.00079.au\n",
      "✔️ Processed: C:\\Users\\krish\\OneDrive\\Desktop\\Music Genre Classifier\\Genre Classifier Dataset\\genres\\rock\\rock.00080.au\n"
     ]
    },
    {
     "name": "stderr",
     "output_type": "stream",
     "text": [
      "Processing rock:  83%|█████████████████████████████████████████████████████           | 83/100 [00:09<00:01,  9.40it/s]"
     ]
    },
    {
     "name": "stdout",
     "output_type": "stream",
     "text": [
      "✔️ Processed: C:\\Users\\krish\\OneDrive\\Desktop\\Music Genre Classifier\\Genre Classifier Dataset\\genres\\rock\\rock.00081.au\n",
      "✔️ Processed: C:\\Users\\krish\\OneDrive\\Desktop\\Music Genre Classifier\\Genre Classifier Dataset\\genres\\rock\\rock.00082.au\n"
     ]
    },
    {
     "name": "stderr",
     "output_type": "stream",
     "text": [
      "Processing rock:  85%|██████████████████████████████████████████████████████▍         | 85/100 [00:09<00:01,  9.25it/s]"
     ]
    },
    {
     "name": "stdout",
     "output_type": "stream",
     "text": [
      "✔️ Processed: C:\\Users\\krish\\OneDrive\\Desktop\\Music Genre Classifier\\Genre Classifier Dataset\\genres\\rock\\rock.00083.au\n",
      "✔️ Processed: C:\\Users\\krish\\OneDrive\\Desktop\\Music Genre Classifier\\Genre Classifier Dataset\\genres\\rock\\rock.00084.au\n"
     ]
    },
    {
     "name": "stderr",
     "output_type": "stream",
     "text": [
      "Processing rock:  87%|███████████████████████████████████████████████████████▋        | 87/100 [00:09<00:01,  9.13it/s]"
     ]
    },
    {
     "name": "stdout",
     "output_type": "stream",
     "text": [
      "✔️ Processed: C:\\Users\\krish\\OneDrive\\Desktop\\Music Genre Classifier\\Genre Classifier Dataset\\genres\\rock\\rock.00085.au\n",
      "✔️ Processed: C:\\Users\\krish\\OneDrive\\Desktop\\Music Genre Classifier\\Genre Classifier Dataset\\genres\\rock\\rock.00086.au\n",
      "✔️ Processed: C:\\Users\\krish\\OneDrive\\Desktop\\Music Genre Classifier\\Genre Classifier Dataset\\genres\\rock\\rock.00087.au\n"
     ]
    },
    {
     "name": "stderr",
     "output_type": "stream",
     "text": [
      "Processing rock:  90%|█████████████████████████████████████████████████████████▌      | 90/100 [00:09<00:01,  9.39it/s]"
     ]
    },
    {
     "name": "stdout",
     "output_type": "stream",
     "text": [
      "✔️ Processed: C:\\Users\\krish\\OneDrive\\Desktop\\Music Genre Classifier\\Genre Classifier Dataset\\genres\\rock\\rock.00088.au\n",
      "✔️ Processed: C:\\Users\\krish\\OneDrive\\Desktop\\Music Genre Classifier\\Genre Classifier Dataset\\genres\\rock\\rock.00089.au\n"
     ]
    },
    {
     "name": "stderr",
     "output_type": "stream",
     "text": [
      "Processing rock:  92%|██████████████████████████████████████████████████████████▉     | 92/100 [00:09<00:00,  9.28it/s]"
     ]
    },
    {
     "name": "stdout",
     "output_type": "stream",
     "text": [
      "✔️ Processed: C:\\Users\\krish\\OneDrive\\Desktop\\Music Genre Classifier\\Genre Classifier Dataset\\genres\\rock\\rock.00090.au\n",
      "✔️ Processed: C:\\Users\\krish\\OneDrive\\Desktop\\Music Genre Classifier\\Genre Classifier Dataset\\genres\\rock\\rock.00091.au\n"
     ]
    },
    {
     "name": "stderr",
     "output_type": "stream",
     "text": [
      "Processing rock:  94%|████████████████████████████████████████████████████████████▏   | 94/100 [00:10<00:00,  9.26it/s]"
     ]
    },
    {
     "name": "stdout",
     "output_type": "stream",
     "text": [
      "✔️ Processed: C:\\Users\\krish\\OneDrive\\Desktop\\Music Genre Classifier\\Genre Classifier Dataset\\genres\\rock\\rock.00092.au\n",
      "✔️ Processed: C:\\Users\\krish\\OneDrive\\Desktop\\Music Genre Classifier\\Genre Classifier Dataset\\genres\\rock\\rock.00093.au\n"
     ]
    },
    {
     "name": "stderr",
     "output_type": "stream",
     "text": [
      "Processing rock:  96%|█████████████████████████████████████████████████████████████▍  | 96/100 [00:10<00:00,  8.94it/s]"
     ]
    },
    {
     "name": "stdout",
     "output_type": "stream",
     "text": [
      "✔️ Processed: C:\\Users\\krish\\OneDrive\\Desktop\\Music Genre Classifier\\Genre Classifier Dataset\\genres\\rock\\rock.00094.au\n",
      "✔️ Processed: C:\\Users\\krish\\OneDrive\\Desktop\\Music Genre Classifier\\Genre Classifier Dataset\\genres\\rock\\rock.00095.au\n"
     ]
    },
    {
     "name": "stderr",
     "output_type": "stream",
     "text": [
      "Processing rock:  99%|███████████████████████████████████████████████████████████████▎| 99/100 [00:10<00:00,  9.28it/s]"
     ]
    },
    {
     "name": "stdout",
     "output_type": "stream",
     "text": [
      "✔️ Processed: C:\\Users\\krish\\OneDrive\\Desktop\\Music Genre Classifier\\Genre Classifier Dataset\\genres\\rock\\rock.00096.au\n",
      "✔️ Processed: C:\\Users\\krish\\OneDrive\\Desktop\\Music Genre Classifier\\Genre Classifier Dataset\\genres\\rock\\rock.00097.au\n",
      "✔️ Processed: C:\\Users\\krish\\OneDrive\\Desktop\\Music Genre Classifier\\Genre Classifier Dataset\\genres\\rock\\rock.00098.au\n"
     ]
    },
    {
     "name": "stderr",
     "output_type": "stream",
     "text": [
      "Processing rock: 100%|███████████████████████████████████████████████████████████████| 100/100 [00:10<00:00,  9.20it/s]"
     ]
    },
    {
     "name": "stdout",
     "output_type": "stream",
     "text": [
      "✔️ Processed: C:\\Users\\krish\\OneDrive\\Desktop\\Music Genre Classifier\\Genre Classifier Dataset\\genres\\rock\\rock.00099.au\n"
     ]
    },
    {
     "name": "stderr",
     "output_type": "stream",
     "text": [
      "\n"
     ]
    }
   ],
   "source": [
    "for genre in genres:\n",
    "    genre_path = os.path.join(DATA_PATH, genre)\n",
    "    if not os.path.isdir(genre_path):\n",
    "        continue\n",
    "\n",
    "    for file in tqdm(os.listdir(genre_path), desc=f\"Processing {genre}\"):\n",
    "        if file.lower().endswith(('.wav', '.au')):\n",
    "            file_path = os.path.join(genre_path, file)\n",
    "            try:\n",
    "                mfcc = extract_features(file_path)\n",
    "                X.append(mfcc)\n",
    "                y.append(genre)\n",
    "                print(f\"✔️ Processed: {file_path}\")\n",
    "            except Exception as e:\n",
    "                print(f\"❌ Error processing {file_path}: {e}\")\n"
   ]
  },
  {
   "cell_type": "code",
   "execution_count": 22,
   "id": "4f7e3b8f-45db-4249-affc-f171ed40f7d3",
   "metadata": {},
   "outputs": [
    {
     "name": "stdout",
     "output_type": "stream",
     "text": [
      "Total samples extracted: 1000\n",
      "Total labels extracted: 1000\n"
     ]
    }
   ],
   "source": [
    "print(f\"Total samples extracted: {len(X)}\")\n",
    "print(f\"Total labels extracted: {len(y)}\")\n"
   ]
  },
  {
   "cell_type": "code",
   "execution_count": 24,
   "id": "b1fb602e-e4b5-4e08-9f24-4655834449a0",
   "metadata": {},
   "outputs": [],
   "source": [
    "from sklearn.preprocessing import LabelEncoder\n",
    "from tensorflow.keras.utils import to_categorical\n",
    "from sklearn.model_selection import train_test_split\n",
    "\n",
    "# Encode string labels to integers, then one-hot\n",
    "label_encoder = LabelEncoder()\n",
    "y_encoded = to_categorical(label_encoder.fit_transform(y))\n",
    "\n",
    "# Reshape X to add a channel dimension for CNN input (samples, height, width, channels)\n",
    "X = np.array(X)[..., np.newaxis]\n",
    "\n",
    "# Train-test split\n",
    "X_train, X_test, y_train, y_test = train_test_split(X, y_encoded, test_size=0.2, stratify=y_encoded, random_state=42)\n"
   ]
  },
  {
   "cell_type": "code",
   "execution_count": null,
   "id": "8d2e33a6-c8c7-40df-b1f1-394605f22bf4",
   "metadata": {},
   "outputs": [],
   "source": []
  },
  {
   "cell_type": "code",
   "execution_count": 28,
   "id": "840ea95e-1cd3-4e66-8182-2bae323127f3",
   "metadata": {},
   "outputs": [],
   "source": [
    "# Make sure X is reshaped properly\n",
    "X = np.array(X)\n",
    "X = X.reshape(X.shape[0], X.shape[1], X.shape[2], 1)  # (samples, 13, 130, 1)\n",
    "\n",
    "input_shape = X_train.shape[1:]  # Should be (13, 130, 1) or similar\n",
    "\n",
    "model = Sequential([\n",
    "    Conv2D(32, (3, 3), padding='same', activation='relu', input_shape=input_shape),\n",
    "    MaxPooling2D((2, 2)),\n",
    "    BatchNormalization(),\n",
    "\n",
    "    Conv2D(64, (3, 3), padding='same', activation='relu'),\n",
    "    MaxPooling2D((2, 2)),\n",
    "    BatchNormalization(),\n",
    "\n",
    "    Conv2D(128, (3, 3), padding='same', activation='relu'),\n",
    "    MaxPooling2D((2, 2)),\n",
    "    BatchNormalization(),\n",
    "\n",
    "    Flatten(),\n",
    "    Dense(128, activation='relu'),\n",
    "    Dropout(0.3),\n",
    "    Dense(64, activation='relu'),\n",
    "    Dropout(0.3),\n",
    "    Dense(10, activation='softmax')\n",
    "])\n"
   ]
  },
  {
   "cell_type": "code",
   "execution_count": 30,
   "id": "90b7cefc-3d8b-4f7a-b83c-47efa71a1db8",
   "metadata": {},
   "outputs": [
    {
     "data": {
      "text/html": [
       "<pre style=\"white-space:pre;overflow-x:auto;line-height:normal;font-family:Menlo,'DejaVu Sans Mono',consolas,'Courier New',monospace\"><span style=\"font-weight: bold\">Model: \"sequential_3\"</span>\n",
       "</pre>\n"
      ],
      "text/plain": [
       "\u001b[1mModel: \"sequential_3\"\u001b[0m\n"
      ]
     },
     "metadata": {},
     "output_type": "display_data"
    },
    {
     "data": {
      "text/html": [
       "<pre style=\"white-space:pre;overflow-x:auto;line-height:normal;font-family:Menlo,'DejaVu Sans Mono',consolas,'Courier New',monospace\">┏━━━━━━━━━━━━━━━━━━━━━━━━━━━━━━━━━━━━━━┳━━━━━━━━━━━━━━━━━━━━━━━━━━━━━┳━━━━━━━━━━━━━━━━━┓\n",
       "┃<span style=\"font-weight: bold\"> Layer (type)                         </span>┃<span style=\"font-weight: bold\"> Output Shape                </span>┃<span style=\"font-weight: bold\">         Param # </span>┃\n",
       "┡━━━━━━━━━━━━━━━━━━━━━━━━━━━━━━━━━━━━━━╇━━━━━━━━━━━━━━━━━━━━━━━━━━━━━╇━━━━━━━━━━━━━━━━━┩\n",
       "│ conv2d_9 (<span style=\"color: #0087ff; text-decoration-color: #0087ff\">Conv2D</span>)                    │ (<span style=\"color: #00d7ff; text-decoration-color: #00d7ff\">None</span>, <span style=\"color: #00af00; text-decoration-color: #00af00\">13</span>, <span style=\"color: #00af00; text-decoration-color: #00af00\">130</span>, <span style=\"color: #00af00; text-decoration-color: #00af00\">32</span>)         │             <span style=\"color: #00af00; text-decoration-color: #00af00\">320</span> │\n",
       "├──────────────────────────────────────┼─────────────────────────────┼─────────────────┤\n",
       "│ max_pooling2d_9 (<span style=\"color: #0087ff; text-decoration-color: #0087ff\">MaxPooling2D</span>)       │ (<span style=\"color: #00d7ff; text-decoration-color: #00d7ff\">None</span>, <span style=\"color: #00af00; text-decoration-color: #00af00\">6</span>, <span style=\"color: #00af00; text-decoration-color: #00af00\">65</span>, <span style=\"color: #00af00; text-decoration-color: #00af00\">32</span>)           │               <span style=\"color: #00af00; text-decoration-color: #00af00\">0</span> │\n",
       "├──────────────────────────────────────┼─────────────────────────────┼─────────────────┤\n",
       "│ batch_normalization_9                │ (<span style=\"color: #00d7ff; text-decoration-color: #00d7ff\">None</span>, <span style=\"color: #00af00; text-decoration-color: #00af00\">6</span>, <span style=\"color: #00af00; text-decoration-color: #00af00\">65</span>, <span style=\"color: #00af00; text-decoration-color: #00af00\">32</span>)           │             <span style=\"color: #00af00; text-decoration-color: #00af00\">128</span> │\n",
       "│ (<span style=\"color: #0087ff; text-decoration-color: #0087ff\">BatchNormalization</span>)                 │                             │                 │\n",
       "├──────────────────────────────────────┼─────────────────────────────┼─────────────────┤\n",
       "│ conv2d_10 (<span style=\"color: #0087ff; text-decoration-color: #0087ff\">Conv2D</span>)                   │ (<span style=\"color: #00d7ff; text-decoration-color: #00d7ff\">None</span>, <span style=\"color: #00af00; text-decoration-color: #00af00\">6</span>, <span style=\"color: #00af00; text-decoration-color: #00af00\">65</span>, <span style=\"color: #00af00; text-decoration-color: #00af00\">64</span>)           │          <span style=\"color: #00af00; text-decoration-color: #00af00\">18,496</span> │\n",
       "├──────────────────────────────────────┼─────────────────────────────┼─────────────────┤\n",
       "│ max_pooling2d_10 (<span style=\"color: #0087ff; text-decoration-color: #0087ff\">MaxPooling2D</span>)      │ (<span style=\"color: #00d7ff; text-decoration-color: #00d7ff\">None</span>, <span style=\"color: #00af00; text-decoration-color: #00af00\">3</span>, <span style=\"color: #00af00; text-decoration-color: #00af00\">32</span>, <span style=\"color: #00af00; text-decoration-color: #00af00\">64</span>)           │               <span style=\"color: #00af00; text-decoration-color: #00af00\">0</span> │\n",
       "├──────────────────────────────────────┼─────────────────────────────┼─────────────────┤\n",
       "│ batch_normalization_10               │ (<span style=\"color: #00d7ff; text-decoration-color: #00d7ff\">None</span>, <span style=\"color: #00af00; text-decoration-color: #00af00\">3</span>, <span style=\"color: #00af00; text-decoration-color: #00af00\">32</span>, <span style=\"color: #00af00; text-decoration-color: #00af00\">64</span>)           │             <span style=\"color: #00af00; text-decoration-color: #00af00\">256</span> │\n",
       "│ (<span style=\"color: #0087ff; text-decoration-color: #0087ff\">BatchNormalization</span>)                 │                             │                 │\n",
       "├──────────────────────────────────────┼─────────────────────────────┼─────────────────┤\n",
       "│ conv2d_11 (<span style=\"color: #0087ff; text-decoration-color: #0087ff\">Conv2D</span>)                   │ (<span style=\"color: #00d7ff; text-decoration-color: #00d7ff\">None</span>, <span style=\"color: #00af00; text-decoration-color: #00af00\">3</span>, <span style=\"color: #00af00; text-decoration-color: #00af00\">32</span>, <span style=\"color: #00af00; text-decoration-color: #00af00\">128</span>)          │          <span style=\"color: #00af00; text-decoration-color: #00af00\">73,856</span> │\n",
       "├──────────────────────────────────────┼─────────────────────────────┼─────────────────┤\n",
       "│ max_pooling2d_11 (<span style=\"color: #0087ff; text-decoration-color: #0087ff\">MaxPooling2D</span>)      │ (<span style=\"color: #00d7ff; text-decoration-color: #00d7ff\">None</span>, <span style=\"color: #00af00; text-decoration-color: #00af00\">1</span>, <span style=\"color: #00af00; text-decoration-color: #00af00\">16</span>, <span style=\"color: #00af00; text-decoration-color: #00af00\">128</span>)          │               <span style=\"color: #00af00; text-decoration-color: #00af00\">0</span> │\n",
       "├──────────────────────────────────────┼─────────────────────────────┼─────────────────┤\n",
       "│ batch_normalization_11               │ (<span style=\"color: #00d7ff; text-decoration-color: #00d7ff\">None</span>, <span style=\"color: #00af00; text-decoration-color: #00af00\">1</span>, <span style=\"color: #00af00; text-decoration-color: #00af00\">16</span>, <span style=\"color: #00af00; text-decoration-color: #00af00\">128</span>)          │             <span style=\"color: #00af00; text-decoration-color: #00af00\">512</span> │\n",
       "│ (<span style=\"color: #0087ff; text-decoration-color: #0087ff\">BatchNormalization</span>)                 │                             │                 │\n",
       "├──────────────────────────────────────┼─────────────────────────────┼─────────────────┤\n",
       "│ flatten_3 (<span style=\"color: #0087ff; text-decoration-color: #0087ff\">Flatten</span>)                  │ (<span style=\"color: #00d7ff; text-decoration-color: #00d7ff\">None</span>, <span style=\"color: #00af00; text-decoration-color: #00af00\">2048</span>)                │               <span style=\"color: #00af00; text-decoration-color: #00af00\">0</span> │\n",
       "├──────────────────────────────────────┼─────────────────────────────┼─────────────────┤\n",
       "│ dense_9 (<span style=\"color: #0087ff; text-decoration-color: #0087ff\">Dense</span>)                      │ (<span style=\"color: #00d7ff; text-decoration-color: #00d7ff\">None</span>, <span style=\"color: #00af00; text-decoration-color: #00af00\">128</span>)                 │         <span style=\"color: #00af00; text-decoration-color: #00af00\">262,272</span> │\n",
       "├──────────────────────────────────────┼─────────────────────────────┼─────────────────┤\n",
       "│ dropout_6 (<span style=\"color: #0087ff; text-decoration-color: #0087ff\">Dropout</span>)                  │ (<span style=\"color: #00d7ff; text-decoration-color: #00d7ff\">None</span>, <span style=\"color: #00af00; text-decoration-color: #00af00\">128</span>)                 │               <span style=\"color: #00af00; text-decoration-color: #00af00\">0</span> │\n",
       "├──────────────────────────────────────┼─────────────────────────────┼─────────────────┤\n",
       "│ dense_10 (<span style=\"color: #0087ff; text-decoration-color: #0087ff\">Dense</span>)                     │ (<span style=\"color: #00d7ff; text-decoration-color: #00d7ff\">None</span>, <span style=\"color: #00af00; text-decoration-color: #00af00\">64</span>)                  │           <span style=\"color: #00af00; text-decoration-color: #00af00\">8,256</span> │\n",
       "├──────────────────────────────────────┼─────────────────────────────┼─────────────────┤\n",
       "│ dropout_7 (<span style=\"color: #0087ff; text-decoration-color: #0087ff\">Dropout</span>)                  │ (<span style=\"color: #00d7ff; text-decoration-color: #00d7ff\">None</span>, <span style=\"color: #00af00; text-decoration-color: #00af00\">64</span>)                  │               <span style=\"color: #00af00; text-decoration-color: #00af00\">0</span> │\n",
       "├──────────────────────────────────────┼─────────────────────────────┼─────────────────┤\n",
       "│ dense_11 (<span style=\"color: #0087ff; text-decoration-color: #0087ff\">Dense</span>)                     │ (<span style=\"color: #00d7ff; text-decoration-color: #00d7ff\">None</span>, <span style=\"color: #00af00; text-decoration-color: #00af00\">10</span>)                  │             <span style=\"color: #00af00; text-decoration-color: #00af00\">650</span> │\n",
       "└──────────────────────────────────────┴─────────────────────────────┴─────────────────┘\n",
       "</pre>\n"
      ],
      "text/plain": [
       "┏━━━━━━━━━━━━━━━━━━━━━━━━━━━━━━━━━━━━━━┳━━━━━━━━━━━━━━━━━━━━━━━━━━━━━┳━━━━━━━━━━━━━━━━━┓\n",
       "┃\u001b[1m \u001b[0m\u001b[1mLayer (type)                        \u001b[0m\u001b[1m \u001b[0m┃\u001b[1m \u001b[0m\u001b[1mOutput Shape               \u001b[0m\u001b[1m \u001b[0m┃\u001b[1m \u001b[0m\u001b[1m        Param #\u001b[0m\u001b[1m \u001b[0m┃\n",
       "┡━━━━━━━━━━━━━━━━━━━━━━━━━━━━━━━━━━━━━━╇━━━━━━━━━━━━━━━━━━━━━━━━━━━━━╇━━━━━━━━━━━━━━━━━┩\n",
       "│ conv2d_9 (\u001b[38;5;33mConv2D\u001b[0m)                    │ (\u001b[38;5;45mNone\u001b[0m, \u001b[38;5;34m13\u001b[0m, \u001b[38;5;34m130\u001b[0m, \u001b[38;5;34m32\u001b[0m)         │             \u001b[38;5;34m320\u001b[0m │\n",
       "├──────────────────────────────────────┼─────────────────────────────┼─────────────────┤\n",
       "│ max_pooling2d_9 (\u001b[38;5;33mMaxPooling2D\u001b[0m)       │ (\u001b[38;5;45mNone\u001b[0m, \u001b[38;5;34m6\u001b[0m, \u001b[38;5;34m65\u001b[0m, \u001b[38;5;34m32\u001b[0m)           │               \u001b[38;5;34m0\u001b[0m │\n",
       "├──────────────────────────────────────┼─────────────────────────────┼─────────────────┤\n",
       "│ batch_normalization_9                │ (\u001b[38;5;45mNone\u001b[0m, \u001b[38;5;34m6\u001b[0m, \u001b[38;5;34m65\u001b[0m, \u001b[38;5;34m32\u001b[0m)           │             \u001b[38;5;34m128\u001b[0m │\n",
       "│ (\u001b[38;5;33mBatchNormalization\u001b[0m)                 │                             │                 │\n",
       "├──────────────────────────────────────┼─────────────────────────────┼─────────────────┤\n",
       "│ conv2d_10 (\u001b[38;5;33mConv2D\u001b[0m)                   │ (\u001b[38;5;45mNone\u001b[0m, \u001b[38;5;34m6\u001b[0m, \u001b[38;5;34m65\u001b[0m, \u001b[38;5;34m64\u001b[0m)           │          \u001b[38;5;34m18,496\u001b[0m │\n",
       "├──────────────────────────────────────┼─────────────────────────────┼─────────────────┤\n",
       "│ max_pooling2d_10 (\u001b[38;5;33mMaxPooling2D\u001b[0m)      │ (\u001b[38;5;45mNone\u001b[0m, \u001b[38;5;34m3\u001b[0m, \u001b[38;5;34m32\u001b[0m, \u001b[38;5;34m64\u001b[0m)           │               \u001b[38;5;34m0\u001b[0m │\n",
       "├──────────────────────────────────────┼─────────────────────────────┼─────────────────┤\n",
       "│ batch_normalization_10               │ (\u001b[38;5;45mNone\u001b[0m, \u001b[38;5;34m3\u001b[0m, \u001b[38;5;34m32\u001b[0m, \u001b[38;5;34m64\u001b[0m)           │             \u001b[38;5;34m256\u001b[0m │\n",
       "│ (\u001b[38;5;33mBatchNormalization\u001b[0m)                 │                             │                 │\n",
       "├──────────────────────────────────────┼─────────────────────────────┼─────────────────┤\n",
       "│ conv2d_11 (\u001b[38;5;33mConv2D\u001b[0m)                   │ (\u001b[38;5;45mNone\u001b[0m, \u001b[38;5;34m3\u001b[0m, \u001b[38;5;34m32\u001b[0m, \u001b[38;5;34m128\u001b[0m)          │          \u001b[38;5;34m73,856\u001b[0m │\n",
       "├──────────────────────────────────────┼─────────────────────────────┼─────────────────┤\n",
       "│ max_pooling2d_11 (\u001b[38;5;33mMaxPooling2D\u001b[0m)      │ (\u001b[38;5;45mNone\u001b[0m, \u001b[38;5;34m1\u001b[0m, \u001b[38;5;34m16\u001b[0m, \u001b[38;5;34m128\u001b[0m)          │               \u001b[38;5;34m0\u001b[0m │\n",
       "├──────────────────────────────────────┼─────────────────────────────┼─────────────────┤\n",
       "│ batch_normalization_11               │ (\u001b[38;5;45mNone\u001b[0m, \u001b[38;5;34m1\u001b[0m, \u001b[38;5;34m16\u001b[0m, \u001b[38;5;34m128\u001b[0m)          │             \u001b[38;5;34m512\u001b[0m │\n",
       "│ (\u001b[38;5;33mBatchNormalization\u001b[0m)                 │                             │                 │\n",
       "├──────────────────────────────────────┼─────────────────────────────┼─────────────────┤\n",
       "│ flatten_3 (\u001b[38;5;33mFlatten\u001b[0m)                  │ (\u001b[38;5;45mNone\u001b[0m, \u001b[38;5;34m2048\u001b[0m)                │               \u001b[38;5;34m0\u001b[0m │\n",
       "├──────────────────────────────────────┼─────────────────────────────┼─────────────────┤\n",
       "│ dense_9 (\u001b[38;5;33mDense\u001b[0m)                      │ (\u001b[38;5;45mNone\u001b[0m, \u001b[38;5;34m128\u001b[0m)                 │         \u001b[38;5;34m262,272\u001b[0m │\n",
       "├──────────────────────────────────────┼─────────────────────────────┼─────────────────┤\n",
       "│ dropout_6 (\u001b[38;5;33mDropout\u001b[0m)                  │ (\u001b[38;5;45mNone\u001b[0m, \u001b[38;5;34m128\u001b[0m)                 │               \u001b[38;5;34m0\u001b[0m │\n",
       "├──────────────────────────────────────┼─────────────────────────────┼─────────────────┤\n",
       "│ dense_10 (\u001b[38;5;33mDense\u001b[0m)                     │ (\u001b[38;5;45mNone\u001b[0m, \u001b[38;5;34m64\u001b[0m)                  │           \u001b[38;5;34m8,256\u001b[0m │\n",
       "├──────────────────────────────────────┼─────────────────────────────┼─────────────────┤\n",
       "│ dropout_7 (\u001b[38;5;33mDropout\u001b[0m)                  │ (\u001b[38;5;45mNone\u001b[0m, \u001b[38;5;34m64\u001b[0m)                  │               \u001b[38;5;34m0\u001b[0m │\n",
       "├──────────────────────────────────────┼─────────────────────────────┼─────────────────┤\n",
       "│ dense_11 (\u001b[38;5;33mDense\u001b[0m)                     │ (\u001b[38;5;45mNone\u001b[0m, \u001b[38;5;34m10\u001b[0m)                  │             \u001b[38;5;34m650\u001b[0m │\n",
       "└──────────────────────────────────────┴─────────────────────────────┴─────────────────┘\n"
      ]
     },
     "metadata": {},
     "output_type": "display_data"
    },
    {
     "data": {
      "text/html": [
       "<pre style=\"white-space:pre;overflow-x:auto;line-height:normal;font-family:Menlo,'DejaVu Sans Mono',consolas,'Courier New',monospace\"><span style=\"font-weight: bold\"> Total params: </span><span style=\"color: #00af00; text-decoration-color: #00af00\">364,746</span> (1.39 MB)\n",
       "</pre>\n"
      ],
      "text/plain": [
       "\u001b[1m Total params: \u001b[0m\u001b[38;5;34m364,746\u001b[0m (1.39 MB)\n"
      ]
     },
     "metadata": {},
     "output_type": "display_data"
    },
    {
     "data": {
      "text/html": [
       "<pre style=\"white-space:pre;overflow-x:auto;line-height:normal;font-family:Menlo,'DejaVu Sans Mono',consolas,'Courier New',monospace\"><span style=\"font-weight: bold\"> Trainable params: </span><span style=\"color: #00af00; text-decoration-color: #00af00\">364,298</span> (1.39 MB)\n",
       "</pre>\n"
      ],
      "text/plain": [
       "\u001b[1m Trainable params: \u001b[0m\u001b[38;5;34m364,298\u001b[0m (1.39 MB)\n"
      ]
     },
     "metadata": {},
     "output_type": "display_data"
    },
    {
     "data": {
      "text/html": [
       "<pre style=\"white-space:pre;overflow-x:auto;line-height:normal;font-family:Menlo,'DejaVu Sans Mono',consolas,'Courier New',monospace\"><span style=\"font-weight: bold\"> Non-trainable params: </span><span style=\"color: #00af00; text-decoration-color: #00af00\">448</span> (1.75 KB)\n",
       "</pre>\n"
      ],
      "text/plain": [
       "\u001b[1m Non-trainable params: \u001b[0m\u001b[38;5;34m448\u001b[0m (1.75 KB)\n"
      ]
     },
     "metadata": {},
     "output_type": "display_data"
    }
   ],
   "source": [
    "model.compile(optimizer='adam', loss='categorical_crossentropy', metrics=['accuracy'])\n",
    "\n",
    "model.summary()"
   ]
  },
  {
   "cell_type": "code",
   "execution_count": 37,
   "id": "ef1203ea-1f47-419d-baaf-f07fa6f235fe",
   "metadata": {},
   "outputs": [
    {
     "name": "stdout",
     "output_type": "stream",
     "text": [
      "Epoch 1/30\n",
      "\u001b[1m25/25\u001b[0m \u001b[32m━━━━━━━━━━━━━━━━━━━━\u001b[0m\u001b[37m\u001b[0m \u001b[1m1s\u001b[0m 53ms/step - accuracy: 0.9660 - loss: 0.1008 - val_accuracy: 0.4850 - val_loss: 2.7932\n",
      "Epoch 2/30\n",
      "\u001b[1m25/25\u001b[0m \u001b[32m━━━━━━━━━━━━━━━━━━━━\u001b[0m\u001b[37m\u001b[0m \u001b[1m1s\u001b[0m 49ms/step - accuracy: 0.9658 - loss: 0.1130 - val_accuracy: 0.5000 - val_loss: 2.6054\n",
      "Epoch 3/30\n",
      "\u001b[1m25/25\u001b[0m \u001b[32m━━━━━━━━━━━━━━━━━━━━\u001b[0m\u001b[37m\u001b[0m \u001b[1m1s\u001b[0m 49ms/step - accuracy: 0.9764 - loss: 0.0668 - val_accuracy: 0.5650 - val_loss: 2.2981\n",
      "Epoch 4/30\n",
      "\u001b[1m25/25\u001b[0m \u001b[32m━━━━━━━━━━━━━━━━━━━━\u001b[0m\u001b[37m\u001b[0m \u001b[1m1s\u001b[0m 48ms/step - accuracy: 0.9556 - loss: 0.1351 - val_accuracy: 0.5200 - val_loss: 2.7437\n",
      "Epoch 5/30\n",
      "\u001b[1m25/25\u001b[0m \u001b[32m━━━━━━━━━━━━━━━━━━━━\u001b[0m\u001b[37m\u001b[0m \u001b[1m1s\u001b[0m 49ms/step - accuracy: 0.9703 - loss: 0.0811 - val_accuracy: 0.5350 - val_loss: 2.9471\n",
      "Epoch 6/30\n",
      "\u001b[1m25/25\u001b[0m \u001b[32m━━━━━━━━━━━━━━━━━━━━\u001b[0m\u001b[37m\u001b[0m \u001b[1m1s\u001b[0m 48ms/step - accuracy: 0.9762 - loss: 0.0783 - val_accuracy: 0.5150 - val_loss: 2.9836\n",
      "Epoch 7/30\n",
      "\u001b[1m25/25\u001b[0m \u001b[32m━━━━━━━━━━━━━━━━━━━━\u001b[0m\u001b[37m\u001b[0m \u001b[1m1s\u001b[0m 49ms/step - accuracy: 0.9767 - loss: 0.0790 - val_accuracy: 0.5450 - val_loss: 2.6404\n",
      "Epoch 8/30\n",
      "\u001b[1m25/25\u001b[0m \u001b[32m━━━━━━━━━━━━━━━━━━━━\u001b[0m\u001b[37m\u001b[0m \u001b[1m1s\u001b[0m 49ms/step - accuracy: 0.9724 - loss: 0.0742 - val_accuracy: 0.4700 - val_loss: 2.7719\n",
      "Epoch 9/30\n",
      "\u001b[1m25/25\u001b[0m \u001b[32m━━━━━━━━━━━━━━━━━━━━\u001b[0m\u001b[37m\u001b[0m \u001b[1m1s\u001b[0m 49ms/step - accuracy: 0.9815 - loss: 0.0789 - val_accuracy: 0.4850 - val_loss: 2.8819\n",
      "Epoch 10/30\n",
      "\u001b[1m25/25\u001b[0m \u001b[32m━━━━━━━━━━━━━━━━━━━━\u001b[0m\u001b[37m\u001b[0m \u001b[1m1s\u001b[0m 49ms/step - accuracy: 0.9874 - loss: 0.0580 - val_accuracy: 0.5100 - val_loss: 2.6749\n",
      "Epoch 11/30\n",
      "\u001b[1m25/25\u001b[0m \u001b[32m━━━━━━━━━━━━━━━━━━━━\u001b[0m\u001b[37m\u001b[0m \u001b[1m1s\u001b[0m 50ms/step - accuracy: 0.9811 - loss: 0.0554 - val_accuracy: 0.5300 - val_loss: 2.6494\n",
      "Epoch 12/30\n",
      "\u001b[1m25/25\u001b[0m \u001b[32m━━━━━━━━━━━━━━━━━━━━\u001b[0m\u001b[37m\u001b[0m \u001b[1m1s\u001b[0m 49ms/step - accuracy: 0.9822 - loss: 0.0503 - val_accuracy: 0.5100 - val_loss: 2.7541\n",
      "Epoch 13/30\n",
      "\u001b[1m25/25\u001b[0m \u001b[32m━━━━━━━━━━━━━━━━━━━━\u001b[0m\u001b[37m\u001b[0m \u001b[1m1s\u001b[0m 50ms/step - accuracy: 0.9855 - loss: 0.0726 - val_accuracy: 0.5000 - val_loss: 2.6697\n",
      "Epoch 14/30\n",
      "\u001b[1m25/25\u001b[0m \u001b[32m━━━━━━━━━━━━━━━━━━━━\u001b[0m\u001b[37m\u001b[0m \u001b[1m1s\u001b[0m 51ms/step - accuracy: 0.9829 - loss: 0.0582 - val_accuracy: 0.5350 - val_loss: 3.0329\n",
      "Epoch 15/30\n",
      "\u001b[1m25/25\u001b[0m \u001b[32m━━━━━━━━━━━━━━━━━━━━\u001b[0m\u001b[37m\u001b[0m \u001b[1m1s\u001b[0m 53ms/step - accuracy: 0.9856 - loss: 0.0587 - val_accuracy: 0.5100 - val_loss: 3.3096\n",
      "Epoch 16/30\n",
      "\u001b[1m25/25\u001b[0m \u001b[32m━━━━━━━━━━━━━━━━━━━━\u001b[0m\u001b[37m\u001b[0m \u001b[1m1s\u001b[0m 48ms/step - accuracy: 0.9859 - loss: 0.0335 - val_accuracy: 0.5300 - val_loss: 2.9488\n",
      "Epoch 17/30\n",
      "\u001b[1m25/25\u001b[0m \u001b[32m━━━━━━━━━━━━━━━━━━━━\u001b[0m\u001b[37m\u001b[0m \u001b[1m1s\u001b[0m 49ms/step - accuracy: 0.9817 - loss: 0.0912 - val_accuracy: 0.4350 - val_loss: 3.1391\n",
      "Epoch 18/30\n",
      "\u001b[1m25/25\u001b[0m \u001b[32m━━━━━━━━━━━━━━━━━━━━\u001b[0m\u001b[37m\u001b[0m \u001b[1m1s\u001b[0m 50ms/step - accuracy: 0.9735 - loss: 0.0901 - val_accuracy: 0.4650 - val_loss: 3.5728\n",
      "Epoch 19/30\n",
      "\u001b[1m25/25\u001b[0m \u001b[32m━━━━━━━━━━━━━━━━━━━━\u001b[0m\u001b[37m\u001b[0m \u001b[1m1s\u001b[0m 51ms/step - accuracy: 0.9754 - loss: 0.0594 - val_accuracy: 0.4950 - val_loss: 2.7479\n",
      "Epoch 20/30\n",
      "\u001b[1m25/25\u001b[0m \u001b[32m━━━━━━━━━━━━━━━━━━━━\u001b[0m\u001b[37m\u001b[0m \u001b[1m1s\u001b[0m 49ms/step - accuracy: 0.9794 - loss: 0.0742 - val_accuracy: 0.5450 - val_loss: 2.5587\n",
      "Epoch 21/30\n",
      "\u001b[1m25/25\u001b[0m \u001b[32m━━━━━━━━━━━━━━━━━━━━\u001b[0m\u001b[37m\u001b[0m \u001b[1m1s\u001b[0m 49ms/step - accuracy: 0.9649 - loss: 0.0965 - val_accuracy: 0.5300 - val_loss: 3.2423\n",
      "Epoch 22/30\n",
      "\u001b[1m25/25\u001b[0m \u001b[32m━━━━━━━━━━━━━━━━━━━━\u001b[0m\u001b[37m\u001b[0m \u001b[1m1s\u001b[0m 49ms/step - accuracy: 0.9614 - loss: 0.1005 - val_accuracy: 0.4850 - val_loss: 3.8007\n",
      "Epoch 23/30\n",
      "\u001b[1m25/25\u001b[0m \u001b[32m━━━━━━━━━━━━━━━━━━━━\u001b[0m\u001b[37m\u001b[0m \u001b[1m1s\u001b[0m 49ms/step - accuracy: 0.9673 - loss: 0.0919 - val_accuracy: 0.5200 - val_loss: 3.1204\n",
      "Epoch 24/30\n",
      "\u001b[1m25/25\u001b[0m \u001b[32m━━━━━━━━━━━━━━━━━━━━\u001b[0m\u001b[37m\u001b[0m \u001b[1m1s\u001b[0m 50ms/step - accuracy: 0.9733 - loss: 0.0894 - val_accuracy: 0.5750 - val_loss: 2.5416\n",
      "Epoch 25/30\n",
      "\u001b[1m25/25\u001b[0m \u001b[32m━━━━━━━━━━━━━━━━━━━━\u001b[0m\u001b[37m\u001b[0m \u001b[1m1s\u001b[0m 49ms/step - accuracy: 0.9756 - loss: 0.0844 - val_accuracy: 0.4900 - val_loss: 3.6578\n",
      "Epoch 26/30\n",
      "\u001b[1m25/25\u001b[0m \u001b[32m━━━━━━━━━━━━━━━━━━━━\u001b[0m\u001b[37m\u001b[0m \u001b[1m1s\u001b[0m 51ms/step - accuracy: 0.9743 - loss: 0.0554 - val_accuracy: 0.5450 - val_loss: 3.1180\n",
      "Epoch 27/30\n",
      "\u001b[1m25/25\u001b[0m \u001b[32m━━━━━━━━━━━━━━━━━━━━\u001b[0m\u001b[37m\u001b[0m \u001b[1m1s\u001b[0m 48ms/step - accuracy: 0.9872 - loss: 0.0501 - val_accuracy: 0.5100 - val_loss: 2.9629\n",
      "Epoch 28/30\n",
      "\u001b[1m25/25\u001b[0m \u001b[32m━━━━━━━━━━━━━━━━━━━━\u001b[0m\u001b[37m\u001b[0m \u001b[1m1s\u001b[0m 46ms/step - accuracy: 0.9842 - loss: 0.0573 - val_accuracy: 0.5750 - val_loss: 2.6171\n",
      "Epoch 29/30\n",
      "\u001b[1m25/25\u001b[0m \u001b[32m━━━━━━━━━━━━━━━━━━━━\u001b[0m\u001b[37m\u001b[0m \u001b[1m1s\u001b[0m 48ms/step - accuracy: 0.9859 - loss: 0.0679 - val_accuracy: 0.5550 - val_loss: 3.0171\n",
      "Epoch 30/30\n",
      "\u001b[1m25/25\u001b[0m \u001b[32m━━━━━━━━━━━━━━━━━━━━\u001b[0m\u001b[37m\u001b[0m \u001b[1m1s\u001b[0m 49ms/step - accuracy: 0.9815 - loss: 0.0474 - val_accuracy: 0.5350 - val_loss: 2.8609\n"
     ]
    }
   ],
   "source": [
    "history = model.fit(X_train, y_train, \n",
    "                    validation_data=(X_test, y_test),\n",
    "                    epochs=30,\n",
    "                    batch_size=32)\n"
   ]
  },
  {
   "cell_type": "code",
   "execution_count": 32,
   "id": "e308b389-bba8-41ba-83c9-d305bd73bb5f",
   "metadata": {},
   "outputs": [
    {
     "data": {
      "image/png": "[encoded data removed]",
      "text/plain": [
       "<Figure size 1200x400 with 2 Axes>"
      ]
     },
     "metadata": {},
     "output_type": "display_data"
    }
   ],
   "source": [
    "import matplotlib.pyplot as plt\n",
    "\n",
    "# Plot training history\n",
    "plt.figure(figsize=(12, 4))\n",
    "\n",
    "# Accuracy\n",
    "plt.subplot(1, 2, 1)\n",
    "plt.plot(history.history['accuracy'], label='Train')\n",
    "plt.plot(history.history['val_accuracy'], label='Test')\n",
    "plt.title('Accuracy')\n",
    "plt.legend()\n",
    "\n",
    "# Loss\n",
    "plt.subplot(1, 2, 2)\n",
    "plt.plot(history.history['loss'], label='Train')\n",
    "plt.plot(history.history['val_loss'], label='Test')\n",
    "plt.title('Loss')\n",
    "plt.legend()\n",
    "\n",
    "plt.show()\n"
   ]
  },
  {
   "cell_type": "markdown",
   "id": "4117e7b1-3660-4f7f-9bb8-f4a403c48694",
   "metadata": {},
   "source": [
    "#### model is overfitting the training data — it learns training patterns very well, but doesn’t generalize to unseen test data.   So we will do regularization"
   ]
  },
  {
   "cell_type": "code",
   "execution_count": 34,
   "id": "e6c43528-7783-4c89-9bfe-12f2d84115b8",
   "metadata": {},
   "outputs": [
    {
     "data": {
      "text/plain": [
       "<Conv2D name=conv2d_12, built=False>"
      ]
     },
     "execution_count": 34,
     "metadata": {},
     "output_type": "execute_result"
    }
   ],
   "source": [
    "from tensorflow.keras.regularizers import l2\n",
    "\n",
    "Conv2D(32, (3, 3), activation='relu', kernel_regularizer=l2(0.001), input_shape=input_shape)\n"
   ]
  },
  {
   "cell_type": "code",
   "execution_count": 35,
   "id": "07c8374d-7823-4cb8-b634-71a39349119a",
   "metadata": {},
   "outputs": [],
   "source": [
    "from tensorflow.keras.callbacks import EarlyStopping\n",
    "\n",
    "early_stop = EarlyStopping(monitor='val_loss', patience=5, restore_best_weights=True)\n"
   ]
  },
  {
   "cell_type": "code",
   "execution_count": 38,
   "id": "ae1d2738-7a15-4094-8bae-811182bf7310",
   "metadata": {},
   "outputs": [
    {
     "name": "stdout",
     "output_type": "stream",
     "text": [
      "Epoch 1/50\n",
      "\u001b[1m25/25\u001b[0m \u001b[32m━━━━━━━━━━━━━━━━━━━━\u001b[0m\u001b[37m\u001b[0m \u001b[1m1s\u001b[0m 54ms/step - accuracy: 0.9728 - loss: 0.0913 - val_accuracy: 0.5550 - val_loss: 2.6411\n",
      "Epoch 2/50\n",
      "\u001b[1m25/25\u001b[0m \u001b[32m━━━━━━━━━━━━━━━━━━━━\u001b[0m\u001b[37m\u001b[0m \u001b[1m1s\u001b[0m 49ms/step - accuracy: 0.9789 - loss: 0.0539 - val_accuracy: 0.5250 - val_loss: 2.7492\n",
      "Epoch 3/50\n",
      "\u001b[1m25/25\u001b[0m \u001b[32m━━━━━━━━━━━━━━━━━━━━\u001b[0m\u001b[37m\u001b[0m \u001b[1m1s\u001b[0m 49ms/step - accuracy: 0.9868 - loss: 0.0565 - val_accuracy: 0.5400 - val_loss: 2.8750\n",
      "Epoch 4/50\n",
      "\u001b[1m25/25\u001b[0m \u001b[32m━━━━━━━━━━━━━━━━━━━━\u001b[0m\u001b[37m\u001b[0m \u001b[1m1s\u001b[0m 50ms/step - accuracy: 0.9825 - loss: 0.0524 - val_accuracy: 0.5500 - val_loss: 2.6255\n",
      "Epoch 5/50\n",
      "\u001b[1m25/25\u001b[0m \u001b[32m━━━━━━━━━━━━━━━━━━━━\u001b[0m\u001b[37m\u001b[0m \u001b[1m1s\u001b[0m 49ms/step - accuracy: 0.9934 - loss: 0.0319 - val_accuracy: 0.5450 - val_loss: 3.0419\n"
     ]
    }
   ],
   "source": [
    "history=model.fit(X_train, y_train, validation_data=(X_test, y_test),\n",
    "          epochs=50, batch_size=32, callbacks=[early_stop])\n"
   ]
  },
  {
   "cell_type": "code",
   "execution_count": 39,
   "id": "29275325-ece7-4e85-98c7-1024dd27f732",
   "metadata": {},
   "outputs": [
    {
     "data": {
      "image/png": "[encoded data removed]",
      "text/plain": [
       "<Figure size 1200x400 with 2 Axes>"
      ]
     },
     "metadata": {},
     "output_type": "display_data"
    }
   ],
   "source": [
    "import matplotlib.pyplot as plt\n",
    "\n",
    "# Plot training history\n",
    "plt.figure(figsize=(12, 4))\n",
    "\n",
    "# Accuracy\n",
    "plt.subplot(1, 2, 1)\n",
    "plt.plot(history.history['accuracy'], label='Train')\n",
    "plt.plot(history.history['val_accuracy'], label='Test')\n",
    "plt.title('Accuracy')\n",
    "plt.legend()\n",
    "\n",
    "# Loss\n",
    "plt.subplot(1, 2, 2)\n",
    "plt.plot(history.history['loss'], label='Train')\n",
    "plt.plot(history.history['val_loss'], label='Test')\n",
    "plt.title('Loss')\n",
    "plt.legend()\n",
    "\n",
    "plt.show()\n"
   ]
  },
  {
   "cell_type": "code",
   "execution_count": 41,
   "id": "e3e737f5-81b0-4026-8320-40844068bed7",
   "metadata": {},
   "outputs": [],
   "source": [
    "model = Sequential([\n",
    "    Conv2D(16, (3, 3), activation='relu', input_shape=input_shape),\n",
    "    MaxPooling2D((2, 2)),\n",
    "    BatchNormalization(),\n",
    "\n",
    "    Conv2D(32, (3, 3), activation='relu'),\n",
    "    MaxPooling2D((2, 2)),\n",
    "    BatchNormalization(),\n",
    "\n",
    "    Flatten(),\n",
    "    Dense(64, activation='relu'),\n",
    "    Dropout(0.5),\n",
    "    Dense(y_train.shape[1], activation='softmax')  # Use correct number of classes\n",
    "])\n"
   ]
  },
  {
   "cell_type": "code",
   "execution_count": 42,
   "id": "800580a2-c7ec-4897-bc3c-af434dbb5437",
   "metadata": {},
   "outputs": [
    {
     "data": {
      "text/html": [
       "<pre style=\"white-space:pre;overflow-x:auto;line-height:normal;font-family:Menlo,'DejaVu Sans Mono',consolas,'Courier New',monospace\"><span style=\"font-weight: bold\">Model: \"sequential_4\"</span>\n",
       "</pre>\n"
      ],
      "text/plain": [
       "\u001b[1mModel: \"sequential_4\"\u001b[0m\n"
      ]
     },
     "metadata": {},
     "output_type": "display_data"
    },
    {
     "data": {
      "text/html": [
       "<pre style=\"white-space:pre;overflow-x:auto;line-height:normal;font-family:Menlo,'DejaVu Sans Mono',consolas,'Courier New',monospace\">┏━━━━━━━━━━━━━━━━━━━━━━━━━━━━━━━━━━━━━━┳━━━━━━━━━━━━━━━━━━━━━━━━━━━━━┳━━━━━━━━━━━━━━━━━┓\n",
       "┃<span style=\"font-weight: bold\"> Layer (type)                         </span>┃<span style=\"font-weight: bold\"> Output Shape                </span>┃<span style=\"font-weight: bold\">         Param # </span>┃\n",
       "┡━━━━━━━━━━━━━━━━━━━━━━━━━━━━━━━━━━━━━━╇━━━━━━━━━━━━━━━━━━━━━━━━━━━━━╇━━━━━━━━━━━━━━━━━┩\n",
       "│ conv2d_15 (<span style=\"color: #0087ff; text-decoration-color: #0087ff\">Conv2D</span>)                   │ (<span style=\"color: #00d7ff; text-decoration-color: #00d7ff\">None</span>, <span style=\"color: #00af00; text-decoration-color: #00af00\">11</span>, <span style=\"color: #00af00; text-decoration-color: #00af00\">128</span>, <span style=\"color: #00af00; text-decoration-color: #00af00\">16</span>)         │             <span style=\"color: #00af00; text-decoration-color: #00af00\">160</span> │\n",
       "├──────────────────────────────────────┼─────────────────────────────┼─────────────────┤\n",
       "│ max_pooling2d_14 (<span style=\"color: #0087ff; text-decoration-color: #0087ff\">MaxPooling2D</span>)      │ (<span style=\"color: #00d7ff; text-decoration-color: #00d7ff\">None</span>, <span style=\"color: #00af00; text-decoration-color: #00af00\">5</span>, <span style=\"color: #00af00; text-decoration-color: #00af00\">64</span>, <span style=\"color: #00af00; text-decoration-color: #00af00\">16</span>)           │               <span style=\"color: #00af00; text-decoration-color: #00af00\">0</span> │\n",
       "├──────────────────────────────────────┼─────────────────────────────┼─────────────────┤\n",
       "│ batch_normalization_14               │ (<span style=\"color: #00d7ff; text-decoration-color: #00d7ff\">None</span>, <span style=\"color: #00af00; text-decoration-color: #00af00\">5</span>, <span style=\"color: #00af00; text-decoration-color: #00af00\">64</span>, <span style=\"color: #00af00; text-decoration-color: #00af00\">16</span>)           │              <span style=\"color: #00af00; text-decoration-color: #00af00\">64</span> │\n",
       "│ (<span style=\"color: #0087ff; text-decoration-color: #0087ff\">BatchNormalization</span>)                 │                             │                 │\n",
       "├──────────────────────────────────────┼─────────────────────────────┼─────────────────┤\n",
       "│ conv2d_16 (<span style=\"color: #0087ff; text-decoration-color: #0087ff\">Conv2D</span>)                   │ (<span style=\"color: #00d7ff; text-decoration-color: #00d7ff\">None</span>, <span style=\"color: #00af00; text-decoration-color: #00af00\">3</span>, <span style=\"color: #00af00; text-decoration-color: #00af00\">62</span>, <span style=\"color: #00af00; text-decoration-color: #00af00\">32</span>)           │           <span style=\"color: #00af00; text-decoration-color: #00af00\">4,640</span> │\n",
       "├──────────────────────────────────────┼─────────────────────────────┼─────────────────┤\n",
       "│ max_pooling2d_15 (<span style=\"color: #0087ff; text-decoration-color: #0087ff\">MaxPooling2D</span>)      │ (<span style=\"color: #00d7ff; text-decoration-color: #00d7ff\">None</span>, <span style=\"color: #00af00; text-decoration-color: #00af00\">1</span>, <span style=\"color: #00af00; text-decoration-color: #00af00\">31</span>, <span style=\"color: #00af00; text-decoration-color: #00af00\">32</span>)           │               <span style=\"color: #00af00; text-decoration-color: #00af00\">0</span> │\n",
       "├──────────────────────────────────────┼─────────────────────────────┼─────────────────┤\n",
       "│ batch_normalization_15               │ (<span style=\"color: #00d7ff; text-decoration-color: #00d7ff\">None</span>, <span style=\"color: #00af00; text-decoration-color: #00af00\">1</span>, <span style=\"color: #00af00; text-decoration-color: #00af00\">31</span>, <span style=\"color: #00af00; text-decoration-color: #00af00\">32</span>)           │             <span style=\"color: #00af00; text-decoration-color: #00af00\">128</span> │\n",
       "│ (<span style=\"color: #0087ff; text-decoration-color: #0087ff\">BatchNormalization</span>)                 │                             │                 │\n",
       "├──────────────────────────────────────┼─────────────────────────────┼─────────────────┤\n",
       "│ flatten_5 (<span style=\"color: #0087ff; text-decoration-color: #0087ff\">Flatten</span>)                  │ (<span style=\"color: #00d7ff; text-decoration-color: #00d7ff\">None</span>, <span style=\"color: #00af00; text-decoration-color: #00af00\">992</span>)                 │               <span style=\"color: #00af00; text-decoration-color: #00af00\">0</span> │\n",
       "├──────────────────────────────────────┼─────────────────────────────┼─────────────────┤\n",
       "│ dense_13 (<span style=\"color: #0087ff; text-decoration-color: #0087ff\">Dense</span>)                     │ (<span style=\"color: #00d7ff; text-decoration-color: #00d7ff\">None</span>, <span style=\"color: #00af00; text-decoration-color: #00af00\">64</span>)                  │          <span style=\"color: #00af00; text-decoration-color: #00af00\">63,552</span> │\n",
       "├──────────────────────────────────────┼─────────────────────────────┼─────────────────┤\n",
       "│ dropout_9 (<span style=\"color: #0087ff; text-decoration-color: #0087ff\">Dropout</span>)                  │ (<span style=\"color: #00d7ff; text-decoration-color: #00d7ff\">None</span>, <span style=\"color: #00af00; text-decoration-color: #00af00\">64</span>)                  │               <span style=\"color: #00af00; text-decoration-color: #00af00\">0</span> │\n",
       "├──────────────────────────────────────┼─────────────────────────────┼─────────────────┤\n",
       "│ dense_14 (<span style=\"color: #0087ff; text-decoration-color: #0087ff\">Dense</span>)                     │ (<span style=\"color: #00d7ff; text-decoration-color: #00d7ff\">None</span>, <span style=\"color: #00af00; text-decoration-color: #00af00\">10</span>)                  │             <span style=\"color: #00af00; text-decoration-color: #00af00\">650</span> │\n",
       "└──────────────────────────────────────┴─────────────────────────────┴─────────────────┘\n",
       "</pre>\n"
      ],
      "text/plain": [
       "┏━━━━━━━━━━━━━━━━━━━━━━━━━━━━━━━━━━━━━━┳━━━━━━━━━━━━━━━━━━━━━━━━━━━━━┳━━━━━━━━━━━━━━━━━┓\n",
       "┃\u001b[1m \u001b[0m\u001b[1mLayer (type)                        \u001b[0m\u001b[1m \u001b[0m┃\u001b[1m \u001b[0m\u001b[1mOutput Shape               \u001b[0m\u001b[1m \u001b[0m┃\u001b[1m \u001b[0m\u001b[1m        Param #\u001b[0m\u001b[1m \u001b[0m┃\n",
       "┡━━━━━━━━━━━━━━━━━━━━━━━━━━━━━━━━━━━━━━╇━━━━━━━━━━━━━━━━━━━━━━━━━━━━━╇━━━━━━━━━━━━━━━━━┩\n",
       "│ conv2d_15 (\u001b[38;5;33mConv2D\u001b[0m)                   │ (\u001b[38;5;45mNone\u001b[0m, \u001b[38;5;34m11\u001b[0m, \u001b[38;5;34m128\u001b[0m, \u001b[38;5;34m16\u001b[0m)         │             \u001b[38;5;34m160\u001b[0m │\n",
       "├──────────────────────────────────────┼─────────────────────────────┼─────────────────┤\n",
       "│ max_pooling2d_14 (\u001b[38;5;33mMaxPooling2D\u001b[0m)      │ (\u001b[38;5;45mNone\u001b[0m, \u001b[38;5;34m5\u001b[0m, \u001b[38;5;34m64\u001b[0m, \u001b[38;5;34m16\u001b[0m)           │               \u001b[38;5;34m0\u001b[0m │\n",
       "├──────────────────────────────────────┼─────────────────────────────┼─────────────────┤\n",
       "│ batch_normalization_14               │ (\u001b[38;5;45mNone\u001b[0m, \u001b[38;5;34m5\u001b[0m, \u001b[38;5;34m64\u001b[0m, \u001b[38;5;34m16\u001b[0m)           │              \u001b[38;5;34m64\u001b[0m │\n",
       "│ (\u001b[38;5;33mBatchNormalization\u001b[0m)                 │                             │                 │\n",
       "├──────────────────────────────────────┼─────────────────────────────┼─────────────────┤\n",
       "│ conv2d_16 (\u001b[38;5;33mConv2D\u001b[0m)                   │ (\u001b[38;5;45mNone\u001b[0m, \u001b[38;5;34m3\u001b[0m, \u001b[38;5;34m62\u001b[0m, \u001b[38;5;34m32\u001b[0m)           │           \u001b[38;5;34m4,640\u001b[0m │\n",
       "├──────────────────────────────────────┼─────────────────────────────┼─────────────────┤\n",
       "│ max_pooling2d_15 (\u001b[38;5;33mMaxPooling2D\u001b[0m)      │ (\u001b[38;5;45mNone\u001b[0m, \u001b[38;5;34m1\u001b[0m, \u001b[38;5;34m31\u001b[0m, \u001b[38;5;34m32\u001b[0m)           │               \u001b[38;5;34m0\u001b[0m │\n",
       "├──────────────────────────────────────┼─────────────────────────────┼─────────────────┤\n",
       "│ batch_normalization_15               │ (\u001b[38;5;45mNone\u001b[0m, \u001b[38;5;34m1\u001b[0m, \u001b[38;5;34m31\u001b[0m, \u001b[38;5;34m32\u001b[0m)           │             \u001b[38;5;34m128\u001b[0m │\n",
       "│ (\u001b[38;5;33mBatchNormalization\u001b[0m)                 │                             │                 │\n",
       "├──────────────────────────────────────┼─────────────────────────────┼─────────────────┤\n",
       "│ flatten_5 (\u001b[38;5;33mFlatten\u001b[0m)                  │ (\u001b[38;5;45mNone\u001b[0m, \u001b[38;5;34m992\u001b[0m)                 │               \u001b[38;5;34m0\u001b[0m │\n",
       "├──────────────────────────────────────┼─────────────────────────────┼─────────────────┤\n",
       "│ dense_13 (\u001b[38;5;33mDense\u001b[0m)                     │ (\u001b[38;5;45mNone\u001b[0m, \u001b[38;5;34m64\u001b[0m)                  │          \u001b[38;5;34m63,552\u001b[0m │\n",
       "├──────────────────────────────────────┼─────────────────────────────┼─────────────────┤\n",
       "│ dropout_9 (\u001b[38;5;33mDropout\u001b[0m)                  │ (\u001b[38;5;45mNone\u001b[0m, \u001b[38;5;34m64\u001b[0m)                  │               \u001b[38;5;34m0\u001b[0m │\n",
       "├──────────────────────────────────────┼─────────────────────────────┼─────────────────┤\n",
       "│ dense_14 (\u001b[38;5;33mDense\u001b[0m)                     │ (\u001b[38;5;45mNone\u001b[0m, \u001b[38;5;34m10\u001b[0m)                  │             \u001b[38;5;34m650\u001b[0m │\n",
       "└──────────────────────────────────────┴─────────────────────────────┴─────────────────┘\n"
      ]
     },
     "metadata": {},
     "output_type": "display_data"
    },
    {
     "data": {
      "text/html": [
       "<pre style=\"white-space:pre;overflow-x:auto;line-height:normal;font-family:Menlo,'DejaVu Sans Mono',consolas,'Courier New',monospace\"><span style=\"font-weight: bold\"> Total params: </span><span style=\"color: #00af00; text-decoration-color: #00af00\">69,194</span> (270.29 KB)\n",
       "</pre>\n"
      ],
      "text/plain": [
       "\u001b[1m Total params: \u001b[0m\u001b[38;5;34m69,194\u001b[0m (270.29 KB)\n"
      ]
     },
     "metadata": {},
     "output_type": "display_data"
    },
    {
     "data": {
      "text/html": [
       "<pre style=\"white-space:pre;overflow-x:auto;line-height:normal;font-family:Menlo,'DejaVu Sans Mono',consolas,'Courier New',monospace\"><span style=\"font-weight: bold\"> Trainable params: </span><span style=\"color: #00af00; text-decoration-color: #00af00\">69,098</span> (269.91 KB)\n",
       "</pre>\n"
      ],
      "text/plain": [
       "\u001b[1m Trainable params: \u001b[0m\u001b[38;5;34m69,098\u001b[0m (269.91 KB)\n"
      ]
     },
     "metadata": {},
     "output_type": "display_data"
    },
    {
     "data": {
      "text/html": [
       "<pre style=\"white-space:pre;overflow-x:auto;line-height:normal;font-family:Menlo,'DejaVu Sans Mono',consolas,'Courier New',monospace\"><span style=\"font-weight: bold\"> Non-trainable params: </span><span style=\"color: #00af00; text-decoration-color: #00af00\">96</span> (384.00 B)\n",
       "</pre>\n"
      ],
      "text/plain": [
       "\u001b[1m Non-trainable params: \u001b[0m\u001b[38;5;34m96\u001b[0m (384.00 B)\n"
      ]
     },
     "metadata": {},
     "output_type": "display_data"
    }
   ],
   "source": [
    "model.compile(optimizer='adam', loss='categorical_crossentropy', metrics=['accuracy'])\n",
    "model.summary()\n"
   ]
  },
  {
   "cell_type": "code",
   "execution_count": 43,
   "id": "e9391087-4bbd-499b-89cf-e35a7b46e3f7",
   "metadata": {},
   "outputs": [
    {
     "name": "stdout",
     "output_type": "stream",
     "text": [
      "Epoch 1/30\n",
      "\u001b[1m25/25\u001b[0m \u001b[32m━━━━━━━━━━━━━━━━━━━━\u001b[0m\u001b[37m\u001b[0m \u001b[1m5s\u001b[0m 40ms/step - accuracy: 0.1783 - loss: 3.0721 - val_accuracy: 0.1550 - val_loss: 4.6182\n",
      "Epoch 2/30\n",
      "\u001b[1m25/25\u001b[0m \u001b[32m━━━━━━━━━━━━━━━━━━━━\u001b[0m\u001b[37m\u001b[0m \u001b[1m1s\u001b[0m 18ms/step - accuracy: 0.3583 - loss: 2.1066 - val_accuracy: 0.1550 - val_loss: 2.8817\n",
      "Epoch 3/30\n",
      "\u001b[1m25/25\u001b[0m \u001b[32m━━━━━━━━━━━━━━━━━━━━\u001b[0m\u001b[37m\u001b[0m \u001b[1m1s\u001b[0m 18ms/step - accuracy: 0.4134 - loss: 1.6876 - val_accuracy: 0.2450 - val_loss: 2.3748\n",
      "Epoch 4/30\n",
      "\u001b[1m25/25\u001b[0m \u001b[32m━━━━━━━━━━━━━━━━━━━━\u001b[0m\u001b[37m\u001b[0m \u001b[1m0s\u001b[0m 18ms/step - accuracy: 0.4575 - loss: 1.5424 - val_accuracy: 0.3150 - val_loss: 1.8986\n",
      "Epoch 5/30\n",
      "\u001b[1m25/25\u001b[0m \u001b[32m━━━━━━━━━━━━━━━━━━━━\u001b[0m\u001b[37m\u001b[0m \u001b[1m1s\u001b[0m 18ms/step - accuracy: 0.5229 - loss: 1.3986 - val_accuracy: 0.3850 - val_loss: 1.8707\n",
      "Epoch 6/30\n",
      "\u001b[1m25/25\u001b[0m \u001b[32m━━━━━━━━━━━━━━━━━━━━\u001b[0m\u001b[37m\u001b[0m \u001b[1m0s\u001b[0m 18ms/step - accuracy: 0.6216 - loss: 1.1567 - val_accuracy: 0.3450 - val_loss: 1.8066\n",
      "Epoch 7/30\n",
      "\u001b[1m25/25\u001b[0m \u001b[32m━━━━━━━━━━━━━━━━━━━━\u001b[0m\u001b[37m\u001b[0m \u001b[1m1s\u001b[0m 18ms/step - accuracy: 0.6427 - loss: 1.0232 - val_accuracy: 0.4400 - val_loss: 1.6330\n",
      "Epoch 8/30\n",
      "\u001b[1m25/25\u001b[0m \u001b[32m━━━━━━━━━━━━━━━━━━━━\u001b[0m\u001b[37m\u001b[0m \u001b[1m0s\u001b[0m 18ms/step - accuracy: 0.6424 - loss: 1.0274 - val_accuracy: 0.4450 - val_loss: 1.5731\n",
      "Epoch 9/30\n",
      "\u001b[1m25/25\u001b[0m \u001b[32m━━━━━━━━━━━━━━━━━━━━\u001b[0m\u001b[37m\u001b[0m \u001b[1m0s\u001b[0m 18ms/step - accuracy: 0.6988 - loss: 0.8648 - val_accuracy: 0.4550 - val_loss: 1.6232\n",
      "Epoch 10/30\n",
      "\u001b[1m25/25\u001b[0m \u001b[32m━━━━━━━━━━━━━━━━━━━━\u001b[0m\u001b[37m\u001b[0m \u001b[1m1s\u001b[0m 23ms/step - accuracy: 0.7694 - loss: 0.7199 - val_accuracy: 0.4550 - val_loss: 1.6302\n",
      "Epoch 11/30\n",
      "\u001b[1m25/25\u001b[0m \u001b[32m━━━━━━━━━━━━━━━━━━━━\u001b[0m\u001b[37m\u001b[0m \u001b[1m0s\u001b[0m 18ms/step - accuracy: 0.7511 - loss: 0.7185 - val_accuracy: 0.4300 - val_loss: 1.6098\n",
      "Epoch 12/30\n",
      "\u001b[1m25/25\u001b[0m \u001b[32m━━━━━━━━━━━━━━━━━━━━\u001b[0m\u001b[37m\u001b[0m \u001b[1m0s\u001b[0m 18ms/step - accuracy: 0.7802 - loss: 0.6356 - val_accuracy: 0.5000 - val_loss: 1.5984\n",
      "Epoch 13/30\n",
      "\u001b[1m25/25\u001b[0m \u001b[32m━━━━━━━━━━━━━━━━━━━━\u001b[0m\u001b[37m\u001b[0m \u001b[1m1s\u001b[0m 18ms/step - accuracy: 0.8052 - loss: 0.5990 - val_accuracy: 0.4550 - val_loss: 1.6511\n",
      "Epoch 14/30\n",
      "\u001b[1m25/25\u001b[0m \u001b[32m━━━━━━━━━━━━━━━━━━━━\u001b[0m\u001b[37m\u001b[0m \u001b[1m0s\u001b[0m 18ms/step - accuracy: 0.8326 - loss: 0.5236 - val_accuracy: 0.4500 - val_loss: 1.6680\n",
      "Epoch 15/30\n",
      "\u001b[1m25/25\u001b[0m \u001b[32m━━━━━━━━━━━━━━━━━━━━\u001b[0m\u001b[37m\u001b[0m \u001b[1m1s\u001b[0m 20ms/step - accuracy: 0.8443 - loss: 0.4913 - val_accuracy: 0.4650 - val_loss: 1.6249\n",
      "Epoch 16/30\n",
      "\u001b[1m25/25\u001b[0m \u001b[32m━━━━━━━━━━━━━━━━━━━━\u001b[0m\u001b[37m\u001b[0m \u001b[1m1s\u001b[0m 19ms/step - accuracy: 0.8715 - loss: 0.4476 - val_accuracy: 0.5050 - val_loss: 1.6761\n",
      "Epoch 17/30\n",
      "\u001b[1m25/25\u001b[0m \u001b[32m━━━━━━━━━━━━━━━━━━━━\u001b[0m\u001b[37m\u001b[0m \u001b[1m0s\u001b[0m 18ms/step - accuracy: 0.8496 - loss: 0.4254 - val_accuracy: 0.4850 - val_loss: 1.7117\n",
      "Epoch 18/30\n",
      "\u001b[1m25/25\u001b[0m \u001b[32m━━━━━━━━━━━━━━━━━━━━\u001b[0m\u001b[37m\u001b[0m \u001b[1m1s\u001b[0m 23ms/step - accuracy: 0.8718 - loss: 0.4090 - val_accuracy: 0.4400 - val_loss: 1.7622\n",
      "Epoch 19/30\n",
      "\u001b[1m25/25\u001b[0m \u001b[32m━━━━━━━━━━━━━━━━━━━━\u001b[0m\u001b[37m\u001b[0m \u001b[1m0s\u001b[0m 18ms/step - accuracy: 0.9145 - loss: 0.3479 - val_accuracy: 0.4800 - val_loss: 1.8350\n",
      "Epoch 20/30\n",
      "\u001b[1m25/25\u001b[0m \u001b[32m━━━━━━━━━━━━━━━━━━━━\u001b[0m\u001b[37m\u001b[0m \u001b[1m1s\u001b[0m 18ms/step - accuracy: 0.8866 - loss: 0.3478 - val_accuracy: 0.4800 - val_loss: 1.7426\n",
      "Epoch 21/30\n",
      "\u001b[1m25/25\u001b[0m \u001b[32m━━━━━━━━━━━━━━━━━━━━\u001b[0m\u001b[37m\u001b[0m \u001b[1m0s\u001b[0m 18ms/step - accuracy: 0.9008 - loss: 0.3445 - val_accuracy: 0.4900 - val_loss: 1.7067\n",
      "Epoch 22/30\n",
      "\u001b[1m25/25\u001b[0m \u001b[32m━━━━━━━━━━━━━━━━━━━━\u001b[0m\u001b[37m\u001b[0m \u001b[1m0s\u001b[0m 18ms/step - accuracy: 0.9167 - loss: 0.2812 - val_accuracy: 0.4650 - val_loss: 1.8740\n",
      "Epoch 23/30\n",
      "\u001b[1m25/25\u001b[0m \u001b[32m━━━━━━━━━━━━━━━━━━━━\u001b[0m\u001b[37m\u001b[0m \u001b[1m1s\u001b[0m 19ms/step - accuracy: 0.9227 - loss: 0.2200 - val_accuracy: 0.4850 - val_loss: 1.8097\n",
      "Epoch 24/30\n",
      "\u001b[1m25/25\u001b[0m \u001b[32m━━━━━━━━━━━━━━━━━━━━\u001b[0m\u001b[37m\u001b[0m \u001b[1m1s\u001b[0m 18ms/step - accuracy: 0.9298 - loss: 0.2357 - val_accuracy: 0.4800 - val_loss: 1.8965\n",
      "Epoch 25/30\n",
      "\u001b[1m25/25\u001b[0m \u001b[32m━━━━━━━━━━━━━━━━━━━━\u001b[0m\u001b[37m\u001b[0m \u001b[1m0s\u001b[0m 18ms/step - accuracy: 0.9218 - loss: 0.2547 - val_accuracy: 0.4850 - val_loss: 1.8870\n",
      "Epoch 26/30\n",
      "\u001b[1m25/25\u001b[0m \u001b[32m━━━━━━━━━━━━━━━━━━━━\u001b[0m\u001b[37m\u001b[0m \u001b[1m0s\u001b[0m 18ms/step - accuracy: 0.9258 - loss: 0.2373 - val_accuracy: 0.4800 - val_loss: 1.8960\n",
      "Epoch 27/30\n",
      "\u001b[1m25/25\u001b[0m \u001b[32m━━━━━━━━━━━━━━━━━━━━\u001b[0m\u001b[37m\u001b[0m \u001b[1m1s\u001b[0m 18ms/step - accuracy: 0.9369 - loss: 0.2404 - val_accuracy: 0.5000 - val_loss: 1.9630\n",
      "Epoch 28/30\n",
      "\u001b[1m25/25\u001b[0m \u001b[32m━━━━━━━━━━━━━━━━━━━━\u001b[0m\u001b[37m\u001b[0m \u001b[1m0s\u001b[0m 18ms/step - accuracy: 0.9503 - loss: 0.2012 - val_accuracy: 0.4750 - val_loss: 1.9688\n",
      "Epoch 29/30\n",
      "\u001b[1m25/25\u001b[0m \u001b[32m━━━━━━━━━━━━━━━━━━━━\u001b[0m\u001b[37m\u001b[0m \u001b[1m1s\u001b[0m 18ms/step - accuracy: 0.9483 - loss: 0.1814 - val_accuracy: 0.4900 - val_loss: 1.9672\n",
      "Epoch 30/30\n",
      "\u001b[1m25/25\u001b[0m \u001b[32m━━━━━━━━━━━━━━━━━━━━\u001b[0m\u001b[37m\u001b[0m \u001b[1m1s\u001b[0m 18ms/step - accuracy: 0.9700 - loss: 0.1537 - val_accuracy: 0.4900 - val_loss: 1.8743\n"
     ]
    }
   ],
   "source": [
    "history = model.fit(\n",
    "    X_train, y_train,\n",
    "    epochs=30,\n",
    "    batch_size=32,\n",
    "    validation_data=(X_test, y_test)\n",
    ")\n"
   ]
  },
  {
   "cell_type": "code",
   "execution_count": 44,
   "id": "aa05c044-9a4b-4208-8d8b-a7b421d96dc7",
   "metadata": {},
   "outputs": [
    {
     "name": "stdout",
     "output_type": "stream",
     "text": [
      "7/7 - 0s - 14ms/step - accuracy: 0.4900 - loss: 1.8743\n",
      "Test Accuracy: 0.4900\n",
      "Test Loss: 1.8743\n"
     ]
    }
   ],
   "source": [
    "test_loss, test_acc = model.evaluate(X_test, y_test, verbose=2)\n",
    "print(f\"Test Accuracy: {test_acc:.4f}\")\n",
    "print(f\"Test Loss: {test_loss:.4f}\")\n"
   ]
  },
  {
   "cell_type": "code",
   "execution_count": 46,
   "id": "d62c572d-0d3a-41b9-9050-39ef11467713",
   "metadata": {},
   "outputs": [],
   "source": [
    "import librosa\n",
    "import numpy as np\n",
    "import tensorflow as tf\n",
    "from tensorflow.keras.utils import to_categorical\n",
    "\n",
    "def predict_genre(file_path, model, label_encoder, n_mfcc=13, max_len=130):\n",
    "    SAMPLE_RATE = 22050\n",
    "    DURATION = 30\n",
    "\n",
    "    # Load audio file\n",
    "    signal, sr = librosa.load(file_path, sr=SAMPLE_RATE)\n",
    "\n",
    "    # Extract MFCCs\n",
    "    mfccs = librosa.feature.mfcc(y=signal, sr=sr, n_mfcc=n_mfcc)\n",
    "\n",
    "    # Pad/truncate\n",
    "    if mfccs.shape[1] < max_len:\n",
    "        pad_width = max_len - mfccs.shape[1]\n",
    "        mfccs = np.pad(mfccs, pad_width=((0, 0), (0, pad_width)), mode='constant')\n",
    "    else:\n",
    "        mfccs = mfccs[:, :max_len]\n",
    "\n",
    "    # Reshape to match input shape of model: (1, height, width, 1)\n",
    "    mfccs = mfccs[..., np.newaxis]\n",
    "    mfccs = np.expand_dims(mfccs, axis=0)\n",
    "\n",
    "    # Predict\n",
    "    prediction = model.predict(mfccs)\n",
    "    predicted_index = np.argmax(prediction)\n",
    "    predicted_genre = label_encoder.inverse_transform([predicted_index])[0]\n",
    "\n",
    "    print(f\"🎵 Predicted Genre: {predicted_genre}\")\n",
    "    return predicted_genre\n"
   ]
  },
  {
   "cell_type": "code",
   "execution_count": 54,
   "id": "9601e841-0cdf-43af-b82e-787ecd5be22f",
   "metadata": {},
   "outputs": [],
   "source": [
    "audio_path = r\"C:\\Users\\krish\\OneDrive\\Desktop\\Music Genre Classifier\\Genre Classifier Dataset\\genres\\metal\\metal.00007.au\""
   ]
  },
  {
   "cell_type": "code",
   "execution_count": 55,
   "id": "376d5c41-cd1c-4df0-93c3-d40b8e074569",
   "metadata": {},
   "outputs": [
    {
     "name": "stdout",
     "output_type": "stream",
     "text": [
      "\u001b[1m1/1\u001b[0m \u001b[32m━━━━━━━━━━━━━━━━━━━━\u001b[0m\u001b[37m\u001b[0m \u001b[1m0s\u001b[0m 47ms/step\n",
      "🎵 Predicted Genre: metal\n"
     ]
    },
    {
     "data": {
      "text/plain": [
       "'metal'"
      ]
     },
     "execution_count": 55,
     "metadata": {},
     "output_type": "execute_result"
    }
   ],
   "source": [
    "predict_genre(audio_path, model, label_encoder)\n"
   ]
  },
  {
   "cell_type": "code",
   "execution_count": null,
   "id": "91d61f74-4d97-427a-a9ee-52f6ba94984e",
   "metadata": {},
   "outputs": [],
   "source": []
  },
  {
   "cell_type": "code",
   "execution_count": null,
   "id": "d67e52ed-8f24-4d93-8877-27bee17b1b82",
   "metadata": {},
   "outputs": [],
   "source": []
  },
  {
   "cell_type": "code",
   "execution_count": null,
   "id": "3d4f43c2-2aee-4634-8dfc-d81675a83147",
   "metadata": {},
   "outputs": [],
   "source": []
  },
  {
   "cell_type": "code",
   "execution_count": null,
   "id": "1447d539-3788-4f62-8227-398966c500cd",
   "metadata": {},
   "outputs": [],
   "source": []
  },
  {
   "cell_type": "code",
   "execution_count": null,
   "id": "f2e3210c-a8a2-4f7a-ab72-7358a8e799b0",
   "metadata": {},
   "outputs": [],
   "source": []
  },
  {
   "cell_type": "code",
   "execution_count": null,
   "id": "5251a416-fd38-4394-9320-5675a7545194",
   "metadata": {},
   "outputs": [],
   "source": []
  },
  {
   "cell_type": "code",
   "execution_count": null,
   "id": "60757c70-f026-4fb4-9229-48038039b36b",
   "metadata": {},
   "outputs": [],
   "source": []
  },
  {
   "cell_type": "code",
   "execution_count": null,
   "id": "0753f563-268e-421c-b3fa-737f21e4bfd0",
   "metadata": {},
   "outputs": [],
   "source": []
  }
 ],
 "metadata": {
  "kernelspec": {
   "display_name": "Python 3 (ipykernel)",
   "language": "python",
   "name": "python3"
  },
  "language_info": {
   "codemirror_mode": {
    "name": "ipython",
    "version": 3
   },
   "file_extension": ".py",
   "mimetype": "text/x-python",
   "name": "python",
   "nbconvert_exporter": "python",
   "pygments_lexer": "ipython3",
   "version": "3.11.7"
  }
 },
 "nbformat": 4,
 "nbformat_minor": 5
}
